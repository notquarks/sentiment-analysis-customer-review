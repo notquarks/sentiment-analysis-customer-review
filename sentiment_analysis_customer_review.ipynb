{
  "cells": [
    {
      "cell_type": "markdown",
      "metadata": {
        "id": "E3FI8zJSb_SZ"
      },
      "source": [
        "### Sentiment Analysis using Naive Bayes & Logistic Regression on Customer Review of a Food and Beverage\n",
        "Final project for \"Business Intelligence\" course 2023\n",
        "\n",
        "GitHub project page:"
      ]
    },
    {
      "cell_type": "code",
      "execution_count": null,
      "metadata": {
        "colab": {
          "base_uri": "https://localhost:8080/"
        },
        "id": "lC_zG9j7BgP2",
        "outputId": "19d54160-0dac-43fc-de8a-2154a6d155d5"
      },
      "outputs": [
        {
          "output_type": "stream",
          "name": "stdout",
          "text": [
            "Looking in indexes: https://pypi.org/simple, https://us-python.pkg.dev/colab-wheels/public/simple/\n",
            "Requirement already satisfied: vaderSentiment in /usr/local/lib/python3.10/dist-packages (3.3.2)\n",
            "Requirement already satisfied: requests in /usr/local/lib/python3.10/dist-packages (from vaderSentiment) (2.27.1)\n",
            "Requirement already satisfied: urllib3<1.27,>=1.21.1 in /usr/local/lib/python3.10/dist-packages (from requests->vaderSentiment) (1.26.15)\n",
            "Requirement already satisfied: certifi>=2017.4.17 in /usr/local/lib/python3.10/dist-packages (from requests->vaderSentiment) (2022.12.7)\n",
            "Requirement already satisfied: charset-normalizer~=2.0.0 in /usr/local/lib/python3.10/dist-packages (from requests->vaderSentiment) (2.0.12)\n",
            "Requirement already satisfied: idna<4,>=2.5 in /usr/local/lib/python3.10/dist-packages (from requests->vaderSentiment) (3.4)\n",
            "Looking in indexes: https://pypi.org/simple, https://us-python.pkg.dev/colab-wheels/public/simple/\n",
            "Requirement already satisfied: panda in /usr/local/lib/python3.10/dist-packages (0.3.1)\n",
            "Requirement already satisfied: setuptools in /usr/local/lib/python3.10/dist-packages (from panda) (67.7.2)\n",
            "Requirement already satisfied: requests in /usr/local/lib/python3.10/dist-packages (from panda) (2.27.1)\n",
            "Requirement already satisfied: urllib3<1.27,>=1.21.1 in /usr/local/lib/python3.10/dist-packages (from requests->panda) (1.26.15)\n",
            "Requirement already satisfied: certifi>=2017.4.17 in /usr/local/lib/python3.10/dist-packages (from requests->panda) (2022.12.7)\n",
            "Requirement already satisfied: charset-normalizer~=2.0.0 in /usr/local/lib/python3.10/dist-packages (from requests->panda) (2.0.12)\n",
            "Requirement already satisfied: idna<4,>=2.5 in /usr/local/lib/python3.10/dist-packages (from requests->panda) (3.4)\n",
            "Looking in indexes: https://pypi.org/simple, https://us-python.pkg.dev/colab-wheels/public/simple/\n",
            "Requirement already satisfied: seaborn in /usr/local/lib/python3.10/dist-packages (0.12.2)\n",
            "Requirement already satisfied: numpy!=1.24.0,>=1.17 in /usr/local/lib/python3.10/dist-packages (from seaborn) (1.22.4)\n",
            "Requirement already satisfied: pandas>=0.25 in /usr/local/lib/python3.10/dist-packages (from seaborn) (1.5.3)\n",
            "Requirement already satisfied: matplotlib!=3.6.1,>=3.1 in /usr/local/lib/python3.10/dist-packages (from seaborn) (3.7.1)\n",
            "Requirement already satisfied: contourpy>=1.0.1 in /usr/local/lib/python3.10/dist-packages (from matplotlib!=3.6.1,>=3.1->seaborn) (1.0.7)\n",
            "Requirement already satisfied: cycler>=0.10 in /usr/local/lib/python3.10/dist-packages (from matplotlib!=3.6.1,>=3.1->seaborn) (0.11.0)\n",
            "Requirement already satisfied: fonttools>=4.22.0 in /usr/local/lib/python3.10/dist-packages (from matplotlib!=3.6.1,>=3.1->seaborn) (4.39.3)\n",
            "Requirement already satisfied: kiwisolver>=1.0.1 in /usr/local/lib/python3.10/dist-packages (from matplotlib!=3.6.1,>=3.1->seaborn) (1.4.4)\n",
            "Requirement already satisfied: packaging>=20.0 in /usr/local/lib/python3.10/dist-packages (from matplotlib!=3.6.1,>=3.1->seaborn) (23.1)\n",
            "Requirement already satisfied: pillow>=6.2.0 in /usr/local/lib/python3.10/dist-packages (from matplotlib!=3.6.1,>=3.1->seaborn) (8.4.0)\n",
            "Requirement already satisfied: pyparsing>=2.3.1 in /usr/local/lib/python3.10/dist-packages (from matplotlib!=3.6.1,>=3.1->seaborn) (3.0.9)\n",
            "Requirement already satisfied: python-dateutil>=2.7 in /usr/local/lib/python3.10/dist-packages (from matplotlib!=3.6.1,>=3.1->seaborn) (2.8.2)\n",
            "Requirement already satisfied: pytz>=2020.1 in /usr/local/lib/python3.10/dist-packages (from pandas>=0.25->seaborn) (2022.7.1)\n",
            "Requirement already satisfied: six>=1.5 in /usr/local/lib/python3.10/dist-packages (from python-dateutil>=2.7->matplotlib!=3.6.1,>=3.1->seaborn) (1.16.0)\n",
            "Looking in indexes: https://pypi.org/simple, https://us-python.pkg.dev/colab-wheels/public/simple/\n",
            "Requirement already satisfied: matplotlib in /usr/local/lib/python3.10/dist-packages (3.7.1)\n",
            "Requirement already satisfied: contourpy>=1.0.1 in /usr/local/lib/python3.10/dist-packages (from matplotlib) (1.0.7)\n",
            "Requirement already satisfied: cycler>=0.10 in /usr/local/lib/python3.10/dist-packages (from matplotlib) (0.11.0)\n",
            "Requirement already satisfied: fonttools>=4.22.0 in /usr/local/lib/python3.10/dist-packages (from matplotlib) (4.39.3)\n",
            "Requirement already satisfied: kiwisolver>=1.0.1 in /usr/local/lib/python3.10/dist-packages (from matplotlib) (1.4.4)\n",
            "Requirement already satisfied: numpy>=1.20 in /usr/local/lib/python3.10/dist-packages (from matplotlib) (1.22.4)\n",
            "Requirement already satisfied: packaging>=20.0 in /usr/local/lib/python3.10/dist-packages (from matplotlib) (23.1)\n",
            "Requirement already satisfied: pillow>=6.2.0 in /usr/local/lib/python3.10/dist-packages (from matplotlib) (8.4.0)\n",
            "Requirement already satisfied: pyparsing>=2.3.1 in /usr/local/lib/python3.10/dist-packages (from matplotlib) (3.0.9)\n",
            "Requirement already satisfied: python-dateutil>=2.7 in /usr/local/lib/python3.10/dist-packages (from matplotlib) (2.8.2)\n",
            "Requirement already satisfied: six>=1.5 in /usr/local/lib/python3.10/dist-packages (from python-dateutil>=2.7->matplotlib) (1.16.0)\n",
            "Looking in indexes: https://pypi.org/simple, https://us-python.pkg.dev/colab-wheels/public/simple/\n",
            "Requirement already satisfied: scikit-learn in /usr/local/lib/python3.10/dist-packages (1.2.2)\n",
            "Requirement already satisfied: numpy>=1.17.3 in /usr/local/lib/python3.10/dist-packages (from scikit-learn) (1.22.4)\n",
            "Requirement already satisfied: scipy>=1.3.2 in /usr/local/lib/python3.10/dist-packages (from scikit-learn) (1.10.1)\n",
            "Requirement already satisfied: joblib>=1.1.1 in /usr/local/lib/python3.10/dist-packages (from scikit-learn) (1.2.0)\n",
            "Requirement already satisfied: threadpoolctl>=2.0.0 in /usr/local/lib/python3.10/dist-packages (from scikit-learn) (3.1.0)\n",
            "Looking in indexes: https://pypi.org/simple, https://us-python.pkg.dev/colab-wheels/public/simple/\n",
            "Requirement already satisfied: nltk in /usr/local/lib/python3.10/dist-packages (3.8.1)\n",
            "Requirement already satisfied: click in /usr/local/lib/python3.10/dist-packages (from nltk) (8.1.3)\n",
            "Requirement already satisfied: joblib in /usr/local/lib/python3.10/dist-packages (from nltk) (1.2.0)\n",
            "Requirement already satisfied: regex>=2021.8.3 in /usr/local/lib/python3.10/dist-packages (from nltk) (2022.10.31)\n",
            "Requirement already satisfied: tqdm in /usr/local/lib/python3.10/dist-packages (from nltk) (4.65.0)\n",
            "Looking in indexes: https://pypi.org/simple, https://us-python.pkg.dev/colab-wheels/public/simple/\n",
            "Requirement already satisfied: contractions in /usr/local/lib/python3.10/dist-packages (0.1.73)\n",
            "Requirement already satisfied: textsearch>=0.0.21 in /usr/local/lib/python3.10/dist-packages (from contractions) (0.0.24)\n",
            "Requirement already satisfied: anyascii in /usr/local/lib/python3.10/dist-packages (from textsearch>=0.0.21->contractions) (0.3.2)\n",
            "Requirement already satisfied: pyahocorasick in /usr/local/lib/python3.10/dist-packages (from textsearch>=0.0.21->contractions) (2.0.0)\n",
            "Looking in indexes: https://pypi.org/simple, https://us-python.pkg.dev/colab-wheels/public/simple/\n",
            "Requirement already satisfied: imbalanced-learn in /usr/local/lib/python3.10/dist-packages (0.10.1)\n",
            "Requirement already satisfied: numpy>=1.17.3 in /usr/local/lib/python3.10/dist-packages (from imbalanced-learn) (1.22.4)\n",
            "Requirement already satisfied: scipy>=1.3.2 in /usr/local/lib/python3.10/dist-packages (from imbalanced-learn) (1.10.1)\n",
            "Requirement already satisfied: scikit-learn>=1.0.2 in /usr/local/lib/python3.10/dist-packages (from imbalanced-learn) (1.2.2)\n",
            "Requirement already satisfied: joblib>=1.1.1 in /usr/local/lib/python3.10/dist-packages (from imbalanced-learn) (1.2.0)\n",
            "Requirement already satisfied: threadpoolctl>=2.0.0 in /usr/local/lib/python3.10/dist-packages (from imbalanced-learn) (3.1.0)\n"
          ]
        }
      ],
      "source": [
        "!pip install vaderSentiment\n",
        "!pip install panda\n",
        "!pip install seaborn\n",
        "!pip install matplotlib\n",
        "!pip install scikit-learn\n",
        "!pip install nltk\n",
        "!pip install contractions\n",
        "!pip install imbalanced-learn"
      ]
    },
    {
      "cell_type": "code",
      "execution_count": null,
      "metadata": {
        "id": "xxgHmgCtZtq7"
      },
      "outputs": [],
      "source": [
        "# Load libraries\n",
        "import pandas as pd\n",
        "from sklearn import metrics\n",
        "from vaderSentiment.vaderSentiment import SentimentIntensityAnalyzer\n",
        "import seaborn as sns\n",
        "import matplotlib.pyplot as plt\n",
        "import numpy as np"
      ]
    },
    {
      "cell_type": "code",
      "execution_count": null,
      "metadata": {
        "colab": {
          "base_uri": "https://localhost:8080/",
          "height": 363
        },
        "id": "XPJLcQx-GpGI",
        "outputId": "548f22fc-ec4c-4195-a029-d7d929dbd723"
      },
      "outputs": [
        {
          "output_type": "execute_result",
          "data": {
            "text/plain": [
              "    key                           name\n",
              "0  0_bj            Salted Caramel Core\n",
              "1  1_bj            Netflix & Chilll'd™\n",
              "2  2_bj                   Chip Happens\n",
              "3  3_bj                        Cannoli\n",
              "4  4_bj                 Gimme S’more!™\n",
              "5  5_bj      Peanut Butter Half Baked®\n",
              "6  6_bj         Berry Sweet Mascarpone\n",
              "7  7_bj  Chocolate Peanut Butter Split\n",
              "8  8_bj              Justice ReMix'd ™\n",
              "9  9_bj          Boots on the Moooo’n™"
            ],
            "text/html": [
              "\n",
              "  <div id=\"df-89d0233d-5753-4c61-8518-12aa9b98472b\">\n",
              "    <div class=\"colab-df-container\">\n",
              "      <div>\n",
              "<style scoped>\n",
              "    .dataframe tbody tr th:only-of-type {\n",
              "        vertical-align: middle;\n",
              "    }\n",
              "\n",
              "    .dataframe tbody tr th {\n",
              "        vertical-align: top;\n",
              "    }\n",
              "\n",
              "    .dataframe thead th {\n",
              "        text-align: right;\n",
              "    }\n",
              "</style>\n",
              "<table border=\"1\" class=\"dataframe\">\n",
              "  <thead>\n",
              "    <tr style=\"text-align: right;\">\n",
              "      <th></th>\n",
              "      <th>key</th>\n",
              "      <th>name</th>\n",
              "    </tr>\n",
              "  </thead>\n",
              "  <tbody>\n",
              "    <tr>\n",
              "      <th>0</th>\n",
              "      <td>0_bj</td>\n",
              "      <td>Salted Caramel Core</td>\n",
              "    </tr>\n",
              "    <tr>\n",
              "      <th>1</th>\n",
              "      <td>1_bj</td>\n",
              "      <td>Netflix &amp; Chilll'd™</td>\n",
              "    </tr>\n",
              "    <tr>\n",
              "      <th>2</th>\n",
              "      <td>2_bj</td>\n",
              "      <td>Chip Happens</td>\n",
              "    </tr>\n",
              "    <tr>\n",
              "      <th>3</th>\n",
              "      <td>3_bj</td>\n",
              "      <td>Cannoli</td>\n",
              "    </tr>\n",
              "    <tr>\n",
              "      <th>4</th>\n",
              "      <td>4_bj</td>\n",
              "      <td>Gimme S’more!™</td>\n",
              "    </tr>\n",
              "    <tr>\n",
              "      <th>5</th>\n",
              "      <td>5_bj</td>\n",
              "      <td>Peanut Butter Half Baked®</td>\n",
              "    </tr>\n",
              "    <tr>\n",
              "      <th>6</th>\n",
              "      <td>6_bj</td>\n",
              "      <td>Berry Sweet Mascarpone</td>\n",
              "    </tr>\n",
              "    <tr>\n",
              "      <th>7</th>\n",
              "      <td>7_bj</td>\n",
              "      <td>Chocolate Peanut Butter Split</td>\n",
              "    </tr>\n",
              "    <tr>\n",
              "      <th>8</th>\n",
              "      <td>8_bj</td>\n",
              "      <td>Justice ReMix'd ™</td>\n",
              "    </tr>\n",
              "    <tr>\n",
              "      <th>9</th>\n",
              "      <td>9_bj</td>\n",
              "      <td>Boots on the Moooo’n™</td>\n",
              "    </tr>\n",
              "  </tbody>\n",
              "</table>\n",
              "</div>\n",
              "      <button class=\"colab-df-convert\" onclick=\"convertToInteractive('df-89d0233d-5753-4c61-8518-12aa9b98472b')\"\n",
              "              title=\"Convert this dataframe to an interactive table.\"\n",
              "              style=\"display:none;\">\n",
              "        \n",
              "  <svg xmlns=\"http://www.w3.org/2000/svg\" height=\"24px\"viewBox=\"0 0 24 24\"\n",
              "       width=\"24px\">\n",
              "    <path d=\"M0 0h24v24H0V0z\" fill=\"none\"/>\n",
              "    <path d=\"M18.56 5.44l.94 2.06.94-2.06 2.06-.94-2.06-.94-.94-2.06-.94 2.06-2.06.94zm-11 1L8.5 8.5l.94-2.06 2.06-.94-2.06-.94L8.5 2.5l-.94 2.06-2.06.94zm10 10l.94 2.06.94-2.06 2.06-.94-2.06-.94-.94-2.06-.94 2.06-2.06.94z\"/><path d=\"M17.41 7.96l-1.37-1.37c-.4-.4-.92-.59-1.43-.59-.52 0-1.04.2-1.43.59L10.3 9.45l-7.72 7.72c-.78.78-.78 2.05 0 2.83L4 21.41c.39.39.9.59 1.41.59.51 0 1.02-.2 1.41-.59l7.78-7.78 2.81-2.81c.8-.78.8-2.07 0-2.86zM5.41 20L4 18.59l7.72-7.72 1.47 1.35L5.41 20z\"/>\n",
              "  </svg>\n",
              "      </button>\n",
              "      \n",
              "  <style>\n",
              "    .colab-df-container {\n",
              "      display:flex;\n",
              "      flex-wrap:wrap;\n",
              "      gap: 12px;\n",
              "    }\n",
              "\n",
              "    .colab-df-convert {\n",
              "      background-color: #E8F0FE;\n",
              "      border: none;\n",
              "      border-radius: 50%;\n",
              "      cursor: pointer;\n",
              "      display: none;\n",
              "      fill: #1967D2;\n",
              "      height: 32px;\n",
              "      padding: 0 0 0 0;\n",
              "      width: 32px;\n",
              "    }\n",
              "\n",
              "    .colab-df-convert:hover {\n",
              "      background-color: #E2EBFA;\n",
              "      box-shadow: 0px 1px 2px rgba(60, 64, 67, 0.3), 0px 1px 3px 1px rgba(60, 64, 67, 0.15);\n",
              "      fill: #174EA6;\n",
              "    }\n",
              "\n",
              "    [theme=dark] .colab-df-convert {\n",
              "      background-color: #3B4455;\n",
              "      fill: #D2E3FC;\n",
              "    }\n",
              "\n",
              "    [theme=dark] .colab-df-convert:hover {\n",
              "      background-color: #434B5C;\n",
              "      box-shadow: 0px 1px 3px 1px rgba(0, 0, 0, 0.15);\n",
              "      filter: drop-shadow(0px 1px 2px rgba(0, 0, 0, 0.3));\n",
              "      fill: #FFFFFF;\n",
              "    }\n",
              "  </style>\n",
              "\n",
              "      <script>\n",
              "        const buttonEl =\n",
              "          document.querySelector('#df-89d0233d-5753-4c61-8518-12aa9b98472b button.colab-df-convert');\n",
              "        buttonEl.style.display =\n",
              "          google.colab.kernel.accessAllowed ? 'block' : 'none';\n",
              "\n",
              "        async function convertToInteractive(key) {\n",
              "          const element = document.querySelector('#df-89d0233d-5753-4c61-8518-12aa9b98472b');\n",
              "          const dataTable =\n",
              "            await google.colab.kernel.invokeFunction('convertToInteractive',\n",
              "                                                     [key], {});\n",
              "          if (!dataTable) return;\n",
              "\n",
              "          const docLinkHtml = 'Like what you see? Visit the ' +\n",
              "            '<a target=\"_blank\" href=https://colab.research.google.com/notebooks/data_table.ipynb>data table notebook</a>'\n",
              "            + ' to learn more about interactive tables.';\n",
              "          element.innerHTML = '';\n",
              "          dataTable['output_type'] = 'display_data';\n",
              "          await google.colab.output.renderOutput(dataTable, element);\n",
              "          const docLink = document.createElement('div');\n",
              "          docLink.innerHTML = docLinkHtml;\n",
              "          element.appendChild(docLink);\n",
              "        }\n",
              "      </script>\n",
              "    </div>\n",
              "  </div>\n",
              "  "
            ]
          },
          "metadata": {},
          "execution_count": 253
        }
      ],
      "source": [
        "#load product name\n",
        "url='https://drive.google.com/file/d/1ExYO0YB65eDygCQ_BKYR-u3A9hpmeSFT/view?usp=sharing'\n",
        "url='https://drive.google.com/uc?id=' + url.split('/')[-2]\n",
        "pname = pd.read_csv(url, usecols=['key', 'name'])\n",
        "pname.head(10)"
      ]
    },
    {
      "cell_type": "code",
      "execution_count": null,
      "metadata": {
        "colab": {
          "base_uri": "https://localhost:8080/",
          "height": 424
        },
        "id": "yk4efUcSiWaL",
        "outputId": "89dcd3f8-7397-41b4-8def-18fa5ba8f327"
      },
      "outputs": [
        {
          "output_type": "execute_result",
          "data": {
            "text/plain": [
              "        key          author        date  stars  \\\n",
              "0      0_bj  Ilovebennjerry  2017-04-15      3   \n",
              "1      0_bj   Sweettooth909  2020-01-05      5   \n",
              "2      0_bj       LaTanga71  2018-04-26      3   \n",
              "3      0_bj      chicago220  2018-01-14      5   \n",
              "4      0_bj        Kassidyk  2020-07-24      1   \n",
              "...     ...             ...         ...    ...   \n",
              "7938  56_bj   Shellyshellzs  2020-04-30      5   \n",
              "7939  56_bj          Or1234  2020-02-24      5   \n",
              "7940  56_bj           ava21  2020-01-31      5   \n",
              "7941  56_bj            yeee  2019-03-13      5   \n",
              "7942  56_bj        Ellehcar  2020-07-24      5   \n",
              "\n",
              "                                   title  helpful_yes  helpful_no  \\\n",
              "0                   Not enough brownies!           10           3   \n",
              "1           I’m OBSESSED with this pint!            3           0   \n",
              "2      My favorite...More Caramel Please            5           2   \n",
              "3                            Obsessed!!!           24           1   \n",
              "4                  Worst Ice Cream Ever!            1           5   \n",
              "...                                  ...          ...         ...   \n",
              "7938          Peanut butter fudge heaven            0           0   \n",
              "7939  The best Chocolate Ice Cream Combo            0           0   \n",
              "7940                           PERFECT!!            0           0   \n",
              "7941                        My favorite!            0           0   \n",
              "7942                            The Best            0           0   \n",
              "\n",
              "                                                   text  \n",
              "0     Super good, don't get me wrong. But I came for...  \n",
              "1     I decided to try it out although I’m not a hug...  \n",
              "2     My caramel core begins to disappear about half...  \n",
              "3     Why are people complaining about the blonde br...  \n",
              "4     This ice cream is worst ice cream I’ve ever ta...  \n",
              "...                                                 ...  \n",
              "7938  Oh man I use to be a whatever was on sale girl...  \n",
              "7939  This is the first chocolate ice cream I’ve tri...  \n",
              "7940  This is the best pint of ice cream I've ever h...  \n",
              "7941  This is my favorite ice cream ever! Can't get ...  \n",
              "7942  This is my favorite flavor...I can just buy on...  \n",
              "\n",
              "[7943 rows x 8 columns]"
            ],
            "text/html": [
              "\n",
              "  <div id=\"df-de6c8aba-964b-44bd-852b-47e9303a37fc\">\n",
              "    <div class=\"colab-df-container\">\n",
              "      <div>\n",
              "<style scoped>\n",
              "    .dataframe tbody tr th:only-of-type {\n",
              "        vertical-align: middle;\n",
              "    }\n",
              "\n",
              "    .dataframe tbody tr th {\n",
              "        vertical-align: top;\n",
              "    }\n",
              "\n",
              "    .dataframe thead th {\n",
              "        text-align: right;\n",
              "    }\n",
              "</style>\n",
              "<table border=\"1\" class=\"dataframe\">\n",
              "  <thead>\n",
              "    <tr style=\"text-align: right;\">\n",
              "      <th></th>\n",
              "      <th>key</th>\n",
              "      <th>author</th>\n",
              "      <th>date</th>\n",
              "      <th>stars</th>\n",
              "      <th>title</th>\n",
              "      <th>helpful_yes</th>\n",
              "      <th>helpful_no</th>\n",
              "      <th>text</th>\n",
              "    </tr>\n",
              "  </thead>\n",
              "  <tbody>\n",
              "    <tr>\n",
              "      <th>0</th>\n",
              "      <td>0_bj</td>\n",
              "      <td>Ilovebennjerry</td>\n",
              "      <td>2017-04-15</td>\n",
              "      <td>3</td>\n",
              "      <td>Not enough brownies!</td>\n",
              "      <td>10</td>\n",
              "      <td>3</td>\n",
              "      <td>Super good, don't get me wrong. But I came for...</td>\n",
              "    </tr>\n",
              "    <tr>\n",
              "      <th>1</th>\n",
              "      <td>0_bj</td>\n",
              "      <td>Sweettooth909</td>\n",
              "      <td>2020-01-05</td>\n",
              "      <td>5</td>\n",
              "      <td>I’m OBSESSED with this pint!</td>\n",
              "      <td>3</td>\n",
              "      <td>0</td>\n",
              "      <td>I decided to try it out although I’m not a hug...</td>\n",
              "    </tr>\n",
              "    <tr>\n",
              "      <th>2</th>\n",
              "      <td>0_bj</td>\n",
              "      <td>LaTanga71</td>\n",
              "      <td>2018-04-26</td>\n",
              "      <td>3</td>\n",
              "      <td>My favorite...More Caramel Please</td>\n",
              "      <td>5</td>\n",
              "      <td>2</td>\n",
              "      <td>My caramel core begins to disappear about half...</td>\n",
              "    </tr>\n",
              "    <tr>\n",
              "      <th>3</th>\n",
              "      <td>0_bj</td>\n",
              "      <td>chicago220</td>\n",
              "      <td>2018-01-14</td>\n",
              "      <td>5</td>\n",
              "      <td>Obsessed!!!</td>\n",
              "      <td>24</td>\n",
              "      <td>1</td>\n",
              "      <td>Why are people complaining about the blonde br...</td>\n",
              "    </tr>\n",
              "    <tr>\n",
              "      <th>4</th>\n",
              "      <td>0_bj</td>\n",
              "      <td>Kassidyk</td>\n",
              "      <td>2020-07-24</td>\n",
              "      <td>1</td>\n",
              "      <td>Worst Ice Cream Ever!</td>\n",
              "      <td>1</td>\n",
              "      <td>5</td>\n",
              "      <td>This ice cream is worst ice cream I’ve ever ta...</td>\n",
              "    </tr>\n",
              "    <tr>\n",
              "      <th>...</th>\n",
              "      <td>...</td>\n",
              "      <td>...</td>\n",
              "      <td>...</td>\n",
              "      <td>...</td>\n",
              "      <td>...</td>\n",
              "      <td>...</td>\n",
              "      <td>...</td>\n",
              "      <td>...</td>\n",
              "    </tr>\n",
              "    <tr>\n",
              "      <th>7938</th>\n",
              "      <td>56_bj</td>\n",
              "      <td>Shellyshellzs</td>\n",
              "      <td>2020-04-30</td>\n",
              "      <td>5</td>\n",
              "      <td>Peanut butter fudge heaven</td>\n",
              "      <td>0</td>\n",
              "      <td>0</td>\n",
              "      <td>Oh man I use to be a whatever was on sale girl...</td>\n",
              "    </tr>\n",
              "    <tr>\n",
              "      <th>7939</th>\n",
              "      <td>56_bj</td>\n",
              "      <td>Or1234</td>\n",
              "      <td>2020-02-24</td>\n",
              "      <td>5</td>\n",
              "      <td>The best Chocolate Ice Cream Combo</td>\n",
              "      <td>0</td>\n",
              "      <td>0</td>\n",
              "      <td>This is the first chocolate ice cream I’ve tri...</td>\n",
              "    </tr>\n",
              "    <tr>\n",
              "      <th>7940</th>\n",
              "      <td>56_bj</td>\n",
              "      <td>ava21</td>\n",
              "      <td>2020-01-31</td>\n",
              "      <td>5</td>\n",
              "      <td>PERFECT!!</td>\n",
              "      <td>0</td>\n",
              "      <td>0</td>\n",
              "      <td>This is the best pint of ice cream I've ever h...</td>\n",
              "    </tr>\n",
              "    <tr>\n",
              "      <th>7941</th>\n",
              "      <td>56_bj</td>\n",
              "      <td>yeee</td>\n",
              "      <td>2019-03-13</td>\n",
              "      <td>5</td>\n",
              "      <td>My favorite!</td>\n",
              "      <td>0</td>\n",
              "      <td>0</td>\n",
              "      <td>This is my favorite ice cream ever! Can't get ...</td>\n",
              "    </tr>\n",
              "    <tr>\n",
              "      <th>7942</th>\n",
              "      <td>56_bj</td>\n",
              "      <td>Ellehcar</td>\n",
              "      <td>2020-07-24</td>\n",
              "      <td>5</td>\n",
              "      <td>The Best</td>\n",
              "      <td>0</td>\n",
              "      <td>0</td>\n",
              "      <td>This is my favorite flavor...I can just buy on...</td>\n",
              "    </tr>\n",
              "  </tbody>\n",
              "</table>\n",
              "<p>7943 rows × 8 columns</p>\n",
              "</div>\n",
              "      <button class=\"colab-df-convert\" onclick=\"convertToInteractive('df-de6c8aba-964b-44bd-852b-47e9303a37fc')\"\n",
              "              title=\"Convert this dataframe to an interactive table.\"\n",
              "              style=\"display:none;\">\n",
              "        \n",
              "  <svg xmlns=\"http://www.w3.org/2000/svg\" height=\"24px\"viewBox=\"0 0 24 24\"\n",
              "       width=\"24px\">\n",
              "    <path d=\"M0 0h24v24H0V0z\" fill=\"none\"/>\n",
              "    <path d=\"M18.56 5.44l.94 2.06.94-2.06 2.06-.94-2.06-.94-.94-2.06-.94 2.06-2.06.94zm-11 1L8.5 8.5l.94-2.06 2.06-.94-2.06-.94L8.5 2.5l-.94 2.06-2.06.94zm10 10l.94 2.06.94-2.06 2.06-.94-2.06-.94-.94-2.06-.94 2.06-2.06.94z\"/><path d=\"M17.41 7.96l-1.37-1.37c-.4-.4-.92-.59-1.43-.59-.52 0-1.04.2-1.43.59L10.3 9.45l-7.72 7.72c-.78.78-.78 2.05 0 2.83L4 21.41c.39.39.9.59 1.41.59.51 0 1.02-.2 1.41-.59l7.78-7.78 2.81-2.81c.8-.78.8-2.07 0-2.86zM5.41 20L4 18.59l7.72-7.72 1.47 1.35L5.41 20z\"/>\n",
              "  </svg>\n",
              "      </button>\n",
              "      \n",
              "  <style>\n",
              "    .colab-df-container {\n",
              "      display:flex;\n",
              "      flex-wrap:wrap;\n",
              "      gap: 12px;\n",
              "    }\n",
              "\n",
              "    .colab-df-convert {\n",
              "      background-color: #E8F0FE;\n",
              "      border: none;\n",
              "      border-radius: 50%;\n",
              "      cursor: pointer;\n",
              "      display: none;\n",
              "      fill: #1967D2;\n",
              "      height: 32px;\n",
              "      padding: 0 0 0 0;\n",
              "      width: 32px;\n",
              "    }\n",
              "\n",
              "    .colab-df-convert:hover {\n",
              "      background-color: #E2EBFA;\n",
              "      box-shadow: 0px 1px 2px rgba(60, 64, 67, 0.3), 0px 1px 3px 1px rgba(60, 64, 67, 0.15);\n",
              "      fill: #174EA6;\n",
              "    }\n",
              "\n",
              "    [theme=dark] .colab-df-convert {\n",
              "      background-color: #3B4455;\n",
              "      fill: #D2E3FC;\n",
              "    }\n",
              "\n",
              "    [theme=dark] .colab-df-convert:hover {\n",
              "      background-color: #434B5C;\n",
              "      box-shadow: 0px 1px 3px 1px rgba(0, 0, 0, 0.15);\n",
              "      filter: drop-shadow(0px 1px 2px rgba(0, 0, 0, 0.3));\n",
              "      fill: #FFFFFF;\n",
              "    }\n",
              "  </style>\n",
              "\n",
              "      <script>\n",
              "        const buttonEl =\n",
              "          document.querySelector('#df-de6c8aba-964b-44bd-852b-47e9303a37fc button.colab-df-convert');\n",
              "        buttonEl.style.display =\n",
              "          google.colab.kernel.accessAllowed ? 'block' : 'none';\n",
              "\n",
              "        async function convertToInteractive(key) {\n",
              "          const element = document.querySelector('#df-de6c8aba-964b-44bd-852b-47e9303a37fc');\n",
              "          const dataTable =\n",
              "            await google.colab.kernel.invokeFunction('convertToInteractive',\n",
              "                                                     [key], {});\n",
              "          if (!dataTable) return;\n",
              "\n",
              "          const docLinkHtml = 'Like what you see? Visit the ' +\n",
              "            '<a target=\"_blank\" href=https://colab.research.google.com/notebooks/data_table.ipynb>data table notebook</a>'\n",
              "            + ' to learn more about interactive tables.';\n",
              "          element.innerHTML = '';\n",
              "          dataTable['output_type'] = 'display_data';\n",
              "          await google.colab.output.renderOutput(dataTable, element);\n",
              "          const docLink = document.createElement('div');\n",
              "          docLink.innerHTML = docLinkHtml;\n",
              "          element.appendChild(docLink);\n",
              "        }\n",
              "      </script>\n",
              "    </div>\n",
              "  </div>\n",
              "  "
            ]
          },
          "metadata": {},
          "execution_count": 254
        }
      ],
      "source": [
        "# Load review dataset\n",
        "creviews = pd.read_csv('https://raw.githubusercontent.com/khawslee/Sentiment-Analysis-Using-Vader/main/reviews.csv')\n",
        "creviews"
      ]
    },
    {
      "cell_type": "code",
      "execution_count": null,
      "metadata": {
        "colab": {
          "base_uri": "https://localhost:8080/",
          "height": 363
        },
        "id": "iCT1VdjNI43W",
        "outputId": "ffbd58ae-1bb3-4ab3-b59f-5df8072f4602"
      },
      "outputs": [
        {
          "output_type": "execute_result",
          "data": {
            "text/plain": [
              "    key         product_name          author        date  stars  \\\n",
              "0  0_bj  Salted Caramel Core  Ilovebennjerry  2017-04-15      3   \n",
              "1  0_bj  Salted Caramel Core   Sweettooth909  2020-01-05      5   \n",
              "2  0_bj  Salted Caramel Core       LaTanga71  2018-04-26      3   \n",
              "3  0_bj  Salted Caramel Core      chicago220  2018-01-14      5   \n",
              "4  0_bj  Salted Caramel Core        Kassidyk  2020-07-24      1   \n",
              "5  0_bj  Salted Caramel Core         Nikiera  2020-07-23      2   \n",
              "6  0_bj  Salted Caramel Core         Mmelvin  2017-05-28      3   \n",
              "7  0_bj  Salted Caramel Core          Shay10  2017-07-02      3   \n",
              "8  0_bj  Salted Caramel Core    caramel4dayz  2017-07-16      2   \n",
              "9  0_bj  Salted Caramel Core        RosaT777  2019-02-12      3   \n",
              "\n",
              "                                title  helpful_yes  helpful_no  \\\n",
              "0                Not enough brownies!           10           3   \n",
              "1        I’m OBSESSED with this pint!            3           0   \n",
              "2   My favorite...More Caramel Please            5           2   \n",
              "3                         Obsessed!!!           24           1   \n",
              "4               Worst Ice Cream Ever!            1           5   \n",
              "5                       Way Too Salty            3           1   \n",
              "6            Love this flavor, but...            3           3   \n",
              "7          Really Wanted To Love This            4           1   \n",
              "8                    Could be better.            8           6   \n",
              "9  Salted Caramel core had NO CARAMEL            1           1   \n",
              "\n",
              "                                                text  \n",
              "0  Super good, don't get me wrong. But I came for...  \n",
              "1  I decided to try it out although I’m not a hug...  \n",
              "2  My caramel core begins to disappear about half...  \n",
              "3  Why are people complaining about the blonde br...  \n",
              "4  This ice cream is worst ice cream I’ve ever ta...  \n",
              "5  I bought this last night to go with Louisiana ...  \n",
              "6  This is definitely my favorite flavor, but rec...  \n",
              "7  I am not a chocolate person at all, and this w...  \n",
              "8  I LOVE caramel, so much so that I could eat it...  \n",
              "9  I love all the Ben & Jerry’s flavor. But recen...  "
            ],
            "text/html": [
              "\n",
              "  <div id=\"df-0bbee7e6-baf2-45c2-9479-de6fe7d6ea8d\">\n",
              "    <div class=\"colab-df-container\">\n",
              "      <div>\n",
              "<style scoped>\n",
              "    .dataframe tbody tr th:only-of-type {\n",
              "        vertical-align: middle;\n",
              "    }\n",
              "\n",
              "    .dataframe tbody tr th {\n",
              "        vertical-align: top;\n",
              "    }\n",
              "\n",
              "    .dataframe thead th {\n",
              "        text-align: right;\n",
              "    }\n",
              "</style>\n",
              "<table border=\"1\" class=\"dataframe\">\n",
              "  <thead>\n",
              "    <tr style=\"text-align: right;\">\n",
              "      <th></th>\n",
              "      <th>key</th>\n",
              "      <th>product_name</th>\n",
              "      <th>author</th>\n",
              "      <th>date</th>\n",
              "      <th>stars</th>\n",
              "      <th>title</th>\n",
              "      <th>helpful_yes</th>\n",
              "      <th>helpful_no</th>\n",
              "      <th>text</th>\n",
              "    </tr>\n",
              "  </thead>\n",
              "  <tbody>\n",
              "    <tr>\n",
              "      <th>0</th>\n",
              "      <td>0_bj</td>\n",
              "      <td>Salted Caramel Core</td>\n",
              "      <td>Ilovebennjerry</td>\n",
              "      <td>2017-04-15</td>\n",
              "      <td>3</td>\n",
              "      <td>Not enough brownies!</td>\n",
              "      <td>10</td>\n",
              "      <td>3</td>\n",
              "      <td>Super good, don't get me wrong. But I came for...</td>\n",
              "    </tr>\n",
              "    <tr>\n",
              "      <th>1</th>\n",
              "      <td>0_bj</td>\n",
              "      <td>Salted Caramel Core</td>\n",
              "      <td>Sweettooth909</td>\n",
              "      <td>2020-01-05</td>\n",
              "      <td>5</td>\n",
              "      <td>I’m OBSESSED with this pint!</td>\n",
              "      <td>3</td>\n",
              "      <td>0</td>\n",
              "      <td>I decided to try it out although I’m not a hug...</td>\n",
              "    </tr>\n",
              "    <tr>\n",
              "      <th>2</th>\n",
              "      <td>0_bj</td>\n",
              "      <td>Salted Caramel Core</td>\n",
              "      <td>LaTanga71</td>\n",
              "      <td>2018-04-26</td>\n",
              "      <td>3</td>\n",
              "      <td>My favorite...More Caramel Please</td>\n",
              "      <td>5</td>\n",
              "      <td>2</td>\n",
              "      <td>My caramel core begins to disappear about half...</td>\n",
              "    </tr>\n",
              "    <tr>\n",
              "      <th>3</th>\n",
              "      <td>0_bj</td>\n",
              "      <td>Salted Caramel Core</td>\n",
              "      <td>chicago220</td>\n",
              "      <td>2018-01-14</td>\n",
              "      <td>5</td>\n",
              "      <td>Obsessed!!!</td>\n",
              "      <td>24</td>\n",
              "      <td>1</td>\n",
              "      <td>Why are people complaining about the blonde br...</td>\n",
              "    </tr>\n",
              "    <tr>\n",
              "      <th>4</th>\n",
              "      <td>0_bj</td>\n",
              "      <td>Salted Caramel Core</td>\n",
              "      <td>Kassidyk</td>\n",
              "      <td>2020-07-24</td>\n",
              "      <td>1</td>\n",
              "      <td>Worst Ice Cream Ever!</td>\n",
              "      <td>1</td>\n",
              "      <td>5</td>\n",
              "      <td>This ice cream is worst ice cream I’ve ever ta...</td>\n",
              "    </tr>\n",
              "    <tr>\n",
              "      <th>5</th>\n",
              "      <td>0_bj</td>\n",
              "      <td>Salted Caramel Core</td>\n",
              "      <td>Nikiera</td>\n",
              "      <td>2020-07-23</td>\n",
              "      <td>2</td>\n",
              "      <td>Way Too Salty</td>\n",
              "      <td>3</td>\n",
              "      <td>1</td>\n",
              "      <td>I bought this last night to go with Louisiana ...</td>\n",
              "    </tr>\n",
              "    <tr>\n",
              "      <th>6</th>\n",
              "      <td>0_bj</td>\n",
              "      <td>Salted Caramel Core</td>\n",
              "      <td>Mmelvin</td>\n",
              "      <td>2017-05-28</td>\n",
              "      <td>3</td>\n",
              "      <td>Love this flavor, but...</td>\n",
              "      <td>3</td>\n",
              "      <td>3</td>\n",
              "      <td>This is definitely my favorite flavor, but rec...</td>\n",
              "    </tr>\n",
              "    <tr>\n",
              "      <th>7</th>\n",
              "      <td>0_bj</td>\n",
              "      <td>Salted Caramel Core</td>\n",
              "      <td>Shay10</td>\n",
              "      <td>2017-07-02</td>\n",
              "      <td>3</td>\n",
              "      <td>Really Wanted To Love This</td>\n",
              "      <td>4</td>\n",
              "      <td>1</td>\n",
              "      <td>I am not a chocolate person at all, and this w...</td>\n",
              "    </tr>\n",
              "    <tr>\n",
              "      <th>8</th>\n",
              "      <td>0_bj</td>\n",
              "      <td>Salted Caramel Core</td>\n",
              "      <td>caramel4dayz</td>\n",
              "      <td>2017-07-16</td>\n",
              "      <td>2</td>\n",
              "      <td>Could be better.</td>\n",
              "      <td>8</td>\n",
              "      <td>6</td>\n",
              "      <td>I LOVE caramel, so much so that I could eat it...</td>\n",
              "    </tr>\n",
              "    <tr>\n",
              "      <th>9</th>\n",
              "      <td>0_bj</td>\n",
              "      <td>Salted Caramel Core</td>\n",
              "      <td>RosaT777</td>\n",
              "      <td>2019-02-12</td>\n",
              "      <td>3</td>\n",
              "      <td>Salted Caramel core had NO CARAMEL</td>\n",
              "      <td>1</td>\n",
              "      <td>1</td>\n",
              "      <td>I love all the Ben &amp; Jerry’s flavor. But recen...</td>\n",
              "    </tr>\n",
              "  </tbody>\n",
              "</table>\n",
              "</div>\n",
              "      <button class=\"colab-df-convert\" onclick=\"convertToInteractive('df-0bbee7e6-baf2-45c2-9479-de6fe7d6ea8d')\"\n",
              "              title=\"Convert this dataframe to an interactive table.\"\n",
              "              style=\"display:none;\">\n",
              "        \n",
              "  <svg xmlns=\"http://www.w3.org/2000/svg\" height=\"24px\"viewBox=\"0 0 24 24\"\n",
              "       width=\"24px\">\n",
              "    <path d=\"M0 0h24v24H0V0z\" fill=\"none\"/>\n",
              "    <path d=\"M18.56 5.44l.94 2.06.94-2.06 2.06-.94-2.06-.94-.94-2.06-.94 2.06-2.06.94zm-11 1L8.5 8.5l.94-2.06 2.06-.94-2.06-.94L8.5 2.5l-.94 2.06-2.06.94zm10 10l.94 2.06.94-2.06 2.06-.94-2.06-.94-.94-2.06-.94 2.06-2.06.94z\"/><path d=\"M17.41 7.96l-1.37-1.37c-.4-.4-.92-.59-1.43-.59-.52 0-1.04.2-1.43.59L10.3 9.45l-7.72 7.72c-.78.78-.78 2.05 0 2.83L4 21.41c.39.39.9.59 1.41.59.51 0 1.02-.2 1.41-.59l7.78-7.78 2.81-2.81c.8-.78.8-2.07 0-2.86zM5.41 20L4 18.59l7.72-7.72 1.47 1.35L5.41 20z\"/>\n",
              "  </svg>\n",
              "      </button>\n",
              "      \n",
              "  <style>\n",
              "    .colab-df-container {\n",
              "      display:flex;\n",
              "      flex-wrap:wrap;\n",
              "      gap: 12px;\n",
              "    }\n",
              "\n",
              "    .colab-df-convert {\n",
              "      background-color: #E8F0FE;\n",
              "      border: none;\n",
              "      border-radius: 50%;\n",
              "      cursor: pointer;\n",
              "      display: none;\n",
              "      fill: #1967D2;\n",
              "      height: 32px;\n",
              "      padding: 0 0 0 0;\n",
              "      width: 32px;\n",
              "    }\n",
              "\n",
              "    .colab-df-convert:hover {\n",
              "      background-color: #E2EBFA;\n",
              "      box-shadow: 0px 1px 2px rgba(60, 64, 67, 0.3), 0px 1px 3px 1px rgba(60, 64, 67, 0.15);\n",
              "      fill: #174EA6;\n",
              "    }\n",
              "\n",
              "    [theme=dark] .colab-df-convert {\n",
              "      background-color: #3B4455;\n",
              "      fill: #D2E3FC;\n",
              "    }\n",
              "\n",
              "    [theme=dark] .colab-df-convert:hover {\n",
              "      background-color: #434B5C;\n",
              "      box-shadow: 0px 1px 3px 1px rgba(0, 0, 0, 0.15);\n",
              "      filter: drop-shadow(0px 1px 2px rgba(0, 0, 0, 0.3));\n",
              "      fill: #FFFFFF;\n",
              "    }\n",
              "  </style>\n",
              "\n",
              "      <script>\n",
              "        const buttonEl =\n",
              "          document.querySelector('#df-0bbee7e6-baf2-45c2-9479-de6fe7d6ea8d button.colab-df-convert');\n",
              "        buttonEl.style.display =\n",
              "          google.colab.kernel.accessAllowed ? 'block' : 'none';\n",
              "\n",
              "        async function convertToInteractive(key) {\n",
              "          const element = document.querySelector('#df-0bbee7e6-baf2-45c2-9479-de6fe7d6ea8d');\n",
              "          const dataTable =\n",
              "            await google.colab.kernel.invokeFunction('convertToInteractive',\n",
              "                                                     [key], {});\n",
              "          if (!dataTable) return;\n",
              "\n",
              "          const docLinkHtml = 'Like what you see? Visit the ' +\n",
              "            '<a target=\"_blank\" href=https://colab.research.google.com/notebooks/data_table.ipynb>data table notebook</a>'\n",
              "            + ' to learn more about interactive tables.';\n",
              "          element.innerHTML = '';\n",
              "          dataTable['output_type'] = 'display_data';\n",
              "          await google.colab.output.renderOutput(dataTable, element);\n",
              "          const docLink = document.createElement('div');\n",
              "          docLink.innerHTML = docLinkHtml;\n",
              "          element.appendChild(docLink);\n",
              "        }\n",
              "      </script>\n",
              "    </div>\n",
              "  </div>\n",
              "  "
            ]
          },
          "metadata": {},
          "execution_count": 255
        }
      ],
      "source": [
        "merged_df = pd.merge(creviews, pname[['key', 'name']], on='key', how='left')\n",
        "merged_df.rename(columns={'name': 'product_name'}, inplace=True)\n",
        "cols = merged_df.columns.tolist()\n",
        "cols.remove('product_name')\n",
        "cols.insert(cols.index('key') + 1, 'product_name')\n",
        "merged_df = merged_df.reindex(columns=cols)\n",
        "merged_df.head(10)"
      ]
    },
    {
      "cell_type": "markdown",
      "metadata": {
        "id": "4Fuy9falBN1X"
      },
      "source": [
        "## Preprocessing"
      ]
    },
    {
      "cell_type": "code",
      "execution_count": null,
      "metadata": {
        "colab": {
          "base_uri": "https://localhost:8080/"
        },
        "id": "LUt7qNyWCgQH",
        "outputId": "bd6e4f59-367c-4f6c-8b9b-ac8be619dce2"
      },
      "outputs": [
        {
          "output_type": "stream",
          "name": "stderr",
          "text": [
            "[nltk_data] Downloading package punkt to /root/nltk_data...\n",
            "[nltk_data]   Package punkt is already up-to-date!\n",
            "[nltk_data] Downloading package stopwords to /root/nltk_data...\n",
            "[nltk_data]   Package stopwords is already up-to-date!\n",
            "[nltk_data] Downloading package wordnet to /root/nltk_data...\n",
            "[nltk_data]   Package wordnet is already up-to-date!\n"
          ]
        },
        {
          "output_type": "execute_result",
          "data": {
            "text/plain": [
              "True"
            ]
          },
          "metadata": {},
          "execution_count": 256
        }
      ],
      "source": [
        "#Import the required libraries for text preprocessing\n",
        "import re\n",
        "import string\n",
        "import contractions\n",
        "import nltk\n",
        "from nltk.tokenize import word_tokenize\n",
        "from nltk.corpus import stopwords\n",
        "from nltk.stem.snowball import SnowballStemmer\n",
        "from nltk.stem import WordNetLemmatizer\n",
        "from nltk.corpus import wordnet\n",
        "nltk.download('punkt')\n",
        "nltk.download('stopwords')\n",
        "nltk.download('wordnet')"
      ]
    },
    {
      "cell_type": "code",
      "execution_count": null,
      "metadata": {
        "id": "t0H518saCmjo"
      },
      "outputs": [],
      "source": [
        "# Convert star rating to sentiments\n",
        "def startosentiment(_star):\n",
        "    if _star >= 4:\n",
        "        return 1\n",
        "    elif _star <= 2:\n",
        "        return 0"
      ]
    },
    {
      "cell_type": "code",
      "execution_count": null,
      "metadata": {
        "colab": {
          "base_uri": "https://localhost:8080/",
          "height": 424
        },
        "id": "S6yJxxXgB9KK",
        "outputId": "d9246e63-1f1e-494c-c77d-63061a17beac"
      },
      "outputs": [
        {
          "output_type": "execute_result",
          "data": {
            "text/plain": [
              "        key              product_name  stars  \\\n",
              "1      0_bj       Salted Caramel Core      5   \n",
              "3      0_bj       Salted Caramel Core      5   \n",
              "4      0_bj       Salted Caramel Core      1   \n",
              "5      0_bj       Salted Caramel Core      2   \n",
              "8      0_bj       Salted Caramel Core      2   \n",
              "...     ...                       ...    ...   \n",
              "7938  56_bj  Peanut Butter Fudge Core      5   \n",
              "7939  56_bj  Peanut Butter Fudge Core      5   \n",
              "7940  56_bj  Peanut Butter Fudge Core      5   \n",
              "7941  56_bj  Peanut Butter Fudge Core      5   \n",
              "7942  56_bj  Peanut Butter Fudge Core      5   \n",
              "\n",
              "                                          com_titletext  b_star  b_score  \n",
              "1     I’m OBSESSED with this pint! I decided to try ...     1.0   0.9442  \n",
              "3     Obsessed!!! Why are people complaining about t...     1.0   0.9270  \n",
              "4     Worst Ice Cream Ever! This ice cream is worst ...     0.0  -0.7210  \n",
              "5     Way Too Salty I bought this last night to go w...     0.0  -0.8834  \n",
              "8     Could be better. I LOVE caramel, so much so th...     0.0   0.9550  \n",
              "...                                                 ...     ...      ...  \n",
              "7938  Peanut butter fudge heaven Oh man I use to be ...     1.0   0.9049  \n",
              "7939  The best Chocolate Ice Cream Combo This is the...     1.0   0.8070  \n",
              "7940  PERFECT!! This is the best pint of ice cream I...     1.0   0.9552  \n",
              "7941  My favorite! This is my favorite ice cream eve...     1.0   0.8350  \n",
              "7942  The Best This is my favorite flavor...I can ju...     1.0   0.8904  \n",
              "\n",
              "[7536 rows x 6 columns]"
            ],
            "text/html": [
              "\n",
              "  <div id=\"df-0eb17ed5-c7c5-4998-9847-e2ce4c4c57cd\">\n",
              "    <div class=\"colab-df-container\">\n",
              "      <div>\n",
              "<style scoped>\n",
              "    .dataframe tbody tr th:only-of-type {\n",
              "        vertical-align: middle;\n",
              "    }\n",
              "\n",
              "    .dataframe tbody tr th {\n",
              "        vertical-align: top;\n",
              "    }\n",
              "\n",
              "    .dataframe thead th {\n",
              "        text-align: right;\n",
              "    }\n",
              "</style>\n",
              "<table border=\"1\" class=\"dataframe\">\n",
              "  <thead>\n",
              "    <tr style=\"text-align: right;\">\n",
              "      <th></th>\n",
              "      <th>key</th>\n",
              "      <th>product_name</th>\n",
              "      <th>stars</th>\n",
              "      <th>com_titletext</th>\n",
              "      <th>b_star</th>\n",
              "      <th>b_score</th>\n",
              "    </tr>\n",
              "  </thead>\n",
              "  <tbody>\n",
              "    <tr>\n",
              "      <th>1</th>\n",
              "      <td>0_bj</td>\n",
              "      <td>Salted Caramel Core</td>\n",
              "      <td>5</td>\n",
              "      <td>I’m OBSESSED with this pint! I decided to try ...</td>\n",
              "      <td>1.0</td>\n",
              "      <td>0.9442</td>\n",
              "    </tr>\n",
              "    <tr>\n",
              "      <th>3</th>\n",
              "      <td>0_bj</td>\n",
              "      <td>Salted Caramel Core</td>\n",
              "      <td>5</td>\n",
              "      <td>Obsessed!!! Why are people complaining about t...</td>\n",
              "      <td>1.0</td>\n",
              "      <td>0.9270</td>\n",
              "    </tr>\n",
              "    <tr>\n",
              "      <th>4</th>\n",
              "      <td>0_bj</td>\n",
              "      <td>Salted Caramel Core</td>\n",
              "      <td>1</td>\n",
              "      <td>Worst Ice Cream Ever! This ice cream is worst ...</td>\n",
              "      <td>0.0</td>\n",
              "      <td>-0.7210</td>\n",
              "    </tr>\n",
              "    <tr>\n",
              "      <th>5</th>\n",
              "      <td>0_bj</td>\n",
              "      <td>Salted Caramel Core</td>\n",
              "      <td>2</td>\n",
              "      <td>Way Too Salty I bought this last night to go w...</td>\n",
              "      <td>0.0</td>\n",
              "      <td>-0.8834</td>\n",
              "    </tr>\n",
              "    <tr>\n",
              "      <th>8</th>\n",
              "      <td>0_bj</td>\n",
              "      <td>Salted Caramel Core</td>\n",
              "      <td>2</td>\n",
              "      <td>Could be better. I LOVE caramel, so much so th...</td>\n",
              "      <td>0.0</td>\n",
              "      <td>0.9550</td>\n",
              "    </tr>\n",
              "    <tr>\n",
              "      <th>...</th>\n",
              "      <td>...</td>\n",
              "      <td>...</td>\n",
              "      <td>...</td>\n",
              "      <td>...</td>\n",
              "      <td>...</td>\n",
              "      <td>...</td>\n",
              "    </tr>\n",
              "    <tr>\n",
              "      <th>7938</th>\n",
              "      <td>56_bj</td>\n",
              "      <td>Peanut Butter Fudge Core</td>\n",
              "      <td>5</td>\n",
              "      <td>Peanut butter fudge heaven Oh man I use to be ...</td>\n",
              "      <td>1.0</td>\n",
              "      <td>0.9049</td>\n",
              "    </tr>\n",
              "    <tr>\n",
              "      <th>7939</th>\n",
              "      <td>56_bj</td>\n",
              "      <td>Peanut Butter Fudge Core</td>\n",
              "      <td>5</td>\n",
              "      <td>The best Chocolate Ice Cream Combo This is the...</td>\n",
              "      <td>1.0</td>\n",
              "      <td>0.8070</td>\n",
              "    </tr>\n",
              "    <tr>\n",
              "      <th>7940</th>\n",
              "      <td>56_bj</td>\n",
              "      <td>Peanut Butter Fudge Core</td>\n",
              "      <td>5</td>\n",
              "      <td>PERFECT!! This is the best pint of ice cream I...</td>\n",
              "      <td>1.0</td>\n",
              "      <td>0.9552</td>\n",
              "    </tr>\n",
              "    <tr>\n",
              "      <th>7941</th>\n",
              "      <td>56_bj</td>\n",
              "      <td>Peanut Butter Fudge Core</td>\n",
              "      <td>5</td>\n",
              "      <td>My favorite! This is my favorite ice cream eve...</td>\n",
              "      <td>1.0</td>\n",
              "      <td>0.8350</td>\n",
              "    </tr>\n",
              "    <tr>\n",
              "      <th>7942</th>\n",
              "      <td>56_bj</td>\n",
              "      <td>Peanut Butter Fudge Core</td>\n",
              "      <td>5</td>\n",
              "      <td>The Best This is my favorite flavor...I can ju...</td>\n",
              "      <td>1.0</td>\n",
              "      <td>0.8904</td>\n",
              "    </tr>\n",
              "  </tbody>\n",
              "</table>\n",
              "<p>7536 rows × 6 columns</p>\n",
              "</div>\n",
              "      <button class=\"colab-df-convert\" onclick=\"convertToInteractive('df-0eb17ed5-c7c5-4998-9847-e2ce4c4c57cd')\"\n",
              "              title=\"Convert this dataframe to an interactive table.\"\n",
              "              style=\"display:none;\">\n",
              "        \n",
              "  <svg xmlns=\"http://www.w3.org/2000/svg\" height=\"24px\"viewBox=\"0 0 24 24\"\n",
              "       width=\"24px\">\n",
              "    <path d=\"M0 0h24v24H0V0z\" fill=\"none\"/>\n",
              "    <path d=\"M18.56 5.44l.94 2.06.94-2.06 2.06-.94-2.06-.94-.94-2.06-.94 2.06-2.06.94zm-11 1L8.5 8.5l.94-2.06 2.06-.94-2.06-.94L8.5 2.5l-.94 2.06-2.06.94zm10 10l.94 2.06.94-2.06 2.06-.94-2.06-.94-.94-2.06-.94 2.06-2.06.94z\"/><path d=\"M17.41 7.96l-1.37-1.37c-.4-.4-.92-.59-1.43-.59-.52 0-1.04.2-1.43.59L10.3 9.45l-7.72 7.72c-.78.78-.78 2.05 0 2.83L4 21.41c.39.39.9.59 1.41.59.51 0 1.02-.2 1.41-.59l7.78-7.78 2.81-2.81c.8-.78.8-2.07 0-2.86zM5.41 20L4 18.59l7.72-7.72 1.47 1.35L5.41 20z\"/>\n",
              "  </svg>\n",
              "      </button>\n",
              "      \n",
              "  <style>\n",
              "    .colab-df-container {\n",
              "      display:flex;\n",
              "      flex-wrap:wrap;\n",
              "      gap: 12px;\n",
              "    }\n",
              "\n",
              "    .colab-df-convert {\n",
              "      background-color: #E8F0FE;\n",
              "      border: none;\n",
              "      border-radius: 50%;\n",
              "      cursor: pointer;\n",
              "      display: none;\n",
              "      fill: #1967D2;\n",
              "      height: 32px;\n",
              "      padding: 0 0 0 0;\n",
              "      width: 32px;\n",
              "    }\n",
              "\n",
              "    .colab-df-convert:hover {\n",
              "      background-color: #E2EBFA;\n",
              "      box-shadow: 0px 1px 2px rgba(60, 64, 67, 0.3), 0px 1px 3px 1px rgba(60, 64, 67, 0.15);\n",
              "      fill: #174EA6;\n",
              "    }\n",
              "\n",
              "    [theme=dark] .colab-df-convert {\n",
              "      background-color: #3B4455;\n",
              "      fill: #D2E3FC;\n",
              "    }\n",
              "\n",
              "    [theme=dark] .colab-df-convert:hover {\n",
              "      background-color: #434B5C;\n",
              "      box-shadow: 0px 1px 3px 1px rgba(0, 0, 0, 0.15);\n",
              "      filter: drop-shadow(0px 1px 2px rgba(0, 0, 0, 0.3));\n",
              "      fill: #FFFFFF;\n",
              "    }\n",
              "  </style>\n",
              "\n",
              "      <script>\n",
              "        const buttonEl =\n",
              "          document.querySelector('#df-0eb17ed5-c7c5-4998-9847-e2ce4c4c57cd button.colab-df-convert');\n",
              "        buttonEl.style.display =\n",
              "          google.colab.kernel.accessAllowed ? 'block' : 'none';\n",
              "\n",
              "        async function convertToInteractive(key) {\n",
              "          const element = document.querySelector('#df-0eb17ed5-c7c5-4998-9847-e2ce4c4c57cd');\n",
              "          const dataTable =\n",
              "            await google.colab.kernel.invokeFunction('convertToInteractive',\n",
              "                                                     [key], {});\n",
              "          if (!dataTable) return;\n",
              "\n",
              "          const docLinkHtml = 'Like what you see? Visit the ' +\n",
              "            '<a target=\"_blank\" href=https://colab.research.google.com/notebooks/data_table.ipynb>data table notebook</a>'\n",
              "            + ' to learn more about interactive tables.';\n",
              "          element.innerHTML = '';\n",
              "          dataTable['output_type'] = 'display_data';\n",
              "          await google.colab.output.renderOutput(dataTable, element);\n",
              "          const docLink = document.createElement('div');\n",
              "          docLink.innerHTML = docLinkHtml;\n",
              "          element.appendChild(docLink);\n",
              "        }\n",
              "      </script>\n",
              "    </div>\n",
              "  </div>\n",
              "  "
            ]
          },
          "metadata": {},
          "execution_count": 258
        }
      ],
      "source": [
        "sia = SentimentIntensityAnalyzer()\n",
        "# Data cleaning - fill 'title' column with blank if it is N/A\n",
        "merged_df['title'] = merged_df['title'].fillna('')\n",
        "\n",
        "# Combine title and text to a new column\n",
        "merged_df['com_titletext'] = merged_df['title'] + \" \" + merged_df['text']\n",
        "\n",
        "# Convert star rating to sentiments\n",
        "merged_df['b_star'] = merged_df.apply(lambda x: startosentiment(x['stars']),axis=1)\n",
        "\n",
        "# Convert text to score using Vader\n",
        "merged_df['b_score'] = merged_df.apply(lambda x: sia.polarity_scores(x['com_titletext'])['compound'],axis=1)\n",
        "text_df = merged_df.loc[merged_df['stars'] != 3,['key','product_name','stars','com_titletext','b_star','b_score']]\n",
        "text_df"
      ]
    },
    {
      "cell_type": "code",
      "execution_count": null,
      "metadata": {
        "id": "i1c0YP5NCXJL"
      },
      "outputs": [],
      "source": [
        "# casefolding\n",
        "def to_lowercase(text):\n",
        "  text = text.lower()\n",
        "  return text"
      ]
    },
    {
      "cell_type": "code",
      "execution_count": null,
      "metadata": {
        "id": "JboOoeQkCY7e"
      },
      "outputs": [],
      "source": [
        "# remove word repetition\n",
        "def word_repetition(text):\n",
        "  text = re.sub(r'(.)\\1+', r'\\1\\1', text)\n",
        "  return text"
      ]
    },
    {
      "cell_type": "code",
      "execution_count": null,
      "metadata": {
        "id": "951IbUDSCaum"
      },
      "outputs": [],
      "source": [
        "# remove punctuation repetition\n",
        "def punct_repetition(text, default_replace=\"\"):\n",
        "  text = re.sub(r'[\\?\\.\\!]+(?=[\\?\\.\\!])', default_replace, text)\n",
        "  return text"
      ]
    },
    {
      "cell_type": "code",
      "execution_count": null,
      "metadata": {
        "id": "LEoP95ZtCb8K"
      },
      "outputs": [],
      "source": [
        "# fix contractions (e.g. i'm -> i am)\n",
        "def fix_contractions(text):\n",
        "  text = contractions.fix(text)\n",
        "  return text"
      ]
    },
    {
      "cell_type": "code",
      "execution_count": null,
      "metadata": {
        "id": "G1MzmwXMC9_l"
      },
      "outputs": [],
      "source": [
        "# set stopwords to english\n",
        "stop_words = set(stopwords.words('english'))\n",
        "# set stemmer to english\n",
        "snowball_stemmer = SnowballStemmer('english')"
      ]
    },
    {
      "cell_type": "code",
      "execution_count": null,
      "metadata": {
        "id": "TdJmnoLHC_Px"
      },
      "outputs": [],
      "source": [
        "# tokenize text\n",
        "def custom_tokenize(text, keep_punct = False, keep_alnum = False, keep_stop = False):\n",
        "  token_list = word_tokenize(text)\n",
        "\n",
        "  if not keep_punct:\n",
        "    token_list = [token for token in token_list\n",
        "                  if token not in string.punctuation]\n",
        "\n",
        "  if not keep_alnum:\n",
        "    token_list = [token for token in token_list if token.isalpha()]\n",
        "\n",
        "  if not keep_stop:\n",
        "    stop_words.discard('not')\n",
        "    token_list = [token for token in token_list if not token in stop_words]\n",
        "\n",
        "  return token_list"
      ]
    },
    {
      "cell_type": "code",
      "execution_count": null,
      "metadata": {
        "id": "_2hE9PebDEpx"
      },
      "outputs": [],
      "source": [
        "# stemming tokens\n",
        "def stem_tokens(tokens, stemmer):\n",
        "  token_list = []\n",
        "  for token in tokens:\n",
        "    token_list.append(stemmer.stem(token))\n",
        "  return token_list"
      ]
    },
    {
      "cell_type": "code",
      "execution_count": null,
      "metadata": {
        "id": "rWQf_MxNDIl_"
      },
      "outputs": [],
      "source": [
        "# lemmatize tokens\n",
        "lemmatizer = WordNetLemmatizer()\n",
        "def lemmatize_tokens(tokens, word_type, lemmatizer):\n",
        "  token_list = []\n",
        "  for token in tokens:\n",
        "    token_list.append(lemmatizer.lemmatize(token, word_type[token]))\n",
        "  return token_list"
      ]
    },
    {
      "cell_type": "code",
      "execution_count": null,
      "metadata": {
        "id": "SmrEZOIBDKJd"
      },
      "outputs": [],
      "source": [
        "# function to preprocess text\n",
        "def process_review(text, verbose=False):\n",
        "  # if verbose: print(\"Initial tweet: {}\".format(review))\n",
        "\n",
        "  ## Word Features\n",
        "  text = to_lowercase(text) # lower case\n",
        "  text = fix_contractions(text) # replace contractions\n",
        "  text = punct_repetition(text) # replace punctuation repetition\n",
        "  text = word_repetition(text) # replace word repetition\n",
        "\n",
        "  # if verbose: print(\"Post Word processing review: {}\".format(text))\n",
        "\n",
        "  ## Tokenization & Stemming\n",
        "  tokens = custom_tokenize(text, keep_alnum=False, keep_stop=False) # tokenize\n",
        "  stem = stem_tokens(tokens, snowball_stemmer) # stem tokens\n",
        "\n",
        "  return stem"
      ]
    },
    {
      "cell_type": "code",
      "execution_count": null,
      "metadata": {
        "colab": {
          "base_uri": "https://localhost:8080/",
          "height": 424
        },
        "id": "jn0Ka2_bDLyZ",
        "outputId": "980ba7f4-8162-4ddc-99d6-2e8ad2b7b824"
      },
      "outputs": [
        {
          "output_type": "execute_result",
          "data": {
            "text/plain": [
              "        key              product_name  stars  \\\n",
              "1      0_bj       Salted Caramel Core      5   \n",
              "3      0_bj       Salted Caramel Core      5   \n",
              "4      0_bj       Salted Caramel Core      1   \n",
              "5      0_bj       Salted Caramel Core      2   \n",
              "8      0_bj       Salted Caramel Core      2   \n",
              "...     ...                       ...    ...   \n",
              "7938  56_bj  Peanut Butter Fudge Core      5   \n",
              "7939  56_bj  Peanut Butter Fudge Core      5   \n",
              "7940  56_bj  Peanut Butter Fudge Core      5   \n",
              "7941  56_bj  Peanut Butter Fudge Core      5   \n",
              "7942  56_bj  Peanut Butter Fudge Core      5   \n",
              "\n",
              "                                          com_titletext  b_star  b_score  \\\n",
              "1     I’m OBSESSED with this pint! I decided to try ...     1.0   0.9442   \n",
              "3     Obsessed!!! Why are people complaining about t...     1.0   0.9270   \n",
              "4     Worst Ice Cream Ever! This ice cream is worst ...     0.0  -0.7210   \n",
              "5     Way Too Salty I bought this last night to go w...     0.0  -0.8834   \n",
              "8     Could be better. I LOVE caramel, so much so th...     0.0   0.9550   \n",
              "...                                                 ...     ...      ...   \n",
              "7938  Peanut butter fudge heaven Oh man I use to be ...     1.0   0.9049   \n",
              "7939  The best Chocolate Ice Cream Combo This is the...     1.0   0.8070   \n",
              "7940  PERFECT!! This is the best pint of ice cream I...     1.0   0.9552   \n",
              "7941  My favorite! This is my favorite ice cream eve...     1.0   0.8350   \n",
              "7942  The Best This is my favorite flavor...I can ju...     1.0   0.8904   \n",
              "\n",
              "                                       tokens_titletext  \n",
              "1     [obsess, pint, decid, tri, although, not, huge...  \n",
              "3     [obsess, peopl, complain, blond, browni, not, ...  \n",
              "4     [worst, ice, cream, ever, ice, cream, worst, i...  \n",
              "5     [way, salti, bought, last, night, go, louisian...  \n",
              "8     [could, better, love, caramel, much, could, ea...  \n",
              "...                                                 ...  \n",
              "7938  [peanut, butter, fudg, heaven, oh, man, use, w...  \n",
              "7939  [best, chocol, ice, cream, combo, first, choco...  \n",
              "7940  [perfect, best, pint, ice, cream, ever, like, ...  \n",
              "7941  [favorit, favorit, ice, cream, ever, not, get,...  \n",
              "7942         [best, favorit, buy, one, high, recommend]  \n",
              "\n",
              "[7536 rows x 7 columns]"
            ],
            "text/html": [
              "\n",
              "  <div id=\"df-001e3853-972b-42ab-8d20-bd54a582c884\">\n",
              "    <div class=\"colab-df-container\">\n",
              "      <div>\n",
              "<style scoped>\n",
              "    .dataframe tbody tr th:only-of-type {\n",
              "        vertical-align: middle;\n",
              "    }\n",
              "\n",
              "    .dataframe tbody tr th {\n",
              "        vertical-align: top;\n",
              "    }\n",
              "\n",
              "    .dataframe thead th {\n",
              "        text-align: right;\n",
              "    }\n",
              "</style>\n",
              "<table border=\"1\" class=\"dataframe\">\n",
              "  <thead>\n",
              "    <tr style=\"text-align: right;\">\n",
              "      <th></th>\n",
              "      <th>key</th>\n",
              "      <th>product_name</th>\n",
              "      <th>stars</th>\n",
              "      <th>com_titletext</th>\n",
              "      <th>b_star</th>\n",
              "      <th>b_score</th>\n",
              "      <th>tokens_titletext</th>\n",
              "    </tr>\n",
              "  </thead>\n",
              "  <tbody>\n",
              "    <tr>\n",
              "      <th>1</th>\n",
              "      <td>0_bj</td>\n",
              "      <td>Salted Caramel Core</td>\n",
              "      <td>5</td>\n",
              "      <td>I’m OBSESSED with this pint! I decided to try ...</td>\n",
              "      <td>1.0</td>\n",
              "      <td>0.9442</td>\n",
              "      <td>[obsess, pint, decid, tri, although, not, huge...</td>\n",
              "    </tr>\n",
              "    <tr>\n",
              "      <th>3</th>\n",
              "      <td>0_bj</td>\n",
              "      <td>Salted Caramel Core</td>\n",
              "      <td>5</td>\n",
              "      <td>Obsessed!!! Why are people complaining about t...</td>\n",
              "      <td>1.0</td>\n",
              "      <td>0.9270</td>\n",
              "      <td>[obsess, peopl, complain, blond, browni, not, ...</td>\n",
              "    </tr>\n",
              "    <tr>\n",
              "      <th>4</th>\n",
              "      <td>0_bj</td>\n",
              "      <td>Salted Caramel Core</td>\n",
              "      <td>1</td>\n",
              "      <td>Worst Ice Cream Ever! This ice cream is worst ...</td>\n",
              "      <td>0.0</td>\n",
              "      <td>-0.7210</td>\n",
              "      <td>[worst, ice, cream, ever, ice, cream, worst, i...</td>\n",
              "    </tr>\n",
              "    <tr>\n",
              "      <th>5</th>\n",
              "      <td>0_bj</td>\n",
              "      <td>Salted Caramel Core</td>\n",
              "      <td>2</td>\n",
              "      <td>Way Too Salty I bought this last night to go w...</td>\n",
              "      <td>0.0</td>\n",
              "      <td>-0.8834</td>\n",
              "      <td>[way, salti, bought, last, night, go, louisian...</td>\n",
              "    </tr>\n",
              "    <tr>\n",
              "      <th>8</th>\n",
              "      <td>0_bj</td>\n",
              "      <td>Salted Caramel Core</td>\n",
              "      <td>2</td>\n",
              "      <td>Could be better. I LOVE caramel, so much so th...</td>\n",
              "      <td>0.0</td>\n",
              "      <td>0.9550</td>\n",
              "      <td>[could, better, love, caramel, much, could, ea...</td>\n",
              "    </tr>\n",
              "    <tr>\n",
              "      <th>...</th>\n",
              "      <td>...</td>\n",
              "      <td>...</td>\n",
              "      <td>...</td>\n",
              "      <td>...</td>\n",
              "      <td>...</td>\n",
              "      <td>...</td>\n",
              "      <td>...</td>\n",
              "    </tr>\n",
              "    <tr>\n",
              "      <th>7938</th>\n",
              "      <td>56_bj</td>\n",
              "      <td>Peanut Butter Fudge Core</td>\n",
              "      <td>5</td>\n",
              "      <td>Peanut butter fudge heaven Oh man I use to be ...</td>\n",
              "      <td>1.0</td>\n",
              "      <td>0.9049</td>\n",
              "      <td>[peanut, butter, fudg, heaven, oh, man, use, w...</td>\n",
              "    </tr>\n",
              "    <tr>\n",
              "      <th>7939</th>\n",
              "      <td>56_bj</td>\n",
              "      <td>Peanut Butter Fudge Core</td>\n",
              "      <td>5</td>\n",
              "      <td>The best Chocolate Ice Cream Combo This is the...</td>\n",
              "      <td>1.0</td>\n",
              "      <td>0.8070</td>\n",
              "      <td>[best, chocol, ice, cream, combo, first, choco...</td>\n",
              "    </tr>\n",
              "    <tr>\n",
              "      <th>7940</th>\n",
              "      <td>56_bj</td>\n",
              "      <td>Peanut Butter Fudge Core</td>\n",
              "      <td>5</td>\n",
              "      <td>PERFECT!! This is the best pint of ice cream I...</td>\n",
              "      <td>1.0</td>\n",
              "      <td>0.9552</td>\n",
              "      <td>[perfect, best, pint, ice, cream, ever, like, ...</td>\n",
              "    </tr>\n",
              "    <tr>\n",
              "      <th>7941</th>\n",
              "      <td>56_bj</td>\n",
              "      <td>Peanut Butter Fudge Core</td>\n",
              "      <td>5</td>\n",
              "      <td>My favorite! This is my favorite ice cream eve...</td>\n",
              "      <td>1.0</td>\n",
              "      <td>0.8350</td>\n",
              "      <td>[favorit, favorit, ice, cream, ever, not, get,...</td>\n",
              "    </tr>\n",
              "    <tr>\n",
              "      <th>7942</th>\n",
              "      <td>56_bj</td>\n",
              "      <td>Peanut Butter Fudge Core</td>\n",
              "      <td>5</td>\n",
              "      <td>The Best This is my favorite flavor...I can ju...</td>\n",
              "      <td>1.0</td>\n",
              "      <td>0.8904</td>\n",
              "      <td>[best, favorit, buy, one, high, recommend]</td>\n",
              "    </tr>\n",
              "  </tbody>\n",
              "</table>\n",
              "<p>7536 rows × 7 columns</p>\n",
              "</div>\n",
              "      <button class=\"colab-df-convert\" onclick=\"convertToInteractive('df-001e3853-972b-42ab-8d20-bd54a582c884')\"\n",
              "              title=\"Convert this dataframe to an interactive table.\"\n",
              "              style=\"display:none;\">\n",
              "        \n",
              "  <svg xmlns=\"http://www.w3.org/2000/svg\" height=\"24px\"viewBox=\"0 0 24 24\"\n",
              "       width=\"24px\">\n",
              "    <path d=\"M0 0h24v24H0V0z\" fill=\"none\"/>\n",
              "    <path d=\"M18.56 5.44l.94 2.06.94-2.06 2.06-.94-2.06-.94-.94-2.06-.94 2.06-2.06.94zm-11 1L8.5 8.5l.94-2.06 2.06-.94-2.06-.94L8.5 2.5l-.94 2.06-2.06.94zm10 10l.94 2.06.94-2.06 2.06-.94-2.06-.94-.94-2.06-.94 2.06-2.06.94z\"/><path d=\"M17.41 7.96l-1.37-1.37c-.4-.4-.92-.59-1.43-.59-.52 0-1.04.2-1.43.59L10.3 9.45l-7.72 7.72c-.78.78-.78 2.05 0 2.83L4 21.41c.39.39.9.59 1.41.59.51 0 1.02-.2 1.41-.59l7.78-7.78 2.81-2.81c.8-.78.8-2.07 0-2.86zM5.41 20L4 18.59l7.72-7.72 1.47 1.35L5.41 20z\"/>\n",
              "  </svg>\n",
              "      </button>\n",
              "      \n",
              "  <style>\n",
              "    .colab-df-container {\n",
              "      display:flex;\n",
              "      flex-wrap:wrap;\n",
              "      gap: 12px;\n",
              "    }\n",
              "\n",
              "    .colab-df-convert {\n",
              "      background-color: #E8F0FE;\n",
              "      border: none;\n",
              "      border-radius: 50%;\n",
              "      cursor: pointer;\n",
              "      display: none;\n",
              "      fill: #1967D2;\n",
              "      height: 32px;\n",
              "      padding: 0 0 0 0;\n",
              "      width: 32px;\n",
              "    }\n",
              "\n",
              "    .colab-df-convert:hover {\n",
              "      background-color: #E2EBFA;\n",
              "      box-shadow: 0px 1px 2px rgba(60, 64, 67, 0.3), 0px 1px 3px 1px rgba(60, 64, 67, 0.15);\n",
              "      fill: #174EA6;\n",
              "    }\n",
              "\n",
              "    [theme=dark] .colab-df-convert {\n",
              "      background-color: #3B4455;\n",
              "      fill: #D2E3FC;\n",
              "    }\n",
              "\n",
              "    [theme=dark] .colab-df-convert:hover {\n",
              "      background-color: #434B5C;\n",
              "      box-shadow: 0px 1px 3px 1px rgba(0, 0, 0, 0.15);\n",
              "      filter: drop-shadow(0px 1px 2px rgba(0, 0, 0, 0.3));\n",
              "      fill: #FFFFFF;\n",
              "    }\n",
              "  </style>\n",
              "\n",
              "      <script>\n",
              "        const buttonEl =\n",
              "          document.querySelector('#df-001e3853-972b-42ab-8d20-bd54a582c884 button.colab-df-convert');\n",
              "        buttonEl.style.display =\n",
              "          google.colab.kernel.accessAllowed ? 'block' : 'none';\n",
              "\n",
              "        async function convertToInteractive(key) {\n",
              "          const element = document.querySelector('#df-001e3853-972b-42ab-8d20-bd54a582c884');\n",
              "          const dataTable =\n",
              "            await google.colab.kernel.invokeFunction('convertToInteractive',\n",
              "                                                     [key], {});\n",
              "          if (!dataTable) return;\n",
              "\n",
              "          const docLinkHtml = 'Like what you see? Visit the ' +\n",
              "            '<a target=\"_blank\" href=https://colab.research.google.com/notebooks/data_table.ipynb>data table notebook</a>'\n",
              "            + ' to learn more about interactive tables.';\n",
              "          element.innerHTML = '';\n",
              "          dataTable['output_type'] = 'display_data';\n",
              "          await google.colab.output.renderOutput(dataTable, element);\n",
              "          const docLink = document.createElement('div');\n",
              "          docLink.innerHTML = docLinkHtml;\n",
              "          element.appendChild(docLink);\n",
              "        }\n",
              "      </script>\n",
              "    </div>\n",
              "  </div>\n",
              "  "
            ]
          },
          "metadata": {},
          "execution_count": 268
        }
      ],
      "source": [
        "# apply text preprocessing to the review text\n",
        "text_df[\"tokens_titletext\"] = text_df[\"com_titletext\"].apply(process_review)\n",
        "text_df"
      ]
    },
    {
      "cell_type": "code",
      "execution_count": null,
      "metadata": {
        "colab": {
          "base_uri": "https://localhost:8080/"
        },
        "id": "FA15xqrd76e-",
        "outputId": "6d95c563-e99c-498a-9e64-60db507d1929"
      },
      "outputs": [
        {
          "output_type": "stream",
          "name": "stdout",
          "text": [
            "1.0    6401\n",
            "0.0    1135\n",
            "Name: b_star, dtype: int64\n"
          ]
        }
      ],
      "source": [
        "print(text_df['b_star'].value_counts())"
      ]
    },
    {
      "cell_type": "markdown",
      "metadata": {
        "id": "fKJBwuRQ6umQ"
      },
      "source": [
        "## Split Data"
      ]
    },
    {
      "cell_type": "code",
      "execution_count": null,
      "metadata": {
        "id": "IF1myu1aDaDn"
      },
      "outputs": [],
      "source": [
        "X = text_df[\"tokens_titletext\"].tolist()\n",
        "y = text_df[\"b_star\"].tolist()"
      ]
    },
    {
      "cell_type": "code",
      "execution_count": null,
      "metadata": {
        "id": "-soir45s5jCZ"
      },
      "outputs": [],
      "source": [
        "from sklearn.model_selection import train_test_split\n",
        "\n",
        "X_train, X_test, y_train, y_test = train_test_split(X, y, random_state=0, train_size=0.80)"
      ]
    },
    {
      "cell_type": "markdown",
      "metadata": {
        "id": "su0L-d3FDWPk"
      },
      "source": [
        "## TF-IDF"
      ]
    },
    {
      "cell_type": "code",
      "execution_count": null,
      "metadata": {
        "id": "f_wYEt32DedR"
      },
      "outputs": [],
      "source": [
        "from sklearn.feature_extraction.text import TfidfVectorizer"
      ]
    },
    {
      "cell_type": "code",
      "execution_count": null,
      "metadata": {
        "id": "mqtm_vGJDcth"
      },
      "outputs": [],
      "source": [
        "# function to fit tfidf vectorizer\n",
        "def fit_tfidf(review_corpus):\n",
        "  tf_vect = TfidfVectorizer(preprocessor=lambda x: x,\n",
        "                            tokenizer=lambda x: x)\n",
        "  tf_vect.fit(review_corpus)\n",
        "  return tf_vect"
      ]
    },
    {
      "cell_type": "code",
      "execution_count": null,
      "metadata": {
        "colab": {
          "base_uri": "https://localhost:8080/"
        },
        "id": "_tdGGFNo6yzs",
        "outputId": "e054fd30-30e1-4f94-ac12-b1cedd1e9051"
      },
      "outputs": [
        {
          "output_type": "stream",
          "name": "stderr",
          "text": [
            "/usr/local/lib/python3.10/dist-packages/sklearn/feature_extraction/text.py:528: UserWarning: The parameter 'token_pattern' will not be used since 'tokenizer' is not None'\n",
            "  warnings.warn(\n"
          ]
        }
      ],
      "source": [
        "tf = fit_tfidf(X_train)\n",
        "X_train_tf = tf.transform(X_train)\n",
        "X_test_tf = tf.transform(X_test)"
      ]
    },
    {
      "cell_type": "markdown",
      "metadata": {
        "id": "AN5PRHw9aVn6"
      },
      "source": [
        "## 01 BEFORE BALANCING"
      ]
    },
    {
      "cell_type": "markdown",
      "metadata": {
        "id": "qV_qGPjFcmoT"
      },
      "source": [
        "### 1.1 Naive Bayes"
      ]
    },
    {
      "cell_type": "code",
      "execution_count": null,
      "metadata": {
        "id": "NxfyKZkR__e9"
      },
      "outputs": [],
      "source": [
        "import seaborn as sn\n",
        "from sklearn.naive_bayes import MultinomialNB\n",
        "from sklearn.metrics import accuracy_score\n",
        "from sklearn.metrics import confusion_matrix"
      ]
    },
    {
      "cell_type": "code",
      "execution_count": null,
      "metadata": {
        "colab": {
          "base_uri": "https://localhost:8080/"
        },
        "id": "wSUc1Ypecp6K",
        "outputId": "ab325685-cd0f-4a70-c886-b6b54ea50cd9"
      },
      "outputs": [
        {
          "output_type": "stream",
          "name": "stdout",
          "text": [
            "NB Model Accuracy: 87.14%\n",
            "              precision    recall  f1-score   support\n",
            "\n",
            "         0.0      1.000     0.142     0.248       226\n",
            "         1.0      0.869     1.000     0.930      1282\n",
            "\n",
            "    accuracy                          0.871      1508\n",
            "   macro avg      0.934     0.571     0.589      1508\n",
            "weighted avg      0.888     0.871     0.828      1508\n",
            "\n"
          ]
        }
      ],
      "source": [
        "# Membuat dan melatih model Naive Bayes\n",
        "nbmodel = MultinomialNB()\n",
        "nbcl= nbmodel.fit(X_train_tf.toarray(), y_train)\n",
        "\n",
        "# Melakukan prediksi pada data uji\n",
        "nb_pred= nbcl.predict(X_test_tf.toarray())\n",
        "\n",
        "# Menghitung dan mencetak akurasi model\n",
        "print(\"NB Model Accuracy: {:.2%}\".format(accuracy_score(y_test, nb_pred)))\n",
        "\n",
        "# Mencetak laporan klasifikasi\n",
        "print(metrics.classification_report(y_test, nb_pred, digits=3))"
      ]
    },
    {
      "cell_type": "code",
      "execution_count": null,
      "metadata": {
        "id": "Oy3O5TXYOUhK"
      },
      "outputs": [],
      "source": [
        "def plot_confusion(cm):\n",
        "  plt.figure(figsize = (5,5))\n",
        "  x_axis_labels = ['neg','pos'] # labels for x-axis\n",
        "  y_axis_labels = ['neg','pos'] # labels for y-axis\n",
        "  sn.heatmap(cm, annot=True, cmap=\"Blues\", fmt='.0f', xticklabels=x_axis_labels, yticklabels=y_axis_labels)\n",
        "  plt.xlabel(\"Prediction\")\n",
        "  plt.ylabel(\"True value\")\n",
        "  plt.title(\"Confusion Matrix\")\n",
        "  return sn"
      ]
    },
    {
      "cell_type": "code",
      "execution_count": null,
      "metadata": {
        "colab": {
          "base_uri": "https://localhost:8080/",
          "height": 504
        },
        "id": "xGODuYhRK1S7",
        "outputId": "9bd922d7-50e6-4887-9415-a8644eab0202"
      },
      "outputs": [
        {
          "output_type": "execute_result",
          "data": {
            "text/plain": [
              "<module 'seaborn' from '/usr/local/lib/python3.10/dist-packages/seaborn/__init__.py'>"
            ]
          },
          "metadata": {},
          "execution_count": 278
        },
        {
          "output_type": "display_data",
          "data": {
            "text/plain": [
              "<Figure size 500x500 with 2 Axes>"
            ],
            "image/png": "[encoded data removed]"
          },
          "metadata": {}
        }
      ],
      "source": [
        "plot_confusion(confusion_matrix(y_test, nb_pred))"
      ]
    },
    {
      "cell_type": "code",
      "execution_count": null,
      "metadata": {
        "colab": {
          "base_uri": "https://localhost:8080/",
          "height": 424
        },
        "id": "kZBuRXWlLkzW",
        "outputId": "45a4afb9-5dac-4731-d39d-bbf890633e05"
      },
      "outputs": [
        {
          "output_type": "execute_result",
          "data": {
            "text/plain": [
              "        key              product_name  stars  \\\n",
              "1      0_bj       Salted Caramel Core      5   \n",
              "3      0_bj       Salted Caramel Core      5   \n",
              "4      0_bj       Salted Caramel Core      1   \n",
              "5      0_bj       Salted Caramel Core      2   \n",
              "8      0_bj       Salted Caramel Core      2   \n",
              "...     ...                       ...    ...   \n",
              "7938  56_bj  Peanut Butter Fudge Core      5   \n",
              "7939  56_bj  Peanut Butter Fudge Core      5   \n",
              "7940  56_bj  Peanut Butter Fudge Core      5   \n",
              "7941  56_bj  Peanut Butter Fudge Core      5   \n",
              "7942  56_bj  Peanut Butter Fudge Core      5   \n",
              "\n",
              "                                          com_titletext  b_star  b_score  \\\n",
              "1     I’m OBSESSED with this pint! I decided to try ...     1.0   0.9442   \n",
              "3     Obsessed!!! Why are people complaining about t...     1.0   0.9270   \n",
              "4     Worst Ice Cream Ever! This ice cream is worst ...     0.0  -0.7210   \n",
              "5     Way Too Salty I bought this last night to go w...     0.0  -0.8834   \n",
              "8     Could be better. I LOVE caramel, so much so th...     0.0   0.9550   \n",
              "...                                                 ...     ...      ...   \n",
              "7938  Peanut butter fudge heaven Oh man I use to be ...     1.0   0.9049   \n",
              "7939  The best Chocolate Ice Cream Combo This is the...     1.0   0.8070   \n",
              "7940  PERFECT!! This is the best pint of ice cream I...     1.0   0.9552   \n",
              "7941  My favorite! This is my favorite ice cream eve...     1.0   0.8350   \n",
              "7942  The Best This is my favorite flavor...I can ju...     1.0   0.8904   \n",
              "\n",
              "                                       tokens_titletext nb_pred  \n",
              "1     [obsess, pint, decid, tri, although, not, huge...     pos  \n",
              "3     [obsess, peopl, complain, blond, browni, not, ...     pos  \n",
              "4     [worst, ice, cream, ever, ice, cream, worst, i...     pos  \n",
              "5     [way, salti, bought, last, night, go, louisian...     pos  \n",
              "8     [could, better, love, caramel, much, could, ea...     pos  \n",
              "...                                                 ...     ...  \n",
              "7938  [peanut, butter, fudg, heaven, oh, man, use, w...     pos  \n",
              "7939  [best, chocol, ice, cream, combo, first, choco...     pos  \n",
              "7940  [perfect, best, pint, ice, cream, ever, like, ...     pos  \n",
              "7941  [favorit, favorit, ice, cream, ever, not, get,...     pos  \n",
              "7942         [best, favorit, buy, one, high, recommend]     pos  \n",
              "\n",
              "[7536 rows x 8 columns]"
            ],
            "text/html": [
              "\n",
              "  <div id=\"df-7decb824-8a8a-4c9c-8a28-d1e5ebfec526\">\n",
              "    <div class=\"colab-df-container\">\n",
              "      <div>\n",
              "<style scoped>\n",
              "    .dataframe tbody tr th:only-of-type {\n",
              "        vertical-align: middle;\n",
              "    }\n",
              "\n",
              "    .dataframe tbody tr th {\n",
              "        vertical-align: top;\n",
              "    }\n",
              "\n",
              "    .dataframe thead th {\n",
              "        text-align: right;\n",
              "    }\n",
              "</style>\n",
              "<table border=\"1\" class=\"dataframe\">\n",
              "  <thead>\n",
              "    <tr style=\"text-align: right;\">\n",
              "      <th></th>\n",
              "      <th>key</th>\n",
              "      <th>product_name</th>\n",
              "      <th>stars</th>\n",
              "      <th>com_titletext</th>\n",
              "      <th>b_star</th>\n",
              "      <th>b_score</th>\n",
              "      <th>tokens_titletext</th>\n",
              "      <th>nb_pred</th>\n",
              "    </tr>\n",
              "  </thead>\n",
              "  <tbody>\n",
              "    <tr>\n",
              "      <th>1</th>\n",
              "      <td>0_bj</td>\n",
              "      <td>Salted Caramel Core</td>\n",
              "      <td>5</td>\n",
              "      <td>I’m OBSESSED with this pint! I decided to try ...</td>\n",
              "      <td>1.0</td>\n",
              "      <td>0.9442</td>\n",
              "      <td>[obsess, pint, decid, tri, although, not, huge...</td>\n",
              "      <td>pos</td>\n",
              "    </tr>\n",
              "    <tr>\n",
              "      <th>3</th>\n",
              "      <td>0_bj</td>\n",
              "      <td>Salted Caramel Core</td>\n",
              "      <td>5</td>\n",
              "      <td>Obsessed!!! Why are people complaining about t...</td>\n",
              "      <td>1.0</td>\n",
              "      <td>0.9270</td>\n",
              "      <td>[obsess, peopl, complain, blond, browni, not, ...</td>\n",
              "      <td>pos</td>\n",
              "    </tr>\n",
              "    <tr>\n",
              "      <th>4</th>\n",
              "      <td>0_bj</td>\n",
              "      <td>Salted Caramel Core</td>\n",
              "      <td>1</td>\n",
              "      <td>Worst Ice Cream Ever! This ice cream is worst ...</td>\n",
              "      <td>0.0</td>\n",
              "      <td>-0.7210</td>\n",
              "      <td>[worst, ice, cream, ever, ice, cream, worst, i...</td>\n",
              "      <td>pos</td>\n",
              "    </tr>\n",
              "    <tr>\n",
              "      <th>5</th>\n",
              "      <td>0_bj</td>\n",
              "      <td>Salted Caramel Core</td>\n",
              "      <td>2</td>\n",
              "      <td>Way Too Salty I bought this last night to go w...</td>\n",
              "      <td>0.0</td>\n",
              "      <td>-0.8834</td>\n",
              "      <td>[way, salti, bought, last, night, go, louisian...</td>\n",
              "      <td>pos</td>\n",
              "    </tr>\n",
              "    <tr>\n",
              "      <th>8</th>\n",
              "      <td>0_bj</td>\n",
              "      <td>Salted Caramel Core</td>\n",
              "      <td>2</td>\n",
              "      <td>Could be better. I LOVE caramel, so much so th...</td>\n",
              "      <td>0.0</td>\n",
              "      <td>0.9550</td>\n",
              "      <td>[could, better, love, caramel, much, could, ea...</td>\n",
              "      <td>pos</td>\n",
              "    </tr>\n",
              "    <tr>\n",
              "      <th>...</th>\n",
              "      <td>...</td>\n",
              "      <td>...</td>\n",
              "      <td>...</td>\n",
              "      <td>...</td>\n",
              "      <td>...</td>\n",
              "      <td>...</td>\n",
              "      <td>...</td>\n",
              "      <td>...</td>\n",
              "    </tr>\n",
              "    <tr>\n",
              "      <th>7938</th>\n",
              "      <td>56_bj</td>\n",
              "      <td>Peanut Butter Fudge Core</td>\n",
              "      <td>5</td>\n",
              "      <td>Peanut butter fudge heaven Oh man I use to be ...</td>\n",
              "      <td>1.0</td>\n",
              "      <td>0.9049</td>\n",
              "      <td>[peanut, butter, fudg, heaven, oh, man, use, w...</td>\n",
              "      <td>pos</td>\n",
              "    </tr>\n",
              "    <tr>\n",
              "      <th>7939</th>\n",
              "      <td>56_bj</td>\n",
              "      <td>Peanut Butter Fudge Core</td>\n",
              "      <td>5</td>\n",
              "      <td>The best Chocolate Ice Cream Combo This is the...</td>\n",
              "      <td>1.0</td>\n",
              "      <td>0.8070</td>\n",
              "      <td>[best, chocol, ice, cream, combo, first, choco...</td>\n",
              "      <td>pos</td>\n",
              "    </tr>\n",
              "    <tr>\n",
              "      <th>7940</th>\n",
              "      <td>56_bj</td>\n",
              "      <td>Peanut Butter Fudge Core</td>\n",
              "      <td>5</td>\n",
              "      <td>PERFECT!! This is the best pint of ice cream I...</td>\n",
              "      <td>1.0</td>\n",
              "      <td>0.9552</td>\n",
              "      <td>[perfect, best, pint, ice, cream, ever, like, ...</td>\n",
              "      <td>pos</td>\n",
              "    </tr>\n",
              "    <tr>\n",
              "      <th>7941</th>\n",
              "      <td>56_bj</td>\n",
              "      <td>Peanut Butter Fudge Core</td>\n",
              "      <td>5</td>\n",
              "      <td>My favorite! This is my favorite ice cream eve...</td>\n",
              "      <td>1.0</td>\n",
              "      <td>0.8350</td>\n",
              "      <td>[favorit, favorit, ice, cream, ever, not, get,...</td>\n",
              "      <td>pos</td>\n",
              "    </tr>\n",
              "    <tr>\n",
              "      <th>7942</th>\n",
              "      <td>56_bj</td>\n",
              "      <td>Peanut Butter Fudge Core</td>\n",
              "      <td>5</td>\n",
              "      <td>The Best This is my favorite flavor...I can ju...</td>\n",
              "      <td>1.0</td>\n",
              "      <td>0.8904</td>\n",
              "      <td>[best, favorit, buy, one, high, recommend]</td>\n",
              "      <td>pos</td>\n",
              "    </tr>\n",
              "  </tbody>\n",
              "</table>\n",
              "<p>7536 rows × 8 columns</p>\n",
              "</div>\n",
              "      <button class=\"colab-df-convert\" onclick=\"convertToInteractive('df-7decb824-8a8a-4c9c-8a28-d1e5ebfec526')\"\n",
              "              title=\"Convert this dataframe to an interactive table.\"\n",
              "              style=\"display:none;\">\n",
              "        \n",
              "  <svg xmlns=\"http://www.w3.org/2000/svg\" height=\"24px\"viewBox=\"0 0 24 24\"\n",
              "       width=\"24px\">\n",
              "    <path d=\"M0 0h24v24H0V0z\" fill=\"none\"/>\n",
              "    <path d=\"M18.56 5.44l.94 2.06.94-2.06 2.06-.94-2.06-.94-.94-2.06-.94 2.06-2.06.94zm-11 1L8.5 8.5l.94-2.06 2.06-.94-2.06-.94L8.5 2.5l-.94 2.06-2.06.94zm10 10l.94 2.06.94-2.06 2.06-.94-2.06-.94-.94-2.06-.94 2.06-2.06.94z\"/><path d=\"M17.41 7.96l-1.37-1.37c-.4-.4-.92-.59-1.43-.59-.52 0-1.04.2-1.43.59L10.3 9.45l-7.72 7.72c-.78.78-.78 2.05 0 2.83L4 21.41c.39.39.9.59 1.41.59.51 0 1.02-.2 1.41-.59l7.78-7.78 2.81-2.81c.8-.78.8-2.07 0-2.86zM5.41 20L4 18.59l7.72-7.72 1.47 1.35L5.41 20z\"/>\n",
              "  </svg>\n",
              "      </button>\n",
              "      \n",
              "  <style>\n",
              "    .colab-df-container {\n",
              "      display:flex;\n",
              "      flex-wrap:wrap;\n",
              "      gap: 12px;\n",
              "    }\n",
              "\n",
              "    .colab-df-convert {\n",
              "      background-color: #E8F0FE;\n",
              "      border: none;\n",
              "      border-radius: 50%;\n",
              "      cursor: pointer;\n",
              "      display: none;\n",
              "      fill: #1967D2;\n",
              "      height: 32px;\n",
              "      padding: 0 0 0 0;\n",
              "      width: 32px;\n",
              "    }\n",
              "\n",
              "    .colab-df-convert:hover {\n",
              "      background-color: #E2EBFA;\n",
              "      box-shadow: 0px 1px 2px rgba(60, 64, 67, 0.3), 0px 1px 3px 1px rgba(60, 64, 67, 0.15);\n",
              "      fill: #174EA6;\n",
              "    }\n",
              "\n",
              "    [theme=dark] .colab-df-convert {\n",
              "      background-color: #3B4455;\n",
              "      fill: #D2E3FC;\n",
              "    }\n",
              "\n",
              "    [theme=dark] .colab-df-convert:hover {\n",
              "      background-color: #434B5C;\n",
              "      box-shadow: 0px 1px 3px 1px rgba(0, 0, 0, 0.15);\n",
              "      filter: drop-shadow(0px 1px 2px rgba(0, 0, 0, 0.3));\n",
              "      fill: #FFFFFF;\n",
              "    }\n",
              "  </style>\n",
              "\n",
              "      <script>\n",
              "        const buttonEl =\n",
              "          document.querySelector('#df-7decb824-8a8a-4c9c-8a28-d1e5ebfec526 button.colab-df-convert');\n",
              "        buttonEl.style.display =\n",
              "          google.colab.kernel.accessAllowed ? 'block' : 'none';\n",
              "\n",
              "        async function convertToInteractive(key) {\n",
              "          const element = document.querySelector('#df-7decb824-8a8a-4c9c-8a28-d1e5ebfec526');\n",
              "          const dataTable =\n",
              "            await google.colab.kernel.invokeFunction('convertToInteractive',\n",
              "                                                     [key], {});\n",
              "          if (!dataTable) return;\n",
              "\n",
              "          const docLinkHtml = 'Like what you see? Visit the ' +\n",
              "            '<a target=\"_blank\" href=https://colab.research.google.com/notebooks/data_table.ipynb>data table notebook</a>'\n",
              "            + ' to learn more about interactive tables.';\n",
              "          element.innerHTML = '';\n",
              "          dataTable['output_type'] = 'display_data';\n",
              "          await google.colab.output.renderOutput(dataTable, element);\n",
              "          const docLink = document.createElement('div');\n",
              "          docLink.innerHTML = docLinkHtml;\n",
              "          element.appendChild(docLink);\n",
              "        }\n",
              "      </script>\n",
              "    </div>\n",
              "  </div>\n",
              "  "
            ]
          },
          "metadata": {},
          "execution_count": 279
        }
      ],
      "source": [
        "token_text = text_df['tokens_titletext']\n",
        "tf_token = tf.transform(token_text)\n",
        "nb_predictions = nbmodel.predict(tf_token)\n",
        "\n",
        "# Mapping label prediksi ke label kelas (\"pos\" dan \"neg\")\n",
        "label_map = {1: \"pos\", 0: \"neg\"}\n",
        "nb_predicted_labels = [label_map[prediction] for prediction in nb_predictions]\n",
        "\n",
        "# Menambahkan kolom prediksi ke dalam DataFrame\n",
        "text_df['nb_pred'] = nb_predicted_labels\n",
        "\n",
        "# Menampilkan DataFrame dengan kolom prediksi\n",
        "text_df"
      ]
    },
    {
      "cell_type": "code",
      "source": [
        "text_df['nb_pred'].value_counts()"
      ],
      "metadata": {
        "colab": {
          "base_uri": "https://localhost:8080/"
        },
        "id": "dni0slE6A8tj",
        "outputId": "1cc0183c-345e-48c5-a2c8-03e5d4f0c2e1"
      },
      "execution_count": null,
      "outputs": [
        {
          "output_type": "execute_result",
          "data": {
            "text/plain": [
              "pos    7283\n",
              "neg     253\n",
              "Name: nb_pred, dtype: int64"
            ]
          },
          "metadata": {},
          "execution_count": 280
        }
      ]
    },
    {
      "cell_type": "code",
      "execution_count": null,
      "metadata": {
        "colab": {
          "base_uri": "https://localhost:8080/",
          "height": 449
        },
        "id": "1YclK5eeM81G",
        "outputId": "6bf6ebfc-21f0-4880-96c9-1a689fa9d4a4"
      },
      "outputs": [
        {
          "output_type": "display_data",
          "data": {
            "text/plain": [
              "<Figure size 640x480 with 1 Axes>"
            ],
            "image/png": "[encoded data removed]"
          },
          "metadata": {}
        }
      ],
      "source": [
        "text_df_sorted = text_df.sort_values('nb_pred', ascending=False)\n",
        "ax = sns.countplot(x ='nb_pred', data = text_df_sorted)\n",
        "ax.set(ylabel='Sentiment count', xlabel='Sentiments')\n",
        "plt.show()"
      ]
    },
    {
      "cell_type": "code",
      "execution_count": null,
      "metadata": {
        "colab": {
          "base_uri": "https://localhost:8080/",
          "height": 445
        },
        "id": "p5LBSfHONImR",
        "outputId": "10a4170c-9fbe-4785-e0a0-89f619a547a2"
      },
      "outputs": [
        {
          "output_type": "execute_result",
          "data": {
            "text/plain": [
              "Text(0.5, 1.0, 'Sentiment distribution Naive Bayes Pie Chart')"
            ]
          },
          "metadata": {},
          "execution_count": 282
        },
        {
          "output_type": "display_data",
          "data": {
            "text/plain": [
              "<Figure size 640x480 with 1 Axes>"
            ],
            "image/png": "[encoded data removed]"
          },
          "metadata": {}
        }
      ],
      "source": [
        "text_df_sorted['nb_pred'].value_counts().plot.pie(autopct='%1.0f%%')\n",
        "plt.title(\"Sentiment distribution Naive Bayes Pie Chart\")"
      ]
    },
    {
      "cell_type": "code",
      "execution_count": null,
      "metadata": {
        "colab": {
          "base_uri": "https://localhost:8080/",
          "height": 467
        },
        "id": "c0OCNv0kNXKh",
        "outputId": "0f101a7e-a358-4222-c5f9-d8f93f2c32aa"
      },
      "outputs": [
        {
          "output_type": "execute_result",
          "data": {
            "text/plain": [
              "[Text(0, 0.5, 'Sentiment count'), Text(0.5, 0, 'Ice cream brand')]"
            ]
          },
          "metadata": {},
          "execution_count": 283
        },
        {
          "output_type": "display_data",
          "data": {
            "text/plain": [
              "<Figure size 640x480 with 1 Axes>"
            ],
            "image/png": "[encoded data removed]"
          },
          "metadata": {}
        }
      ],
      "source": [
        "# Top 10 ice cream brand sort by number of reviews\n",
        "df_prod_reviewcount = text_df_sorted['key'].value_counts().head(5).reset_index()\n",
        "df_prod_isin = text_df_sorted.loc[text_df_sorted['key'].isin(df_prod_reviewcount['index'])]\n",
        "ax1 = sns.countplot(x ='key', hue='nb_pred', data = df_prod_isin, order = df_prod_isin['key'].value_counts().index)\n",
        "ax1.set(ylabel='Sentiment count', xlabel='Ice cream brand')"
      ]
    },
    {
      "cell_type": "code",
      "execution_count": null,
      "metadata": {
        "id": "LIyq0ORhNcBA",
        "colab": {
          "base_uri": "https://localhost:8080/",
          "height": 467
        },
        "outputId": "422bc466-5f67-461a-c701-5aa5ed998b0f"
      },
      "outputs": [
        {
          "output_type": "execute_result",
          "data": {
            "text/plain": [
              "[Text(0, 0.5, 'Sentiment count'), Text(0.5, 0, 'Ice Cream brand')]"
            ]
          },
          "metadata": {},
          "execution_count": 284
        },
        {
          "output_type": "display_data",
          "data": {
            "text/plain": [
              "<Figure size 640x480 with 1 Axes>"
            ],
            "image/png": "[encoded data removed]"
          },
          "metadata": {}
        }
      ],
      "source": [
        "# Top 5 ice cream brand sort by positive review\n",
        "df_posreview = text_df_sorted.loc[text_df_sorted['nb_pred'] == 'pos']\n",
        "df_prod_positivecount = df_posreview['key'].value_counts().head(5).reset_index()\n",
        "ax2 = sns.barplot(x ='index', y= 'key', data = df_prod_positivecount)\n",
        "ax2.set(ylabel='Sentiment count', xlabel='Ice Cream brand')"
      ]
    },
    {
      "cell_type": "code",
      "execution_count": null,
      "metadata": {
        "id": "ORoN2Tl3NmwM",
        "colab": {
          "base_uri": "https://localhost:8080/",
          "height": 468
        },
        "outputId": "337dd5d8-485b-4f87-e286-e0b114f5e0cc"
      },
      "outputs": [
        {
          "output_type": "execute_result",
          "data": {
            "text/plain": [
              "[Text(0, 0.5, 'Sentiment count'), Text(0.5, 0, 'Ice Cream brand')]"
            ]
          },
          "metadata": {},
          "execution_count": 285
        },
        {
          "output_type": "display_data",
          "data": {
            "text/plain": [
              "<Figure size 640x480 with 1 Axes>"
            ],
            "image/png": "[encoded data removed]"
          },
          "metadata": {}
        }
      ],
      "source": [
        "# Top 5 ice cream brand sort by negative review\n",
        "dfnegreview = text_df_sorted.loc[text_df_sorted['nb_pred'] == 'neg']\n",
        "df_prod_negcount = dfnegreview['key'].value_counts().head(5).reset_index()\n",
        "ax2 = sns.barplot(x ='index', y= 'key', data = df_prod_negcount)\n",
        "ax2.set(ylabel='Sentiment count', xlabel='Ice Cream brand')"
      ]
    },
    {
      "cell_type": "markdown",
      "metadata": {
        "id": "j1tzTdA_cqNf"
      },
      "source": [
        "### 1.2 Logistic Regression"
      ]
    },
    {
      "cell_type": "code",
      "execution_count": null,
      "metadata": {
        "id": "ys0i43oJcv_G"
      },
      "outputs": [],
      "source": [
        "import seaborn as sn\n",
        "from sklearn.linear_model import LogisticRegression\n",
        "from sklearn.metrics import accuracy_score\n",
        "from sklearn.metrics import confusion_matrix"
      ]
    },
    {
      "cell_type": "code",
      "execution_count": null,
      "metadata": {
        "id": "6MTWz9m-Djew"
      },
      "outputs": [],
      "source": [
        "# funtion to plot confusion matrix\n",
        "def plot_confusion(cm):\n",
        "  plt.figure(figsize = (5,5))\n",
        "  x_axis_labels = ['neg','pos'] # labels for x-axis\n",
        "  y_axis_labels = ['neg','pos'] # labels for y-axis\n",
        "  sn.heatmap(cm, annot=True, cmap=\"Blues\", fmt='.0f', xticklabels=x_axis_labels, yticklabels=y_axis_labels)\n",
        "  plt.xlabel(\"Prediction\")\n",
        "  plt.ylabel(\"True value\")\n",
        "  plt.title(\"Confusion Matrix\")\n",
        "  return sn"
      ]
    },
    {
      "cell_type": "code",
      "execution_count": null,
      "metadata": {
        "id": "1wVTeGP_Dl7a"
      },
      "outputs": [],
      "source": [
        "# create lr model\n",
        "modelLr = LogisticRegression()\n",
        "model_lr_tf = modelLr.fit(X_train_tf, y_train)\n",
        "y_pred = model_lr_tf.predict(X_test_tf)"
      ]
    },
    {
      "cell_type": "code",
      "execution_count": null,
      "metadata": {
        "id": "1FNn_tBADnRy",
        "colab": {
          "base_uri": "https://localhost:8080/"
        },
        "outputId": "6a4d6234-8712-423c-9a2e-6fbd3a696b79"
      },
      "outputs": [
        {
          "output_type": "stream",
          "name": "stdout",
          "text": [
            "LR Model Accuracy: 93.77%\n",
            "              precision    recall  f1-score   support\n",
            "\n",
            "         0.0      0.923     0.637     0.754       226\n",
            "         1.0      0.939     0.991     0.964      1282\n",
            "\n",
            "    accuracy                          0.938      1508\n",
            "   macro avg      0.931     0.814     0.859      1508\n",
            "weighted avg      0.937     0.938     0.933      1508\n",
            "\n"
          ]
        }
      ],
      "source": [
        "# print lr model accuracy & report\n",
        "print(\"LR Model Accuracy: {:.2%}\".format(accuracy_score(y_test, y_pred)))\n",
        "print(metrics.classification_report(y_test, y_pred, digits=3))"
      ]
    },
    {
      "cell_type": "code",
      "execution_count": null,
      "metadata": {
        "id": "1EtVY9PXDoic",
        "colab": {
          "base_uri": "https://localhost:8080/",
          "height": 504
        },
        "outputId": "14a7ae41-c8c4-45b8-bd74-7b343d265b7e"
      },
      "outputs": [
        {
          "output_type": "execute_result",
          "data": {
            "text/plain": [
              "<module 'seaborn' from '/usr/local/lib/python3.10/dist-packages/seaborn/__init__.py'>"
            ]
          },
          "metadata": {},
          "execution_count": 290
        },
        {
          "output_type": "display_data",
          "data": {
            "text/plain": [
              "<Figure size 500x500 with 2 Axes>"
            ],
            "image/png": "[encoded data removed]"
          },
          "metadata": {}
        }
      ],
      "source": [
        "# plot confusion\n",
        "plot_confusion(confusion_matrix(y_test, y_pred))"
      ]
    },
    {
      "cell_type": "code",
      "execution_count": null,
      "metadata": {
        "id": "dHu-SXU7DrM0",
        "colab": {
          "base_uri": "https://localhost:8080/",
          "height": 424
        },
        "outputId": "a4c36a8d-0777-4e5e-f51a-6e797a908cb1"
      },
      "outputs": [
        {
          "output_type": "execute_result",
          "data": {
            "text/plain": [
              "        key              product_name  stars  \\\n",
              "1      0_bj       Salted Caramel Core      5   \n",
              "3      0_bj       Salted Caramel Core      5   \n",
              "4      0_bj       Salted Caramel Core      1   \n",
              "5      0_bj       Salted Caramel Core      2   \n",
              "8      0_bj       Salted Caramel Core      2   \n",
              "...     ...                       ...    ...   \n",
              "7938  56_bj  Peanut Butter Fudge Core      5   \n",
              "7939  56_bj  Peanut Butter Fudge Core      5   \n",
              "7940  56_bj  Peanut Butter Fudge Core      5   \n",
              "7941  56_bj  Peanut Butter Fudge Core      5   \n",
              "7942  56_bj  Peanut Butter Fudge Core      5   \n",
              "\n",
              "                                          com_titletext  b_star  b_score  \\\n",
              "1     I’m OBSESSED with this pint! I decided to try ...     1.0   0.9442   \n",
              "3     Obsessed!!! Why are people complaining about t...     1.0   0.9270   \n",
              "4     Worst Ice Cream Ever! This ice cream is worst ...     0.0  -0.7210   \n",
              "5     Way Too Salty I bought this last night to go w...     0.0  -0.8834   \n",
              "8     Could be better. I LOVE caramel, so much so th...     0.0   0.9550   \n",
              "...                                                 ...     ...      ...   \n",
              "7938  Peanut butter fudge heaven Oh man I use to be ...     1.0   0.9049   \n",
              "7939  The best Chocolate Ice Cream Combo This is the...     1.0   0.8070   \n",
              "7940  PERFECT!! This is the best pint of ice cream I...     1.0   0.9552   \n",
              "7941  My favorite! This is my favorite ice cream eve...     1.0   0.8350   \n",
              "7942  The Best This is my favorite flavor...I can ju...     1.0   0.8904   \n",
              "\n",
              "                                       tokens_titletext nb_pred lr_pred  \n",
              "1     [obsess, pint, decid, tri, although, not, huge...     pos     neg  \n",
              "3     [obsess, peopl, complain, blond, browni, not, ...     pos     pos  \n",
              "4     [worst, ice, cream, ever, ice, cream, worst, i...     pos     neg  \n",
              "5     [way, salti, bought, last, night, go, louisian...     pos     neg  \n",
              "8     [could, better, love, caramel, much, could, ea...     pos     pos  \n",
              "...                                                 ...     ...     ...  \n",
              "7938  [peanut, butter, fudg, heaven, oh, man, use, w...     pos     pos  \n",
              "7939  [best, chocol, ice, cream, combo, first, choco...     pos     pos  \n",
              "7940  [perfect, best, pint, ice, cream, ever, like, ...     pos     pos  \n",
              "7941  [favorit, favorit, ice, cream, ever, not, get,...     pos     pos  \n",
              "7942         [best, favorit, buy, one, high, recommend]     pos     pos  \n",
              "\n",
              "[7536 rows x 9 columns]"
            ],
            "text/html": [
              "\n",
              "  <div id=\"df-4c1e65ba-bb12-4bc0-aa31-06bdd6b0c912\">\n",
              "    <div class=\"colab-df-container\">\n",
              "      <div>\n",
              "<style scoped>\n",
              "    .dataframe tbody tr th:only-of-type {\n",
              "        vertical-align: middle;\n",
              "    }\n",
              "\n",
              "    .dataframe tbody tr th {\n",
              "        vertical-align: top;\n",
              "    }\n",
              "\n",
              "    .dataframe thead th {\n",
              "        text-align: right;\n",
              "    }\n",
              "</style>\n",
              "<table border=\"1\" class=\"dataframe\">\n",
              "  <thead>\n",
              "    <tr style=\"text-align: right;\">\n",
              "      <th></th>\n",
              "      <th>key</th>\n",
              "      <th>product_name</th>\n",
              "      <th>stars</th>\n",
              "      <th>com_titletext</th>\n",
              "      <th>b_star</th>\n",
              "      <th>b_score</th>\n",
              "      <th>tokens_titletext</th>\n",
              "      <th>nb_pred</th>\n",
              "      <th>lr_pred</th>\n",
              "    </tr>\n",
              "  </thead>\n",
              "  <tbody>\n",
              "    <tr>\n",
              "      <th>1</th>\n",
              "      <td>0_bj</td>\n",
              "      <td>Salted Caramel Core</td>\n",
              "      <td>5</td>\n",
              "      <td>I’m OBSESSED with this pint! I decided to try ...</td>\n",
              "      <td>1.0</td>\n",
              "      <td>0.9442</td>\n",
              "      <td>[obsess, pint, decid, tri, although, not, huge...</td>\n",
              "      <td>pos</td>\n",
              "      <td>neg</td>\n",
              "    </tr>\n",
              "    <tr>\n",
              "      <th>3</th>\n",
              "      <td>0_bj</td>\n",
              "      <td>Salted Caramel Core</td>\n",
              "      <td>5</td>\n",
              "      <td>Obsessed!!! Why are people complaining about t...</td>\n",
              "      <td>1.0</td>\n",
              "      <td>0.9270</td>\n",
              "      <td>[obsess, peopl, complain, blond, browni, not, ...</td>\n",
              "      <td>pos</td>\n",
              "      <td>pos</td>\n",
              "    </tr>\n",
              "    <tr>\n",
              "      <th>4</th>\n",
              "      <td>0_bj</td>\n",
              "      <td>Salted Caramel Core</td>\n",
              "      <td>1</td>\n",
              "      <td>Worst Ice Cream Ever! This ice cream is worst ...</td>\n",
              "      <td>0.0</td>\n",
              "      <td>-0.7210</td>\n",
              "      <td>[worst, ice, cream, ever, ice, cream, worst, i...</td>\n",
              "      <td>pos</td>\n",
              "      <td>neg</td>\n",
              "    </tr>\n",
              "    <tr>\n",
              "      <th>5</th>\n",
              "      <td>0_bj</td>\n",
              "      <td>Salted Caramel Core</td>\n",
              "      <td>2</td>\n",
              "      <td>Way Too Salty I bought this last night to go w...</td>\n",
              "      <td>0.0</td>\n",
              "      <td>-0.8834</td>\n",
              "      <td>[way, salti, bought, last, night, go, louisian...</td>\n",
              "      <td>pos</td>\n",
              "      <td>neg</td>\n",
              "    </tr>\n",
              "    <tr>\n",
              "      <th>8</th>\n",
              "      <td>0_bj</td>\n",
              "      <td>Salted Caramel Core</td>\n",
              "      <td>2</td>\n",
              "      <td>Could be better. I LOVE caramel, so much so th...</td>\n",
              "      <td>0.0</td>\n",
              "      <td>0.9550</td>\n",
              "      <td>[could, better, love, caramel, much, could, ea...</td>\n",
              "      <td>pos</td>\n",
              "      <td>pos</td>\n",
              "    </tr>\n",
              "    <tr>\n",
              "      <th>...</th>\n",
              "      <td>...</td>\n",
              "      <td>...</td>\n",
              "      <td>...</td>\n",
              "      <td>...</td>\n",
              "      <td>...</td>\n",
              "      <td>...</td>\n",
              "      <td>...</td>\n",
              "      <td>...</td>\n",
              "      <td>...</td>\n",
              "    </tr>\n",
              "    <tr>\n",
              "      <th>7938</th>\n",
              "      <td>56_bj</td>\n",
              "      <td>Peanut Butter Fudge Core</td>\n",
              "      <td>5</td>\n",
              "      <td>Peanut butter fudge heaven Oh man I use to be ...</td>\n",
              "      <td>1.0</td>\n",
              "      <td>0.9049</td>\n",
              "      <td>[peanut, butter, fudg, heaven, oh, man, use, w...</td>\n",
              "      <td>pos</td>\n",
              "      <td>pos</td>\n",
              "    </tr>\n",
              "    <tr>\n",
              "      <th>7939</th>\n",
              "      <td>56_bj</td>\n",
              "      <td>Peanut Butter Fudge Core</td>\n",
              "      <td>5</td>\n",
              "      <td>The best Chocolate Ice Cream Combo This is the...</td>\n",
              "      <td>1.0</td>\n",
              "      <td>0.8070</td>\n",
              "      <td>[best, chocol, ice, cream, combo, first, choco...</td>\n",
              "      <td>pos</td>\n",
              "      <td>pos</td>\n",
              "    </tr>\n",
              "    <tr>\n",
              "      <th>7940</th>\n",
              "      <td>56_bj</td>\n",
              "      <td>Peanut Butter Fudge Core</td>\n",
              "      <td>5</td>\n",
              "      <td>PERFECT!! This is the best pint of ice cream I...</td>\n",
              "      <td>1.0</td>\n",
              "      <td>0.9552</td>\n",
              "      <td>[perfect, best, pint, ice, cream, ever, like, ...</td>\n",
              "      <td>pos</td>\n",
              "      <td>pos</td>\n",
              "    </tr>\n",
              "    <tr>\n",
              "      <th>7941</th>\n",
              "      <td>56_bj</td>\n",
              "      <td>Peanut Butter Fudge Core</td>\n",
              "      <td>5</td>\n",
              "      <td>My favorite! This is my favorite ice cream eve...</td>\n",
              "      <td>1.0</td>\n",
              "      <td>0.8350</td>\n",
              "      <td>[favorit, favorit, ice, cream, ever, not, get,...</td>\n",
              "      <td>pos</td>\n",
              "      <td>pos</td>\n",
              "    </tr>\n",
              "    <tr>\n",
              "      <th>7942</th>\n",
              "      <td>56_bj</td>\n",
              "      <td>Peanut Butter Fudge Core</td>\n",
              "      <td>5</td>\n",
              "      <td>The Best This is my favorite flavor...I can ju...</td>\n",
              "      <td>1.0</td>\n",
              "      <td>0.8904</td>\n",
              "      <td>[best, favorit, buy, one, high, recommend]</td>\n",
              "      <td>pos</td>\n",
              "      <td>pos</td>\n",
              "    </tr>\n",
              "  </tbody>\n",
              "</table>\n",
              "<p>7536 rows × 9 columns</p>\n",
              "</div>\n",
              "      <button class=\"colab-df-convert\" onclick=\"convertToInteractive('df-4c1e65ba-bb12-4bc0-aa31-06bdd6b0c912')\"\n",
              "              title=\"Convert this dataframe to an interactive table.\"\n",
              "              style=\"display:none;\">\n",
              "        \n",
              "  <svg xmlns=\"http://www.w3.org/2000/svg\" height=\"24px\"viewBox=\"0 0 24 24\"\n",
              "       width=\"24px\">\n",
              "    <path d=\"M0 0h24v24H0V0z\" fill=\"none\"/>\n",
              "    <path d=\"M18.56 5.44l.94 2.06.94-2.06 2.06-.94-2.06-.94-.94-2.06-.94 2.06-2.06.94zm-11 1L8.5 8.5l.94-2.06 2.06-.94-2.06-.94L8.5 2.5l-.94 2.06-2.06.94zm10 10l.94 2.06.94-2.06 2.06-.94-2.06-.94-.94-2.06-.94 2.06-2.06.94z\"/><path d=\"M17.41 7.96l-1.37-1.37c-.4-.4-.92-.59-1.43-.59-.52 0-1.04.2-1.43.59L10.3 9.45l-7.72 7.72c-.78.78-.78 2.05 0 2.83L4 21.41c.39.39.9.59 1.41.59.51 0 1.02-.2 1.41-.59l7.78-7.78 2.81-2.81c.8-.78.8-2.07 0-2.86zM5.41 20L4 18.59l7.72-7.72 1.47 1.35L5.41 20z\"/>\n",
              "  </svg>\n",
              "      </button>\n",
              "      \n",
              "  <style>\n",
              "    .colab-df-container {\n",
              "      display:flex;\n",
              "      flex-wrap:wrap;\n",
              "      gap: 12px;\n",
              "    }\n",
              "\n",
              "    .colab-df-convert {\n",
              "      background-color: #E8F0FE;\n",
              "      border: none;\n",
              "      border-radius: 50%;\n",
              "      cursor: pointer;\n",
              "      display: none;\n",
              "      fill: #1967D2;\n",
              "      height: 32px;\n",
              "      padding: 0 0 0 0;\n",
              "      width: 32px;\n",
              "    }\n",
              "\n",
              "    .colab-df-convert:hover {\n",
              "      background-color: #E2EBFA;\n",
              "      box-shadow: 0px 1px 2px rgba(60, 64, 67, 0.3), 0px 1px 3px 1px rgba(60, 64, 67, 0.15);\n",
              "      fill: #174EA6;\n",
              "    }\n",
              "\n",
              "    [theme=dark] .colab-df-convert {\n",
              "      background-color: #3B4455;\n",
              "      fill: #D2E3FC;\n",
              "    }\n",
              "\n",
              "    [theme=dark] .colab-df-convert:hover {\n",
              "      background-color: #434B5C;\n",
              "      box-shadow: 0px 1px 3px 1px rgba(0, 0, 0, 0.15);\n",
              "      filter: drop-shadow(0px 1px 2px rgba(0, 0, 0, 0.3));\n",
              "      fill: #FFFFFF;\n",
              "    }\n",
              "  </style>\n",
              "\n",
              "      <script>\n",
              "        const buttonEl =\n",
              "          document.querySelector('#df-4c1e65ba-bb12-4bc0-aa31-06bdd6b0c912 button.colab-df-convert');\n",
              "        buttonEl.style.display =\n",
              "          google.colab.kernel.accessAllowed ? 'block' : 'none';\n",
              "\n",
              "        async function convertToInteractive(key) {\n",
              "          const element = document.querySelector('#df-4c1e65ba-bb12-4bc0-aa31-06bdd6b0c912');\n",
              "          const dataTable =\n",
              "            await google.colab.kernel.invokeFunction('convertToInteractive',\n",
              "                                                     [key], {});\n",
              "          if (!dataTable) return;\n",
              "\n",
              "          const docLinkHtml = 'Like what you see? Visit the ' +\n",
              "            '<a target=\"_blank\" href=https://colab.research.google.com/notebooks/data_table.ipynb>data table notebook</a>'\n",
              "            + ' to learn more about interactive tables.';\n",
              "          element.innerHTML = '';\n",
              "          dataTable['output_type'] = 'display_data';\n",
              "          await google.colab.output.renderOutput(dataTable, element);\n",
              "          const docLink = document.createElement('div');\n",
              "          docLink.innerHTML = docLinkHtml;\n",
              "          element.appendChild(docLink);\n",
              "        }\n",
              "      </script>\n",
              "    </div>\n",
              "  </div>\n",
              "  "
            ]
          },
          "metadata": {},
          "execution_count": 291
        }
      ],
      "source": [
        "# predict review with lr model\n",
        "token_text = text_df['tokens_titletext']\n",
        "tf_token = tf.transform(token_text)\n",
        "lr_predictions = model_lr_tf.predict(tf_token)\n",
        "label_map = {1: \"pos\", 0: \"neg\"}\n",
        "lr_predicted_labels = [label_map[prediction] for prediction in lr_predictions]\n",
        "text_df['lr_pred'] = lr_predicted_labels\n",
        "\n",
        "text_df"
      ]
    },
    {
      "cell_type": "code",
      "source": [
        "text_df['lr_pred'].value_counts()"
      ],
      "metadata": {
        "colab": {
          "base_uri": "https://localhost:8080/"
        },
        "id": "8VKROFISBbUL",
        "outputId": "552c2dd3-9235-4711-dba1-d009b55d6430"
      },
      "execution_count": null,
      "outputs": [
        {
          "output_type": "execute_result",
          "data": {
            "text/plain": [
              "pos    6700\n",
              "neg     836\n",
              "Name: lr_pred, dtype: int64"
            ]
          },
          "metadata": {},
          "execution_count": 292
        }
      ]
    },
    {
      "cell_type": "code",
      "execution_count": null,
      "metadata": {
        "id": "JnIdzb2oDtJu",
        "colab": {
          "base_uri": "https://localhost:8080/",
          "height": 453
        },
        "outputId": "425657b0-5080-4cbd-b5b0-44c00fdcf561"
      },
      "outputs": [
        {
          "output_type": "display_data",
          "data": {
            "text/plain": [
              "<Figure size 640x480 with 1 Axes>"
            ],
            "image/png": "[encoded data removed]"
          },
          "metadata": {}
        }
      ],
      "source": [
        "# plot prediction result\n",
        "text_df_sorted = text_df.sort_values('lr_pred', ascending=False)\n",
        "ax = sns.countplot(x ='lr_pred', data = text_df_sorted)\n",
        "ax.set(ylabel='Sentiment count', xlabel='Sentiments')\n",
        "plt.show()"
      ]
    },
    {
      "cell_type": "code",
      "execution_count": null,
      "metadata": {
        "id": "Qe1tXrqHDySO",
        "colab": {
          "base_uri": "https://localhost:8080/",
          "height": 445
        },
        "outputId": "0050ad4f-0e24-4693-a3bb-84a73bac1ab9"
      },
      "outputs": [
        {
          "output_type": "execute_result",
          "data": {
            "text/plain": [
              "Text(0.5, 1.0, 'Sentiment distribution LR Pie Chart')"
            ]
          },
          "metadata": {},
          "execution_count": 294
        },
        {
          "output_type": "display_data",
          "data": {
            "text/plain": [
              "<Figure size 640x480 with 1 Axes>"
            ],
            "image/png": "[encoded data removed]"
          },
          "metadata": {}
        }
      ],
      "source": [
        "text_df_sorted['lr_pred'].value_counts().plot.pie(autopct='%1.0f%%')\n",
        "plt.title(\"Sentiment distribution LR Pie Chart\")"
      ]
    },
    {
      "cell_type": "code",
      "execution_count": null,
      "metadata": {
        "id": "OdN-qx-WD1Sl",
        "colab": {
          "base_uri": "https://localhost:8080/",
          "height": 467
        },
        "outputId": "bc096809-db8f-4b14-98bd-0ea906e2a915"
      },
      "outputs": [
        {
          "output_type": "execute_result",
          "data": {
            "text/plain": [
              "[Text(0, 0.5, 'Sentiment count'), Text(0.5, 0, 'Ice cream brand')]"
            ]
          },
          "metadata": {},
          "execution_count": 295
        },
        {
          "output_type": "display_data",
          "data": {
            "text/plain": [
              "<Figure size 640x480 with 1 Axes>"
            ],
            "image/png": "[encoded data removed]"
          },
          "metadata": {}
        }
      ],
      "source": [
        "# Top 10 ice cream brand sort by number of reviews\n",
        "df_prod_reviewcount = text_df_sorted['key'].value_counts().head(5).reset_index()\n",
        "df_prod_isin = text_df_sorted.loc[text_df_sorted['key'].isin(df_prod_reviewcount['index'])]\n",
        "ax1 = sns.countplot(x ='key', hue='lr_pred', data = df_prod_isin, order = df_prod_isin['key'].value_counts().index)\n",
        "ax1.set(ylabel='Sentiment count', xlabel='Ice cream brand')"
      ]
    },
    {
      "cell_type": "code",
      "execution_count": null,
      "metadata": {
        "id": "foTym737D4tq",
        "colab": {
          "base_uri": "https://localhost:8080/",
          "height": 467
        },
        "outputId": "d6d02aca-1d53-412d-ab1c-6707c3a585df"
      },
      "outputs": [
        {
          "output_type": "execute_result",
          "data": {
            "text/plain": [
              "[Text(0, 0.5, 'Sentiment count'), Text(0.5, 0, 'Ice cream brand')]"
            ]
          },
          "metadata": {},
          "execution_count": 296
        },
        {
          "output_type": "display_data",
          "data": {
            "text/plain": [
              "<Figure size 640x480 with 1 Axes>"
            ],
            "image/png": "[encoded data removed]"
          },
          "metadata": {}
        }
      ],
      "source": [
        "# Top 5 ice cream brand sort by positive review\n",
        "df_posreview = text_df_sorted.loc[text_df_sorted['lr_pred'] == 'pos']\n",
        "df_prod_positivecount = df_posreview['key'].value_counts().head(5).reset_index()\n",
        "ax2 = sns.barplot(x ='index', y= 'key', data = df_prod_positivecount)\n",
        "ax2.set(ylabel='Sentiment count', xlabel='Ice cream brand')"
      ]
    },
    {
      "cell_type": "code",
      "execution_count": null,
      "metadata": {
        "id": "t_SWvVnzD7c5",
        "colab": {
          "base_uri": "https://localhost:8080/",
          "height": 467
        },
        "outputId": "90cb9b29-6216-47e3-8c7e-350d56db1fd2"
      },
      "outputs": [
        {
          "output_type": "execute_result",
          "data": {
            "text/plain": [
              "[Text(0, 0.5, 'Sentiment count'), Text(0.5, 0, 'Ice cream brand')]"
            ]
          },
          "metadata": {},
          "execution_count": 297
        },
        {
          "output_type": "display_data",
          "data": {
            "text/plain": [
              "<Figure size 640x480 with 1 Axes>"
            ],
            "image/png": "[encoded data removed]"
          },
          "metadata": {}
        }
      ],
      "source": [
        "# Top 5 ice cream brand sort by negative review\n",
        "dfnegreview = text_df_sorted.loc[text_df_sorted['lr_pred'] == 'neg']\n",
        "df_prod_negcount = dfnegreview['key'].value_counts().head(5).reset_index()\n",
        "ax2 = sns.barplot(x ='index', y= 'key', data = df_prod_negcount)\n",
        "ax2.set(ylabel='Sentiment count', xlabel='Ice cream brand')"
      ]
    },
    {
      "cell_type": "markdown",
      "metadata": {
        "id": "dLBYAzoF_4yW"
      },
      "source": [
        "## BALANCING DATA"
      ]
    },
    {
      "cell_type": "code",
      "source": [
        "from sklearn.decomposition import PCA\n",
        "\n",
        "def plot_2d_space(X, y, label='Classes'):\n",
        "    pca = PCA(n_components=2)\n",
        "    X_pca = pca.fit_transform(X)\n",
        "\n",
        "    colors = ['#1F77B4', '#FF7F0E']\n",
        "    markers = ['o', 's']\n",
        "\n",
        "    for l, c, m in zip(np.unique(y), colors, markers):\n",
        "        plt.scatter(\n",
        "            X_pca[y == l, 0],\n",
        "            X_pca[y == l, 1],\n",
        "            c=c, label=l, marker=m\n",
        "        )\n",
        "\n",
        "    plt.title(label)\n",
        "    plt.legend(loc='upper right')\n",
        "    plt.show()"
      ],
      "metadata": {
        "id": "JfrwzzxHsW76"
      },
      "execution_count": null,
      "outputs": []
    },
    {
      "cell_type": "code",
      "source": [
        "# Class Imbalance Check\n",
        "plt.pie(pd.Series(y_train).value_counts(),\n",
        "        labels=['Label 0 (Positive Label)', 'Label 1 (Negative Label)'],\n",
        "        autopct='%0.1f%%')\n",
        "plt.axis('equal')\n",
        "plt.show()"
      ],
      "metadata": {
        "colab": {
          "base_uri": "https://localhost:8080/",
          "height": 406
        },
        "id": "uKq1uxhDv3nw",
        "outputId": "3a631e41-fb16-4f53-e4cd-150dc3be46ed"
      },
      "execution_count": null,
      "outputs": [
        {
          "output_type": "display_data",
          "data": {
            "text/plain": [
              "<Figure size 640x480 with 1 Axes>"
            ],
            "image/png": "[encoded data removed]"
          },
          "metadata": {}
        }
      ]
    },
    {
      "cell_type": "code",
      "source": [
        "from imblearn.over_sampling import SMOTE\n",
        "# SMOTE on full training data\n",
        "tf_full = fit_tfidf(X)\n",
        "X_full_tf = tf_full.transform(X)\n",
        "smote = SMOTE()\n",
        "X_smote_full, y_smote_full = smote.fit_resample(X_full_tf, text_df['b_star'].values)\n",
        "#SMOTE Training data\n",
        "X_smote, y_smote = smote.fit_resample(X_train_tf, y_train)\n",
        "# print(X_smote.shape, y_smote.shape)"
      ],
      "metadata": {
        "colab": {
          "base_uri": "https://localhost:8080/"
        },
        "id": "s0fLct2kmWYD",
        "outputId": "ca647ead-1ee1-43d9-cb33-91e30f950a83"
      },
      "execution_count": null,
      "outputs": [
        {
          "output_type": "stream",
          "name": "stderr",
          "text": [
            "/usr/local/lib/python3.10/dist-packages/sklearn/feature_extraction/text.py:528: UserWarning: The parameter 'token_pattern' will not be used since 'tokenizer' is not None'\n",
            "  warnings.warn(\n"
          ]
        }
      ]
    },
    {
      "cell_type": "code",
      "source": [
        "# Class Imbalance Check\n",
        "plt.pie(pd.value_counts(y_smote),\n",
        "        labels=['Label 0 (Positive Label)', 'Label 1 (Negative Label)'],\n",
        "        autopct='%0.1f%%')\n",
        "plt.axis('equal')\n",
        "plt.show()"
      ],
      "metadata": {
        "colab": {
          "base_uri": "https://localhost:8080/",
          "height": 420
        },
        "id": "HBxL47z_uMJd",
        "outputId": "cd7e60ac-9726-4c92-898b-e6c9ca8d112b"
      },
      "execution_count": null,
      "outputs": [
        {
          "output_type": "display_data",
          "data": {
            "text/plain": [
              "<Figure size 640x480 with 1 Axes>"
            ],
            "image/png": "[encoded data removed]"
          },
          "metadata": {}
        }
      ]
    },
    {
      "cell_type": "code",
      "execution_count": null,
      "metadata": {
        "id": "aTd5Wd3m_C2f"
      },
      "outputs": [],
      "source": [
        "# # Menampilkan informasi jumlah sampel sebelum dilakukan balancing\n",
        "# print(\"Jumlah sampel sebelum balancing:\")\n",
        "# print(text_df['b_star'].value_counts())\n",
        "\n",
        "# # Melakukan balancing dataset\n",
        "# n_samples = text_df['b_star'].value_counts().max()\n",
        "# balanced_reviews = pd.concat([text_df[text_df['b_star'] == 1].sample(n=n_samples, replace=True, random_state=42),\n",
        "#                               text_df[text_df['b_star'] == 0].sample(n=n_samples, replace=True, random_state=42)])\n",
        "\n",
        "# # Menampilkan informasi jumlah sampel setelah dilakukan balancing\n",
        "# print(\"Jumlah sampel setelah balancing:\")\n",
        "# print(balanced_reviews['b_star'].value_counts())"
      ]
    },
    {
      "cell_type": "code",
      "execution_count": null,
      "metadata": {
        "id": "YEBCfArh_6l5"
      },
      "outputs": [],
      "source": [
        "# balanced_reviews"
      ]
    },
    {
      "cell_type": "markdown",
      "metadata": {
        "id": "CQH03_x6arWB"
      },
      "source": [
        "## 02 AFTER BALANCING"
      ]
    },
    {
      "cell_type": "markdown",
      "metadata": {
        "id": "ORCXhc1MBR2N"
      },
      "source": [
        "### 2.1 Naive Bayes"
      ]
    },
    {
      "cell_type": "code",
      "execution_count": null,
      "metadata": {
        "id": "cF3jMJ5tA8z2",
        "colab": {
          "base_uri": "https://localhost:8080/"
        },
        "outputId": "eb6d9f17-74a8-4719-cbe3-962bfff1aaf4"
      },
      "outputs": [
        {
          "output_type": "stream",
          "name": "stdout",
          "text": [
            "NB Model Accuracy: 92.31%\n",
            "              precision    recall  f1-score   support\n",
            "\n",
            "         0.0      0.686     0.898     0.778       226\n",
            "         1.0      0.981     0.927     0.953      1282\n",
            "\n",
            "    accuracy                          0.923      1508\n",
            "   macro avg      0.833     0.913     0.866      1508\n",
            "weighted avg      0.937     0.923     0.927      1508\n",
            "\n"
          ]
        }
      ],
      "source": [
        "# Membuat dan melatih model Naive Bayes\n",
        "nbcl= nbmodel.fit(X_smote.toarray(), y_smote)\n",
        "\n",
        "# Melakukan prediksi pada data uji\n",
        "nb_pred= nbcl.predict(X_test_tf.toarray())\n",
        "\n",
        "# Menghitung dan mencetak akurasi model\n",
        "print(\"NB Model Accuracy: {:.2%}\".format(accuracy_score(y_test, nb_pred)))\n",
        "\n",
        "# Mencetak laporan klasifikasi\n",
        "print(metrics.classification_report(y_test, nb_pred, digits=3))"
      ]
    },
    {
      "cell_type": "code",
      "execution_count": null,
      "metadata": {
        "id": "pXTds0hpUR82"
      },
      "outputs": [],
      "source": [
        "def plot_confusion(cm):\n",
        "  plt.figure(figsize = (5,5))\n",
        "  x_axis_labels = ['neg','pos'] # labels for x-axis\n",
        "  y_axis_labels = ['neg','pos'] # labels for y-axis\n",
        "  sn.heatmap(cm, annot=True, cmap=\"Blues\", fmt='.0f', xticklabels=x_axis_labels, yticklabels=y_axis_labels)\n",
        "  plt.xlabel(\"Prediction\")\n",
        "  plt.ylabel(\"True value\")\n",
        "  plt.title(\"Confusion Matrix\")\n",
        "  return sn"
      ]
    },
    {
      "cell_type": "code",
      "execution_count": null,
      "metadata": {
        "id": "DA03J7bvUWzG",
        "colab": {
          "base_uri": "https://localhost:8080/",
          "height": 504
        },
        "outputId": "945abde4-84f9-4f2a-cdb3-bef75de76a0b"
      },
      "outputs": [
        {
          "output_type": "execute_result",
          "data": {
            "text/plain": [
              "<module 'seaborn' from '/usr/local/lib/python3.10/dist-packages/seaborn/__init__.py'>"
            ]
          },
          "metadata": {},
          "execution_count": 316
        },
        {
          "output_type": "display_data",
          "data": {
            "text/plain": [
              "<Figure size 500x500 with 2 Axes>"
            ],
            "image/png": "[encoded data removed]"
          },
          "metadata": {}
        }
      ],
      "source": [
        "plot_confusion(confusion_matrix(y_test, nb_pred))"
      ]
    },
    {
      "cell_type": "code",
      "execution_count": null,
      "metadata": {
        "id": "xPq84El4UXF0",
        "colab": {
          "base_uri": "https://localhost:8080/",
          "height": 424
        },
        "outputId": "65a1c2a3-4996-4c63-f02b-913292a7b070"
      },
      "outputs": [
        {
          "output_type": "execute_result",
          "data": {
            "text/plain": [
              "        key              product_name  stars  \\\n",
              "1      0_bj       Salted Caramel Core      5   \n",
              "3      0_bj       Salted Caramel Core      5   \n",
              "4      0_bj       Salted Caramel Core      1   \n",
              "5      0_bj       Salted Caramel Core      2   \n",
              "8      0_bj       Salted Caramel Core      2   \n",
              "...     ...                       ...    ...   \n",
              "7938  56_bj  Peanut Butter Fudge Core      5   \n",
              "7939  56_bj  Peanut Butter Fudge Core      5   \n",
              "7940  56_bj  Peanut Butter Fudge Core      5   \n",
              "7941  56_bj  Peanut Butter Fudge Core      5   \n",
              "7942  56_bj  Peanut Butter Fudge Core      5   \n",
              "\n",
              "                                          com_titletext  b_star  b_score  \\\n",
              "1     I’m OBSESSED with this pint! I decided to try ...     1.0   0.9442   \n",
              "3     Obsessed!!! Why are people complaining about t...     1.0   0.9270   \n",
              "4     Worst Ice Cream Ever! This ice cream is worst ...     0.0  -0.7210   \n",
              "5     Way Too Salty I bought this last night to go w...     0.0  -0.8834   \n",
              "8     Could be better. I LOVE caramel, so much so th...     0.0   0.9550   \n",
              "...                                                 ...     ...      ...   \n",
              "7938  Peanut butter fudge heaven Oh man I use to be ...     1.0   0.9049   \n",
              "7939  The best Chocolate Ice Cream Combo This is the...     1.0   0.8070   \n",
              "7940  PERFECT!! This is the best pint of ice cream I...     1.0   0.9552   \n",
              "7941  My favorite! This is my favorite ice cream eve...     1.0   0.8350   \n",
              "7942  The Best This is my favorite flavor...I can ju...     1.0   0.8904   \n",
              "\n",
              "                                       tokens_titletext nb_pred lr_pred  \\\n",
              "1     [obsess, pint, decid, tri, although, not, huge...     pos     neg   \n",
              "3     [obsess, peopl, complain, blond, browni, not, ...     pos     pos   \n",
              "4     [worst, ice, cream, ever, ice, cream, worst, i...     pos     neg   \n",
              "5     [way, salti, bought, last, night, go, louisian...     pos     neg   \n",
              "8     [could, better, love, caramel, much, could, ea...     pos     pos   \n",
              "...                                                 ...     ...     ...   \n",
              "7938  [peanut, butter, fudg, heaven, oh, man, use, w...     pos     pos   \n",
              "7939  [best, chocol, ice, cream, combo, first, choco...     pos     pos   \n",
              "7940  [perfect, best, pint, ice, cream, ever, like, ...     pos     pos   \n",
              "7941  [favorit, favorit, ice, cream, ever, not, get,...     pos     pos   \n",
              "7942         [best, favorit, buy, one, high, recommend]     pos     pos   \n",
              "\n",
              "     nb_pred_b  \n",
              "1          neg  \n",
              "3          pos  \n",
              "4          neg  \n",
              "5          neg  \n",
              "8          neg  \n",
              "...        ...  \n",
              "7938       pos  \n",
              "7939       pos  \n",
              "7940       pos  \n",
              "7941       pos  \n",
              "7942       pos  \n",
              "\n",
              "[7536 rows x 10 columns]"
            ],
            "text/html": [
              "\n",
              "  <div id=\"df-5c9d73f9-e3ec-4fcc-95bf-87a79332840f\">\n",
              "    <div class=\"colab-df-container\">\n",
              "      <div>\n",
              "<style scoped>\n",
              "    .dataframe tbody tr th:only-of-type {\n",
              "        vertical-align: middle;\n",
              "    }\n",
              "\n",
              "    .dataframe tbody tr th {\n",
              "        vertical-align: top;\n",
              "    }\n",
              "\n",
              "    .dataframe thead th {\n",
              "        text-align: right;\n",
              "    }\n",
              "</style>\n",
              "<table border=\"1\" class=\"dataframe\">\n",
              "  <thead>\n",
              "    <tr style=\"text-align: right;\">\n",
              "      <th></th>\n",
              "      <th>key</th>\n",
              "      <th>product_name</th>\n",
              "      <th>stars</th>\n",
              "      <th>com_titletext</th>\n",
              "      <th>b_star</th>\n",
              "      <th>b_score</th>\n",
              "      <th>tokens_titletext</th>\n",
              "      <th>nb_pred</th>\n",
              "      <th>lr_pred</th>\n",
              "      <th>nb_pred_b</th>\n",
              "    </tr>\n",
              "  </thead>\n",
              "  <tbody>\n",
              "    <tr>\n",
              "      <th>1</th>\n",
              "      <td>0_bj</td>\n",
              "      <td>Salted Caramel Core</td>\n",
              "      <td>5</td>\n",
              "      <td>I’m OBSESSED with this pint! I decided to try ...</td>\n",
              "      <td>1.0</td>\n",
              "      <td>0.9442</td>\n",
              "      <td>[obsess, pint, decid, tri, although, not, huge...</td>\n",
              "      <td>pos</td>\n",
              "      <td>neg</td>\n",
              "      <td>neg</td>\n",
              "    </tr>\n",
              "    <tr>\n",
              "      <th>3</th>\n",
              "      <td>0_bj</td>\n",
              "      <td>Salted Caramel Core</td>\n",
              "      <td>5</td>\n",
              "      <td>Obsessed!!! Why are people complaining about t...</td>\n",
              "      <td>1.0</td>\n",
              "      <td>0.9270</td>\n",
              "      <td>[obsess, peopl, complain, blond, browni, not, ...</td>\n",
              "      <td>pos</td>\n",
              "      <td>pos</td>\n",
              "      <td>pos</td>\n",
              "    </tr>\n",
              "    <tr>\n",
              "      <th>4</th>\n",
              "      <td>0_bj</td>\n",
              "      <td>Salted Caramel Core</td>\n",
              "      <td>1</td>\n",
              "      <td>Worst Ice Cream Ever! This ice cream is worst ...</td>\n",
              "      <td>0.0</td>\n",
              "      <td>-0.7210</td>\n",
              "      <td>[worst, ice, cream, ever, ice, cream, worst, i...</td>\n",
              "      <td>pos</td>\n",
              "      <td>neg</td>\n",
              "      <td>neg</td>\n",
              "    </tr>\n",
              "    <tr>\n",
              "      <th>5</th>\n",
              "      <td>0_bj</td>\n",
              "      <td>Salted Caramel Core</td>\n",
              "      <td>2</td>\n",
              "      <td>Way Too Salty I bought this last night to go w...</td>\n",
              "      <td>0.0</td>\n",
              "      <td>-0.8834</td>\n",
              "      <td>[way, salti, bought, last, night, go, louisian...</td>\n",
              "      <td>pos</td>\n",
              "      <td>neg</td>\n",
              "      <td>neg</td>\n",
              "    </tr>\n",
              "    <tr>\n",
              "      <th>8</th>\n",
              "      <td>0_bj</td>\n",
              "      <td>Salted Caramel Core</td>\n",
              "      <td>2</td>\n",
              "      <td>Could be better. I LOVE caramel, so much so th...</td>\n",
              "      <td>0.0</td>\n",
              "      <td>0.9550</td>\n",
              "      <td>[could, better, love, caramel, much, could, ea...</td>\n",
              "      <td>pos</td>\n",
              "      <td>pos</td>\n",
              "      <td>neg</td>\n",
              "    </tr>\n",
              "    <tr>\n",
              "      <th>...</th>\n",
              "      <td>...</td>\n",
              "      <td>...</td>\n",
              "      <td>...</td>\n",
              "      <td>...</td>\n",
              "      <td>...</td>\n",
              "      <td>...</td>\n",
              "      <td>...</td>\n",
              "      <td>...</td>\n",
              "      <td>...</td>\n",
              "      <td>...</td>\n",
              "    </tr>\n",
              "    <tr>\n",
              "      <th>7938</th>\n",
              "      <td>56_bj</td>\n",
              "      <td>Peanut Butter Fudge Core</td>\n",
              "      <td>5</td>\n",
              "      <td>Peanut butter fudge heaven Oh man I use to be ...</td>\n",
              "      <td>1.0</td>\n",
              "      <td>0.9049</td>\n",
              "      <td>[peanut, butter, fudg, heaven, oh, man, use, w...</td>\n",
              "      <td>pos</td>\n",
              "      <td>pos</td>\n",
              "      <td>pos</td>\n",
              "    </tr>\n",
              "    <tr>\n",
              "      <th>7939</th>\n",
              "      <td>56_bj</td>\n",
              "      <td>Peanut Butter Fudge Core</td>\n",
              "      <td>5</td>\n",
              "      <td>The best Chocolate Ice Cream Combo This is the...</td>\n",
              "      <td>1.0</td>\n",
              "      <td>0.8070</td>\n",
              "      <td>[best, chocol, ice, cream, combo, first, choco...</td>\n",
              "      <td>pos</td>\n",
              "      <td>pos</td>\n",
              "      <td>pos</td>\n",
              "    </tr>\n",
              "    <tr>\n",
              "      <th>7940</th>\n",
              "      <td>56_bj</td>\n",
              "      <td>Peanut Butter Fudge Core</td>\n",
              "      <td>5</td>\n",
              "      <td>PERFECT!! This is the best pint of ice cream I...</td>\n",
              "      <td>1.0</td>\n",
              "      <td>0.9552</td>\n",
              "      <td>[perfect, best, pint, ice, cream, ever, like, ...</td>\n",
              "      <td>pos</td>\n",
              "      <td>pos</td>\n",
              "      <td>pos</td>\n",
              "    </tr>\n",
              "    <tr>\n",
              "      <th>7941</th>\n",
              "      <td>56_bj</td>\n",
              "      <td>Peanut Butter Fudge Core</td>\n",
              "      <td>5</td>\n",
              "      <td>My favorite! This is my favorite ice cream eve...</td>\n",
              "      <td>1.0</td>\n",
              "      <td>0.8350</td>\n",
              "      <td>[favorit, favorit, ice, cream, ever, not, get,...</td>\n",
              "      <td>pos</td>\n",
              "      <td>pos</td>\n",
              "      <td>pos</td>\n",
              "    </tr>\n",
              "    <tr>\n",
              "      <th>7942</th>\n",
              "      <td>56_bj</td>\n",
              "      <td>Peanut Butter Fudge Core</td>\n",
              "      <td>5</td>\n",
              "      <td>The Best This is my favorite flavor...I can ju...</td>\n",
              "      <td>1.0</td>\n",
              "      <td>0.8904</td>\n",
              "      <td>[best, favorit, buy, one, high, recommend]</td>\n",
              "      <td>pos</td>\n",
              "      <td>pos</td>\n",
              "      <td>pos</td>\n",
              "    </tr>\n",
              "  </tbody>\n",
              "</table>\n",
              "<p>7536 rows × 10 columns</p>\n",
              "</div>\n",
              "      <button class=\"colab-df-convert\" onclick=\"convertToInteractive('df-5c9d73f9-e3ec-4fcc-95bf-87a79332840f')\"\n",
              "              title=\"Convert this dataframe to an interactive table.\"\n",
              "              style=\"display:none;\">\n",
              "        \n",
              "  <svg xmlns=\"http://www.w3.org/2000/svg\" height=\"24px\"viewBox=\"0 0 24 24\"\n",
              "       width=\"24px\">\n",
              "    <path d=\"M0 0h24v24H0V0z\" fill=\"none\"/>\n",
              "    <path d=\"M18.56 5.44l.94 2.06.94-2.06 2.06-.94-2.06-.94-.94-2.06-.94 2.06-2.06.94zm-11 1L8.5 8.5l.94-2.06 2.06-.94-2.06-.94L8.5 2.5l-.94 2.06-2.06.94zm10 10l.94 2.06.94-2.06 2.06-.94-2.06-.94-.94-2.06-.94 2.06-2.06.94z\"/><path d=\"M17.41 7.96l-1.37-1.37c-.4-.4-.92-.59-1.43-.59-.52 0-1.04.2-1.43.59L10.3 9.45l-7.72 7.72c-.78.78-.78 2.05 0 2.83L4 21.41c.39.39.9.59 1.41.59.51 0 1.02-.2 1.41-.59l7.78-7.78 2.81-2.81c.8-.78.8-2.07 0-2.86zM5.41 20L4 18.59l7.72-7.72 1.47 1.35L5.41 20z\"/>\n",
              "  </svg>\n",
              "      </button>\n",
              "      \n",
              "  <style>\n",
              "    .colab-df-container {\n",
              "      display:flex;\n",
              "      flex-wrap:wrap;\n",
              "      gap: 12px;\n",
              "    }\n",
              "\n",
              "    .colab-df-convert {\n",
              "      background-color: #E8F0FE;\n",
              "      border: none;\n",
              "      border-radius: 50%;\n",
              "      cursor: pointer;\n",
              "      display: none;\n",
              "      fill: #1967D2;\n",
              "      height: 32px;\n",
              "      padding: 0 0 0 0;\n",
              "      width: 32px;\n",
              "    }\n",
              "\n",
              "    .colab-df-convert:hover {\n",
              "      background-color: #E2EBFA;\n",
              "      box-shadow: 0px 1px 2px rgba(60, 64, 67, 0.3), 0px 1px 3px 1px rgba(60, 64, 67, 0.15);\n",
              "      fill: #174EA6;\n",
              "    }\n",
              "\n",
              "    [theme=dark] .colab-df-convert {\n",
              "      background-color: #3B4455;\n",
              "      fill: #D2E3FC;\n",
              "    }\n",
              "\n",
              "    [theme=dark] .colab-df-convert:hover {\n",
              "      background-color: #434B5C;\n",
              "      box-shadow: 0px 1px 3px 1px rgba(0, 0, 0, 0.15);\n",
              "      filter: drop-shadow(0px 1px 2px rgba(0, 0, 0, 0.3));\n",
              "      fill: #FFFFFF;\n",
              "    }\n",
              "  </style>\n",
              "\n",
              "      <script>\n",
              "        const buttonEl =\n",
              "          document.querySelector('#df-5c9d73f9-e3ec-4fcc-95bf-87a79332840f button.colab-df-convert');\n",
              "        buttonEl.style.display =\n",
              "          google.colab.kernel.accessAllowed ? 'block' : 'none';\n",
              "\n",
              "        async function convertToInteractive(key) {\n",
              "          const element = document.querySelector('#df-5c9d73f9-e3ec-4fcc-95bf-87a79332840f');\n",
              "          const dataTable =\n",
              "            await google.colab.kernel.invokeFunction('convertToInteractive',\n",
              "                                                     [key], {});\n",
              "          if (!dataTable) return;\n",
              "\n",
              "          const docLinkHtml = 'Like what you see? Visit the ' +\n",
              "            '<a target=\"_blank\" href=https://colab.research.google.com/notebooks/data_table.ipynb>data table notebook</a>'\n",
              "            + ' to learn more about interactive tables.';\n",
              "          element.innerHTML = '';\n",
              "          dataTable['output_type'] = 'display_data';\n",
              "          await google.colab.output.renderOutput(dataTable, element);\n",
              "          const docLink = document.createElement('div');\n",
              "          docLink.innerHTML = docLinkHtml;\n",
              "          element.appendChild(docLink);\n",
              "        }\n",
              "      </script>\n",
              "    </div>\n",
              "  </div>\n",
              "  "
            ]
          },
          "metadata": {},
          "execution_count": 317
        }
      ],
      "source": [
        "token_text = text_df['tokens_titletext']\n",
        "tf_token = tf.transform(token_text)\n",
        "nb_predictions = nbmodel.predict(tf_token)\n",
        "\n",
        "# Mapping label prediksi ke label kelas (\"pos\" dan \"neg\")\n",
        "label_map = {1: \"pos\", 0: \"neg\"}\n",
        "nb_predicted_labels = [label_map[prediction] for prediction in nb_predictions]\n",
        "\n",
        "# Menambahkan kolom prediksi ke dalam DataFrame\n",
        "text_df['nb_pred_b'] = nb_predicted_labels\n",
        "\n",
        "# Menampilkan DataFrame dengan kolom prediksi\n",
        "text_df"
      ]
    },
    {
      "cell_type": "code",
      "source": [
        "text_df['nb_pred_b'].value_counts()"
      ],
      "metadata": {
        "colab": {
          "base_uri": "https://localhost:8080/"
        },
        "id": "24cBDE-MBfE1",
        "outputId": "4cd8f9c5-5e5c-42fa-9649-59c9aa450bd2"
      },
      "execution_count": null,
      "outputs": [
        {
          "output_type": "execute_result",
          "data": {
            "text/plain": [
              "pos    6055\n",
              "neg    1481\n",
              "Name: nb_pred_b, dtype: int64"
            ]
          },
          "metadata": {},
          "execution_count": 318
        }
      ]
    },
    {
      "cell_type": "code",
      "execution_count": null,
      "metadata": {
        "id": "kM5HwHWrUXRT",
        "colab": {
          "base_uri": "https://localhost:8080/",
          "height": 449
        },
        "outputId": "21c85385-cfd6-4e7f-9268-bf2ae3cff251"
      },
      "outputs": [
        {
          "output_type": "display_data",
          "data": {
            "text/plain": [
              "<Figure size 640x480 with 1 Axes>"
            ],
            "image/png": "[encoded data removed]"
          },
          "metadata": {}
        }
      ],
      "source": [
        "text_df_sorted = text_df.sort_values('nb_pred_b', ascending=False)\n",
        "ax = sns.countplot(x ='nb_pred_b', data = text_df_sorted)\n",
        "ax.set(ylabel='Sentiment count', xlabel='Sentiments')\n",
        "plt.show()"
      ]
    },
    {
      "cell_type": "code",
      "execution_count": null,
      "metadata": {
        "id": "DHpS7-rHDK_3",
        "colab": {
          "base_uri": "https://localhost:8080/",
          "height": 445
        },
        "outputId": "74bde244-6160-48a3-cbce-20ef9976e8db"
      },
      "outputs": [
        {
          "output_type": "execute_result",
          "data": {
            "text/plain": [
              "Text(0.5, 1.0, 'Sentiment distribution Naive Bayes Pie Chart')"
            ]
          },
          "metadata": {},
          "execution_count": 320
        },
        {
          "output_type": "display_data",
          "data": {
            "text/plain": [
              "<Figure size 640x480 with 1 Axes>"
            ],
            "image/png": "[encoded data removed]"
          },
          "metadata": {}
        }
      ],
      "source": [
        "text_df_sorted['nb_pred_b'].value_counts().plot.pie(autopct='%1.0f%%')\n",
        "plt.title(\"Sentiment distribution Naive Bayes Pie Chart\")"
      ]
    },
    {
      "cell_type": "code",
      "execution_count": null,
      "metadata": {
        "id": "dxC39ILmyA_x",
        "colab": {
          "base_uri": "https://localhost:8080/",
          "height": 467
        },
        "outputId": "c677d92d-c59b-4bbc-f85e-0e648558a12d"
      },
      "outputs": [
        {
          "output_type": "execute_result",
          "data": {
            "text/plain": [
              "[Text(0, 0.5, 'Sentiment count'), Text(0.5, 0, 'Ice cream brand')]"
            ]
          },
          "metadata": {},
          "execution_count": 321
        },
        {
          "output_type": "display_data",
          "data": {
            "text/plain": [
              "<Figure size 640x480 with 1 Axes>"
            ],
            "image/png": "[encoded data removed]"
          },
          "metadata": {}
        }
      ],
      "source": [
        "# Top 10 ice cream brand sort by number of reviews\n",
        "df_prod_reviewcount = text_df_sorted['key'].value_counts().head(5).reset_index()\n",
        "df_prod_isin = text_df_sorted.loc[text_df_sorted['key'].isin(df_prod_reviewcount['index'])]\n",
        "ax1 = sns.countplot(x ='key', hue='nb_pred_b', data = df_prod_isin, order = df_prod_isin['key'].value_counts().index)\n",
        "ax1.set(ylabel='Sentiment count', xlabel='Ice cream brand')"
      ]
    },
    {
      "cell_type": "code",
      "execution_count": null,
      "metadata": {
        "id": "TfmNfERoyuCq",
        "colab": {
          "base_uri": "https://localhost:8080/",
          "height": 467
        },
        "outputId": "7d3496a4-f389-4e27-9a35-eb8bcfadf8ff"
      },
      "outputs": [
        {
          "output_type": "execute_result",
          "data": {
            "text/plain": [
              "[Text(0, 0.5, 'Sentiment count'), Text(0.5, 0, 'Ice Cream brand')]"
            ]
          },
          "metadata": {},
          "execution_count": 322
        },
        {
          "output_type": "display_data",
          "data": {
            "text/plain": [
              "<Figure size 640x480 with 1 Axes>"
            ],
            "image/png": "[encoded data removed]"
          },
          "metadata": {}
        }
      ],
      "source": [
        "# Top 5 ice cream brand sort by positive review\n",
        "df_posreview = text_df_sorted.loc[text_df_sorted['nb_pred_b'] == 'pos']\n",
        "df_prod_positivecount = df_posreview['key'].value_counts().head(5).reset_index()\n",
        "ax2 = sns.barplot(x ='index', y= 'key', data = df_prod_positivecount)\n",
        "ax2.set(ylabel='Sentiment count', xlabel='Ice Cream brand')"
      ]
    },
    {
      "cell_type": "code",
      "source": [
        "df_prod_positivecount"
      ],
      "metadata": {
        "colab": {
          "base_uri": "https://localhost:8080/",
          "height": 206
        },
        "id": "7n1Iwx5CmZux",
        "outputId": "6855d860-6056-406d-882e-bc2ed0ccdf06"
      },
      "execution_count": null,
      "outputs": [
        {
          "output_type": "execute_result",
          "data": {
            "text/plain": [
              "   index  key\n",
              "0  16_bj  847\n",
              "1  28_bj  804\n",
              "2  44_bj  577\n",
              "3  10_bj  342\n",
              "4   4_bj  219"
            ],
            "text/html": [
              "\n",
              "  <div id=\"df-e7fa6dc5-1036-4bfa-9b1a-d831573e31b4\">\n",
              "    <div class=\"colab-df-container\">\n",
              "      <div>\n",
              "<style scoped>\n",
              "    .dataframe tbody tr th:only-of-type {\n",
              "        vertical-align: middle;\n",
              "    }\n",
              "\n",
              "    .dataframe tbody tr th {\n",
              "        vertical-align: top;\n",
              "    }\n",
              "\n",
              "    .dataframe thead th {\n",
              "        text-align: right;\n",
              "    }\n",
              "</style>\n",
              "<table border=\"1\" class=\"dataframe\">\n",
              "  <thead>\n",
              "    <tr style=\"text-align: right;\">\n",
              "      <th></th>\n",
              "      <th>index</th>\n",
              "      <th>key</th>\n",
              "    </tr>\n",
              "  </thead>\n",
              "  <tbody>\n",
              "    <tr>\n",
              "      <th>0</th>\n",
              "      <td>16_bj</td>\n",
              "      <td>847</td>\n",
              "    </tr>\n",
              "    <tr>\n",
              "      <th>1</th>\n",
              "      <td>28_bj</td>\n",
              "      <td>804</td>\n",
              "    </tr>\n",
              "    <tr>\n",
              "      <th>2</th>\n",
              "      <td>44_bj</td>\n",
              "      <td>577</td>\n",
              "    </tr>\n",
              "    <tr>\n",
              "      <th>3</th>\n",
              "      <td>10_bj</td>\n",
              "      <td>342</td>\n",
              "    </tr>\n",
              "    <tr>\n",
              "      <th>4</th>\n",
              "      <td>4_bj</td>\n",
              "      <td>219</td>\n",
              "    </tr>\n",
              "  </tbody>\n",
              "</table>\n",
              "</div>\n",
              "      <button class=\"colab-df-convert\" onclick=\"convertToInteractive('df-e7fa6dc5-1036-4bfa-9b1a-d831573e31b4')\"\n",
              "              title=\"Convert this dataframe to an interactive table.\"\n",
              "              style=\"display:none;\">\n",
              "        \n",
              "  <svg xmlns=\"http://www.w3.org/2000/svg\" height=\"24px\"viewBox=\"0 0 24 24\"\n",
              "       width=\"24px\">\n",
              "    <path d=\"M0 0h24v24H0V0z\" fill=\"none\"/>\n",
              "    <path d=\"M18.56 5.44l.94 2.06.94-2.06 2.06-.94-2.06-.94-.94-2.06-.94 2.06-2.06.94zm-11 1L8.5 8.5l.94-2.06 2.06-.94-2.06-.94L8.5 2.5l-.94 2.06-2.06.94zm10 10l.94 2.06.94-2.06 2.06-.94-2.06-.94-.94-2.06-.94 2.06-2.06.94z\"/><path d=\"M17.41 7.96l-1.37-1.37c-.4-.4-.92-.59-1.43-.59-.52 0-1.04.2-1.43.59L10.3 9.45l-7.72 7.72c-.78.78-.78 2.05 0 2.83L4 21.41c.39.39.9.59 1.41.59.51 0 1.02-.2 1.41-.59l7.78-7.78 2.81-2.81c.8-.78.8-2.07 0-2.86zM5.41 20L4 18.59l7.72-7.72 1.47 1.35L5.41 20z\"/>\n",
              "  </svg>\n",
              "      </button>\n",
              "      \n",
              "  <style>\n",
              "    .colab-df-container {\n",
              "      display:flex;\n",
              "      flex-wrap:wrap;\n",
              "      gap: 12px;\n",
              "    }\n",
              "\n",
              "    .colab-df-convert {\n",
              "      background-color: #E8F0FE;\n",
              "      border: none;\n",
              "      border-radius: 50%;\n",
              "      cursor: pointer;\n",
              "      display: none;\n",
              "      fill: #1967D2;\n",
              "      height: 32px;\n",
              "      padding: 0 0 0 0;\n",
              "      width: 32px;\n",
              "    }\n",
              "\n",
              "    .colab-df-convert:hover {\n",
              "      background-color: #E2EBFA;\n",
              "      box-shadow: 0px 1px 2px rgba(60, 64, 67, 0.3), 0px 1px 3px 1px rgba(60, 64, 67, 0.15);\n",
              "      fill: #174EA6;\n",
              "    }\n",
              "\n",
              "    [theme=dark] .colab-df-convert {\n",
              "      background-color: #3B4455;\n",
              "      fill: #D2E3FC;\n",
              "    }\n",
              "\n",
              "    [theme=dark] .colab-df-convert:hover {\n",
              "      background-color: #434B5C;\n",
              "      box-shadow: 0px 1px 3px 1px rgba(0, 0, 0, 0.15);\n",
              "      filter: drop-shadow(0px 1px 2px rgba(0, 0, 0, 0.3));\n",
              "      fill: #FFFFFF;\n",
              "    }\n",
              "  </style>\n",
              "\n",
              "      <script>\n",
              "        const buttonEl =\n",
              "          document.querySelector('#df-e7fa6dc5-1036-4bfa-9b1a-d831573e31b4 button.colab-df-convert');\n",
              "        buttonEl.style.display =\n",
              "          google.colab.kernel.accessAllowed ? 'block' : 'none';\n",
              "\n",
              "        async function convertToInteractive(key) {\n",
              "          const element = document.querySelector('#df-e7fa6dc5-1036-4bfa-9b1a-d831573e31b4');\n",
              "          const dataTable =\n",
              "            await google.colab.kernel.invokeFunction('convertToInteractive',\n",
              "                                                     [key], {});\n",
              "          if (!dataTable) return;\n",
              "\n",
              "          const docLinkHtml = 'Like what you see? Visit the ' +\n",
              "            '<a target=\"_blank\" href=https://colab.research.google.com/notebooks/data_table.ipynb>data table notebook</a>'\n",
              "            + ' to learn more about interactive tables.';\n",
              "          element.innerHTML = '';\n",
              "          dataTable['output_type'] = 'display_data';\n",
              "          await google.colab.output.renderOutput(dataTable, element);\n",
              "          const docLink = document.createElement('div');\n",
              "          docLink.innerHTML = docLinkHtml;\n",
              "          element.appendChild(docLink);\n",
              "        }\n",
              "      </script>\n",
              "    </div>\n",
              "  </div>\n",
              "  "
            ]
          },
          "metadata": {},
          "execution_count": 323
        }
      ]
    },
    {
      "cell_type": "code",
      "execution_count": null,
      "metadata": {
        "id": "a1V6PIxCy1vo",
        "colab": {
          "base_uri": "https://localhost:8080/",
          "height": 467
        },
        "outputId": "e8f343e4-b625-489f-980d-f8918a60ef5f"
      },
      "outputs": [
        {
          "output_type": "execute_result",
          "data": {
            "text/plain": [
              "[Text(0, 0.5, 'Sentiment count'), Text(0.5, 0, 'Ice Cream brand')]"
            ]
          },
          "metadata": {},
          "execution_count": 324
        },
        {
          "output_type": "display_data",
          "data": {
            "text/plain": [
              "<Figure size 640x480 with 1 Axes>"
            ],
            "image/png": "[encoded data removed]"
          },
          "metadata": {}
        }
      ],
      "source": [
        "# Top 5 ice cream brand sort by negative review\n",
        "dfnegreview = text_df_sorted.loc[text_df_sorted['nb_pred_b'] == 'neg']\n",
        "df_prod_negcount = dfnegreview['key'].value_counts().head(5).reset_index()\n",
        "ax2 = sns.barplot(x ='index', y= 'key', data = df_prod_negcount)\n",
        "ax2.set(ylabel='Sentiment count', xlabel='Ice Cream brand')"
      ]
    },
    {
      "cell_type": "code",
      "source": [
        "df_prod_negcount"
      ],
      "metadata": {
        "colab": {
          "base_uri": "https://localhost:8080/",
          "height": 206
        },
        "id": "RzkqsyIUmc3M",
        "outputId": "9a1f9f12-df44-4748-d0b5-dbde8962b535"
      },
      "execution_count": null,
      "outputs": [
        {
          "output_type": "execute_result",
          "data": {
            "text/plain": [
              "   index  key\n",
              "0  24_bj  206\n",
              "1  50_bj  138\n",
              "2  15_bj   92\n",
              "3  16_bj   90\n",
              "4  17_bj   83"
            ],
            "text/html": [
              "\n",
              "  <div id=\"df-a81881c4-c20c-4c95-a374-cb0e88faf75a\">\n",
              "    <div class=\"colab-df-container\">\n",
              "      <div>\n",
              "<style scoped>\n",
              "    .dataframe tbody tr th:only-of-type {\n",
              "        vertical-align: middle;\n",
              "    }\n",
              "\n",
              "    .dataframe tbody tr th {\n",
              "        vertical-align: top;\n",
              "    }\n",
              "\n",
              "    .dataframe thead th {\n",
              "        text-align: right;\n",
              "    }\n",
              "</style>\n",
              "<table border=\"1\" class=\"dataframe\">\n",
              "  <thead>\n",
              "    <tr style=\"text-align: right;\">\n",
              "      <th></th>\n",
              "      <th>index</th>\n",
              "      <th>key</th>\n",
              "    </tr>\n",
              "  </thead>\n",
              "  <tbody>\n",
              "    <tr>\n",
              "      <th>0</th>\n",
              "      <td>24_bj</td>\n",
              "      <td>206</td>\n",
              "    </tr>\n",
              "    <tr>\n",
              "      <th>1</th>\n",
              "      <td>50_bj</td>\n",
              "      <td>138</td>\n",
              "    </tr>\n",
              "    <tr>\n",
              "      <th>2</th>\n",
              "      <td>15_bj</td>\n",
              "      <td>92</td>\n",
              "    </tr>\n",
              "    <tr>\n",
              "      <th>3</th>\n",
              "      <td>16_bj</td>\n",
              "      <td>90</td>\n",
              "    </tr>\n",
              "    <tr>\n",
              "      <th>4</th>\n",
              "      <td>17_bj</td>\n",
              "      <td>83</td>\n",
              "    </tr>\n",
              "  </tbody>\n",
              "</table>\n",
              "</div>\n",
              "      <button class=\"colab-df-convert\" onclick=\"convertToInteractive('df-a81881c4-c20c-4c95-a374-cb0e88faf75a')\"\n",
              "              title=\"Convert this dataframe to an interactive table.\"\n",
              "              style=\"display:none;\">\n",
              "        \n",
              "  <svg xmlns=\"http://www.w3.org/2000/svg\" height=\"24px\"viewBox=\"0 0 24 24\"\n",
              "       width=\"24px\">\n",
              "    <path d=\"M0 0h24v24H0V0z\" fill=\"none\"/>\n",
              "    <path d=\"M18.56 5.44l.94 2.06.94-2.06 2.06-.94-2.06-.94-.94-2.06-.94 2.06-2.06.94zm-11 1L8.5 8.5l.94-2.06 2.06-.94-2.06-.94L8.5 2.5l-.94 2.06-2.06.94zm10 10l.94 2.06.94-2.06 2.06-.94-2.06-.94-.94-2.06-.94 2.06-2.06.94z\"/><path d=\"M17.41 7.96l-1.37-1.37c-.4-.4-.92-.59-1.43-.59-.52 0-1.04.2-1.43.59L10.3 9.45l-7.72 7.72c-.78.78-.78 2.05 0 2.83L4 21.41c.39.39.9.59 1.41.59.51 0 1.02-.2 1.41-.59l7.78-7.78 2.81-2.81c.8-.78.8-2.07 0-2.86zM5.41 20L4 18.59l7.72-7.72 1.47 1.35L5.41 20z\"/>\n",
              "  </svg>\n",
              "      </button>\n",
              "      \n",
              "  <style>\n",
              "    .colab-df-container {\n",
              "      display:flex;\n",
              "      flex-wrap:wrap;\n",
              "      gap: 12px;\n",
              "    }\n",
              "\n",
              "    .colab-df-convert {\n",
              "      background-color: #E8F0FE;\n",
              "      border: none;\n",
              "      border-radius: 50%;\n",
              "      cursor: pointer;\n",
              "      display: none;\n",
              "      fill: #1967D2;\n",
              "      height: 32px;\n",
              "      padding: 0 0 0 0;\n",
              "      width: 32px;\n",
              "    }\n",
              "\n",
              "    .colab-df-convert:hover {\n",
              "      background-color: #E2EBFA;\n",
              "      box-shadow: 0px 1px 2px rgba(60, 64, 67, 0.3), 0px 1px 3px 1px rgba(60, 64, 67, 0.15);\n",
              "      fill: #174EA6;\n",
              "    }\n",
              "\n",
              "    [theme=dark] .colab-df-convert {\n",
              "      background-color: #3B4455;\n",
              "      fill: #D2E3FC;\n",
              "    }\n",
              "\n",
              "    [theme=dark] .colab-df-convert:hover {\n",
              "      background-color: #434B5C;\n",
              "      box-shadow: 0px 1px 3px 1px rgba(0, 0, 0, 0.15);\n",
              "      filter: drop-shadow(0px 1px 2px rgba(0, 0, 0, 0.3));\n",
              "      fill: #FFFFFF;\n",
              "    }\n",
              "  </style>\n",
              "\n",
              "      <script>\n",
              "        const buttonEl =\n",
              "          document.querySelector('#df-a81881c4-c20c-4c95-a374-cb0e88faf75a button.colab-df-convert');\n",
              "        buttonEl.style.display =\n",
              "          google.colab.kernel.accessAllowed ? 'block' : 'none';\n",
              "\n",
              "        async function convertToInteractive(key) {\n",
              "          const element = document.querySelector('#df-a81881c4-c20c-4c95-a374-cb0e88faf75a');\n",
              "          const dataTable =\n",
              "            await google.colab.kernel.invokeFunction('convertToInteractive',\n",
              "                                                     [key], {});\n",
              "          if (!dataTable) return;\n",
              "\n",
              "          const docLinkHtml = 'Like what you see? Visit the ' +\n",
              "            '<a target=\"_blank\" href=https://colab.research.google.com/notebooks/data_table.ipynb>data table notebook</a>'\n",
              "            + ' to learn more about interactive tables.';\n",
              "          element.innerHTML = '';\n",
              "          dataTable['output_type'] = 'display_data';\n",
              "          await google.colab.output.renderOutput(dataTable, element);\n",
              "          const docLink = document.createElement('div');\n",
              "          docLink.innerHTML = docLinkHtml;\n",
              "          element.appendChild(docLink);\n",
              "        }\n",
              "      </script>\n",
              "    </div>\n",
              "  </div>\n",
              "  "
            ]
          },
          "metadata": {},
          "execution_count": 325
        }
      ]
    },
    {
      "cell_type": "markdown",
      "metadata": {
        "id": "JoWpvbC1DLQB"
      },
      "source": [
        "### 2.2 Logistic Regression"
      ]
    },
    {
      "cell_type": "code",
      "execution_count": null,
      "metadata": {
        "id": "XzVHVtHvDOtX"
      },
      "outputs": [],
      "source": [
        "# funtion to plot confusion matrix\n",
        "def plot_confusion(cm):\n",
        "  plt.figure(figsize = (5,5))\n",
        "  x_axis_labels = ['neg','pos'] # labels for x-axis\n",
        "  y_axis_labels = ['neg','pos'] # labels for y-axis\n",
        "  sn.heatmap(cm, annot=True, cmap=\"Blues\", fmt='.0f', xticklabels=x_axis_labels, yticklabels=y_axis_labels)\n",
        "  plt.xlabel(\"Prediction\")\n",
        "  plt.ylabel(\"True value\")\n",
        "  plt.title(\"Confusion Matrix\")\n",
        "  return sn"
      ]
    },
    {
      "cell_type": "code",
      "execution_count": null,
      "metadata": {
        "id": "HptY3zBDEaXc"
      },
      "outputs": [],
      "source": [
        "# create lr model\n",
        "modelLr = LogisticRegression()\n",
        "model_lr_tf = modelLr.fit(X_smote, y_smote)\n",
        "y_pred = model_lr_tf.predict(X_test_tf)"
      ]
    },
    {
      "cell_type": "code",
      "execution_count": null,
      "metadata": {
        "id": "HxVcjZWrEfLK",
        "colab": {
          "base_uri": "https://localhost:8080/"
        },
        "outputId": "eef3856a-9e98-4f60-db19-ff90a75a5667"
      },
      "outputs": [
        {
          "output_type": "stream",
          "name": "stdout",
          "text": [
            "LR Model Accuracy: 94.56%\n",
            "              precision    recall  f1-score   support\n",
            "\n",
            "         0.0      0.773     0.903     0.833       226\n",
            "         1.0      0.982     0.953     0.968      1282\n",
            "\n",
            "    accuracy                          0.946      1508\n",
            "   macro avg      0.878     0.928     0.900      1508\n",
            "weighted avg      0.951     0.946     0.947      1508\n",
            "\n"
          ]
        }
      ],
      "source": [
        "# print lr model accuracy & report\n",
        "print(\"LR Model Accuracy: {:.2%}\".format(accuracy_score(y_test, y_pred)))\n",
        "print(metrics.classification_report(y_test, y_pred, digits=3))"
      ]
    },
    {
      "cell_type": "code",
      "execution_count": null,
      "metadata": {
        "id": "sahMZ5GkEl_T",
        "colab": {
          "base_uri": "https://localhost:8080/",
          "height": 504
        },
        "outputId": "dc01b8e2-3ca3-4a03-eaa2-4a01e7a972d5"
      },
      "outputs": [
        {
          "output_type": "execute_result",
          "data": {
            "text/plain": [
              "<module 'seaborn' from '/usr/local/lib/python3.10/dist-packages/seaborn/__init__.py'>"
            ]
          },
          "metadata": {},
          "execution_count": 329
        },
        {
          "output_type": "display_data",
          "data": {
            "text/plain": [
              "<Figure size 500x500 with 2 Axes>"
            ],
            "image/png": "[encoded data removed]"
          },
          "metadata": {}
        }
      ],
      "source": [
        "# plot confusion\n",
        "plot_confusion(confusion_matrix(y_test, y_pred))"
      ]
    },
    {
      "cell_type": "code",
      "execution_count": null,
      "metadata": {
        "id": "sQV9FmCIEs6k",
        "colab": {
          "base_uri": "https://localhost:8080/",
          "height": 424
        },
        "outputId": "b03e2595-fcbf-45f1-865c-ca1592b0eb53"
      },
      "outputs": [
        {
          "output_type": "execute_result",
          "data": {
            "text/plain": [
              "        key              product_name  stars  \\\n",
              "1      0_bj       Salted Caramel Core      5   \n",
              "3      0_bj       Salted Caramel Core      5   \n",
              "4      0_bj       Salted Caramel Core      1   \n",
              "5      0_bj       Salted Caramel Core      2   \n",
              "8      0_bj       Salted Caramel Core      2   \n",
              "...     ...                       ...    ...   \n",
              "7938  56_bj  Peanut Butter Fudge Core      5   \n",
              "7939  56_bj  Peanut Butter Fudge Core      5   \n",
              "7940  56_bj  Peanut Butter Fudge Core      5   \n",
              "7941  56_bj  Peanut Butter Fudge Core      5   \n",
              "7942  56_bj  Peanut Butter Fudge Core      5   \n",
              "\n",
              "                                          com_titletext  b_star  b_score  \\\n",
              "1     I’m OBSESSED with this pint! I decided to try ...     1.0   0.9442   \n",
              "3     Obsessed!!! Why are people complaining about t...     1.0   0.9270   \n",
              "4     Worst Ice Cream Ever! This ice cream is worst ...     0.0  -0.7210   \n",
              "5     Way Too Salty I bought this last night to go w...     0.0  -0.8834   \n",
              "8     Could be better. I LOVE caramel, so much so th...     0.0   0.9550   \n",
              "...                                                 ...     ...      ...   \n",
              "7938  Peanut butter fudge heaven Oh man I use to be ...     1.0   0.9049   \n",
              "7939  The best Chocolate Ice Cream Combo This is the...     1.0   0.8070   \n",
              "7940  PERFECT!! This is the best pint of ice cream I...     1.0   0.9552   \n",
              "7941  My favorite! This is my favorite ice cream eve...     1.0   0.8350   \n",
              "7942  The Best This is my favorite flavor...I can ju...     1.0   0.8904   \n",
              "\n",
              "                                       tokens_titletext nb_pred lr_pred  \\\n",
              "1     [obsess, pint, decid, tri, although, not, huge...     pos     neg   \n",
              "3     [obsess, peopl, complain, blond, browni, not, ...     pos     pos   \n",
              "4     [worst, ice, cream, ever, ice, cream, worst, i...     pos     neg   \n",
              "5     [way, salti, bought, last, night, go, louisian...     pos     neg   \n",
              "8     [could, better, love, caramel, much, could, ea...     pos     pos   \n",
              "...                                                 ...     ...     ...   \n",
              "7938  [peanut, butter, fudg, heaven, oh, man, use, w...     pos     pos   \n",
              "7939  [best, chocol, ice, cream, combo, first, choco...     pos     pos   \n",
              "7940  [perfect, best, pint, ice, cream, ever, like, ...     pos     pos   \n",
              "7941  [favorit, favorit, ice, cream, ever, not, get,...     pos     pos   \n",
              "7942         [best, favorit, buy, one, high, recommend]     pos     pos   \n",
              "\n",
              "     nb_pred_b lr_pred_b  \n",
              "1          neg       neg  \n",
              "3          pos       pos  \n",
              "4          neg       neg  \n",
              "5          neg       neg  \n",
              "8          neg       neg  \n",
              "...        ...       ...  \n",
              "7938       pos       pos  \n",
              "7939       pos       pos  \n",
              "7940       pos       pos  \n",
              "7941       pos       pos  \n",
              "7942       pos       pos  \n",
              "\n",
              "[7536 rows x 11 columns]"
            ],
            "text/html": [
              "\n",
              "  <div id=\"df-f57d2297-a67a-4044-af06-e6ba715cfb71\">\n",
              "    <div class=\"colab-df-container\">\n",
              "      <div>\n",
              "<style scoped>\n",
              "    .dataframe tbody tr th:only-of-type {\n",
              "        vertical-align: middle;\n",
              "    }\n",
              "\n",
              "    .dataframe tbody tr th {\n",
              "        vertical-align: top;\n",
              "    }\n",
              "\n",
              "    .dataframe thead th {\n",
              "        text-align: right;\n",
              "    }\n",
              "</style>\n",
              "<table border=\"1\" class=\"dataframe\">\n",
              "  <thead>\n",
              "    <tr style=\"text-align: right;\">\n",
              "      <th></th>\n",
              "      <th>key</th>\n",
              "      <th>product_name</th>\n",
              "      <th>stars</th>\n",
              "      <th>com_titletext</th>\n",
              "      <th>b_star</th>\n",
              "      <th>b_score</th>\n",
              "      <th>tokens_titletext</th>\n",
              "      <th>nb_pred</th>\n",
              "      <th>lr_pred</th>\n",
              "      <th>nb_pred_b</th>\n",
              "      <th>lr_pred_b</th>\n",
              "    </tr>\n",
              "  </thead>\n",
              "  <tbody>\n",
              "    <tr>\n",
              "      <th>1</th>\n",
              "      <td>0_bj</td>\n",
              "      <td>Salted Caramel Core</td>\n",
              "      <td>5</td>\n",
              "      <td>I’m OBSESSED with this pint! I decided to try ...</td>\n",
              "      <td>1.0</td>\n",
              "      <td>0.9442</td>\n",
              "      <td>[obsess, pint, decid, tri, although, not, huge...</td>\n",
              "      <td>pos</td>\n",
              "      <td>neg</td>\n",
              "      <td>neg</td>\n",
              "      <td>neg</td>\n",
              "    </tr>\n",
              "    <tr>\n",
              "      <th>3</th>\n",
              "      <td>0_bj</td>\n",
              "      <td>Salted Caramel Core</td>\n",
              "      <td>5</td>\n",
              "      <td>Obsessed!!! Why are people complaining about t...</td>\n",
              "      <td>1.0</td>\n",
              "      <td>0.9270</td>\n",
              "      <td>[obsess, peopl, complain, blond, browni, not, ...</td>\n",
              "      <td>pos</td>\n",
              "      <td>pos</td>\n",
              "      <td>pos</td>\n",
              "      <td>pos</td>\n",
              "    </tr>\n",
              "    <tr>\n",
              "      <th>4</th>\n",
              "      <td>0_bj</td>\n",
              "      <td>Salted Caramel Core</td>\n",
              "      <td>1</td>\n",
              "      <td>Worst Ice Cream Ever! This ice cream is worst ...</td>\n",
              "      <td>0.0</td>\n",
              "      <td>-0.7210</td>\n",
              "      <td>[worst, ice, cream, ever, ice, cream, worst, i...</td>\n",
              "      <td>pos</td>\n",
              "      <td>neg</td>\n",
              "      <td>neg</td>\n",
              "      <td>neg</td>\n",
              "    </tr>\n",
              "    <tr>\n",
              "      <th>5</th>\n",
              "      <td>0_bj</td>\n",
              "      <td>Salted Caramel Core</td>\n",
              "      <td>2</td>\n",
              "      <td>Way Too Salty I bought this last night to go w...</td>\n",
              "      <td>0.0</td>\n",
              "      <td>-0.8834</td>\n",
              "      <td>[way, salti, bought, last, night, go, louisian...</td>\n",
              "      <td>pos</td>\n",
              "      <td>neg</td>\n",
              "      <td>neg</td>\n",
              "      <td>neg</td>\n",
              "    </tr>\n",
              "    <tr>\n",
              "      <th>8</th>\n",
              "      <td>0_bj</td>\n",
              "      <td>Salted Caramel Core</td>\n",
              "      <td>2</td>\n",
              "      <td>Could be better. I LOVE caramel, so much so th...</td>\n",
              "      <td>0.0</td>\n",
              "      <td>0.9550</td>\n",
              "      <td>[could, better, love, caramel, much, could, ea...</td>\n",
              "      <td>pos</td>\n",
              "      <td>pos</td>\n",
              "      <td>neg</td>\n",
              "      <td>neg</td>\n",
              "    </tr>\n",
              "    <tr>\n",
              "      <th>...</th>\n",
              "      <td>...</td>\n",
              "      <td>...</td>\n",
              "      <td>...</td>\n",
              "      <td>...</td>\n",
              "      <td>...</td>\n",
              "      <td>...</td>\n",
              "      <td>...</td>\n",
              "      <td>...</td>\n",
              "      <td>...</td>\n",
              "      <td>...</td>\n",
              "      <td>...</td>\n",
              "    </tr>\n",
              "    <tr>\n",
              "      <th>7938</th>\n",
              "      <td>56_bj</td>\n",
              "      <td>Peanut Butter Fudge Core</td>\n",
              "      <td>5</td>\n",
              "      <td>Peanut butter fudge heaven Oh man I use to be ...</td>\n",
              "      <td>1.0</td>\n",
              "      <td>0.9049</td>\n",
              "      <td>[peanut, butter, fudg, heaven, oh, man, use, w...</td>\n",
              "      <td>pos</td>\n",
              "      <td>pos</td>\n",
              "      <td>pos</td>\n",
              "      <td>pos</td>\n",
              "    </tr>\n",
              "    <tr>\n",
              "      <th>7939</th>\n",
              "      <td>56_bj</td>\n",
              "      <td>Peanut Butter Fudge Core</td>\n",
              "      <td>5</td>\n",
              "      <td>The best Chocolate Ice Cream Combo This is the...</td>\n",
              "      <td>1.0</td>\n",
              "      <td>0.8070</td>\n",
              "      <td>[best, chocol, ice, cream, combo, first, choco...</td>\n",
              "      <td>pos</td>\n",
              "      <td>pos</td>\n",
              "      <td>pos</td>\n",
              "      <td>pos</td>\n",
              "    </tr>\n",
              "    <tr>\n",
              "      <th>7940</th>\n",
              "      <td>56_bj</td>\n",
              "      <td>Peanut Butter Fudge Core</td>\n",
              "      <td>5</td>\n",
              "      <td>PERFECT!! This is the best pint of ice cream I...</td>\n",
              "      <td>1.0</td>\n",
              "      <td>0.9552</td>\n",
              "      <td>[perfect, best, pint, ice, cream, ever, like, ...</td>\n",
              "      <td>pos</td>\n",
              "      <td>pos</td>\n",
              "      <td>pos</td>\n",
              "      <td>pos</td>\n",
              "    </tr>\n",
              "    <tr>\n",
              "      <th>7941</th>\n",
              "      <td>56_bj</td>\n",
              "      <td>Peanut Butter Fudge Core</td>\n",
              "      <td>5</td>\n",
              "      <td>My favorite! This is my favorite ice cream eve...</td>\n",
              "      <td>1.0</td>\n",
              "      <td>0.8350</td>\n",
              "      <td>[favorit, favorit, ice, cream, ever, not, get,...</td>\n",
              "      <td>pos</td>\n",
              "      <td>pos</td>\n",
              "      <td>pos</td>\n",
              "      <td>pos</td>\n",
              "    </tr>\n",
              "    <tr>\n",
              "      <th>7942</th>\n",
              "      <td>56_bj</td>\n",
              "      <td>Peanut Butter Fudge Core</td>\n",
              "      <td>5</td>\n",
              "      <td>The Best This is my favorite flavor...I can ju...</td>\n",
              "      <td>1.0</td>\n",
              "      <td>0.8904</td>\n",
              "      <td>[best, favorit, buy, one, high, recommend]</td>\n",
              "      <td>pos</td>\n",
              "      <td>pos</td>\n",
              "      <td>pos</td>\n",
              "      <td>pos</td>\n",
              "    </tr>\n",
              "  </tbody>\n",
              "</table>\n",
              "<p>7536 rows × 11 columns</p>\n",
              "</div>\n",
              "      <button class=\"colab-df-convert\" onclick=\"convertToInteractive('df-f57d2297-a67a-4044-af06-e6ba715cfb71')\"\n",
              "              title=\"Convert this dataframe to an interactive table.\"\n",
              "              style=\"display:none;\">\n",
              "        \n",
              "  <svg xmlns=\"http://www.w3.org/2000/svg\" height=\"24px\"viewBox=\"0 0 24 24\"\n",
              "       width=\"24px\">\n",
              "    <path d=\"M0 0h24v24H0V0z\" fill=\"none\"/>\n",
              "    <path d=\"M18.56 5.44l.94 2.06.94-2.06 2.06-.94-2.06-.94-.94-2.06-.94 2.06-2.06.94zm-11 1L8.5 8.5l.94-2.06 2.06-.94-2.06-.94L8.5 2.5l-.94 2.06-2.06.94zm10 10l.94 2.06.94-2.06 2.06-.94-2.06-.94-.94-2.06-.94 2.06-2.06.94z\"/><path d=\"M17.41 7.96l-1.37-1.37c-.4-.4-.92-.59-1.43-.59-.52 0-1.04.2-1.43.59L10.3 9.45l-7.72 7.72c-.78.78-.78 2.05 0 2.83L4 21.41c.39.39.9.59 1.41.59.51 0 1.02-.2 1.41-.59l7.78-7.78 2.81-2.81c.8-.78.8-2.07 0-2.86zM5.41 20L4 18.59l7.72-7.72 1.47 1.35L5.41 20z\"/>\n",
              "  </svg>\n",
              "      </button>\n",
              "      \n",
              "  <style>\n",
              "    .colab-df-container {\n",
              "      display:flex;\n",
              "      flex-wrap:wrap;\n",
              "      gap: 12px;\n",
              "    }\n",
              "\n",
              "    .colab-df-convert {\n",
              "      background-color: #E8F0FE;\n",
              "      border: none;\n",
              "      border-radius: 50%;\n",
              "      cursor: pointer;\n",
              "      display: none;\n",
              "      fill: #1967D2;\n",
              "      height: 32px;\n",
              "      padding: 0 0 0 0;\n",
              "      width: 32px;\n",
              "    }\n",
              "\n",
              "    .colab-df-convert:hover {\n",
              "      background-color: #E2EBFA;\n",
              "      box-shadow: 0px 1px 2px rgba(60, 64, 67, 0.3), 0px 1px 3px 1px rgba(60, 64, 67, 0.15);\n",
              "      fill: #174EA6;\n",
              "    }\n",
              "\n",
              "    [theme=dark] .colab-df-convert {\n",
              "      background-color: #3B4455;\n",
              "      fill: #D2E3FC;\n",
              "    }\n",
              "\n",
              "    [theme=dark] .colab-df-convert:hover {\n",
              "      background-color: #434B5C;\n",
              "      box-shadow: 0px 1px 3px 1px rgba(0, 0, 0, 0.15);\n",
              "      filter: drop-shadow(0px 1px 2px rgba(0, 0, 0, 0.3));\n",
              "      fill: #FFFFFF;\n",
              "    }\n",
              "  </style>\n",
              "\n",
              "      <script>\n",
              "        const buttonEl =\n",
              "          document.querySelector('#df-f57d2297-a67a-4044-af06-e6ba715cfb71 button.colab-df-convert');\n",
              "        buttonEl.style.display =\n",
              "          google.colab.kernel.accessAllowed ? 'block' : 'none';\n",
              "\n",
              "        async function convertToInteractive(key) {\n",
              "          const element = document.querySelector('#df-f57d2297-a67a-4044-af06-e6ba715cfb71');\n",
              "          const dataTable =\n",
              "            await google.colab.kernel.invokeFunction('convertToInteractive',\n",
              "                                                     [key], {});\n",
              "          if (!dataTable) return;\n",
              "\n",
              "          const docLinkHtml = 'Like what you see? Visit the ' +\n",
              "            '<a target=\"_blank\" href=https://colab.research.google.com/notebooks/data_table.ipynb>data table notebook</a>'\n",
              "            + ' to learn more about interactive tables.';\n",
              "          element.innerHTML = '';\n",
              "          dataTable['output_type'] = 'display_data';\n",
              "          await google.colab.output.renderOutput(dataTable, element);\n",
              "          const docLink = document.createElement('div');\n",
              "          docLink.innerHTML = docLinkHtml;\n",
              "          element.appendChild(docLink);\n",
              "        }\n",
              "      </script>\n",
              "    </div>\n",
              "  </div>\n",
              "  "
            ]
          },
          "metadata": {},
          "execution_count": 330
        }
      ],
      "source": [
        "# predict review with lr model\n",
        "token_text = text_df['tokens_titletext']\n",
        "tf_token = tf.transform(token_text)\n",
        "lr_predictions = model_lr_tf.predict(tf_token)\n",
        "label_map = {1: \"pos\", 0: \"neg\"}\n",
        "lr_predicted_labels = [label_map[prediction] for prediction in lr_predictions]\n",
        "text_df['lr_pred_b'] = lr_predicted_labels\n",
        "\n",
        "text_df"
      ]
    },
    {
      "cell_type": "code",
      "source": [
        "text_df['lr_pred_b'].value_counts()"
      ],
      "metadata": {
        "colab": {
          "base_uri": "https://localhost:8080/"
        },
        "id": "nwTyIDXIBski",
        "outputId": "88208389-653c-4ecd-86db-4ade0b70f684"
      },
      "execution_count": null,
      "outputs": [
        {
          "output_type": "execute_result",
          "data": {
            "text/plain": [
              "pos    6219\n",
              "neg    1317\n",
              "Name: lr_pred_b, dtype: int64"
            ]
          },
          "metadata": {},
          "execution_count": 331
        }
      ]
    },
    {
      "cell_type": "code",
      "execution_count": null,
      "metadata": {
        "id": "I7aM032_xgNf",
        "colab": {
          "base_uri": "https://localhost:8080/",
          "height": 449
        },
        "outputId": "98555284-877f-4796-9c8d-64a5ddb25edd"
      },
      "outputs": [
        {
          "output_type": "display_data",
          "data": {
            "text/plain": [
              "<Figure size 640x480 with 1 Axes>"
            ],
            "image/png": "[encoded data removed]"
          },
          "metadata": {}
        }
      ],
      "source": [
        "# plot prediction result\n",
        "text_df_sorted = text_df.sort_values('lr_pred_b', ascending=False)\n",
        "ax = sns.countplot(x ='lr_pred_b', data = text_df_sorted)\n",
        "ax.set(ylabel='Sentiment count', xlabel='Sentiments')\n",
        "plt.show()"
      ]
    },
    {
      "cell_type": "code",
      "execution_count": null,
      "metadata": {
        "id": "H6JSx3SAxgas",
        "colab": {
          "base_uri": "https://localhost:8080/",
          "height": 445
        },
        "outputId": "4a068907-b92c-42e4-f1ce-364b300f2dd1"
      },
      "outputs": [
        {
          "output_type": "execute_result",
          "data": {
            "text/plain": [
              "Text(0.5, 1.0, 'Sentiment distribution LR Pie Chart')"
            ]
          },
          "metadata": {},
          "execution_count": 333
        },
        {
          "output_type": "display_data",
          "data": {
            "text/plain": [
              "<Figure size 640x480 with 1 Axes>"
            ],
            "image/png": "[encoded data removed]"
          },
          "metadata": {}
        }
      ],
      "source": [
        "text_df_sorted['lr_pred_b'].value_counts().plot.pie(autopct='%1.0f%%')\n",
        "plt.title(\"Sentiment distribution LR Pie Chart\")"
      ]
    },
    {
      "cell_type": "code",
      "execution_count": null,
      "metadata": {
        "id": "v5UnFtc8xg6p",
        "colab": {
          "base_uri": "https://localhost:8080/",
          "height": 467
        },
        "outputId": "9cf911fb-48e7-4037-85ea-3e62c5ebaef2"
      },
      "outputs": [
        {
          "output_type": "execute_result",
          "data": {
            "text/plain": [
              "[Text(0, 0.5, 'Sentiment count'), Text(0.5, 0, 'Ice cream brand')]"
            ]
          },
          "metadata": {},
          "execution_count": 334
        },
        {
          "output_type": "display_data",
          "data": {
            "text/plain": [
              "<Figure size 640x480 with 1 Axes>"
            ],
            "image/png": "[encoded data removed]"
          },
          "metadata": {}
        }
      ],
      "source": [
        "# Top 10 ice cream brand sort by number of reviews\n",
        "df_prod_reviewcount = text_df_sorted['key'].value_counts().head(5).reset_index()\n",
        "df_prod_isin = text_df_sorted.loc[text_df_sorted['key'].isin(df_prod_reviewcount['index'])]\n",
        "ax1 = sns.countplot(x ='key', hue='lr_pred_b', data = df_prod_isin, order = df_prod_isin['key'].value_counts().index)\n",
        "ax1.set(ylabel='Sentiment count', xlabel='Ice cream brand')"
      ]
    },
    {
      "cell_type": "code",
      "source": [
        "df_prod_reviewcount"
      ],
      "metadata": {
        "colab": {
          "base_uri": "https://localhost:8080/",
          "height": 206
        },
        "id": "OxnzvNX0jBBY",
        "outputId": "75a42ddd-6167-4ef7-be8e-89cf2d50ec39"
      },
      "execution_count": null,
      "outputs": [
        {
          "output_type": "execute_result",
          "data": {
            "text/plain": [
              "   index  key\n",
              "0  16_bj  937\n",
              "1  28_bj  855\n",
              "2  44_bj  614\n",
              "3  10_bj  349\n",
              "4  24_bj  301"
            ],
            "text/html": [
              "\n",
              "  <div id=\"df-6bba3d36-48fd-4618-ba5d-9b6ae3bd9aa6\">\n",
              "    <div class=\"colab-df-container\">\n",
              "      <div>\n",
              "<style scoped>\n",
              "    .dataframe tbody tr th:only-of-type {\n",
              "        vertical-align: middle;\n",
              "    }\n",
              "\n",
              "    .dataframe tbody tr th {\n",
              "        vertical-align: top;\n",
              "    }\n",
              "\n",
              "    .dataframe thead th {\n",
              "        text-align: right;\n",
              "    }\n",
              "</style>\n",
              "<table border=\"1\" class=\"dataframe\">\n",
              "  <thead>\n",
              "    <tr style=\"text-align: right;\">\n",
              "      <th></th>\n",
              "      <th>index</th>\n",
              "      <th>key</th>\n",
              "    </tr>\n",
              "  </thead>\n",
              "  <tbody>\n",
              "    <tr>\n",
              "      <th>0</th>\n",
              "      <td>16_bj</td>\n",
              "      <td>937</td>\n",
              "    </tr>\n",
              "    <tr>\n",
              "      <th>1</th>\n",
              "      <td>28_bj</td>\n",
              "      <td>855</td>\n",
              "    </tr>\n",
              "    <tr>\n",
              "      <th>2</th>\n",
              "      <td>44_bj</td>\n",
              "      <td>614</td>\n",
              "    </tr>\n",
              "    <tr>\n",
              "      <th>3</th>\n",
              "      <td>10_bj</td>\n",
              "      <td>349</td>\n",
              "    </tr>\n",
              "    <tr>\n",
              "      <th>4</th>\n",
              "      <td>24_bj</td>\n",
              "      <td>301</td>\n",
              "    </tr>\n",
              "  </tbody>\n",
              "</table>\n",
              "</div>\n",
              "      <button class=\"colab-df-convert\" onclick=\"convertToInteractive('df-6bba3d36-48fd-4618-ba5d-9b6ae3bd9aa6')\"\n",
              "              title=\"Convert this dataframe to an interactive table.\"\n",
              "              style=\"display:none;\">\n",
              "        \n",
              "  <svg xmlns=\"http://www.w3.org/2000/svg\" height=\"24px\"viewBox=\"0 0 24 24\"\n",
              "       width=\"24px\">\n",
              "    <path d=\"M0 0h24v24H0V0z\" fill=\"none\"/>\n",
              "    <path d=\"M18.56 5.44l.94 2.06.94-2.06 2.06-.94-2.06-.94-.94-2.06-.94 2.06-2.06.94zm-11 1L8.5 8.5l.94-2.06 2.06-.94-2.06-.94L8.5 2.5l-.94 2.06-2.06.94zm10 10l.94 2.06.94-2.06 2.06-.94-2.06-.94-.94-2.06-.94 2.06-2.06.94z\"/><path d=\"M17.41 7.96l-1.37-1.37c-.4-.4-.92-.59-1.43-.59-.52 0-1.04.2-1.43.59L10.3 9.45l-7.72 7.72c-.78.78-.78 2.05 0 2.83L4 21.41c.39.39.9.59 1.41.59.51 0 1.02-.2 1.41-.59l7.78-7.78 2.81-2.81c.8-.78.8-2.07 0-2.86zM5.41 20L4 18.59l7.72-7.72 1.47 1.35L5.41 20z\"/>\n",
              "  </svg>\n",
              "      </button>\n",
              "      \n",
              "  <style>\n",
              "    .colab-df-container {\n",
              "      display:flex;\n",
              "      flex-wrap:wrap;\n",
              "      gap: 12px;\n",
              "    }\n",
              "\n",
              "    .colab-df-convert {\n",
              "      background-color: #E8F0FE;\n",
              "      border: none;\n",
              "      border-radius: 50%;\n",
              "      cursor: pointer;\n",
              "      display: none;\n",
              "      fill: #1967D2;\n",
              "      height: 32px;\n",
              "      padding: 0 0 0 0;\n",
              "      width: 32px;\n",
              "    }\n",
              "\n",
              "    .colab-df-convert:hover {\n",
              "      background-color: #E2EBFA;\n",
              "      box-shadow: 0px 1px 2px rgba(60, 64, 67, 0.3), 0px 1px 3px 1px rgba(60, 64, 67, 0.15);\n",
              "      fill: #174EA6;\n",
              "    }\n",
              "\n",
              "    [theme=dark] .colab-df-convert {\n",
              "      background-color: #3B4455;\n",
              "      fill: #D2E3FC;\n",
              "    }\n",
              "\n",
              "    [theme=dark] .colab-df-convert:hover {\n",
              "      background-color: #434B5C;\n",
              "      box-shadow: 0px 1px 3px 1px rgba(0, 0, 0, 0.15);\n",
              "      filter: drop-shadow(0px 1px 2px rgba(0, 0, 0, 0.3));\n",
              "      fill: #FFFFFF;\n",
              "    }\n",
              "  </style>\n",
              "\n",
              "      <script>\n",
              "        const buttonEl =\n",
              "          document.querySelector('#df-6bba3d36-48fd-4618-ba5d-9b6ae3bd9aa6 button.colab-df-convert');\n",
              "        buttonEl.style.display =\n",
              "          google.colab.kernel.accessAllowed ? 'block' : 'none';\n",
              "\n",
              "        async function convertToInteractive(key) {\n",
              "          const element = document.querySelector('#df-6bba3d36-48fd-4618-ba5d-9b6ae3bd9aa6');\n",
              "          const dataTable =\n",
              "            await google.colab.kernel.invokeFunction('convertToInteractive',\n",
              "                                                     [key], {});\n",
              "          if (!dataTable) return;\n",
              "\n",
              "          const docLinkHtml = 'Like what you see? Visit the ' +\n",
              "            '<a target=\"_blank\" href=https://colab.research.google.com/notebooks/data_table.ipynb>data table notebook</a>'\n",
              "            + ' to learn more about interactive tables.';\n",
              "          element.innerHTML = '';\n",
              "          dataTable['output_type'] = 'display_data';\n",
              "          await google.colab.output.renderOutput(dataTable, element);\n",
              "          const docLink = document.createElement('div');\n",
              "          docLink.innerHTML = docLinkHtml;\n",
              "          element.appendChild(docLink);\n",
              "        }\n",
              "      </script>\n",
              "    </div>\n",
              "  </div>\n",
              "  "
            ]
          },
          "metadata": {},
          "execution_count": 335
        }
      ]
    },
    {
      "cell_type": "code",
      "execution_count": null,
      "metadata": {
        "id": "CRZ-fuoIASpM",
        "colab": {
          "base_uri": "https://localhost:8080/",
          "height": 467
        },
        "outputId": "e6dbfe90-bfc2-4faf-c5c7-54d66a6891d8"
      },
      "outputs": [
        {
          "output_type": "execute_result",
          "data": {
            "text/plain": [
              "[Text(0, 0.5, 'Sentiment count'), Text(0.5, 0, 'Ice cream brand')]"
            ]
          },
          "metadata": {},
          "execution_count": 336
        },
        {
          "output_type": "display_data",
          "data": {
            "text/plain": [
              "<Figure size 640x480 with 1 Axes>"
            ],
            "image/png": "[encoded data removed]"
          },
          "metadata": {}
        }
      ],
      "source": [
        "# Top 5 ice cream brand sort by positive review\n",
        "df_posreview = text_df_sorted.loc[text_df_sorted['lr_pred_b'] == 'pos']\n",
        "df_prod_positivecount = df_posreview['key'].value_counts().head(5).reset_index()\n",
        "ax2 = sns.barplot(x ='index', y= 'key', data = df_prod_positivecount)\n",
        "ax2.set(ylabel='Sentiment count', xlabel='Ice cream brand')"
      ]
    },
    {
      "cell_type": "code",
      "source": [
        "df_prod_positivecount"
      ],
      "metadata": {
        "colab": {
          "base_uri": "https://localhost:8080/",
          "height": 206
        },
        "id": "mI0aj2vMmTYa",
        "outputId": "2f1e355a-bc5f-47e6-9197-699eddab680b"
      },
      "execution_count": null,
      "outputs": [
        {
          "output_type": "execute_result",
          "data": {
            "text/plain": [
              "   index  key\n",
              "0  16_bj  852\n",
              "1  28_bj  809\n",
              "2  44_bj  584\n",
              "3  10_bj  341\n",
              "4   4_bj  228"
            ],
            "text/html": [
              "\n",
              "  <div id=\"df-d0518b8b-a757-4a06-b204-449a1466ce9f\">\n",
              "    <div class=\"colab-df-container\">\n",
              "      <div>\n",
              "<style scoped>\n",
              "    .dataframe tbody tr th:only-of-type {\n",
              "        vertical-align: middle;\n",
              "    }\n",
              "\n",
              "    .dataframe tbody tr th {\n",
              "        vertical-align: top;\n",
              "    }\n",
              "\n",
              "    .dataframe thead th {\n",
              "        text-align: right;\n",
              "    }\n",
              "</style>\n",
              "<table border=\"1\" class=\"dataframe\">\n",
              "  <thead>\n",
              "    <tr style=\"text-align: right;\">\n",
              "      <th></th>\n",
              "      <th>index</th>\n",
              "      <th>key</th>\n",
              "    </tr>\n",
              "  </thead>\n",
              "  <tbody>\n",
              "    <tr>\n",
              "      <th>0</th>\n",
              "      <td>16_bj</td>\n",
              "      <td>852</td>\n",
              "    </tr>\n",
              "    <tr>\n",
              "      <th>1</th>\n",
              "      <td>28_bj</td>\n",
              "      <td>809</td>\n",
              "    </tr>\n",
              "    <tr>\n",
              "      <th>2</th>\n",
              "      <td>44_bj</td>\n",
              "      <td>584</td>\n",
              "    </tr>\n",
              "    <tr>\n",
              "      <th>3</th>\n",
              "      <td>10_bj</td>\n",
              "      <td>341</td>\n",
              "    </tr>\n",
              "    <tr>\n",
              "      <th>4</th>\n",
              "      <td>4_bj</td>\n",
              "      <td>228</td>\n",
              "    </tr>\n",
              "  </tbody>\n",
              "</table>\n",
              "</div>\n",
              "      <button class=\"colab-df-convert\" onclick=\"convertToInteractive('df-d0518b8b-a757-4a06-b204-449a1466ce9f')\"\n",
              "              title=\"Convert this dataframe to an interactive table.\"\n",
              "              style=\"display:none;\">\n",
              "        \n",
              "  <svg xmlns=\"http://www.w3.org/2000/svg\" height=\"24px\"viewBox=\"0 0 24 24\"\n",
              "       width=\"24px\">\n",
              "    <path d=\"M0 0h24v24H0V0z\" fill=\"none\"/>\n",
              "    <path d=\"M18.56 5.44l.94 2.06.94-2.06 2.06-.94-2.06-.94-.94-2.06-.94 2.06-2.06.94zm-11 1L8.5 8.5l.94-2.06 2.06-.94-2.06-.94L8.5 2.5l-.94 2.06-2.06.94zm10 10l.94 2.06.94-2.06 2.06-.94-2.06-.94-.94-2.06-.94 2.06-2.06.94z\"/><path d=\"M17.41 7.96l-1.37-1.37c-.4-.4-.92-.59-1.43-.59-.52 0-1.04.2-1.43.59L10.3 9.45l-7.72 7.72c-.78.78-.78 2.05 0 2.83L4 21.41c.39.39.9.59 1.41.59.51 0 1.02-.2 1.41-.59l7.78-7.78 2.81-2.81c.8-.78.8-2.07 0-2.86zM5.41 20L4 18.59l7.72-7.72 1.47 1.35L5.41 20z\"/>\n",
              "  </svg>\n",
              "      </button>\n",
              "      \n",
              "  <style>\n",
              "    .colab-df-container {\n",
              "      display:flex;\n",
              "      flex-wrap:wrap;\n",
              "      gap: 12px;\n",
              "    }\n",
              "\n",
              "    .colab-df-convert {\n",
              "      background-color: #E8F0FE;\n",
              "      border: none;\n",
              "      border-radius: 50%;\n",
              "      cursor: pointer;\n",
              "      display: none;\n",
              "      fill: #1967D2;\n",
              "      height: 32px;\n",
              "      padding: 0 0 0 0;\n",
              "      width: 32px;\n",
              "    }\n",
              "\n",
              "    .colab-df-convert:hover {\n",
              "      background-color: #E2EBFA;\n",
              "      box-shadow: 0px 1px 2px rgba(60, 64, 67, 0.3), 0px 1px 3px 1px rgba(60, 64, 67, 0.15);\n",
              "      fill: #174EA6;\n",
              "    }\n",
              "\n",
              "    [theme=dark] .colab-df-convert {\n",
              "      background-color: #3B4455;\n",
              "      fill: #D2E3FC;\n",
              "    }\n",
              "\n",
              "    [theme=dark] .colab-df-convert:hover {\n",
              "      background-color: #434B5C;\n",
              "      box-shadow: 0px 1px 3px 1px rgba(0, 0, 0, 0.15);\n",
              "      filter: drop-shadow(0px 1px 2px rgba(0, 0, 0, 0.3));\n",
              "      fill: #FFFFFF;\n",
              "    }\n",
              "  </style>\n",
              "\n",
              "      <script>\n",
              "        const buttonEl =\n",
              "          document.querySelector('#df-d0518b8b-a757-4a06-b204-449a1466ce9f button.colab-df-convert');\n",
              "        buttonEl.style.display =\n",
              "          google.colab.kernel.accessAllowed ? 'block' : 'none';\n",
              "\n",
              "        async function convertToInteractive(key) {\n",
              "          const element = document.querySelector('#df-d0518b8b-a757-4a06-b204-449a1466ce9f');\n",
              "          const dataTable =\n",
              "            await google.colab.kernel.invokeFunction('convertToInteractive',\n",
              "                                                     [key], {});\n",
              "          if (!dataTable) return;\n",
              "\n",
              "          const docLinkHtml = 'Like what you see? Visit the ' +\n",
              "            '<a target=\"_blank\" href=https://colab.research.google.com/notebooks/data_table.ipynb>data table notebook</a>'\n",
              "            + ' to learn more about interactive tables.';\n",
              "          element.innerHTML = '';\n",
              "          dataTable['output_type'] = 'display_data';\n",
              "          await google.colab.output.renderOutput(dataTable, element);\n",
              "          const docLink = document.createElement('div');\n",
              "          docLink.innerHTML = docLinkHtml;\n",
              "          element.appendChild(docLink);\n",
              "        }\n",
              "      </script>\n",
              "    </div>\n",
              "  </div>\n",
              "  "
            ]
          },
          "metadata": {},
          "execution_count": 337
        }
      ]
    },
    {
      "cell_type": "code",
      "execution_count": null,
      "metadata": {
        "id": "g5we_9P1AYn2",
        "colab": {
          "base_uri": "https://localhost:8080/",
          "height": 467
        },
        "outputId": "2a6b3037-91ef-4fba-a721-609213a2709e"
      },
      "outputs": [
        {
          "output_type": "execute_result",
          "data": {
            "text/plain": [
              "[Text(0, 0.5, 'Sentiment count'), Text(0.5, 0, 'Ice cream brand')]"
            ]
          },
          "metadata": {},
          "execution_count": 338
        },
        {
          "output_type": "display_data",
          "data": {
            "text/plain": [
              "<Figure size 640x480 with 1 Axes>"
            ],
            "image/png": "[encoded data removed]"
          },
          "metadata": {}
        }
      ],
      "source": [
        "# Top 5 ice cream brand sort by negative review\n",
        "dfnegreview = text_df_sorted.loc[text_df_sorted['lr_pred_b'] == 'neg']\n",
        "df_prod_negcount = dfnegreview['key'].value_counts().head(5).reset_index()\n",
        "ax2 = sns.barplot(x ='index', y= 'key', data = df_prod_negcount)\n",
        "ax2.set(ylabel='Sentiment count', xlabel='Ice cream brand')"
      ]
    },
    {
      "cell_type": "code",
      "source": [
        "df_prod_negcount"
      ],
      "metadata": {
        "colab": {
          "base_uri": "https://localhost:8080/",
          "height": 206
        },
        "id": "-fndYTmTmQV3",
        "outputId": "bca6dc5d-e356-464b-de91-6b62031faa1c"
      },
      "execution_count": null,
      "outputs": [
        {
          "output_type": "execute_result",
          "data": {
            "text/plain": [
              "   index  key\n",
              "0  24_bj  175\n",
              "1  50_bj  132\n",
              "2  16_bj   85\n",
              "3  17_bj   81\n",
              "4  15_bj   76"
            ],
            "text/html": [
              "\n",
              "  <div id=\"df-fbec8d65-d45d-44c7-b6ff-9be705979634\">\n",
              "    <div class=\"colab-df-container\">\n",
              "      <div>\n",
              "<style scoped>\n",
              "    .dataframe tbody tr th:only-of-type {\n",
              "        vertical-align: middle;\n",
              "    }\n",
              "\n",
              "    .dataframe tbody tr th {\n",
              "        vertical-align: top;\n",
              "    }\n",
              "\n",
              "    .dataframe thead th {\n",
              "        text-align: right;\n",
              "    }\n",
              "</style>\n",
              "<table border=\"1\" class=\"dataframe\">\n",
              "  <thead>\n",
              "    <tr style=\"text-align: right;\">\n",
              "      <th></th>\n",
              "      <th>index</th>\n",
              "      <th>key</th>\n",
              "    </tr>\n",
              "  </thead>\n",
              "  <tbody>\n",
              "    <tr>\n",
              "      <th>0</th>\n",
              "      <td>24_bj</td>\n",
              "      <td>175</td>\n",
              "    </tr>\n",
              "    <tr>\n",
              "      <th>1</th>\n",
              "      <td>50_bj</td>\n",
              "      <td>132</td>\n",
              "    </tr>\n",
              "    <tr>\n",
              "      <th>2</th>\n",
              "      <td>16_bj</td>\n",
              "      <td>85</td>\n",
              "    </tr>\n",
              "    <tr>\n",
              "      <th>3</th>\n",
              "      <td>17_bj</td>\n",
              "      <td>81</td>\n",
              "    </tr>\n",
              "    <tr>\n",
              "      <th>4</th>\n",
              "      <td>15_bj</td>\n",
              "      <td>76</td>\n",
              "    </tr>\n",
              "  </tbody>\n",
              "</table>\n",
              "</div>\n",
              "      <button class=\"colab-df-convert\" onclick=\"convertToInteractive('df-fbec8d65-d45d-44c7-b6ff-9be705979634')\"\n",
              "              title=\"Convert this dataframe to an interactive table.\"\n",
              "              style=\"display:none;\">\n",
              "        \n",
              "  <svg xmlns=\"http://www.w3.org/2000/svg\" height=\"24px\"viewBox=\"0 0 24 24\"\n",
              "       width=\"24px\">\n",
              "    <path d=\"M0 0h24v24H0V0z\" fill=\"none\"/>\n",
              "    <path d=\"M18.56 5.44l.94 2.06.94-2.06 2.06-.94-2.06-.94-.94-2.06-.94 2.06-2.06.94zm-11 1L8.5 8.5l.94-2.06 2.06-.94-2.06-.94L8.5 2.5l-.94 2.06-2.06.94zm10 10l.94 2.06.94-2.06 2.06-.94-2.06-.94-.94-2.06-.94 2.06-2.06.94z\"/><path d=\"M17.41 7.96l-1.37-1.37c-.4-.4-.92-.59-1.43-.59-.52 0-1.04.2-1.43.59L10.3 9.45l-7.72 7.72c-.78.78-.78 2.05 0 2.83L4 21.41c.39.39.9.59 1.41.59.51 0 1.02-.2 1.41-.59l7.78-7.78 2.81-2.81c.8-.78.8-2.07 0-2.86zM5.41 20L4 18.59l7.72-7.72 1.47 1.35L5.41 20z\"/>\n",
              "  </svg>\n",
              "      </button>\n",
              "      \n",
              "  <style>\n",
              "    .colab-df-container {\n",
              "      display:flex;\n",
              "      flex-wrap:wrap;\n",
              "      gap: 12px;\n",
              "    }\n",
              "\n",
              "    .colab-df-convert {\n",
              "      background-color: #E8F0FE;\n",
              "      border: none;\n",
              "      border-radius: 50%;\n",
              "      cursor: pointer;\n",
              "      display: none;\n",
              "      fill: #1967D2;\n",
              "      height: 32px;\n",
              "      padding: 0 0 0 0;\n",
              "      width: 32px;\n",
              "    }\n",
              "\n",
              "    .colab-df-convert:hover {\n",
              "      background-color: #E2EBFA;\n",
              "      box-shadow: 0px 1px 2px rgba(60, 64, 67, 0.3), 0px 1px 3px 1px rgba(60, 64, 67, 0.15);\n",
              "      fill: #174EA6;\n",
              "    }\n",
              "\n",
              "    [theme=dark] .colab-df-convert {\n",
              "      background-color: #3B4455;\n",
              "      fill: #D2E3FC;\n",
              "    }\n",
              "\n",
              "    [theme=dark] .colab-df-convert:hover {\n",
              "      background-color: #434B5C;\n",
              "      box-shadow: 0px 1px 3px 1px rgba(0, 0, 0, 0.15);\n",
              "      filter: drop-shadow(0px 1px 2px rgba(0, 0, 0, 0.3));\n",
              "      fill: #FFFFFF;\n",
              "    }\n",
              "  </style>\n",
              "\n",
              "      <script>\n",
              "        const buttonEl =\n",
              "          document.querySelector('#df-fbec8d65-d45d-44c7-b6ff-9be705979634 button.colab-df-convert');\n",
              "        buttonEl.style.display =\n",
              "          google.colab.kernel.accessAllowed ? 'block' : 'none';\n",
              "\n",
              "        async function convertToInteractive(key) {\n",
              "          const element = document.querySelector('#df-fbec8d65-d45d-44c7-b6ff-9be705979634');\n",
              "          const dataTable =\n",
              "            await google.colab.kernel.invokeFunction('convertToInteractive',\n",
              "                                                     [key], {});\n",
              "          if (!dataTable) return;\n",
              "\n",
              "          const docLinkHtml = 'Like what you see? Visit the ' +\n",
              "            '<a target=\"_blank\" href=https://colab.research.google.com/notebooks/data_table.ipynb>data table notebook</a>'\n",
              "            + ' to learn more about interactive tables.';\n",
              "          element.innerHTML = '';\n",
              "          dataTable['output_type'] = 'display_data';\n",
              "          await google.colab.output.renderOutput(dataTable, element);\n",
              "          const docLink = document.createElement('div');\n",
              "          docLink.innerHTML = docLinkHtml;\n",
              "          element.appendChild(docLink);\n",
              "        }\n",
              "      </script>\n",
              "    </div>\n",
              "  </div>\n",
              "  "
            ]
          },
          "metadata": {},
          "execution_count": 339
        }
      ]
    },
    {
      "cell_type": "code",
      "source": [
        "# Reshape the data for plotting\n",
        "balanced_melted = pd.melt(text_df_sorted, value_vars=['lr_pred_b', 'nb_pred_b'],\n",
        "                          var_name='Classifier', value_name='Sentiment')\n",
        "unbalanced_melted = pd.melt(text_df_sorted, value_vars=['lr_pred', 'nb_pred'],\n",
        "                            var_name='Classifier', value_name='Sentiment')\n",
        "\n",
        "# Rename the classifier labels\n",
        "balanced_melted['Classifier'] = balanced_melted['Classifier'].map({\n",
        "    'lr_pred_b': 'Logistic Regression',\n",
        "    'nb_pred_b': 'Naive Bayes'\n",
        "})\n",
        "unbalanced_melted['Classifier'] = unbalanced_melted['Classifier'].map({\n",
        "    'lr_pred': 'Logistic Regression',\n",
        "    'nb_pred': 'Naive Bayes'\n",
        "})\n",
        "\n",
        "# Plotting\n",
        "plt.figure(figsize=(12, 6))\n",
        "ax1 = plt.subplot(1, 2, 1)\n",
        "sns.countplot(x='Sentiment', hue='Classifier', data=balanced_melted, ax=ax1)\n",
        "ax1.set_ylabel('Sentiment count')\n",
        "ax1.set_xlabel('Sentiment Prediction')\n",
        "ax1.set_title('Balanced Dataset')\n",
        "\n",
        "ax2 = plt.subplot(1, 2, 2)\n",
        "sns.countplot(x='Sentiment', hue='Classifier', data=unbalanced_melted, ax=ax2)\n",
        "ax2.set_ylabel('Sentiment count')\n",
        "ax2.set_xlabel('Sentiment Prediction')\n",
        "ax2.set_title('Unbalanced Dataset')\n",
        "\n",
        "plt.tight_layout()\n",
        "plt.show()"
      ],
      "metadata": {
        "colab": {
          "base_uri": "https://localhost:8080/",
          "height": 607
        },
        "id": "QtMQq915y0hL",
        "outputId": "7f5dbc2e-20b3-4576-8de8-d732744b2601"
      },
      "execution_count": null,
      "outputs": [
        {
          "output_type": "display_data",
          "data": {
            "text/plain": [
              "<Figure size 1200x600 with 2 Axes>"
            ],
            "image/png": "[encoded data removed]"
          },
          "metadata": {}
        }
      ]
    },
    {
      "cell_type": "code",
      "source": [
        "balanced_melted['Classifier'].value_counts()"
      ],
      "metadata": {
        "colab": {
          "base_uri": "https://localhost:8080/"
        },
        "id": "GUXJfAe0CIhD",
        "outputId": "270694f7-d461-40af-fd1b-d5a8be7b2cd9"
      },
      "execution_count": null,
      "outputs": [
        {
          "output_type": "execute_result",
          "data": {
            "text/plain": [
              "Logistic Regression    7536\n",
              "Naive Bayes            7536\n",
              "Name: Classifier, dtype: int64"
            ]
          },
          "metadata": {},
          "execution_count": 341
        }
      ]
    },
    {
      "cell_type": "code",
      "source": [
        "unbalanced_melted['Classifier'].value_counts()"
      ],
      "metadata": {
        "colab": {
          "base_uri": "https://localhost:8080/"
        },
        "id": "6YiAqL-4CoNR",
        "outputId": "7dafda12-3a40-4b71-d41c-f240bafd5251"
      },
      "execution_count": null,
      "outputs": [
        {
          "output_type": "execute_result",
          "data": {
            "text/plain": [
              "Logistic Regression    7536\n",
              "Naive Bayes            7536\n",
              "Name: Classifier, dtype: int64"
            ]
          },
          "metadata": {},
          "execution_count": 342
        }
      ]
    }
  ],
  "metadata": {
    "colab": {
      "toc_visible": true,
      "provenance": []
    },
    "kernelspec": {
      "display_name": "Python 3",
      "name": "python3"
    },
    "language_info": {
      "name": "python"
    }
  },
  "nbformat": 4,
  "nbformat_minor": 0
}