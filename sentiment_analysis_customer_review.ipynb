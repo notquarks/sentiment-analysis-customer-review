{
  "cells": [
    {
      "cell_type": "markdown",
      "metadata": {
        "id": "E3FI8zJSb_SZ"
      },
      "source": [
        "### Sentiment Analysis using Naive Bayes & Logistic Regression on Customer Review of a Food and Beverage\n",
        "Final project for \"Business Intelligence\" course 2023\n",
        "\n",
        "GitHub project page:"
      ]
    },
    {
      "cell_type": "code",
      "execution_count": null,
      "metadata": {
        "colab": {
          "base_uri": "https://localhost:8080/"
        },
        "id": "lC_zG9j7BgP2",
        "outputId": "42de9ef6-00cb-4399-a8ab-c2b57aa41728"
      },
      "outputs": [
        {
          "output_type": "stream",
          "name": "stdout",
          "text": [
            "Looking in indexes: https://pypi.org/simple, https://us-python.pkg.dev/colab-wheels/public/simple/\n",
            "Requirement already satisfied: vaderSentiment in /usr/local/lib/python3.10/dist-packages (3.3.2)\n",
            "Requirement already satisfied: requests in /usr/local/lib/python3.10/dist-packages (from vaderSentiment) (2.27.1)\n",
            "Requirement already satisfied: urllib3<1.27,>=1.21.1 in /usr/local/lib/python3.10/dist-packages (from requests->vaderSentiment) (1.26.15)\n",
            "Requirement already satisfied: certifi>=2017.4.17 in /usr/local/lib/python3.10/dist-packages (from requests->vaderSentiment) (2022.12.7)\n",
            "Requirement already satisfied: charset-normalizer~=2.0.0 in /usr/local/lib/python3.10/dist-packages (from requests->vaderSentiment) (2.0.12)\n",
            "Requirement already satisfied: idna<4,>=2.5 in /usr/local/lib/python3.10/dist-packages (from requests->vaderSentiment) (3.4)\n",
            "Looking in indexes: https://pypi.org/simple, https://us-python.pkg.dev/colab-wheels/public/simple/\n",
            "Requirement already satisfied: panda in /usr/local/lib/python3.10/dist-packages (0.3.1)\n",
            "Requirement already satisfied: setuptools in /usr/local/lib/python3.10/dist-packages (from panda) (67.7.2)\n",
            "Requirement already satisfied: requests in /usr/local/lib/python3.10/dist-packages (from panda) (2.27.1)\n",
            "Requirement already satisfied: urllib3<1.27,>=1.21.1 in /usr/local/lib/python3.10/dist-packages (from requests->panda) (1.26.15)\n",
            "Requirement already satisfied: certifi>=2017.4.17 in /usr/local/lib/python3.10/dist-packages (from requests->panda) (2022.12.7)\n",
            "Requirement already satisfied: charset-normalizer~=2.0.0 in /usr/local/lib/python3.10/dist-packages (from requests->panda) (2.0.12)\n",
            "Requirement already satisfied: idna<4,>=2.5 in /usr/local/lib/python3.10/dist-packages (from requests->panda) (3.4)\n",
            "Looking in indexes: https://pypi.org/simple, https://us-python.pkg.dev/colab-wheels/public/simple/\n",
            "Requirement already satisfied: seaborn in /usr/local/lib/python3.10/dist-packages (0.12.2)\n",
            "Requirement already satisfied: numpy!=1.24.0,>=1.17 in /usr/local/lib/python3.10/dist-packages (from seaborn) (1.22.4)\n",
            "Requirement already satisfied: pandas>=0.25 in /usr/local/lib/python3.10/dist-packages (from seaborn) (1.5.3)\n",
            "Requirement already satisfied: matplotlib!=3.6.1,>=3.1 in /usr/local/lib/python3.10/dist-packages (from seaborn) (3.7.1)\n",
            "Requirement already satisfied: contourpy>=1.0.1 in /usr/local/lib/python3.10/dist-packages (from matplotlib!=3.6.1,>=3.1->seaborn) (1.0.7)\n",
            "Requirement already satisfied: cycler>=0.10 in /usr/local/lib/python3.10/dist-packages (from matplotlib!=3.6.1,>=3.1->seaborn) (0.11.0)\n",
            "Requirement already satisfied: fonttools>=4.22.0 in /usr/local/lib/python3.10/dist-packages (from matplotlib!=3.6.1,>=3.1->seaborn) (4.39.3)\n",
            "Requirement already satisfied: kiwisolver>=1.0.1 in /usr/local/lib/python3.10/dist-packages (from matplotlib!=3.6.1,>=3.1->seaborn) (1.4.4)\n",
            "Requirement already satisfied: packaging>=20.0 in /usr/local/lib/python3.10/dist-packages (from matplotlib!=3.6.1,>=3.1->seaborn) (23.1)\n",
            "Requirement already satisfied: pillow>=6.2.0 in /usr/local/lib/python3.10/dist-packages (from matplotlib!=3.6.1,>=3.1->seaborn) (8.4.0)\n",
            "Requirement already satisfied: pyparsing>=2.3.1 in /usr/local/lib/python3.10/dist-packages (from matplotlib!=3.6.1,>=3.1->seaborn) (3.0.9)\n",
            "Requirement already satisfied: python-dateutil>=2.7 in /usr/local/lib/python3.10/dist-packages (from matplotlib!=3.6.1,>=3.1->seaborn) (2.8.2)\n",
            "Requirement already satisfied: pytz>=2020.1 in /usr/local/lib/python3.10/dist-packages (from pandas>=0.25->seaborn) (2022.7.1)\n",
            "Requirement already satisfied: six>=1.5 in /usr/local/lib/python3.10/dist-packages (from python-dateutil>=2.7->matplotlib!=3.6.1,>=3.1->seaborn) (1.16.0)\n",
            "Looking in indexes: https://pypi.org/simple, https://us-python.pkg.dev/colab-wheels/public/simple/\n",
            "Requirement already satisfied: matplotlib in /usr/local/lib/python3.10/dist-packages (3.7.1)\n",
            "Requirement already satisfied: contourpy>=1.0.1 in /usr/local/lib/python3.10/dist-packages (from matplotlib) (1.0.7)\n",
            "Requirement already satisfied: cycler>=0.10 in /usr/local/lib/python3.10/dist-packages (from matplotlib) (0.11.0)\n",
            "Requirement already satisfied: fonttools>=4.22.0 in /usr/local/lib/python3.10/dist-packages (from matplotlib) (4.39.3)\n",
            "Requirement already satisfied: kiwisolver>=1.0.1 in /usr/local/lib/python3.10/dist-packages (from matplotlib) (1.4.4)\n",
            "Requirement already satisfied: numpy>=1.20 in /usr/local/lib/python3.10/dist-packages (from matplotlib) (1.22.4)\n",
            "Requirement already satisfied: packaging>=20.0 in /usr/local/lib/python3.10/dist-packages (from matplotlib) (23.1)\n",
            "Requirement already satisfied: pillow>=6.2.0 in /usr/local/lib/python3.10/dist-packages (from matplotlib) (8.4.0)\n",
            "Requirement already satisfied: pyparsing>=2.3.1 in /usr/local/lib/python3.10/dist-packages (from matplotlib) (3.0.9)\n",
            "Requirement already satisfied: python-dateutil>=2.7 in /usr/local/lib/python3.10/dist-packages (from matplotlib) (2.8.2)\n",
            "Requirement already satisfied: six>=1.5 in /usr/local/lib/python3.10/dist-packages (from python-dateutil>=2.7->matplotlib) (1.16.0)\n",
            "Looking in indexes: https://pypi.org/simple, https://us-python.pkg.dev/colab-wheels/public/simple/\n",
            "Requirement already satisfied: scikit-learn in /usr/local/lib/python3.10/dist-packages (1.2.2)\n",
            "Requirement already satisfied: numpy>=1.17.3 in /usr/local/lib/python3.10/dist-packages (from scikit-learn) (1.22.4)\n",
            "Requirement already satisfied: scipy>=1.3.2 in /usr/local/lib/python3.10/dist-packages (from scikit-learn) (1.10.1)\n",
            "Requirement already satisfied: joblib>=1.1.1 in /usr/local/lib/python3.10/dist-packages (from scikit-learn) (1.2.0)\n",
            "Requirement already satisfied: threadpoolctl>=2.0.0 in /usr/local/lib/python3.10/dist-packages (from scikit-learn) (3.1.0)\n",
            "Looking in indexes: https://pypi.org/simple, https://us-python.pkg.dev/colab-wheels/public/simple/\n",
            "Requirement already satisfied: nltk in /usr/local/lib/python3.10/dist-packages (3.8.1)\n",
            "Requirement already satisfied: click in /usr/local/lib/python3.10/dist-packages (from nltk) (8.1.3)\n",
            "Requirement already satisfied: joblib in /usr/local/lib/python3.10/dist-packages (from nltk) (1.2.0)\n",
            "Requirement already satisfied: regex>=2021.8.3 in /usr/local/lib/python3.10/dist-packages (from nltk) (2022.10.31)\n",
            "Requirement already satisfied: tqdm in /usr/local/lib/python3.10/dist-packages (from nltk) (4.65.0)\n",
            "Looking in indexes: https://pypi.org/simple, https://us-python.pkg.dev/colab-wheels/public/simple/\n",
            "Requirement already satisfied: contractions in /usr/local/lib/python3.10/dist-packages (0.1.73)\n",
            "Requirement already satisfied: textsearch>=0.0.21 in /usr/local/lib/python3.10/dist-packages (from contractions) (0.0.24)\n",
            "Requirement already satisfied: anyascii in /usr/local/lib/python3.10/dist-packages (from textsearch>=0.0.21->contractions) (0.3.2)\n",
            "Requirement already satisfied: pyahocorasick in /usr/local/lib/python3.10/dist-packages (from textsearch>=0.0.21->contractions) (2.0.0)\n",
            "Looking in indexes: https://pypi.org/simple, https://us-python.pkg.dev/colab-wheels/public/simple/\n",
            "Requirement already satisfied: imbalanced-learn in /usr/local/lib/python3.10/dist-packages (0.10.1)\n",
            "Requirement already satisfied: numpy>=1.17.3 in /usr/local/lib/python3.10/dist-packages (from imbalanced-learn) (1.22.4)\n",
            "Requirement already satisfied: scipy>=1.3.2 in /usr/local/lib/python3.10/dist-packages (from imbalanced-learn) (1.10.1)\n",
            "Requirement already satisfied: scikit-learn>=1.0.2 in /usr/local/lib/python3.10/dist-packages (from imbalanced-learn) (1.2.2)\n",
            "Requirement already satisfied: joblib>=1.1.1 in /usr/local/lib/python3.10/dist-packages (from imbalanced-learn) (1.2.0)\n",
            "Requirement already satisfied: threadpoolctl>=2.0.0 in /usr/local/lib/python3.10/dist-packages (from imbalanced-learn) (3.1.0)\n"
          ]
        }
      ],
      "source": [
        "!pip install vaderSentiment\n",
        "!pip install panda\n",
        "!pip install seaborn\n",
        "!pip install matplotlib\n",
        "!pip install scikit-learn\n",
        "!pip install nltk\n",
        "!pip install contractions\n",
        "!pip install imbalanced-learn"
      ]
    },
    {
      "cell_type": "code",
      "execution_count": null,
      "metadata": {
        "id": "xxgHmgCtZtq7"
      },
      "outputs": [],
      "source": [
        "# Load libraries\n",
        "import pandas as pd\n",
        "from sklearn import metrics\n",
        "from vaderSentiment.vaderSentiment import SentimentIntensityAnalyzer\n",
        "import seaborn as sns\n",
        "import matplotlib.pyplot as plt\n",
        "import numpy as np"
      ]
    },
    {
      "cell_type": "code",
      "execution_count": null,
      "metadata": {
        "colab": {
          "base_uri": "https://localhost:8080/",
          "height": 363
        },
        "id": "XPJLcQx-GpGI",
        "outputId": "5f1bcff6-d9d2-4024-d9b2-ef452397cddd"
      },
      "outputs": [
        {
          "output_type": "execute_result",
          "data": {
            "text/plain": [
              "    key                           name\n",
              "0  0_bj            Salted Caramel Core\n",
              "1  1_bj            Netflix & Chilll'd™\n",
              "2  2_bj                   Chip Happens\n",
              "3  3_bj                        Cannoli\n",
              "4  4_bj                 Gimme S’more!™\n",
              "5  5_bj      Peanut Butter Half Baked®\n",
              "6  6_bj         Berry Sweet Mascarpone\n",
              "7  7_bj  Chocolate Peanut Butter Split\n",
              "8  8_bj              Justice ReMix'd ™\n",
              "9  9_bj          Boots on the Moooo’n™"
            ],
            "text/html": [
              "\n",
              "  <div id=\"df-000be4db-1107-44de-aeed-3c282bd05570\">\n",
              "    <div class=\"colab-df-container\">\n",
              "      <div>\n",
              "<style scoped>\n",
              "    .dataframe tbody tr th:only-of-type {\n",
              "        vertical-align: middle;\n",
              "    }\n",
              "\n",
              "    .dataframe tbody tr th {\n",
              "        vertical-align: top;\n",
              "    }\n",
              "\n",
              "    .dataframe thead th {\n",
              "        text-align: right;\n",
              "    }\n",
              "</style>\n",
              "<table border=\"1\" class=\"dataframe\">\n",
              "  <thead>\n",
              "    <tr style=\"text-align: right;\">\n",
              "      <th></th>\n",
              "      <th>key</th>\n",
              "      <th>name</th>\n",
              "    </tr>\n",
              "  </thead>\n",
              "  <tbody>\n",
              "    <tr>\n",
              "      <th>0</th>\n",
              "      <td>0_bj</td>\n",
              "      <td>Salted Caramel Core</td>\n",
              "    </tr>\n",
              "    <tr>\n",
              "      <th>1</th>\n",
              "      <td>1_bj</td>\n",
              "      <td>Netflix &amp; Chilll'd™</td>\n",
              "    </tr>\n",
              "    <tr>\n",
              "      <th>2</th>\n",
              "      <td>2_bj</td>\n",
              "      <td>Chip Happens</td>\n",
              "    </tr>\n",
              "    <tr>\n",
              "      <th>3</th>\n",
              "      <td>3_bj</td>\n",
              "      <td>Cannoli</td>\n",
              "    </tr>\n",
              "    <tr>\n",
              "      <th>4</th>\n",
              "      <td>4_bj</td>\n",
              "      <td>Gimme S’more!™</td>\n",
              "    </tr>\n",
              "    <tr>\n",
              "      <th>5</th>\n",
              "      <td>5_bj</td>\n",
              "      <td>Peanut Butter Half Baked®</td>\n",
              "    </tr>\n",
              "    <tr>\n",
              "      <th>6</th>\n",
              "      <td>6_bj</td>\n",
              "      <td>Berry Sweet Mascarpone</td>\n",
              "    </tr>\n",
              "    <tr>\n",
              "      <th>7</th>\n",
              "      <td>7_bj</td>\n",
              "      <td>Chocolate Peanut Butter Split</td>\n",
              "    </tr>\n",
              "    <tr>\n",
              "      <th>8</th>\n",
              "      <td>8_bj</td>\n",
              "      <td>Justice ReMix'd ™</td>\n",
              "    </tr>\n",
              "    <tr>\n",
              "      <th>9</th>\n",
              "      <td>9_bj</td>\n",
              "      <td>Boots on the Moooo’n™</td>\n",
              "    </tr>\n",
              "  </tbody>\n",
              "</table>\n",
              "</div>\n",
              "      <button class=\"colab-df-convert\" onclick=\"convertToInteractive('df-000be4db-1107-44de-aeed-3c282bd05570')\"\n",
              "              title=\"Convert this dataframe to an interactive table.\"\n",
              "              style=\"display:none;\">\n",
              "        \n",
              "  <svg xmlns=\"http://www.w3.org/2000/svg\" height=\"24px\"viewBox=\"0 0 24 24\"\n",
              "       width=\"24px\">\n",
              "    <path d=\"M0 0h24v24H0V0z\" fill=\"none\"/>\n",
              "    <path d=\"M18.56 5.44l.94 2.06.94-2.06 2.06-.94-2.06-.94-.94-2.06-.94 2.06-2.06.94zm-11 1L8.5 8.5l.94-2.06 2.06-.94-2.06-.94L8.5 2.5l-.94 2.06-2.06.94zm10 10l.94 2.06.94-2.06 2.06-.94-2.06-.94-.94-2.06-.94 2.06-2.06.94z\"/><path d=\"M17.41 7.96l-1.37-1.37c-.4-.4-.92-.59-1.43-.59-.52 0-1.04.2-1.43.59L10.3 9.45l-7.72 7.72c-.78.78-.78 2.05 0 2.83L4 21.41c.39.39.9.59 1.41.59.51 0 1.02-.2 1.41-.59l7.78-7.78 2.81-2.81c.8-.78.8-2.07 0-2.86zM5.41 20L4 18.59l7.72-7.72 1.47 1.35L5.41 20z\"/>\n",
              "  </svg>\n",
              "      </button>\n",
              "      \n",
              "  <style>\n",
              "    .colab-df-container {\n",
              "      display:flex;\n",
              "      flex-wrap:wrap;\n",
              "      gap: 12px;\n",
              "    }\n",
              "\n",
              "    .colab-df-convert {\n",
              "      background-color: #E8F0FE;\n",
              "      border: none;\n",
              "      border-radius: 50%;\n",
              "      cursor: pointer;\n",
              "      display: none;\n",
              "      fill: #1967D2;\n",
              "      height: 32px;\n",
              "      padding: 0 0 0 0;\n",
              "      width: 32px;\n",
              "    }\n",
              "\n",
              "    .colab-df-convert:hover {\n",
              "      background-color: #E2EBFA;\n",
              "      box-shadow: 0px 1px 2px rgba(60, 64, 67, 0.3), 0px 1px 3px 1px rgba(60, 64, 67, 0.15);\n",
              "      fill: #174EA6;\n",
              "    }\n",
              "\n",
              "    [theme=dark] .colab-df-convert {\n",
              "      background-color: #3B4455;\n",
              "      fill: #D2E3FC;\n",
              "    }\n",
              "\n",
              "    [theme=dark] .colab-df-convert:hover {\n",
              "      background-color: #434B5C;\n",
              "      box-shadow: 0px 1px 3px 1px rgba(0, 0, 0, 0.15);\n",
              "      filter: drop-shadow(0px 1px 2px rgba(0, 0, 0, 0.3));\n",
              "      fill: #FFFFFF;\n",
              "    }\n",
              "  </style>\n",
              "\n",
              "      <script>\n",
              "        const buttonEl =\n",
              "          document.querySelector('#df-000be4db-1107-44de-aeed-3c282bd05570 button.colab-df-convert');\n",
              "        buttonEl.style.display =\n",
              "          google.colab.kernel.accessAllowed ? 'block' : 'none';\n",
              "\n",
              "        async function convertToInteractive(key) {\n",
              "          const element = document.querySelector('#df-000be4db-1107-44de-aeed-3c282bd05570');\n",
              "          const dataTable =\n",
              "            await google.colab.kernel.invokeFunction('convertToInteractive',\n",
              "                                                     [key], {});\n",
              "          if (!dataTable) return;\n",
              "\n",
              "          const docLinkHtml = 'Like what you see? Visit the ' +\n",
              "            '<a target=\"_blank\" href=https://colab.research.google.com/notebooks/data_table.ipynb>data table notebook</a>'\n",
              "            + ' to learn more about interactive tables.';\n",
              "          element.innerHTML = '';\n",
              "          dataTable['output_type'] = 'display_data';\n",
              "          await google.colab.output.renderOutput(dataTable, element);\n",
              "          const docLink = document.createElement('div');\n",
              "          docLink.innerHTML = docLinkHtml;\n",
              "          element.appendChild(docLink);\n",
              "        }\n",
              "      </script>\n",
              "    </div>\n",
              "  </div>\n",
              "  "
            ]
          },
          "metadata": {},
          "execution_count": 223
        }
      ],
      "source": [
        "#load product name\n",
        "url='https://drive.google.com/file/d/1ExYO0YB65eDygCQ_BKYR-u3A9hpmeSFT/view?usp=sharing'\n",
        "url='https://drive.google.com/uc?id=' + url.split('/')[-2]\n",
        "pname = pd.read_csv(url, usecols=['key', 'name'])\n",
        "pname.head(10)"
      ]
    },
    {
      "cell_type": "code",
      "execution_count": null,
      "metadata": {
        "colab": {
          "base_uri": "https://localhost:8080/",
          "height": 424
        },
        "id": "yk4efUcSiWaL",
        "outputId": "0dad5a59-c53e-4f85-bb5f-4fe38398de0e"
      },
      "outputs": [
        {
          "output_type": "execute_result",
          "data": {
            "text/plain": [
              "        key          author        date  stars  \\\n",
              "0      0_bj  Ilovebennjerry  2017-04-15      3   \n",
              "1      0_bj   Sweettooth909  2020-01-05      5   \n",
              "2      0_bj       LaTanga71  2018-04-26      3   \n",
              "3      0_bj      chicago220  2018-01-14      5   \n",
              "4      0_bj        Kassidyk  2020-07-24      1   \n",
              "...     ...             ...         ...    ...   \n",
              "7938  56_bj   Shellyshellzs  2020-04-30      5   \n",
              "7939  56_bj          Or1234  2020-02-24      5   \n",
              "7940  56_bj           ava21  2020-01-31      5   \n",
              "7941  56_bj            yeee  2019-03-13      5   \n",
              "7942  56_bj        Ellehcar  2020-07-24      5   \n",
              "\n",
              "                                   title  helpful_yes  helpful_no  \\\n",
              "0                   Not enough brownies!           10           3   \n",
              "1           I’m OBSESSED with this pint!            3           0   \n",
              "2      My favorite...More Caramel Please            5           2   \n",
              "3                            Obsessed!!!           24           1   \n",
              "4                  Worst Ice Cream Ever!            1           5   \n",
              "...                                  ...          ...         ...   \n",
              "7938          Peanut butter fudge heaven            0           0   \n",
              "7939  The best Chocolate Ice Cream Combo            0           0   \n",
              "7940                           PERFECT!!            0           0   \n",
              "7941                        My favorite!            0           0   \n",
              "7942                            The Best            0           0   \n",
              "\n",
              "                                                   text  \n",
              "0     Super good, don't get me wrong. But I came for...  \n",
              "1     I decided to try it out although I’m not a hug...  \n",
              "2     My caramel core begins to disappear about half...  \n",
              "3     Why are people complaining about the blonde br...  \n",
              "4     This ice cream is worst ice cream I’ve ever ta...  \n",
              "...                                                 ...  \n",
              "7938  Oh man I use to be a whatever was on sale girl...  \n",
              "7939  This is the first chocolate ice cream I’ve tri...  \n",
              "7940  This is the best pint of ice cream I've ever h...  \n",
              "7941  This is my favorite ice cream ever! Can't get ...  \n",
              "7942  This is my favorite flavor...I can just buy on...  \n",
              "\n",
              "[7943 rows x 8 columns]"
            ],
            "text/html": [
              "\n",
              "  <div id=\"df-fdfe78e7-8c37-4dba-9505-b983476bca14\">\n",
              "    <div class=\"colab-df-container\">\n",
              "      <div>\n",
              "<style scoped>\n",
              "    .dataframe tbody tr th:only-of-type {\n",
              "        vertical-align: middle;\n",
              "    }\n",
              "\n",
              "    .dataframe tbody tr th {\n",
              "        vertical-align: top;\n",
              "    }\n",
              "\n",
              "    .dataframe thead th {\n",
              "        text-align: right;\n",
              "    }\n",
              "</style>\n",
              "<table border=\"1\" class=\"dataframe\">\n",
              "  <thead>\n",
              "    <tr style=\"text-align: right;\">\n",
              "      <th></th>\n",
              "      <th>key</th>\n",
              "      <th>author</th>\n",
              "      <th>date</th>\n",
              "      <th>stars</th>\n",
              "      <th>title</th>\n",
              "      <th>helpful_yes</th>\n",
              "      <th>helpful_no</th>\n",
              "      <th>text</th>\n",
              "    </tr>\n",
              "  </thead>\n",
              "  <tbody>\n",
              "    <tr>\n",
              "      <th>0</th>\n",
              "      <td>0_bj</td>\n",
              "      <td>Ilovebennjerry</td>\n",
              "      <td>2017-04-15</td>\n",
              "      <td>3</td>\n",
              "      <td>Not enough brownies!</td>\n",
              "      <td>10</td>\n",
              "      <td>3</td>\n",
              "      <td>Super good, don't get me wrong. But I came for...</td>\n",
              "    </tr>\n",
              "    <tr>\n",
              "      <th>1</th>\n",
              "      <td>0_bj</td>\n",
              "      <td>Sweettooth909</td>\n",
              "      <td>2020-01-05</td>\n",
              "      <td>5</td>\n",
              "      <td>I’m OBSESSED with this pint!</td>\n",
              "      <td>3</td>\n",
              "      <td>0</td>\n",
              "      <td>I decided to try it out although I’m not a hug...</td>\n",
              "    </tr>\n",
              "    <tr>\n",
              "      <th>2</th>\n",
              "      <td>0_bj</td>\n",
              "      <td>LaTanga71</td>\n",
              "      <td>2018-04-26</td>\n",
              "      <td>3</td>\n",
              "      <td>My favorite...More Caramel Please</td>\n",
              "      <td>5</td>\n",
              "      <td>2</td>\n",
              "      <td>My caramel core begins to disappear about half...</td>\n",
              "    </tr>\n",
              "    <tr>\n",
              "      <th>3</th>\n",
              "      <td>0_bj</td>\n",
              "      <td>chicago220</td>\n",
              "      <td>2018-01-14</td>\n",
              "      <td>5</td>\n",
              "      <td>Obsessed!!!</td>\n",
              "      <td>24</td>\n",
              "      <td>1</td>\n",
              "      <td>Why are people complaining about the blonde br...</td>\n",
              "    </tr>\n",
              "    <tr>\n",
              "      <th>4</th>\n",
              "      <td>0_bj</td>\n",
              "      <td>Kassidyk</td>\n",
              "      <td>2020-07-24</td>\n",
              "      <td>1</td>\n",
              "      <td>Worst Ice Cream Ever!</td>\n",
              "      <td>1</td>\n",
              "      <td>5</td>\n",
              "      <td>This ice cream is worst ice cream I’ve ever ta...</td>\n",
              "    </tr>\n",
              "    <tr>\n",
              "      <th>...</th>\n",
              "      <td>...</td>\n",
              "      <td>...</td>\n",
              "      <td>...</td>\n",
              "      <td>...</td>\n",
              "      <td>...</td>\n",
              "      <td>...</td>\n",
              "      <td>...</td>\n",
              "      <td>...</td>\n",
              "    </tr>\n",
              "    <tr>\n",
              "      <th>7938</th>\n",
              "      <td>56_bj</td>\n",
              "      <td>Shellyshellzs</td>\n",
              "      <td>2020-04-30</td>\n",
              "      <td>5</td>\n",
              "      <td>Peanut butter fudge heaven</td>\n",
              "      <td>0</td>\n",
              "      <td>0</td>\n",
              "      <td>Oh man I use to be a whatever was on sale girl...</td>\n",
              "    </tr>\n",
              "    <tr>\n",
              "      <th>7939</th>\n",
              "      <td>56_bj</td>\n",
              "      <td>Or1234</td>\n",
              "      <td>2020-02-24</td>\n",
              "      <td>5</td>\n",
              "      <td>The best Chocolate Ice Cream Combo</td>\n",
              "      <td>0</td>\n",
              "      <td>0</td>\n",
              "      <td>This is the first chocolate ice cream I’ve tri...</td>\n",
              "    </tr>\n",
              "    <tr>\n",
              "      <th>7940</th>\n",
              "      <td>56_bj</td>\n",
              "      <td>ava21</td>\n",
              "      <td>2020-01-31</td>\n",
              "      <td>5</td>\n",
              "      <td>PERFECT!!</td>\n",
              "      <td>0</td>\n",
              "      <td>0</td>\n",
              "      <td>This is the best pint of ice cream I've ever h...</td>\n",
              "    </tr>\n",
              "    <tr>\n",
              "      <th>7941</th>\n",
              "      <td>56_bj</td>\n",
              "      <td>yeee</td>\n",
              "      <td>2019-03-13</td>\n",
              "      <td>5</td>\n",
              "      <td>My favorite!</td>\n",
              "      <td>0</td>\n",
              "      <td>0</td>\n",
              "      <td>This is my favorite ice cream ever! Can't get ...</td>\n",
              "    </tr>\n",
              "    <tr>\n",
              "      <th>7942</th>\n",
              "      <td>56_bj</td>\n",
              "      <td>Ellehcar</td>\n",
              "      <td>2020-07-24</td>\n",
              "      <td>5</td>\n",
              "      <td>The Best</td>\n",
              "      <td>0</td>\n",
              "      <td>0</td>\n",
              "      <td>This is my favorite flavor...I can just buy on...</td>\n",
              "    </tr>\n",
              "  </tbody>\n",
              "</table>\n",
              "<p>7943 rows × 8 columns</p>\n",
              "</div>\n",
              "      <button class=\"colab-df-convert\" onclick=\"convertToInteractive('df-fdfe78e7-8c37-4dba-9505-b983476bca14')\"\n",
              "              title=\"Convert this dataframe to an interactive table.\"\n",
              "              style=\"display:none;\">\n",
              "        \n",
              "  <svg xmlns=\"http://www.w3.org/2000/svg\" height=\"24px\"viewBox=\"0 0 24 24\"\n",
              "       width=\"24px\">\n",
              "    <path d=\"M0 0h24v24H0V0z\" fill=\"none\"/>\n",
              "    <path d=\"M18.56 5.44l.94 2.06.94-2.06 2.06-.94-2.06-.94-.94-2.06-.94 2.06-2.06.94zm-11 1L8.5 8.5l.94-2.06 2.06-.94-2.06-.94L8.5 2.5l-.94 2.06-2.06.94zm10 10l.94 2.06.94-2.06 2.06-.94-2.06-.94-.94-2.06-.94 2.06-2.06.94z\"/><path d=\"M17.41 7.96l-1.37-1.37c-.4-.4-.92-.59-1.43-.59-.52 0-1.04.2-1.43.59L10.3 9.45l-7.72 7.72c-.78.78-.78 2.05 0 2.83L4 21.41c.39.39.9.59 1.41.59.51 0 1.02-.2 1.41-.59l7.78-7.78 2.81-2.81c.8-.78.8-2.07 0-2.86zM5.41 20L4 18.59l7.72-7.72 1.47 1.35L5.41 20z\"/>\n",
              "  </svg>\n",
              "      </button>\n",
              "      \n",
              "  <style>\n",
              "    .colab-df-container {\n",
              "      display:flex;\n",
              "      flex-wrap:wrap;\n",
              "      gap: 12px;\n",
              "    }\n",
              "\n",
              "    .colab-df-convert {\n",
              "      background-color: #E8F0FE;\n",
              "      border: none;\n",
              "      border-radius: 50%;\n",
              "      cursor: pointer;\n",
              "      display: none;\n",
              "      fill: #1967D2;\n",
              "      height: 32px;\n",
              "      padding: 0 0 0 0;\n",
              "      width: 32px;\n",
              "    }\n",
              "\n",
              "    .colab-df-convert:hover {\n",
              "      background-color: #E2EBFA;\n",
              "      box-shadow: 0px 1px 2px rgba(60, 64, 67, 0.3), 0px 1px 3px 1px rgba(60, 64, 67, 0.15);\n",
              "      fill: #174EA6;\n",
              "    }\n",
              "\n",
              "    [theme=dark] .colab-df-convert {\n",
              "      background-color: #3B4455;\n",
              "      fill: #D2E3FC;\n",
              "    }\n",
              "\n",
              "    [theme=dark] .colab-df-convert:hover {\n",
              "      background-color: #434B5C;\n",
              "      box-shadow: 0px 1px 3px 1px rgba(0, 0, 0, 0.15);\n",
              "      filter: drop-shadow(0px 1px 2px rgba(0, 0, 0, 0.3));\n",
              "      fill: #FFFFFF;\n",
              "    }\n",
              "  </style>\n",
              "\n",
              "      <script>\n",
              "        const buttonEl =\n",
              "          document.querySelector('#df-fdfe78e7-8c37-4dba-9505-b983476bca14 button.colab-df-convert');\n",
              "        buttonEl.style.display =\n",
              "          google.colab.kernel.accessAllowed ? 'block' : 'none';\n",
              "\n",
              "        async function convertToInteractive(key) {\n",
              "          const element = document.querySelector('#df-fdfe78e7-8c37-4dba-9505-b983476bca14');\n",
              "          const dataTable =\n",
              "            await google.colab.kernel.invokeFunction('convertToInteractive',\n",
              "                                                     [key], {});\n",
              "          if (!dataTable) return;\n",
              "\n",
              "          const docLinkHtml = 'Like what you see? Visit the ' +\n",
              "            '<a target=\"_blank\" href=https://colab.research.google.com/notebooks/data_table.ipynb>data table notebook</a>'\n",
              "            + ' to learn more about interactive tables.';\n",
              "          element.innerHTML = '';\n",
              "          dataTable['output_type'] = 'display_data';\n",
              "          await google.colab.output.renderOutput(dataTable, element);\n",
              "          const docLink = document.createElement('div');\n",
              "          docLink.innerHTML = docLinkHtml;\n",
              "          element.appendChild(docLink);\n",
              "        }\n",
              "      </script>\n",
              "    </div>\n",
              "  </div>\n",
              "  "
            ]
          },
          "metadata": {},
          "execution_count": 224
        }
      ],
      "source": [
        "# Load review dataset\n",
        "creviews = pd.read_csv('https://raw.githubusercontent.com/khawslee/Sentiment-Analysis-Using-Vader/main/reviews.csv')\n",
        "creviews"
      ]
    },
    {
      "cell_type": "code",
      "execution_count": null,
      "metadata": {
        "colab": {
          "base_uri": "https://localhost:8080/",
          "height": 363
        },
        "id": "iCT1VdjNI43W",
        "outputId": "99c09b9f-e20d-4f67-fdd8-7e822a9a645f"
      },
      "outputs": [
        {
          "output_type": "execute_result",
          "data": {
            "text/plain": [
              "    key         product_name          author        date  stars  \\\n",
              "0  0_bj  Salted Caramel Core  Ilovebennjerry  2017-04-15      3   \n",
              "1  0_bj  Salted Caramel Core   Sweettooth909  2020-01-05      5   \n",
              "2  0_bj  Salted Caramel Core       LaTanga71  2018-04-26      3   \n",
              "3  0_bj  Salted Caramel Core      chicago220  2018-01-14      5   \n",
              "4  0_bj  Salted Caramel Core        Kassidyk  2020-07-24      1   \n",
              "5  0_bj  Salted Caramel Core         Nikiera  2020-07-23      2   \n",
              "6  0_bj  Salted Caramel Core         Mmelvin  2017-05-28      3   \n",
              "7  0_bj  Salted Caramel Core          Shay10  2017-07-02      3   \n",
              "8  0_bj  Salted Caramel Core    caramel4dayz  2017-07-16      2   \n",
              "9  0_bj  Salted Caramel Core        RosaT777  2019-02-12      3   \n",
              "\n",
              "                                title  helpful_yes  helpful_no  \\\n",
              "0                Not enough brownies!           10           3   \n",
              "1        I’m OBSESSED with this pint!            3           0   \n",
              "2   My favorite...More Caramel Please            5           2   \n",
              "3                         Obsessed!!!           24           1   \n",
              "4               Worst Ice Cream Ever!            1           5   \n",
              "5                       Way Too Salty            3           1   \n",
              "6            Love this flavor, but...            3           3   \n",
              "7          Really Wanted To Love This            4           1   \n",
              "8                    Could be better.            8           6   \n",
              "9  Salted Caramel core had NO CARAMEL            1           1   \n",
              "\n",
              "                                                text  \n",
              "0  Super good, don't get me wrong. But I came for...  \n",
              "1  I decided to try it out although I’m not a hug...  \n",
              "2  My caramel core begins to disappear about half...  \n",
              "3  Why are people complaining about the blonde br...  \n",
              "4  This ice cream is worst ice cream I’ve ever ta...  \n",
              "5  I bought this last night to go with Louisiana ...  \n",
              "6  This is definitely my favorite flavor, but rec...  \n",
              "7  I am not a chocolate person at all, and this w...  \n",
              "8  I LOVE caramel, so much so that I could eat it...  \n",
              "9  I love all the Ben & Jerry’s flavor. But recen...  "
            ],
            "text/html": [
              "\n",
              "  <div id=\"df-0c18cd7f-bb6c-4919-af35-52587a543cfc\">\n",
              "    <div class=\"colab-df-container\">\n",
              "      <div>\n",
              "<style scoped>\n",
              "    .dataframe tbody tr th:only-of-type {\n",
              "        vertical-align: middle;\n",
              "    }\n",
              "\n",
              "    .dataframe tbody tr th {\n",
              "        vertical-align: top;\n",
              "    }\n",
              "\n",
              "    .dataframe thead th {\n",
              "        text-align: right;\n",
              "    }\n",
              "</style>\n",
              "<table border=\"1\" class=\"dataframe\">\n",
              "  <thead>\n",
              "    <tr style=\"text-align: right;\">\n",
              "      <th></th>\n",
              "      <th>key</th>\n",
              "      <th>product_name</th>\n",
              "      <th>author</th>\n",
              "      <th>date</th>\n",
              "      <th>stars</th>\n",
              "      <th>title</th>\n",
              "      <th>helpful_yes</th>\n",
              "      <th>helpful_no</th>\n",
              "      <th>text</th>\n",
              "    </tr>\n",
              "  </thead>\n",
              "  <tbody>\n",
              "    <tr>\n",
              "      <th>0</th>\n",
              "      <td>0_bj</td>\n",
              "      <td>Salted Caramel Core</td>\n",
              "      <td>Ilovebennjerry</td>\n",
              "      <td>2017-04-15</td>\n",
              "      <td>3</td>\n",
              "      <td>Not enough brownies!</td>\n",
              "      <td>10</td>\n",
              "      <td>3</td>\n",
              "      <td>Super good, don't get me wrong. But I came for...</td>\n",
              "    </tr>\n",
              "    <tr>\n",
              "      <th>1</th>\n",
              "      <td>0_bj</td>\n",
              "      <td>Salted Caramel Core</td>\n",
              "      <td>Sweettooth909</td>\n",
              "      <td>2020-01-05</td>\n",
              "      <td>5</td>\n",
              "      <td>I’m OBSESSED with this pint!</td>\n",
              "      <td>3</td>\n",
              "      <td>0</td>\n",
              "      <td>I decided to try it out although I’m not a hug...</td>\n",
              "    </tr>\n",
              "    <tr>\n",
              "      <th>2</th>\n",
              "      <td>0_bj</td>\n",
              "      <td>Salted Caramel Core</td>\n",
              "      <td>LaTanga71</td>\n",
              "      <td>2018-04-26</td>\n",
              "      <td>3</td>\n",
              "      <td>My favorite...More Caramel Please</td>\n",
              "      <td>5</td>\n",
              "      <td>2</td>\n",
              "      <td>My caramel core begins to disappear about half...</td>\n",
              "    </tr>\n",
              "    <tr>\n",
              "      <th>3</th>\n",
              "      <td>0_bj</td>\n",
              "      <td>Salted Caramel Core</td>\n",
              "      <td>chicago220</td>\n",
              "      <td>2018-01-14</td>\n",
              "      <td>5</td>\n",
              "      <td>Obsessed!!!</td>\n",
              "      <td>24</td>\n",
              "      <td>1</td>\n",
              "      <td>Why are people complaining about the blonde br...</td>\n",
              "    </tr>\n",
              "    <tr>\n",
              "      <th>4</th>\n",
              "      <td>0_bj</td>\n",
              "      <td>Salted Caramel Core</td>\n",
              "      <td>Kassidyk</td>\n",
              "      <td>2020-07-24</td>\n",
              "      <td>1</td>\n",
              "      <td>Worst Ice Cream Ever!</td>\n",
              "      <td>1</td>\n",
              "      <td>5</td>\n",
              "      <td>This ice cream is worst ice cream I’ve ever ta...</td>\n",
              "    </tr>\n",
              "    <tr>\n",
              "      <th>5</th>\n",
              "      <td>0_bj</td>\n",
              "      <td>Salted Caramel Core</td>\n",
              "      <td>Nikiera</td>\n",
              "      <td>2020-07-23</td>\n",
              "      <td>2</td>\n",
              "      <td>Way Too Salty</td>\n",
              "      <td>3</td>\n",
              "      <td>1</td>\n",
              "      <td>I bought this last night to go with Louisiana ...</td>\n",
              "    </tr>\n",
              "    <tr>\n",
              "      <th>6</th>\n",
              "      <td>0_bj</td>\n",
              "      <td>Salted Caramel Core</td>\n",
              "      <td>Mmelvin</td>\n",
              "      <td>2017-05-28</td>\n",
              "      <td>3</td>\n",
              "      <td>Love this flavor, but...</td>\n",
              "      <td>3</td>\n",
              "      <td>3</td>\n",
              "      <td>This is definitely my favorite flavor, but rec...</td>\n",
              "    </tr>\n",
              "    <tr>\n",
              "      <th>7</th>\n",
              "      <td>0_bj</td>\n",
              "      <td>Salted Caramel Core</td>\n",
              "      <td>Shay10</td>\n",
              "      <td>2017-07-02</td>\n",
              "      <td>3</td>\n",
              "      <td>Really Wanted To Love This</td>\n",
              "      <td>4</td>\n",
              "      <td>1</td>\n",
              "      <td>I am not a chocolate person at all, and this w...</td>\n",
              "    </tr>\n",
              "    <tr>\n",
              "      <th>8</th>\n",
              "      <td>0_bj</td>\n",
              "      <td>Salted Caramel Core</td>\n",
              "      <td>caramel4dayz</td>\n",
              "      <td>2017-07-16</td>\n",
              "      <td>2</td>\n",
              "      <td>Could be better.</td>\n",
              "      <td>8</td>\n",
              "      <td>6</td>\n",
              "      <td>I LOVE caramel, so much so that I could eat it...</td>\n",
              "    </tr>\n",
              "    <tr>\n",
              "      <th>9</th>\n",
              "      <td>0_bj</td>\n",
              "      <td>Salted Caramel Core</td>\n",
              "      <td>RosaT777</td>\n",
              "      <td>2019-02-12</td>\n",
              "      <td>3</td>\n",
              "      <td>Salted Caramel core had NO CARAMEL</td>\n",
              "      <td>1</td>\n",
              "      <td>1</td>\n",
              "      <td>I love all the Ben &amp; Jerry’s flavor. But recen...</td>\n",
              "    </tr>\n",
              "  </tbody>\n",
              "</table>\n",
              "</div>\n",
              "      <button class=\"colab-df-convert\" onclick=\"convertToInteractive('df-0c18cd7f-bb6c-4919-af35-52587a543cfc')\"\n",
              "              title=\"Convert this dataframe to an interactive table.\"\n",
              "              style=\"display:none;\">\n",
              "        \n",
              "  <svg xmlns=\"http://www.w3.org/2000/svg\" height=\"24px\"viewBox=\"0 0 24 24\"\n",
              "       width=\"24px\">\n",
              "    <path d=\"M0 0h24v24H0V0z\" fill=\"none\"/>\n",
              "    <path d=\"M18.56 5.44l.94 2.06.94-2.06 2.06-.94-2.06-.94-.94-2.06-.94 2.06-2.06.94zm-11 1L8.5 8.5l.94-2.06 2.06-.94-2.06-.94L8.5 2.5l-.94 2.06-2.06.94zm10 10l.94 2.06.94-2.06 2.06-.94-2.06-.94-.94-2.06-.94 2.06-2.06.94z\"/><path d=\"M17.41 7.96l-1.37-1.37c-.4-.4-.92-.59-1.43-.59-.52 0-1.04.2-1.43.59L10.3 9.45l-7.72 7.72c-.78.78-.78 2.05 0 2.83L4 21.41c.39.39.9.59 1.41.59.51 0 1.02-.2 1.41-.59l7.78-7.78 2.81-2.81c.8-.78.8-2.07 0-2.86zM5.41 20L4 18.59l7.72-7.72 1.47 1.35L5.41 20z\"/>\n",
              "  </svg>\n",
              "      </button>\n",
              "      \n",
              "  <style>\n",
              "    .colab-df-container {\n",
              "      display:flex;\n",
              "      flex-wrap:wrap;\n",
              "      gap: 12px;\n",
              "    }\n",
              "\n",
              "    .colab-df-convert {\n",
              "      background-color: #E8F0FE;\n",
              "      border: none;\n",
              "      border-radius: 50%;\n",
              "      cursor: pointer;\n",
              "      display: none;\n",
              "      fill: #1967D2;\n",
              "      height: 32px;\n",
              "      padding: 0 0 0 0;\n",
              "      width: 32px;\n",
              "    }\n",
              "\n",
              "    .colab-df-convert:hover {\n",
              "      background-color: #E2EBFA;\n",
              "      box-shadow: 0px 1px 2px rgba(60, 64, 67, 0.3), 0px 1px 3px 1px rgba(60, 64, 67, 0.15);\n",
              "      fill: #174EA6;\n",
              "    }\n",
              "\n",
              "    [theme=dark] .colab-df-convert {\n",
              "      background-color: #3B4455;\n",
              "      fill: #D2E3FC;\n",
              "    }\n",
              "\n",
              "    [theme=dark] .colab-df-convert:hover {\n",
              "      background-color: #434B5C;\n",
              "      box-shadow: 0px 1px 3px 1px rgba(0, 0, 0, 0.15);\n",
              "      filter: drop-shadow(0px 1px 2px rgba(0, 0, 0, 0.3));\n",
              "      fill: #FFFFFF;\n",
              "    }\n",
              "  </style>\n",
              "\n",
              "      <script>\n",
              "        const buttonEl =\n",
              "          document.querySelector('#df-0c18cd7f-bb6c-4919-af35-52587a543cfc button.colab-df-convert');\n",
              "        buttonEl.style.display =\n",
              "          google.colab.kernel.accessAllowed ? 'block' : 'none';\n",
              "\n",
              "        async function convertToInteractive(key) {\n",
              "          const element = document.querySelector('#df-0c18cd7f-bb6c-4919-af35-52587a543cfc');\n",
              "          const dataTable =\n",
              "            await google.colab.kernel.invokeFunction('convertToInteractive',\n",
              "                                                     [key], {});\n",
              "          if (!dataTable) return;\n",
              "\n",
              "          const docLinkHtml = 'Like what you see? Visit the ' +\n",
              "            '<a target=\"_blank\" href=https://colab.research.google.com/notebooks/data_table.ipynb>data table notebook</a>'\n",
              "            + ' to learn more about interactive tables.';\n",
              "          element.innerHTML = '';\n",
              "          dataTable['output_type'] = 'display_data';\n",
              "          await google.colab.output.renderOutput(dataTable, element);\n",
              "          const docLink = document.createElement('div');\n",
              "          docLink.innerHTML = docLinkHtml;\n",
              "          element.appendChild(docLink);\n",
              "        }\n",
              "      </script>\n",
              "    </div>\n",
              "  </div>\n",
              "  "
            ]
          },
          "metadata": {},
          "execution_count": 225
        }
      ],
      "source": [
        "merged_df = pd.merge(creviews, pname[['key', 'name']], on='key', how='left')\n",
        "merged_df.rename(columns={'name': 'product_name'}, inplace=True)\n",
        "cols = merged_df.columns.tolist()\n",
        "cols.remove('product_name')\n",
        "cols.insert(cols.index('key') + 1, 'product_name')\n",
        "merged_df = merged_df.reindex(columns=cols)\n",
        "merged_df.head(10)"
      ]
    },
    {
      "cell_type": "markdown",
      "metadata": {
        "id": "4Fuy9falBN1X"
      },
      "source": [
        "## Preprocessing"
      ]
    },
    {
      "cell_type": "code",
      "execution_count": null,
      "metadata": {
        "colab": {
          "base_uri": "https://localhost:8080/"
        },
        "id": "LUt7qNyWCgQH",
        "outputId": "b12add39-1064-446e-d9b7-955517a4fea0"
      },
      "outputs": [
        {
          "output_type": "stream",
          "name": "stderr",
          "text": [
            "[nltk_data] Downloading package punkt to /root/nltk_data...\n",
            "[nltk_data]   Package punkt is already up-to-date!\n",
            "[nltk_data] Downloading package stopwords to /root/nltk_data...\n",
            "[nltk_data]   Package stopwords is already up-to-date!\n",
            "[nltk_data] Downloading package wordnet to /root/nltk_data...\n",
            "[nltk_data]   Package wordnet is already up-to-date!\n"
          ]
        },
        {
          "output_type": "execute_result",
          "data": {
            "text/plain": [
              "True"
            ]
          },
          "metadata": {},
          "execution_count": 226
        }
      ],
      "source": [
        "#Import the required libraries for text preprocessing\n",
        "import re\n",
        "import string\n",
        "import contractions\n",
        "import nltk\n",
        "from nltk.tokenize import word_tokenize\n",
        "from nltk.corpus import stopwords\n",
        "from nltk.stem.snowball import SnowballStemmer\n",
        "from nltk.stem import WordNetLemmatizer\n",
        "from nltk.corpus import wordnet\n",
        "nltk.download('punkt')\n",
        "nltk.download('stopwords')\n",
        "nltk.download('wordnet')"
      ]
    },
    {
      "cell_type": "code",
      "execution_count": null,
      "metadata": {
        "id": "t0H518saCmjo"
      },
      "outputs": [],
      "source": [
        "# Convert star rating to sentiments\n",
        "def startosentiment(_star):\n",
        "    if _star >= 4:\n",
        "        return 1\n",
        "    elif _star <= 2:\n",
        "        return 0"
      ]
    },
    {
      "cell_type": "code",
      "execution_count": null,
      "metadata": {
        "colab": {
          "base_uri": "https://localhost:8080/",
          "height": 424
        },
        "id": "S6yJxxXgB9KK",
        "outputId": "3b875c29-9f2d-4b1b-c385-ef0ff8fce05f"
      },
      "outputs": [
        {
          "output_type": "execute_result",
          "data": {
            "text/plain": [
              "        key              product_name  stars  \\\n",
              "1      0_bj       Salted Caramel Core      5   \n",
              "3      0_bj       Salted Caramel Core      5   \n",
              "4      0_bj       Salted Caramel Core      1   \n",
              "5      0_bj       Salted Caramel Core      2   \n",
              "8      0_bj       Salted Caramel Core      2   \n",
              "...     ...                       ...    ...   \n",
              "7938  56_bj  Peanut Butter Fudge Core      5   \n",
              "7939  56_bj  Peanut Butter Fudge Core      5   \n",
              "7940  56_bj  Peanut Butter Fudge Core      5   \n",
              "7941  56_bj  Peanut Butter Fudge Core      5   \n",
              "7942  56_bj  Peanut Butter Fudge Core      5   \n",
              "\n",
              "                                          com_titletext  b_star  b_score  \n",
              "1     I’m OBSESSED with this pint! I decided to try ...     1.0   0.9442  \n",
              "3     Obsessed!!! Why are people complaining about t...     1.0   0.9270  \n",
              "4     Worst Ice Cream Ever! This ice cream is worst ...     0.0  -0.7210  \n",
              "5     Way Too Salty I bought this last night to go w...     0.0  -0.8834  \n",
              "8     Could be better. I LOVE caramel, so much so th...     0.0   0.9550  \n",
              "...                                                 ...     ...      ...  \n",
              "7938  Peanut butter fudge heaven Oh man I use to be ...     1.0   0.9049  \n",
              "7939  The best Chocolate Ice Cream Combo This is the...     1.0   0.8070  \n",
              "7940  PERFECT!! This is the best pint of ice cream I...     1.0   0.9552  \n",
              "7941  My favorite! This is my favorite ice cream eve...     1.0   0.8350  \n",
              "7942  The Best This is my favorite flavor...I can ju...     1.0   0.8904  \n",
              "\n",
              "[7536 rows x 6 columns]"
            ],
            "text/html": [
              "\n",
              "  <div id=\"df-c85e83be-efd3-404a-8416-d354943bc115\">\n",
              "    <div class=\"colab-df-container\">\n",
              "      <div>\n",
              "<style scoped>\n",
              "    .dataframe tbody tr th:only-of-type {\n",
              "        vertical-align: middle;\n",
              "    }\n",
              "\n",
              "    .dataframe tbody tr th {\n",
              "        vertical-align: top;\n",
              "    }\n",
              "\n",
              "    .dataframe thead th {\n",
              "        text-align: right;\n",
              "    }\n",
              "</style>\n",
              "<table border=\"1\" class=\"dataframe\">\n",
              "  <thead>\n",
              "    <tr style=\"text-align: right;\">\n",
              "      <th></th>\n",
              "      <th>key</th>\n",
              "      <th>product_name</th>\n",
              "      <th>stars</th>\n",
              "      <th>com_titletext</th>\n",
              "      <th>b_star</th>\n",
              "      <th>b_score</th>\n",
              "    </tr>\n",
              "  </thead>\n",
              "  <tbody>\n",
              "    <tr>\n",
              "      <th>1</th>\n",
              "      <td>0_bj</td>\n",
              "      <td>Salted Caramel Core</td>\n",
              "      <td>5</td>\n",
              "      <td>I’m OBSESSED with this pint! I decided to try ...</td>\n",
              "      <td>1.0</td>\n",
              "      <td>0.9442</td>\n",
              "    </tr>\n",
              "    <tr>\n",
              "      <th>3</th>\n",
              "      <td>0_bj</td>\n",
              "      <td>Salted Caramel Core</td>\n",
              "      <td>5</td>\n",
              "      <td>Obsessed!!! Why are people complaining about t...</td>\n",
              "      <td>1.0</td>\n",
              "      <td>0.9270</td>\n",
              "    </tr>\n",
              "    <tr>\n",
              "      <th>4</th>\n",
              "      <td>0_bj</td>\n",
              "      <td>Salted Caramel Core</td>\n",
              "      <td>1</td>\n",
              "      <td>Worst Ice Cream Ever! This ice cream is worst ...</td>\n",
              "      <td>0.0</td>\n",
              "      <td>-0.7210</td>\n",
              "    </tr>\n",
              "    <tr>\n",
              "      <th>5</th>\n",
              "      <td>0_bj</td>\n",
              "      <td>Salted Caramel Core</td>\n",
              "      <td>2</td>\n",
              "      <td>Way Too Salty I bought this last night to go w...</td>\n",
              "      <td>0.0</td>\n",
              "      <td>-0.8834</td>\n",
              "    </tr>\n",
              "    <tr>\n",
              "      <th>8</th>\n",
              "      <td>0_bj</td>\n",
              "      <td>Salted Caramel Core</td>\n",
              "      <td>2</td>\n",
              "      <td>Could be better. I LOVE caramel, so much so th...</td>\n",
              "      <td>0.0</td>\n",
              "      <td>0.9550</td>\n",
              "    </tr>\n",
              "    <tr>\n",
              "      <th>...</th>\n",
              "      <td>...</td>\n",
              "      <td>...</td>\n",
              "      <td>...</td>\n",
              "      <td>...</td>\n",
              "      <td>...</td>\n",
              "      <td>...</td>\n",
              "    </tr>\n",
              "    <tr>\n",
              "      <th>7938</th>\n",
              "      <td>56_bj</td>\n",
              "      <td>Peanut Butter Fudge Core</td>\n",
              "      <td>5</td>\n",
              "      <td>Peanut butter fudge heaven Oh man I use to be ...</td>\n",
              "      <td>1.0</td>\n",
              "      <td>0.9049</td>\n",
              "    </tr>\n",
              "    <tr>\n",
              "      <th>7939</th>\n",
              "      <td>56_bj</td>\n",
              "      <td>Peanut Butter Fudge Core</td>\n",
              "      <td>5</td>\n",
              "      <td>The best Chocolate Ice Cream Combo This is the...</td>\n",
              "      <td>1.0</td>\n",
              "      <td>0.8070</td>\n",
              "    </tr>\n",
              "    <tr>\n",
              "      <th>7940</th>\n",
              "      <td>56_bj</td>\n",
              "      <td>Peanut Butter Fudge Core</td>\n",
              "      <td>5</td>\n",
              "      <td>PERFECT!! This is the best pint of ice cream I...</td>\n",
              "      <td>1.0</td>\n",
              "      <td>0.9552</td>\n",
              "    </tr>\n",
              "    <tr>\n",
              "      <th>7941</th>\n",
              "      <td>56_bj</td>\n",
              "      <td>Peanut Butter Fudge Core</td>\n",
              "      <td>5</td>\n",
              "      <td>My favorite! This is my favorite ice cream eve...</td>\n",
              "      <td>1.0</td>\n",
              "      <td>0.8350</td>\n",
              "    </tr>\n",
              "    <tr>\n",
              "      <th>7942</th>\n",
              "      <td>56_bj</td>\n",
              "      <td>Peanut Butter Fudge Core</td>\n",
              "      <td>5</td>\n",
              "      <td>The Best This is my favorite flavor...I can ju...</td>\n",
              "      <td>1.0</td>\n",
              "      <td>0.8904</td>\n",
              "    </tr>\n",
              "  </tbody>\n",
              "</table>\n",
              "<p>7536 rows × 6 columns</p>\n",
              "</div>\n",
              "      <button class=\"colab-df-convert\" onclick=\"convertToInteractive('df-c85e83be-efd3-404a-8416-d354943bc115')\"\n",
              "              title=\"Convert this dataframe to an interactive table.\"\n",
              "              style=\"display:none;\">\n",
              "        \n",
              "  <svg xmlns=\"http://www.w3.org/2000/svg\" height=\"24px\"viewBox=\"0 0 24 24\"\n",
              "       width=\"24px\">\n",
              "    <path d=\"M0 0h24v24H0V0z\" fill=\"none\"/>\n",
              "    <path d=\"M18.56 5.44l.94 2.06.94-2.06 2.06-.94-2.06-.94-.94-2.06-.94 2.06-2.06.94zm-11 1L8.5 8.5l.94-2.06 2.06-.94-2.06-.94L8.5 2.5l-.94 2.06-2.06.94zm10 10l.94 2.06.94-2.06 2.06-.94-2.06-.94-.94-2.06-.94 2.06-2.06.94z\"/><path d=\"M17.41 7.96l-1.37-1.37c-.4-.4-.92-.59-1.43-.59-.52 0-1.04.2-1.43.59L10.3 9.45l-7.72 7.72c-.78.78-.78 2.05 0 2.83L4 21.41c.39.39.9.59 1.41.59.51 0 1.02-.2 1.41-.59l7.78-7.78 2.81-2.81c.8-.78.8-2.07 0-2.86zM5.41 20L4 18.59l7.72-7.72 1.47 1.35L5.41 20z\"/>\n",
              "  </svg>\n",
              "      </button>\n",
              "      \n",
              "  <style>\n",
              "    .colab-df-container {\n",
              "      display:flex;\n",
              "      flex-wrap:wrap;\n",
              "      gap: 12px;\n",
              "    }\n",
              "\n",
              "    .colab-df-convert {\n",
              "      background-color: #E8F0FE;\n",
              "      border: none;\n",
              "      border-radius: 50%;\n",
              "      cursor: pointer;\n",
              "      display: none;\n",
              "      fill: #1967D2;\n",
              "      height: 32px;\n",
              "      padding: 0 0 0 0;\n",
              "      width: 32px;\n",
              "    }\n",
              "\n",
              "    .colab-df-convert:hover {\n",
              "      background-color: #E2EBFA;\n",
              "      box-shadow: 0px 1px 2px rgba(60, 64, 67, 0.3), 0px 1px 3px 1px rgba(60, 64, 67, 0.15);\n",
              "      fill: #174EA6;\n",
              "    }\n",
              "\n",
              "    [theme=dark] .colab-df-convert {\n",
              "      background-color: #3B4455;\n",
              "      fill: #D2E3FC;\n",
              "    }\n",
              "\n",
              "    [theme=dark] .colab-df-convert:hover {\n",
              "      background-color: #434B5C;\n",
              "      box-shadow: 0px 1px 3px 1px rgba(0, 0, 0, 0.15);\n",
              "      filter: drop-shadow(0px 1px 2px rgba(0, 0, 0, 0.3));\n",
              "      fill: #FFFFFF;\n",
              "    }\n",
              "  </style>\n",
              "\n",
              "      <script>\n",
              "        const buttonEl =\n",
              "          document.querySelector('#df-c85e83be-efd3-404a-8416-d354943bc115 button.colab-df-convert');\n",
              "        buttonEl.style.display =\n",
              "          google.colab.kernel.accessAllowed ? 'block' : 'none';\n",
              "\n",
              "        async function convertToInteractive(key) {\n",
              "          const element = document.querySelector('#df-c85e83be-efd3-404a-8416-d354943bc115');\n",
              "          const dataTable =\n",
              "            await google.colab.kernel.invokeFunction('convertToInteractive',\n",
              "                                                     [key], {});\n",
              "          if (!dataTable) return;\n",
              "\n",
              "          const docLinkHtml = 'Like what you see? Visit the ' +\n",
              "            '<a target=\"_blank\" href=https://colab.research.google.com/notebooks/data_table.ipynb>data table notebook</a>'\n",
              "            + ' to learn more about interactive tables.';\n",
              "          element.innerHTML = '';\n",
              "          dataTable['output_type'] = 'display_data';\n",
              "          await google.colab.output.renderOutput(dataTable, element);\n",
              "          const docLink = document.createElement('div');\n",
              "          docLink.innerHTML = docLinkHtml;\n",
              "          element.appendChild(docLink);\n",
              "        }\n",
              "      </script>\n",
              "    </div>\n",
              "  </div>\n",
              "  "
            ]
          },
          "metadata": {},
          "execution_count": 228
        }
      ],
      "source": [
        "sia = SentimentIntensityAnalyzer()\n",
        "# Data cleaning - fill 'title' column with blank if it is N/A\n",
        "merged_df['title'] = merged_df['title'].fillna('')\n",
        "\n",
        "# Combine title and text to a new column\n",
        "merged_df['com_titletext'] = merged_df['title'] + \" \" + merged_df['text']\n",
        "\n",
        "# Convert star rating to sentiments\n",
        "merged_df['b_star'] = merged_df.apply(lambda x: startosentiment(x['stars']),axis=1)\n",
        "\n",
        "# Convert text to score using Vader\n",
        "merged_df['b_score'] = merged_df.apply(lambda x: sia.polarity_scores(x['com_titletext'])['compound'],axis=1)\n",
        "text_df = merged_df.loc[merged_df['stars'] != 3,['key','product_name','stars','com_titletext','b_star','b_score']]\n",
        "text_df"
      ]
    },
    {
      "cell_type": "code",
      "execution_count": null,
      "metadata": {
        "id": "i1c0YP5NCXJL"
      },
      "outputs": [],
      "source": [
        "# casefolding\n",
        "def to_lowercase(text):\n",
        "  text = text.lower()\n",
        "  return text"
      ]
    },
    {
      "cell_type": "code",
      "execution_count": null,
      "metadata": {
        "id": "JboOoeQkCY7e"
      },
      "outputs": [],
      "source": [
        "# remove word repetition\n",
        "def word_repetition(text):\n",
        "  text = re.sub(r'(.)\\1+', r'\\1\\1', text)\n",
        "  return text"
      ]
    },
    {
      "cell_type": "code",
      "execution_count": null,
      "metadata": {
        "id": "951IbUDSCaum"
      },
      "outputs": [],
      "source": [
        "# remove punctuation repetition\n",
        "def punct_repetition(text, default_replace=\"\"):\n",
        "  text = re.sub(r'[\\?\\.\\!]+(?=[\\?\\.\\!])', default_replace, text)\n",
        "  return text"
      ]
    },
    {
      "cell_type": "code",
      "execution_count": null,
      "metadata": {
        "id": "LEoP95ZtCb8K"
      },
      "outputs": [],
      "source": [
        "# fix contractions (e.g. i'm -> i am)\n",
        "def fix_contractions(text):\n",
        "  text = contractions.fix(text)\n",
        "  return text"
      ]
    },
    {
      "cell_type": "code",
      "execution_count": null,
      "metadata": {
        "id": "G1MzmwXMC9_l"
      },
      "outputs": [],
      "source": [
        "# set stopwords to english\n",
        "stop_words = set(stopwords.words('english'))\n",
        "# set stemmer to english\n",
        "snowball_stemmer = SnowballStemmer('english')"
      ]
    },
    {
      "cell_type": "code",
      "execution_count": null,
      "metadata": {
        "id": "TdJmnoLHC_Px"
      },
      "outputs": [],
      "source": [
        "# tokenize text\n",
        "def custom_tokenize(text, keep_punct = False, keep_alnum = False, keep_stop = False):\n",
        "  token_list = word_tokenize(text)\n",
        "\n",
        "  if not keep_punct:\n",
        "    token_list = [token for token in token_list\n",
        "                  if token not in string.punctuation]\n",
        "\n",
        "  if not keep_alnum:\n",
        "    token_list = [token for token in token_list if token.isalpha()]\n",
        "\n",
        "  if not keep_stop:\n",
        "    stop_words.discard('not')\n",
        "    token_list = [token for token in token_list if not token in stop_words]\n",
        "\n",
        "  return token_list"
      ]
    },
    {
      "cell_type": "code",
      "execution_count": null,
      "metadata": {
        "id": "_2hE9PebDEpx"
      },
      "outputs": [],
      "source": [
        "# stemming tokens\n",
        "def stem_tokens(tokens, stemmer):\n",
        "  token_list = []\n",
        "  for token in tokens:\n",
        "    token_list.append(stemmer.stem(token))\n",
        "  return token_list"
      ]
    },
    {
      "cell_type": "code",
      "execution_count": null,
      "metadata": {
        "id": "rWQf_MxNDIl_"
      },
      "outputs": [],
      "source": [
        "# lemmatize tokens\n",
        "lemmatizer = WordNetLemmatizer()\n",
        "def lemmatize_tokens(tokens, word_type, lemmatizer):\n",
        "  token_list = []\n",
        "  for token in tokens:\n",
        "    token_list.append(lemmatizer.lemmatize(token, word_type[token]))\n",
        "  return token_list"
      ]
    },
    {
      "cell_type": "code",
      "execution_count": null,
      "metadata": {
        "id": "SmrEZOIBDKJd"
      },
      "outputs": [],
      "source": [
        "# function to preprocess text\n",
        "def process_review(text, verbose=False):\n",
        "  # if verbose: print(\"Initial tweet: {}\".format(review))\n",
        "\n",
        "  ## Word Features\n",
        "  text = to_lowercase(text) # lower case\n",
        "  text = fix_contractions(text) # replace contractions\n",
        "  text = punct_repetition(text) # replace punctuation repetition\n",
        "  text = word_repetition(text) # replace word repetition\n",
        "\n",
        "  # if verbose: print(\"Post Word processing review: {}\".format(text))\n",
        "\n",
        "  ## Tokenization & Stemming\n",
        "  tokens = custom_tokenize(text, keep_alnum=False, keep_stop=False) # tokenize\n",
        "  stem = stem_tokens(tokens, snowball_stemmer) # stem tokens\n",
        "\n",
        "  return stem"
      ]
    },
    {
      "cell_type": "code",
      "execution_count": null,
      "metadata": {
        "colab": {
          "base_uri": "https://localhost:8080/",
          "height": 424
        },
        "id": "jn0Ka2_bDLyZ",
        "outputId": "01661fa3-e659-46bf-8188-a454fc3227ae"
      },
      "outputs": [
        {
          "output_type": "execute_result",
          "data": {
            "text/plain": [
              "        key              product_name  stars  \\\n",
              "1      0_bj       Salted Caramel Core      5   \n",
              "3      0_bj       Salted Caramel Core      5   \n",
              "4      0_bj       Salted Caramel Core      1   \n",
              "5      0_bj       Salted Caramel Core      2   \n",
              "8      0_bj       Salted Caramel Core      2   \n",
              "...     ...                       ...    ...   \n",
              "7938  56_bj  Peanut Butter Fudge Core      5   \n",
              "7939  56_bj  Peanut Butter Fudge Core      5   \n",
              "7940  56_bj  Peanut Butter Fudge Core      5   \n",
              "7941  56_bj  Peanut Butter Fudge Core      5   \n",
              "7942  56_bj  Peanut Butter Fudge Core      5   \n",
              "\n",
              "                                          com_titletext  b_star  b_score  \\\n",
              "1     I’m OBSESSED with this pint! I decided to try ...     1.0   0.9442   \n",
              "3     Obsessed!!! Why are people complaining about t...     1.0   0.9270   \n",
              "4     Worst Ice Cream Ever! This ice cream is worst ...     0.0  -0.7210   \n",
              "5     Way Too Salty I bought this last night to go w...     0.0  -0.8834   \n",
              "8     Could be better. I LOVE caramel, so much so th...     0.0   0.9550   \n",
              "...                                                 ...     ...      ...   \n",
              "7938  Peanut butter fudge heaven Oh man I use to be ...     1.0   0.9049   \n",
              "7939  The best Chocolate Ice Cream Combo This is the...     1.0   0.8070   \n",
              "7940  PERFECT!! This is the best pint of ice cream I...     1.0   0.9552   \n",
              "7941  My favorite! This is my favorite ice cream eve...     1.0   0.8350   \n",
              "7942  The Best This is my favorite flavor...I can ju...     1.0   0.8904   \n",
              "\n",
              "                                       tokens_titletext  \n",
              "1     [obsess, pint, decid, tri, although, not, huge...  \n",
              "3     [obsess, peopl, complain, blond, browni, not, ...  \n",
              "4     [worst, ice, cream, ever, ice, cream, worst, i...  \n",
              "5     [way, salti, bought, last, night, go, louisian...  \n",
              "8     [could, better, love, caramel, much, could, ea...  \n",
              "...                                                 ...  \n",
              "7938  [peanut, butter, fudg, heaven, oh, man, use, w...  \n",
              "7939  [best, chocol, ice, cream, combo, first, choco...  \n",
              "7940  [perfect, best, pint, ice, cream, ever, like, ...  \n",
              "7941  [favorit, favorit, ice, cream, ever, not, get,...  \n",
              "7942         [best, favorit, buy, one, high, recommend]  \n",
              "\n",
              "[7536 rows x 7 columns]"
            ],
            "text/html": [
              "\n",
              "  <div id=\"df-74c9c98c-7980-4e97-9ba5-144f9eb73c44\">\n",
              "    <div class=\"colab-df-container\">\n",
              "      <div>\n",
              "<style scoped>\n",
              "    .dataframe tbody tr th:only-of-type {\n",
              "        vertical-align: middle;\n",
              "    }\n",
              "\n",
              "    .dataframe tbody tr th {\n",
              "        vertical-align: top;\n",
              "    }\n",
              "\n",
              "    .dataframe thead th {\n",
              "        text-align: right;\n",
              "    }\n",
              "</style>\n",
              "<table border=\"1\" class=\"dataframe\">\n",
              "  <thead>\n",
              "    <tr style=\"text-align: right;\">\n",
              "      <th></th>\n",
              "      <th>key</th>\n",
              "      <th>product_name</th>\n",
              "      <th>stars</th>\n",
              "      <th>com_titletext</th>\n",
              "      <th>b_star</th>\n",
              "      <th>b_score</th>\n",
              "      <th>tokens_titletext</th>\n",
              "    </tr>\n",
              "  </thead>\n",
              "  <tbody>\n",
              "    <tr>\n",
              "      <th>1</th>\n",
              "      <td>0_bj</td>\n",
              "      <td>Salted Caramel Core</td>\n",
              "      <td>5</td>\n",
              "      <td>I’m OBSESSED with this pint! I decided to try ...</td>\n",
              "      <td>1.0</td>\n",
              "      <td>0.9442</td>\n",
              "      <td>[obsess, pint, decid, tri, although, not, huge...</td>\n",
              "    </tr>\n",
              "    <tr>\n",
              "      <th>3</th>\n",
              "      <td>0_bj</td>\n",
              "      <td>Salted Caramel Core</td>\n",
              "      <td>5</td>\n",
              "      <td>Obsessed!!! Why are people complaining about t...</td>\n",
              "      <td>1.0</td>\n",
              "      <td>0.9270</td>\n",
              "      <td>[obsess, peopl, complain, blond, browni, not, ...</td>\n",
              "    </tr>\n",
              "    <tr>\n",
              "      <th>4</th>\n",
              "      <td>0_bj</td>\n",
              "      <td>Salted Caramel Core</td>\n",
              "      <td>1</td>\n",
              "      <td>Worst Ice Cream Ever! This ice cream is worst ...</td>\n",
              "      <td>0.0</td>\n",
              "      <td>-0.7210</td>\n",
              "      <td>[worst, ice, cream, ever, ice, cream, worst, i...</td>\n",
              "    </tr>\n",
              "    <tr>\n",
              "      <th>5</th>\n",
              "      <td>0_bj</td>\n",
              "      <td>Salted Caramel Core</td>\n",
              "      <td>2</td>\n",
              "      <td>Way Too Salty I bought this last night to go w...</td>\n",
              "      <td>0.0</td>\n",
              "      <td>-0.8834</td>\n",
              "      <td>[way, salti, bought, last, night, go, louisian...</td>\n",
              "    </tr>\n",
              "    <tr>\n",
              "      <th>8</th>\n",
              "      <td>0_bj</td>\n",
              "      <td>Salted Caramel Core</td>\n",
              "      <td>2</td>\n",
              "      <td>Could be better. I LOVE caramel, so much so th...</td>\n",
              "      <td>0.0</td>\n",
              "      <td>0.9550</td>\n",
              "      <td>[could, better, love, caramel, much, could, ea...</td>\n",
              "    </tr>\n",
              "    <tr>\n",
              "      <th>...</th>\n",
              "      <td>...</td>\n",
              "      <td>...</td>\n",
              "      <td>...</td>\n",
              "      <td>...</td>\n",
              "      <td>...</td>\n",
              "      <td>...</td>\n",
              "      <td>...</td>\n",
              "    </tr>\n",
              "    <tr>\n",
              "      <th>7938</th>\n",
              "      <td>56_bj</td>\n",
              "      <td>Peanut Butter Fudge Core</td>\n",
              "      <td>5</td>\n",
              "      <td>Peanut butter fudge heaven Oh man I use to be ...</td>\n",
              "      <td>1.0</td>\n",
              "      <td>0.9049</td>\n",
              "      <td>[peanut, butter, fudg, heaven, oh, man, use, w...</td>\n",
              "    </tr>\n",
              "    <tr>\n",
              "      <th>7939</th>\n",
              "      <td>56_bj</td>\n",
              "      <td>Peanut Butter Fudge Core</td>\n",
              "      <td>5</td>\n",
              "      <td>The best Chocolate Ice Cream Combo This is the...</td>\n",
              "      <td>1.0</td>\n",
              "      <td>0.8070</td>\n",
              "      <td>[best, chocol, ice, cream, combo, first, choco...</td>\n",
              "    </tr>\n",
              "    <tr>\n",
              "      <th>7940</th>\n",
              "      <td>56_bj</td>\n",
              "      <td>Peanut Butter Fudge Core</td>\n",
              "      <td>5</td>\n",
              "      <td>PERFECT!! This is the best pint of ice cream I...</td>\n",
              "      <td>1.0</td>\n",
              "      <td>0.9552</td>\n",
              "      <td>[perfect, best, pint, ice, cream, ever, like, ...</td>\n",
              "    </tr>\n",
              "    <tr>\n",
              "      <th>7941</th>\n",
              "      <td>56_bj</td>\n",
              "      <td>Peanut Butter Fudge Core</td>\n",
              "      <td>5</td>\n",
              "      <td>My favorite! This is my favorite ice cream eve...</td>\n",
              "      <td>1.0</td>\n",
              "      <td>0.8350</td>\n",
              "      <td>[favorit, favorit, ice, cream, ever, not, get,...</td>\n",
              "    </tr>\n",
              "    <tr>\n",
              "      <th>7942</th>\n",
              "      <td>56_bj</td>\n",
              "      <td>Peanut Butter Fudge Core</td>\n",
              "      <td>5</td>\n",
              "      <td>The Best This is my favorite flavor...I can ju...</td>\n",
              "      <td>1.0</td>\n",
              "      <td>0.8904</td>\n",
              "      <td>[best, favorit, buy, one, high, recommend]</td>\n",
              "    </tr>\n",
              "  </tbody>\n",
              "</table>\n",
              "<p>7536 rows × 7 columns</p>\n",
              "</div>\n",
              "      <button class=\"colab-df-convert\" onclick=\"convertToInteractive('df-74c9c98c-7980-4e97-9ba5-144f9eb73c44')\"\n",
              "              title=\"Convert this dataframe to an interactive table.\"\n",
              "              style=\"display:none;\">\n",
              "        \n",
              "  <svg xmlns=\"http://www.w3.org/2000/svg\" height=\"24px\"viewBox=\"0 0 24 24\"\n",
              "       width=\"24px\">\n",
              "    <path d=\"M0 0h24v24H0V0z\" fill=\"none\"/>\n",
              "    <path d=\"M18.56 5.44l.94 2.06.94-2.06 2.06-.94-2.06-.94-.94-2.06-.94 2.06-2.06.94zm-11 1L8.5 8.5l.94-2.06 2.06-.94-2.06-.94L8.5 2.5l-.94 2.06-2.06.94zm10 10l.94 2.06.94-2.06 2.06-.94-2.06-.94-.94-2.06-.94 2.06-2.06.94z\"/><path d=\"M17.41 7.96l-1.37-1.37c-.4-.4-.92-.59-1.43-.59-.52 0-1.04.2-1.43.59L10.3 9.45l-7.72 7.72c-.78.78-.78 2.05 0 2.83L4 21.41c.39.39.9.59 1.41.59.51 0 1.02-.2 1.41-.59l7.78-7.78 2.81-2.81c.8-.78.8-2.07 0-2.86zM5.41 20L4 18.59l7.72-7.72 1.47 1.35L5.41 20z\"/>\n",
              "  </svg>\n",
              "      </button>\n",
              "      \n",
              "  <style>\n",
              "    .colab-df-container {\n",
              "      display:flex;\n",
              "      flex-wrap:wrap;\n",
              "      gap: 12px;\n",
              "    }\n",
              "\n",
              "    .colab-df-convert {\n",
              "      background-color: #E8F0FE;\n",
              "      border: none;\n",
              "      border-radius: 50%;\n",
              "      cursor: pointer;\n",
              "      display: none;\n",
              "      fill: #1967D2;\n",
              "      height: 32px;\n",
              "      padding: 0 0 0 0;\n",
              "      width: 32px;\n",
              "    }\n",
              "\n",
              "    .colab-df-convert:hover {\n",
              "      background-color: #E2EBFA;\n",
              "      box-shadow: 0px 1px 2px rgba(60, 64, 67, 0.3), 0px 1px 3px 1px rgba(60, 64, 67, 0.15);\n",
              "      fill: #174EA6;\n",
              "    }\n",
              "\n",
              "    [theme=dark] .colab-df-convert {\n",
              "      background-color: #3B4455;\n",
              "      fill: #D2E3FC;\n",
              "    }\n",
              "\n",
              "    [theme=dark] .colab-df-convert:hover {\n",
              "      background-color: #434B5C;\n",
              "      box-shadow: 0px 1px 3px 1px rgba(0, 0, 0, 0.15);\n",
              "      filter: drop-shadow(0px 1px 2px rgba(0, 0, 0, 0.3));\n",
              "      fill: #FFFFFF;\n",
              "    }\n",
              "  </style>\n",
              "\n",
              "      <script>\n",
              "        const buttonEl =\n",
              "          document.querySelector('#df-74c9c98c-7980-4e97-9ba5-144f9eb73c44 button.colab-df-convert');\n",
              "        buttonEl.style.display =\n",
              "          google.colab.kernel.accessAllowed ? 'block' : 'none';\n",
              "\n",
              "        async function convertToInteractive(key) {\n",
              "          const element = document.querySelector('#df-74c9c98c-7980-4e97-9ba5-144f9eb73c44');\n",
              "          const dataTable =\n",
              "            await google.colab.kernel.invokeFunction('convertToInteractive',\n",
              "                                                     [key], {});\n",
              "          if (!dataTable) return;\n",
              "\n",
              "          const docLinkHtml = 'Like what you see? Visit the ' +\n",
              "            '<a target=\"_blank\" href=https://colab.research.google.com/notebooks/data_table.ipynb>data table notebook</a>'\n",
              "            + ' to learn more about interactive tables.';\n",
              "          element.innerHTML = '';\n",
              "          dataTable['output_type'] = 'display_data';\n",
              "          await google.colab.output.renderOutput(dataTable, element);\n",
              "          const docLink = document.createElement('div');\n",
              "          docLink.innerHTML = docLinkHtml;\n",
              "          element.appendChild(docLink);\n",
              "        }\n",
              "      </script>\n",
              "    </div>\n",
              "  </div>\n",
              "  "
            ]
          },
          "metadata": {},
          "execution_count": 238
        }
      ],
      "source": [
        "# apply text preprocessing to the review text\n",
        "text_df[\"tokens_titletext\"] = text_df[\"com_titletext\"].apply(process_review)\n",
        "text_df"
      ]
    },
    {
      "cell_type": "code",
      "execution_count": null,
      "metadata": {
        "colab": {
          "base_uri": "https://localhost:8080/"
        },
        "id": "FA15xqrd76e-",
        "outputId": "704f24c9-5254-4552-a33c-aa0c9811a88f"
      },
      "outputs": [
        {
          "output_type": "stream",
          "name": "stdout",
          "text": [
            "1.0    6401\n",
            "0.0    1135\n",
            "Name: b_star, dtype: int64\n"
          ]
        }
      ],
      "source": [
        "print(text_df['b_star'].value_counts())"
      ]
    },
    {
      "cell_type": "markdown",
      "metadata": {
        "id": "AN5PRHw9aVn6"
      },
      "source": [
        "## 01 BEFORE BALANCING"
      ]
    },
    {
      "cell_type": "markdown",
      "metadata": {
        "id": "fKJBwuRQ6umQ"
      },
      "source": [
        "## Split Data"
      ]
    },
    {
      "cell_type": "code",
      "execution_count": null,
      "metadata": {
        "id": "IF1myu1aDaDn"
      },
      "outputs": [],
      "source": [
        "X = text_df[\"tokens_titletext\"].tolist()\n",
        "y = text_df[\"b_star\"].tolist()"
      ]
    },
    {
      "cell_type": "code",
      "execution_count": null,
      "metadata": {
        "id": "-soir45s5jCZ"
      },
      "outputs": [],
      "source": [
        "from sklearn.model_selection import train_test_split\n",
        "\n",
        "X_train, X_test, y_train, y_test = train_test_split(X, y, random_state=0, train_size=0.80)"
      ]
    },
    {
      "cell_type": "markdown",
      "metadata": {
        "id": "su0L-d3FDWPk"
      },
      "source": [
        "## TF-IDF"
      ]
    },
    {
      "cell_type": "code",
      "execution_count": null,
      "metadata": {
        "id": "f_wYEt32DedR"
      },
      "outputs": [],
      "source": [
        "from sklearn.feature_extraction.text import TfidfVectorizer"
      ]
    },
    {
      "cell_type": "code",
      "execution_count": null,
      "metadata": {
        "id": "mqtm_vGJDcth"
      },
      "outputs": [],
      "source": [
        "# function to fit tfidf vectorizer\n",
        "def fit_tfidf(review_corpus):\n",
        "  tf_vect = TfidfVectorizer(preprocessor=lambda x: x,\n",
        "                            tokenizer=lambda x: x)\n",
        "  tf_vect.fit(review_corpus)\n",
        "  return tf_vect"
      ]
    },
    {
      "cell_type": "code",
      "execution_count": null,
      "metadata": {
        "colab": {
          "base_uri": "https://localhost:8080/"
        },
        "id": "_tdGGFNo6yzs",
        "outputId": "a69d8c2d-7000-4f8a-f4b2-b32037c9cca2"
      },
      "outputs": [
        {
          "output_type": "stream",
          "name": "stderr",
          "text": [
            "/usr/local/lib/python3.10/dist-packages/sklearn/feature_extraction/text.py:528: UserWarning: The parameter 'token_pattern' will not be used since 'tokenizer' is not None'\n",
            "  warnings.warn(\n"
          ]
        }
      ],
      "source": [
        "tf = fit_tfidf(X_train)\n",
        "X_train_tf = tf.transform(X_train)\n",
        "X_test_tf = tf.transform(X_test)"
      ]
    },
    {
      "cell_type": "markdown",
      "metadata": {
        "id": "qV_qGPjFcmoT"
      },
      "source": [
        "## 1.1 Naive Bayes"
      ]
    },
    {
      "cell_type": "code",
      "execution_count": null,
      "metadata": {
        "id": "NxfyKZkR__e9"
      },
      "outputs": [],
      "source": [
        "import seaborn as sn\n",
        "from sklearn.naive_bayes import MultinomialNB\n",
        "from sklearn.metrics import accuracy_score\n",
        "from sklearn.metrics import confusion_matrix"
      ]
    },
    {
      "cell_type": "code",
      "execution_count": null,
      "metadata": {
        "colab": {
          "base_uri": "https://localhost:8080/"
        },
        "id": "wSUc1Ypecp6K",
        "outputId": "94007aeb-de86-4930-eb52-0859f2575c27"
      },
      "outputs": [
        {
          "output_type": "stream",
          "name": "stdout",
          "text": [
            "NB Model Accuracy: 87.14%\n",
            "              precision    recall  f1-score   support\n",
            "\n",
            "         0.0      1.000     0.142     0.248       226\n",
            "         1.0      0.869     1.000     0.930      1282\n",
            "\n",
            "    accuracy                          0.871      1508\n",
            "   macro avg      0.934     0.571     0.589      1508\n",
            "weighted avg      0.888     0.871     0.828      1508\n",
            "\n"
          ]
        }
      ],
      "source": [
        "# Membuat dan melatih model Naive Bayes\n",
        "nbmodel = MultinomialNB()\n",
        "nbcl= nbmodel.fit(X_train_tf.toarray(), y_train)\n",
        "\n",
        "# Melakukan prediksi pada data uji\n",
        "nb_pred= nbcl.predict(X_test_tf.toarray())\n",
        "\n",
        "# Menghitung dan mencetak akurasi model\n",
        "print(\"NB Model Accuracy: {:.2%}\".format(accuracy_score(y_test, nb_pred)))\n",
        "\n",
        "# Mencetak laporan klasifikasi\n",
        "print(metrics.classification_report(y_test, nb_pred, digits=3))"
      ]
    },
    {
      "cell_type": "code",
      "execution_count": null,
      "metadata": {
        "id": "Oy3O5TXYOUhK"
      },
      "outputs": [],
      "source": [
        "def plot_confusion(cm):\n",
        "  plt.figure(figsize = (5,5))\n",
        "  x_axis_labels = ['neg','pos'] # labels for x-axis\n",
        "  y_axis_labels = ['neg','pos'] # labels for y-axis\n",
        "  sn.heatmap(cm, annot=True, cmap=\"Blues\", fmt='.0f', xticklabels=x_axis_labels, yticklabels=y_axis_labels)\n",
        "  plt.xlabel(\"Prediction\")\n",
        "  plt.ylabel(\"True value\")\n",
        "  plt.title(\"Confusion Matrix\")\n",
        "  return sn"
      ]
    },
    {
      "cell_type": "code",
      "execution_count": null,
      "metadata": {
        "colab": {
          "base_uri": "https://localhost:8080/",
          "height": 504
        },
        "id": "xGODuYhRK1S7",
        "outputId": "a4c6cd6f-0507-483c-9815-5087190f6d7e"
      },
      "outputs": [
        {
          "output_type": "execute_result",
          "data": {
            "text/plain": [
              "<module 'seaborn' from '/usr/local/lib/python3.10/dist-packages/seaborn/__init__.py'>"
            ]
          },
          "metadata": {},
          "execution_count": 248
        },
        {
          "output_type": "display_data",
          "data": {
            "text/plain": [
              "<Figure size 500x500 with 2 Axes>"
            ],
            "image/png": "[encoded data removed]"
          },
          "metadata": {}
        }
      ],
      "source": [
        "plot_confusion(confusion_matrix(y_test, nb_pred))"
      ]
    },
    {
      "cell_type": "code",
      "execution_count": null,
      "metadata": {
        "colab": {
          "base_uri": "https://localhost:8080/",
          "height": 424
        },
        "id": "kZBuRXWlLkzW",
        "outputId": "ffdbd8ae-28b9-4a9e-be02-fdbdcaf1370f"
      },
      "outputs": [
        {
          "output_type": "execute_result",
          "data": {
            "text/plain": [
              "        key              product_name  stars  \\\n",
              "1      0_bj       Salted Caramel Core      5   \n",
              "3      0_bj       Salted Caramel Core      5   \n",
              "4      0_bj       Salted Caramel Core      1   \n",
              "5      0_bj       Salted Caramel Core      2   \n",
              "8      0_bj       Salted Caramel Core      2   \n",
              "...     ...                       ...    ...   \n",
              "7938  56_bj  Peanut Butter Fudge Core      5   \n",
              "7939  56_bj  Peanut Butter Fudge Core      5   \n",
              "7940  56_bj  Peanut Butter Fudge Core      5   \n",
              "7941  56_bj  Peanut Butter Fudge Core      5   \n",
              "7942  56_bj  Peanut Butter Fudge Core      5   \n",
              "\n",
              "                                          com_titletext  b_star  b_score  \\\n",
              "1     I’m OBSESSED with this pint! I decided to try ...     1.0   0.9442   \n",
              "3     Obsessed!!! Why are people complaining about t...     1.0   0.9270   \n",
              "4     Worst Ice Cream Ever! This ice cream is worst ...     0.0  -0.7210   \n",
              "5     Way Too Salty I bought this last night to go w...     0.0  -0.8834   \n",
              "8     Could be better. I LOVE caramel, so much so th...     0.0   0.9550   \n",
              "...                                                 ...     ...      ...   \n",
              "7938  Peanut butter fudge heaven Oh man I use to be ...     1.0   0.9049   \n",
              "7939  The best Chocolate Ice Cream Combo This is the...     1.0   0.8070   \n",
              "7940  PERFECT!! This is the best pint of ice cream I...     1.0   0.9552   \n",
              "7941  My favorite! This is my favorite ice cream eve...     1.0   0.8350   \n",
              "7942  The Best This is my favorite flavor...I can ju...     1.0   0.8904   \n",
              "\n",
              "                                       tokens_titletext nb_pred  \n",
              "1     [obsess, pint, decid, tri, although, not, huge...     pos  \n",
              "3     [obsess, peopl, complain, blond, browni, not, ...     pos  \n",
              "4     [worst, ice, cream, ever, ice, cream, worst, i...     pos  \n",
              "5     [way, salti, bought, last, night, go, louisian...     pos  \n",
              "8     [could, better, love, caramel, much, could, ea...     pos  \n",
              "...                                                 ...     ...  \n",
              "7938  [peanut, butter, fudg, heaven, oh, man, use, w...     pos  \n",
              "7939  [best, chocol, ice, cream, combo, first, choco...     pos  \n",
              "7940  [perfect, best, pint, ice, cream, ever, like, ...     pos  \n",
              "7941  [favorit, favorit, ice, cream, ever, not, get,...     pos  \n",
              "7942         [best, favorit, buy, one, high, recommend]     pos  \n",
              "\n",
              "[7536 rows x 8 columns]"
            ],
            "text/html": [
              "\n",
              "  <div id=\"df-c37514bc-7208-44b5-a4b6-0727f5c1d087\">\n",
              "    <div class=\"colab-df-container\">\n",
              "      <div>\n",
              "<style scoped>\n",
              "    .dataframe tbody tr th:only-of-type {\n",
              "        vertical-align: middle;\n",
              "    }\n",
              "\n",
              "    .dataframe tbody tr th {\n",
              "        vertical-align: top;\n",
              "    }\n",
              "\n",
              "    .dataframe thead th {\n",
              "        text-align: right;\n",
              "    }\n",
              "</style>\n",
              "<table border=\"1\" class=\"dataframe\">\n",
              "  <thead>\n",
              "    <tr style=\"text-align: right;\">\n",
              "      <th></th>\n",
              "      <th>key</th>\n",
              "      <th>product_name</th>\n",
              "      <th>stars</th>\n",
              "      <th>com_titletext</th>\n",
              "      <th>b_star</th>\n",
              "      <th>b_score</th>\n",
              "      <th>tokens_titletext</th>\n",
              "      <th>nb_pred</th>\n",
              "    </tr>\n",
              "  </thead>\n",
              "  <tbody>\n",
              "    <tr>\n",
              "      <th>1</th>\n",
              "      <td>0_bj</td>\n",
              "      <td>Salted Caramel Core</td>\n",
              "      <td>5</td>\n",
              "      <td>I’m OBSESSED with this pint! I decided to try ...</td>\n",
              "      <td>1.0</td>\n",
              "      <td>0.9442</td>\n",
              "      <td>[obsess, pint, decid, tri, although, not, huge...</td>\n",
              "      <td>pos</td>\n",
              "    </tr>\n",
              "    <tr>\n",
              "      <th>3</th>\n",
              "      <td>0_bj</td>\n",
              "      <td>Salted Caramel Core</td>\n",
              "      <td>5</td>\n",
              "      <td>Obsessed!!! Why are people complaining about t...</td>\n",
              "      <td>1.0</td>\n",
              "      <td>0.9270</td>\n",
              "      <td>[obsess, peopl, complain, blond, browni, not, ...</td>\n",
              "      <td>pos</td>\n",
              "    </tr>\n",
              "    <tr>\n",
              "      <th>4</th>\n",
              "      <td>0_bj</td>\n",
              "      <td>Salted Caramel Core</td>\n",
              "      <td>1</td>\n",
              "      <td>Worst Ice Cream Ever! This ice cream is worst ...</td>\n",
              "      <td>0.0</td>\n",
              "      <td>-0.7210</td>\n",
              "      <td>[worst, ice, cream, ever, ice, cream, worst, i...</td>\n",
              "      <td>pos</td>\n",
              "    </tr>\n",
              "    <tr>\n",
              "      <th>5</th>\n",
              "      <td>0_bj</td>\n",
              "      <td>Salted Caramel Core</td>\n",
              "      <td>2</td>\n",
              "      <td>Way Too Salty I bought this last night to go w...</td>\n",
              "      <td>0.0</td>\n",
              "      <td>-0.8834</td>\n",
              "      <td>[way, salti, bought, last, night, go, louisian...</td>\n",
              "      <td>pos</td>\n",
              "    </tr>\n",
              "    <tr>\n",
              "      <th>8</th>\n",
              "      <td>0_bj</td>\n",
              "      <td>Salted Caramel Core</td>\n",
              "      <td>2</td>\n",
              "      <td>Could be better. I LOVE caramel, so much so th...</td>\n",
              "      <td>0.0</td>\n",
              "      <td>0.9550</td>\n",
              "      <td>[could, better, love, caramel, much, could, ea...</td>\n",
              "      <td>pos</td>\n",
              "    </tr>\n",
              "    <tr>\n",
              "      <th>...</th>\n",
              "      <td>...</td>\n",
              "      <td>...</td>\n",
              "      <td>...</td>\n",
              "      <td>...</td>\n",
              "      <td>...</td>\n",
              "      <td>...</td>\n",
              "      <td>...</td>\n",
              "      <td>...</td>\n",
              "    </tr>\n",
              "    <tr>\n",
              "      <th>7938</th>\n",
              "      <td>56_bj</td>\n",
              "      <td>Peanut Butter Fudge Core</td>\n",
              "      <td>5</td>\n",
              "      <td>Peanut butter fudge heaven Oh man I use to be ...</td>\n",
              "      <td>1.0</td>\n",
              "      <td>0.9049</td>\n",
              "      <td>[peanut, butter, fudg, heaven, oh, man, use, w...</td>\n",
              "      <td>pos</td>\n",
              "    </tr>\n",
              "    <tr>\n",
              "      <th>7939</th>\n",
              "      <td>56_bj</td>\n",
              "      <td>Peanut Butter Fudge Core</td>\n",
              "      <td>5</td>\n",
              "      <td>The best Chocolate Ice Cream Combo This is the...</td>\n",
              "      <td>1.0</td>\n",
              "      <td>0.8070</td>\n",
              "      <td>[best, chocol, ice, cream, combo, first, choco...</td>\n",
              "      <td>pos</td>\n",
              "    </tr>\n",
              "    <tr>\n",
              "      <th>7940</th>\n",
              "      <td>56_bj</td>\n",
              "      <td>Peanut Butter Fudge Core</td>\n",
              "      <td>5</td>\n",
              "      <td>PERFECT!! This is the best pint of ice cream I...</td>\n",
              "      <td>1.0</td>\n",
              "      <td>0.9552</td>\n",
              "      <td>[perfect, best, pint, ice, cream, ever, like, ...</td>\n",
              "      <td>pos</td>\n",
              "    </tr>\n",
              "    <tr>\n",
              "      <th>7941</th>\n",
              "      <td>56_bj</td>\n",
              "      <td>Peanut Butter Fudge Core</td>\n",
              "      <td>5</td>\n",
              "      <td>My favorite! This is my favorite ice cream eve...</td>\n",
              "      <td>1.0</td>\n",
              "      <td>0.8350</td>\n",
              "      <td>[favorit, favorit, ice, cream, ever, not, get,...</td>\n",
              "      <td>pos</td>\n",
              "    </tr>\n",
              "    <tr>\n",
              "      <th>7942</th>\n",
              "      <td>56_bj</td>\n",
              "      <td>Peanut Butter Fudge Core</td>\n",
              "      <td>5</td>\n",
              "      <td>The Best This is my favorite flavor...I can ju...</td>\n",
              "      <td>1.0</td>\n",
              "      <td>0.8904</td>\n",
              "      <td>[best, favorit, buy, one, high, recommend]</td>\n",
              "      <td>pos</td>\n",
              "    </tr>\n",
              "  </tbody>\n",
              "</table>\n",
              "<p>7536 rows × 8 columns</p>\n",
              "</div>\n",
              "      <button class=\"colab-df-convert\" onclick=\"convertToInteractive('df-c37514bc-7208-44b5-a4b6-0727f5c1d087')\"\n",
              "              title=\"Convert this dataframe to an interactive table.\"\n",
              "              style=\"display:none;\">\n",
              "        \n",
              "  <svg xmlns=\"http://www.w3.org/2000/svg\" height=\"24px\"viewBox=\"0 0 24 24\"\n",
              "       width=\"24px\">\n",
              "    <path d=\"M0 0h24v24H0V0z\" fill=\"none\"/>\n",
              "    <path d=\"M18.56 5.44l.94 2.06.94-2.06 2.06-.94-2.06-.94-.94-2.06-.94 2.06-2.06.94zm-11 1L8.5 8.5l.94-2.06 2.06-.94-2.06-.94L8.5 2.5l-.94 2.06-2.06.94zm10 10l.94 2.06.94-2.06 2.06-.94-2.06-.94-.94-2.06-.94 2.06-2.06.94z\"/><path d=\"M17.41 7.96l-1.37-1.37c-.4-.4-.92-.59-1.43-.59-.52 0-1.04.2-1.43.59L10.3 9.45l-7.72 7.72c-.78.78-.78 2.05 0 2.83L4 21.41c.39.39.9.59 1.41.59.51 0 1.02-.2 1.41-.59l7.78-7.78 2.81-2.81c.8-.78.8-2.07 0-2.86zM5.41 20L4 18.59l7.72-7.72 1.47 1.35L5.41 20z\"/>\n",
              "  </svg>\n",
              "      </button>\n",
              "      \n",
              "  <style>\n",
              "    .colab-df-container {\n",
              "      display:flex;\n",
              "      flex-wrap:wrap;\n",
              "      gap: 12px;\n",
              "    }\n",
              "\n",
              "    .colab-df-convert {\n",
              "      background-color: #E8F0FE;\n",
              "      border: none;\n",
              "      border-radius: 50%;\n",
              "      cursor: pointer;\n",
              "      display: none;\n",
              "      fill: #1967D2;\n",
              "      height: 32px;\n",
              "      padding: 0 0 0 0;\n",
              "      width: 32px;\n",
              "    }\n",
              "\n",
              "    .colab-df-convert:hover {\n",
              "      background-color: #E2EBFA;\n",
              "      box-shadow: 0px 1px 2px rgba(60, 64, 67, 0.3), 0px 1px 3px 1px rgba(60, 64, 67, 0.15);\n",
              "      fill: #174EA6;\n",
              "    }\n",
              "\n",
              "    [theme=dark] .colab-df-convert {\n",
              "      background-color: #3B4455;\n",
              "      fill: #D2E3FC;\n",
              "    }\n",
              "\n",
              "    [theme=dark] .colab-df-convert:hover {\n",
              "      background-color: #434B5C;\n",
              "      box-shadow: 0px 1px 3px 1px rgba(0, 0, 0, 0.15);\n",
              "      filter: drop-shadow(0px 1px 2px rgba(0, 0, 0, 0.3));\n",
              "      fill: #FFFFFF;\n",
              "    }\n",
              "  </style>\n",
              "\n",
              "      <script>\n",
              "        const buttonEl =\n",
              "          document.querySelector('#df-c37514bc-7208-44b5-a4b6-0727f5c1d087 button.colab-df-convert');\n",
              "        buttonEl.style.display =\n",
              "          google.colab.kernel.accessAllowed ? 'block' : 'none';\n",
              "\n",
              "        async function convertToInteractive(key) {\n",
              "          const element = document.querySelector('#df-c37514bc-7208-44b5-a4b6-0727f5c1d087');\n",
              "          const dataTable =\n",
              "            await google.colab.kernel.invokeFunction('convertToInteractive',\n",
              "                                                     [key], {});\n",
              "          if (!dataTable) return;\n",
              "\n",
              "          const docLinkHtml = 'Like what you see? Visit the ' +\n",
              "            '<a target=\"_blank\" href=https://colab.research.google.com/notebooks/data_table.ipynb>data table notebook</a>'\n",
              "            + ' to learn more about interactive tables.';\n",
              "          element.innerHTML = '';\n",
              "          dataTable['output_type'] = 'display_data';\n",
              "          await google.colab.output.renderOutput(dataTable, element);\n",
              "          const docLink = document.createElement('div');\n",
              "          docLink.innerHTML = docLinkHtml;\n",
              "          element.appendChild(docLink);\n",
              "        }\n",
              "      </script>\n",
              "    </div>\n",
              "  </div>\n",
              "  "
            ]
          },
          "metadata": {},
          "execution_count": 249
        }
      ],
      "source": [
        "token_text = text_df['tokens_titletext']\n",
        "tf_token = tf.transform(token_text)\n",
        "nb_predictions = nbmodel.predict(tf_token)\n",
        "\n",
        "# Mapping label prediksi ke label kelas (\"pos\" dan \"neg\")\n",
        "label_map = {1: \"pos\", 0: \"neg\"}\n",
        "nb_predicted_labels = [label_map[prediction] for prediction in nb_predictions]\n",
        "\n",
        "# Menambahkan kolom prediksi ke dalam DataFrame\n",
        "text_df['nb_pred'] = nb_predicted_labels\n",
        "\n",
        "# Menampilkan DataFrame dengan kolom prediksi\n",
        "text_df"
      ]
    },
    {
      "cell_type": "code",
      "source": [
        "text_df['nb_pred'].value_counts()"
      ],
      "metadata": {
        "colab": {
          "base_uri": "https://localhost:8080/"
        },
        "id": "dni0slE6A8tj",
        "outputId": "0c6185e1-4ba6-4809-f448-73e833ae19c8"
      },
      "execution_count": null,
      "outputs": [
        {
          "output_type": "execute_result",
          "data": {
            "text/plain": [
              "pos    7283\n",
              "neg     253\n",
              "Name: nb_pred, dtype: int64"
            ]
          },
          "metadata": {},
          "execution_count": 250
        }
      ]
    },
    {
      "cell_type": "code",
      "execution_count": null,
      "metadata": {
        "colab": {
          "base_uri": "https://localhost:8080/",
          "height": 449
        },
        "id": "1YclK5eeM81G",
        "outputId": "391d4ff8-0497-4f67-c145-bddbca77785f"
      },
      "outputs": [
        {
          "output_type": "display_data",
          "data": {
            "text/plain": [
              "<Figure size 640x480 with 1 Axes>"
            ],
            "image/png": "[encoded data removed]"
          },
          "metadata": {}
        }
      ],
      "source": [
        "text_df_sorted = text_df.sort_values('nb_pred', ascending=False)\n",
        "ax = sns.countplot(x ='nb_pred', data = text_df_sorted)\n",
        "ax.set(ylabel='Sentiment count', xlabel='Sentiments')\n",
        "plt.show()"
      ]
    },
    {
      "cell_type": "code",
      "execution_count": null,
      "metadata": {
        "colab": {
          "base_uri": "https://localhost:8080/",
          "height": 445
        },
        "id": "p5LBSfHONImR",
        "outputId": "2c78590b-3536-449d-ad73-11794852d828"
      },
      "outputs": [
        {
          "output_type": "execute_result",
          "data": {
            "text/plain": [
              "Text(0.5, 1.0, 'Sentiment distribution Naive Bayes Pie Chart')"
            ]
          },
          "metadata": {},
          "execution_count": 252
        },
        {
          "output_type": "display_data",
          "data": {
            "text/plain": [
              "<Figure size 640x480 with 1 Axes>"
            ],
            "image/png": "[encoded data removed]"
          },
          "metadata": {}
        }
      ],
      "source": [
        "text_df_sorted['nb_pred'].value_counts().plot.pie(autopct='%1.0f%%')\n",
        "plt.title(\"Sentiment distribution Naive Bayes Pie Chart\")"
      ]
    },
    {
      "cell_type": "code",
      "execution_count": null,
      "metadata": {
        "colab": {
          "base_uri": "https://localhost:8080/",
          "height": 467
        },
        "id": "c0OCNv0kNXKh",
        "outputId": "dbeb5458-48b0-4839-89a4-f5d55c70f831"
      },
      "outputs": [
        {
          "output_type": "execute_result",
          "data": {
            "text/plain": [
              "[Text(0, 0.5, 'Sentiment count'), Text(0.5, 0, 'Ice cream brand')]"
            ]
          },
          "metadata": {},
          "execution_count": 253
        },
        {
          "output_type": "display_data",
          "data": {
            "text/plain": [
              "<Figure size 640x480 with 1 Axes>"
            ],
            "image/png": "[encoded data removed]"
          },
          "metadata": {}
        }
      ],
      "source": [
        "# Top 10 ice cream brand sort by number of reviews\n",
        "df_prod_reviewcount = text_df_sorted['key'].value_counts().head(5).reset_index()\n",
        "df_prod_isin = text_df_sorted.loc[text_df_sorted['key'].isin(df_prod_reviewcount['index'])]\n",
        "ax1 = sns.countplot(x ='key', hue='nb_pred', data = df_prod_isin, order = df_prod_isin['key'].value_counts().index)\n",
        "ax1.set(ylabel='Sentiment count', xlabel='Ice cream brand')"
      ]
    },
    {
      "cell_type": "code",
      "execution_count": null,
      "metadata": {
        "id": "LIyq0ORhNcBA",
        "colab": {
          "base_uri": "https://localhost:8080/",
          "height": 467
        },
        "outputId": "6dc790a5-7cd6-4d22-eb1b-e37733c1af1f"
      },
      "outputs": [
        {
          "output_type": "execute_result",
          "data": {
            "text/plain": [
              "[Text(0, 0.5, 'Sentiment count'), Text(0.5, 0, 'Ice Cream brand')]"
            ]
          },
          "metadata": {},
          "execution_count": 254
        },
        {
          "output_type": "display_data",
          "data": {
            "text/plain": [
              "<Figure size 640x480 with 1 Axes>"
            ],
            "image/png": "[encoded data removed]"
          },
          "metadata": {}
        }
      ],
      "source": [
        "# Top 5 ice cream brand sort by positive review\n",
        "df_posreview = text_df_sorted.loc[text_df_sorted['nb_pred'] == 'pos']\n",
        "df_prod_positivecount = df_posreview['key'].value_counts().head(5).reset_index()\n",
        "ax2 = sns.barplot(x ='index', y= 'key', data = df_prod_positivecount)\n",
        "ax2.set(ylabel='Sentiment count', xlabel='Ice Cream brand')"
      ]
    },
    {
      "cell_type": "code",
      "execution_count": null,
      "metadata": {
        "id": "ORoN2Tl3NmwM",
        "colab": {
          "base_uri": "https://localhost:8080/",
          "height": 468
        },
        "outputId": "46418ed0-b0f5-4bd6-f9a7-cd813b040df0"
      },
      "outputs": [
        {
          "output_type": "execute_result",
          "data": {
            "text/plain": [
              "[Text(0, 0.5, 'Sentiment count'), Text(0.5, 0, 'Ice Cream brand')]"
            ]
          },
          "metadata": {},
          "execution_count": 255
        },
        {
          "output_type": "display_data",
          "data": {
            "text/plain": [
              "<Figure size 640x480 with 1 Axes>"
            ],
            "image/png": "[encoded data removed]"
          },
          "metadata": {}
        }
      ],
      "source": [
        "# Top 5 ice cream brand sort by negative review\n",
        "dfnegreview = text_df_sorted.loc[text_df_sorted['nb_pred'] == 'neg']\n",
        "df_prod_negcount = dfnegreview['key'].value_counts().head(5).reset_index()\n",
        "ax2 = sns.barplot(x ='index', y= 'key', data = df_prod_negcount)\n",
        "ax2.set(ylabel='Sentiment count', xlabel='Ice Cream brand')"
      ]
    },
    {
      "cell_type": "markdown",
      "metadata": {
        "id": "j1tzTdA_cqNf"
      },
      "source": [
        "## 1.2 Logistic Regression"
      ]
    },
    {
      "cell_type": "code",
      "execution_count": null,
      "metadata": {
        "id": "ys0i43oJcv_G"
      },
      "outputs": [],
      "source": [
        "import seaborn as sn\n",
        "from sklearn.linear_model import LogisticRegression\n",
        "from sklearn.metrics import accuracy_score\n",
        "from sklearn.metrics import confusion_matrix"
      ]
    },
    {
      "cell_type": "code",
      "execution_count": null,
      "metadata": {
        "id": "6MTWz9m-Djew"
      },
      "outputs": [],
      "source": [
        "# funtion to plot confusion matrix\n",
        "def plot_confusion(cm):\n",
        "  plt.figure(figsize = (5,5))\n",
        "  x_axis_labels = ['neg','pos'] # labels for x-axis\n",
        "  y_axis_labels = ['neg','pos'] # labels for y-axis\n",
        "  sn.heatmap(cm, annot=True, cmap=\"Blues\", fmt='.0f', xticklabels=x_axis_labels, yticklabels=y_axis_labels)\n",
        "  plt.xlabel(\"Prediction\")\n",
        "  plt.ylabel(\"True value\")\n",
        "  plt.title(\"Confusion Matrix\")\n",
        "  return sn"
      ]
    },
    {
      "cell_type": "code",
      "execution_count": null,
      "metadata": {
        "id": "1wVTeGP_Dl7a"
      },
      "outputs": [],
      "source": [
        "# create lr model\n",
        "modelLr = LogisticRegression()\n",
        "model_lr_tf = modelLr.fit(X_train_tf, y_train)\n",
        "y_pred = model_lr_tf.predict(X_test_tf)"
      ]
    },
    {
      "cell_type": "code",
      "execution_count": null,
      "metadata": {
        "id": "1FNn_tBADnRy",
        "colab": {
          "base_uri": "https://localhost:8080/"
        },
        "outputId": "ec8fc7c7-bb48-422d-b7fc-753766777261"
      },
      "outputs": [
        {
          "output_type": "stream",
          "name": "stdout",
          "text": [
            "LR Model Accuracy: 93.77%\n",
            "              precision    recall  f1-score   support\n",
            "\n",
            "         0.0      0.923     0.637     0.754       226\n",
            "         1.0      0.939     0.991     0.964      1282\n",
            "\n",
            "    accuracy                          0.938      1508\n",
            "   macro avg      0.931     0.814     0.859      1508\n",
            "weighted avg      0.937     0.938     0.933      1508\n",
            "\n"
          ]
        }
      ],
      "source": [
        "# print lr model accuracy & report\n",
        "print(\"LR Model Accuracy: {:.2%}\".format(accuracy_score(y_test, y_pred)))\n",
        "print(metrics.classification_report(y_test, y_pred, digits=3))"
      ]
    },
    {
      "cell_type": "code",
      "execution_count": null,
      "metadata": {
        "id": "1EtVY9PXDoic",
        "colab": {
          "base_uri": "https://localhost:8080/",
          "height": 504
        },
        "outputId": "e4e4394c-6a22-4e2d-9519-d9f2090a0cb3"
      },
      "outputs": [
        {
          "output_type": "execute_result",
          "data": {
            "text/plain": [
              "<module 'seaborn' from '/usr/local/lib/python3.10/dist-packages/seaborn/__init__.py'>"
            ]
          },
          "metadata": {},
          "execution_count": 260
        },
        {
          "output_type": "display_data",
          "data": {
            "text/plain": [
              "<Figure size 500x500 with 2 Axes>"
            ],
            "image/png": "[encoded data removed]"
          },
          "metadata": {}
        }
      ],
      "source": [
        "# plot confusion\n",
        "plot_confusion(confusion_matrix(y_test, y_pred))"
      ]
    },
    {
      "cell_type": "code",
      "execution_count": null,
      "metadata": {
        "id": "dHu-SXU7DrM0",
        "colab": {
          "base_uri": "https://localhost:8080/",
          "height": 424
        },
        "outputId": "f4e69e7f-cc0a-43f9-b7ad-8561b211e3f1"
      },
      "outputs": [
        {
          "output_type": "execute_result",
          "data": {
            "text/plain": [
              "        key              product_name  stars  \\\n",
              "1      0_bj       Salted Caramel Core      5   \n",
              "3      0_bj       Salted Caramel Core      5   \n",
              "4      0_bj       Salted Caramel Core      1   \n",
              "5      0_bj       Salted Caramel Core      2   \n",
              "8      0_bj       Salted Caramel Core      2   \n",
              "...     ...                       ...    ...   \n",
              "7938  56_bj  Peanut Butter Fudge Core      5   \n",
              "7939  56_bj  Peanut Butter Fudge Core      5   \n",
              "7940  56_bj  Peanut Butter Fudge Core      5   \n",
              "7941  56_bj  Peanut Butter Fudge Core      5   \n",
              "7942  56_bj  Peanut Butter Fudge Core      5   \n",
              "\n",
              "                                          com_titletext  b_star  b_score  \\\n",
              "1     I’m OBSESSED with this pint! I decided to try ...     1.0   0.9442   \n",
              "3     Obsessed!!! Why are people complaining about t...     1.0   0.9270   \n",
              "4     Worst Ice Cream Ever! This ice cream is worst ...     0.0  -0.7210   \n",
              "5     Way Too Salty I bought this last night to go w...     0.0  -0.8834   \n",
              "8     Could be better. I LOVE caramel, so much so th...     0.0   0.9550   \n",
              "...                                                 ...     ...      ...   \n",
              "7938  Peanut butter fudge heaven Oh man I use to be ...     1.0   0.9049   \n",
              "7939  The best Chocolate Ice Cream Combo This is the...     1.0   0.8070   \n",
              "7940  PERFECT!! This is the best pint of ice cream I...     1.0   0.9552   \n",
              "7941  My favorite! This is my favorite ice cream eve...     1.0   0.8350   \n",
              "7942  The Best This is my favorite flavor...I can ju...     1.0   0.8904   \n",
              "\n",
              "                                       tokens_titletext nb_pred lr_pred  \n",
              "1     [obsess, pint, decid, tri, although, not, huge...     pos     neg  \n",
              "3     [obsess, peopl, complain, blond, browni, not, ...     pos     pos  \n",
              "4     [worst, ice, cream, ever, ice, cream, worst, i...     pos     neg  \n",
              "5     [way, salti, bought, last, night, go, louisian...     pos     neg  \n",
              "8     [could, better, love, caramel, much, could, ea...     pos     pos  \n",
              "...                                                 ...     ...     ...  \n",
              "7938  [peanut, butter, fudg, heaven, oh, man, use, w...     pos     pos  \n",
              "7939  [best, chocol, ice, cream, combo, first, choco...     pos     pos  \n",
              "7940  [perfect, best, pint, ice, cream, ever, like, ...     pos     pos  \n",
              "7941  [favorit, favorit, ice, cream, ever, not, get,...     pos     pos  \n",
              "7942         [best, favorit, buy, one, high, recommend]     pos     pos  \n",
              "\n",
              "[7536 rows x 9 columns]"
            ],
            "text/html": [
              "\n",
              "  <div id=\"df-4ea73348-d7d4-4074-a6da-8824646e2482\">\n",
              "    <div class=\"colab-df-container\">\n",
              "      <div>\n",
              "<style scoped>\n",
              "    .dataframe tbody tr th:only-of-type {\n",
              "        vertical-align: middle;\n",
              "    }\n",
              "\n",
              "    .dataframe tbody tr th {\n",
              "        vertical-align: top;\n",
              "    }\n",
              "\n",
              "    .dataframe thead th {\n",
              "        text-align: right;\n",
              "    }\n",
              "</style>\n",
              "<table border=\"1\" class=\"dataframe\">\n",
              "  <thead>\n",
              "    <tr style=\"text-align: right;\">\n",
              "      <th></th>\n",
              "      <th>key</th>\n",
              "      <th>product_name</th>\n",
              "      <th>stars</th>\n",
              "      <th>com_titletext</th>\n",
              "      <th>b_star</th>\n",
              "      <th>b_score</th>\n",
              "      <th>tokens_titletext</th>\n",
              "      <th>nb_pred</th>\n",
              "      <th>lr_pred</th>\n",
              "    </tr>\n",
              "  </thead>\n",
              "  <tbody>\n",
              "    <tr>\n",
              "      <th>1</th>\n",
              "      <td>0_bj</td>\n",
              "      <td>Salted Caramel Core</td>\n",
              "      <td>5</td>\n",
              "      <td>I’m OBSESSED with this pint! I decided to try ...</td>\n",
              "      <td>1.0</td>\n",
              "      <td>0.9442</td>\n",
              "      <td>[obsess, pint, decid, tri, although, not, huge...</td>\n",
              "      <td>pos</td>\n",
              "      <td>neg</td>\n",
              "    </tr>\n",
              "    <tr>\n",
              "      <th>3</th>\n",
              "      <td>0_bj</td>\n",
              "      <td>Salted Caramel Core</td>\n",
              "      <td>5</td>\n",
              "      <td>Obsessed!!! Why are people complaining about t...</td>\n",
              "      <td>1.0</td>\n",
              "      <td>0.9270</td>\n",
              "      <td>[obsess, peopl, complain, blond, browni, not, ...</td>\n",
              "      <td>pos</td>\n",
              "      <td>pos</td>\n",
              "    </tr>\n",
              "    <tr>\n",
              "      <th>4</th>\n",
              "      <td>0_bj</td>\n",
              "      <td>Salted Caramel Core</td>\n",
              "      <td>1</td>\n",
              "      <td>Worst Ice Cream Ever! This ice cream is worst ...</td>\n",
              "      <td>0.0</td>\n",
              "      <td>-0.7210</td>\n",
              "      <td>[worst, ice, cream, ever, ice, cream, worst, i...</td>\n",
              "      <td>pos</td>\n",
              "      <td>neg</td>\n",
              "    </tr>\n",
              "    <tr>\n",
              "      <th>5</th>\n",
              "      <td>0_bj</td>\n",
              "      <td>Salted Caramel Core</td>\n",
              "      <td>2</td>\n",
              "      <td>Way Too Salty I bought this last night to go w...</td>\n",
              "      <td>0.0</td>\n",
              "      <td>-0.8834</td>\n",
              "      <td>[way, salti, bought, last, night, go, louisian...</td>\n",
              "      <td>pos</td>\n",
              "      <td>neg</td>\n",
              "    </tr>\n",
              "    <tr>\n",
              "      <th>8</th>\n",
              "      <td>0_bj</td>\n",
              "      <td>Salted Caramel Core</td>\n",
              "      <td>2</td>\n",
              "      <td>Could be better. I LOVE caramel, so much so th...</td>\n",
              "      <td>0.0</td>\n",
              "      <td>0.9550</td>\n",
              "      <td>[could, better, love, caramel, much, could, ea...</td>\n",
              "      <td>pos</td>\n",
              "      <td>pos</td>\n",
              "    </tr>\n",
              "    <tr>\n",
              "      <th>...</th>\n",
              "      <td>...</td>\n",
              "      <td>...</td>\n",
              "      <td>...</td>\n",
              "      <td>...</td>\n",
              "      <td>...</td>\n",
              "      <td>...</td>\n",
              "      <td>...</td>\n",
              "      <td>...</td>\n",
              "      <td>...</td>\n",
              "    </tr>\n",
              "    <tr>\n",
              "      <th>7938</th>\n",
              "      <td>56_bj</td>\n",
              "      <td>Peanut Butter Fudge Core</td>\n",
              "      <td>5</td>\n",
              "      <td>Peanut butter fudge heaven Oh man I use to be ...</td>\n",
              "      <td>1.0</td>\n",
              "      <td>0.9049</td>\n",
              "      <td>[peanut, butter, fudg, heaven, oh, man, use, w...</td>\n",
              "      <td>pos</td>\n",
              "      <td>pos</td>\n",
              "    </tr>\n",
              "    <tr>\n",
              "      <th>7939</th>\n",
              "      <td>56_bj</td>\n",
              "      <td>Peanut Butter Fudge Core</td>\n",
              "      <td>5</td>\n",
              "      <td>The best Chocolate Ice Cream Combo This is the...</td>\n",
              "      <td>1.0</td>\n",
              "      <td>0.8070</td>\n",
              "      <td>[best, chocol, ice, cream, combo, first, choco...</td>\n",
              "      <td>pos</td>\n",
              "      <td>pos</td>\n",
              "    </tr>\n",
              "    <tr>\n",
              "      <th>7940</th>\n",
              "      <td>56_bj</td>\n",
              "      <td>Peanut Butter Fudge Core</td>\n",
              "      <td>5</td>\n",
              "      <td>PERFECT!! This is the best pint of ice cream I...</td>\n",
              "      <td>1.0</td>\n",
              "      <td>0.9552</td>\n",
              "      <td>[perfect, best, pint, ice, cream, ever, like, ...</td>\n",
              "      <td>pos</td>\n",
              "      <td>pos</td>\n",
              "    </tr>\n",
              "    <tr>\n",
              "      <th>7941</th>\n",
              "      <td>56_bj</td>\n",
              "      <td>Peanut Butter Fudge Core</td>\n",
              "      <td>5</td>\n",
              "      <td>My favorite! This is my favorite ice cream eve...</td>\n",
              "      <td>1.0</td>\n",
              "      <td>0.8350</td>\n",
              "      <td>[favorit, favorit, ice, cream, ever, not, get,...</td>\n",
              "      <td>pos</td>\n",
              "      <td>pos</td>\n",
              "    </tr>\n",
              "    <tr>\n",
              "      <th>7942</th>\n",
              "      <td>56_bj</td>\n",
              "      <td>Peanut Butter Fudge Core</td>\n",
              "      <td>5</td>\n",
              "      <td>The Best This is my favorite flavor...I can ju...</td>\n",
              "      <td>1.0</td>\n",
              "      <td>0.8904</td>\n",
              "      <td>[best, favorit, buy, one, high, recommend]</td>\n",
              "      <td>pos</td>\n",
              "      <td>pos</td>\n",
              "    </tr>\n",
              "  </tbody>\n",
              "</table>\n",
              "<p>7536 rows × 9 columns</p>\n",
              "</div>\n",
              "      <button class=\"colab-df-convert\" onclick=\"convertToInteractive('df-4ea73348-d7d4-4074-a6da-8824646e2482')\"\n",
              "              title=\"Convert this dataframe to an interactive table.\"\n",
              "              style=\"display:none;\">\n",
              "        \n",
              "  <svg xmlns=\"http://www.w3.org/2000/svg\" height=\"24px\"viewBox=\"0 0 24 24\"\n",
              "       width=\"24px\">\n",
              "    <path d=\"M0 0h24v24H0V0z\" fill=\"none\"/>\n",
              "    <path d=\"M18.56 5.44l.94 2.06.94-2.06 2.06-.94-2.06-.94-.94-2.06-.94 2.06-2.06.94zm-11 1L8.5 8.5l.94-2.06 2.06-.94-2.06-.94L8.5 2.5l-.94 2.06-2.06.94zm10 10l.94 2.06.94-2.06 2.06-.94-2.06-.94-.94-2.06-.94 2.06-2.06.94z\"/><path d=\"M17.41 7.96l-1.37-1.37c-.4-.4-.92-.59-1.43-.59-.52 0-1.04.2-1.43.59L10.3 9.45l-7.72 7.72c-.78.78-.78 2.05 0 2.83L4 21.41c.39.39.9.59 1.41.59.51 0 1.02-.2 1.41-.59l7.78-7.78 2.81-2.81c.8-.78.8-2.07 0-2.86zM5.41 20L4 18.59l7.72-7.72 1.47 1.35L5.41 20z\"/>\n",
              "  </svg>\n",
              "      </button>\n",
              "      \n",
              "  <style>\n",
              "    .colab-df-container {\n",
              "      display:flex;\n",
              "      flex-wrap:wrap;\n",
              "      gap: 12px;\n",
              "    }\n",
              "\n",
              "    .colab-df-convert {\n",
              "      background-color: #E8F0FE;\n",
              "      border: none;\n",
              "      border-radius: 50%;\n",
              "      cursor: pointer;\n",
              "      display: none;\n",
              "      fill: #1967D2;\n",
              "      height: 32px;\n",
              "      padding: 0 0 0 0;\n",
              "      width: 32px;\n",
              "    }\n",
              "\n",
              "    .colab-df-convert:hover {\n",
              "      background-color: #E2EBFA;\n",
              "      box-shadow: 0px 1px 2px rgba(60, 64, 67, 0.3), 0px 1px 3px 1px rgba(60, 64, 67, 0.15);\n",
              "      fill: #174EA6;\n",
              "    }\n",
              "\n",
              "    [theme=dark] .colab-df-convert {\n",
              "      background-color: #3B4455;\n",
              "      fill: #D2E3FC;\n",
              "    }\n",
              "\n",
              "    [theme=dark] .colab-df-convert:hover {\n",
              "      background-color: #434B5C;\n",
              "      box-shadow: 0px 1px 3px 1px rgba(0, 0, 0, 0.15);\n",
              "      filter: drop-shadow(0px 1px 2px rgba(0, 0, 0, 0.3));\n",
              "      fill: #FFFFFF;\n",
              "    }\n",
              "  </style>\n",
              "\n",
              "      <script>\n",
              "        const buttonEl =\n",
              "          document.querySelector('#df-4ea73348-d7d4-4074-a6da-8824646e2482 button.colab-df-convert');\n",
              "        buttonEl.style.display =\n",
              "          google.colab.kernel.accessAllowed ? 'block' : 'none';\n",
              "\n",
              "        async function convertToInteractive(key) {\n",
              "          const element = document.querySelector('#df-4ea73348-d7d4-4074-a6da-8824646e2482');\n",
              "          const dataTable =\n",
              "            await google.colab.kernel.invokeFunction('convertToInteractive',\n",
              "                                                     [key], {});\n",
              "          if (!dataTable) return;\n",
              "\n",
              "          const docLinkHtml = 'Like what you see? Visit the ' +\n",
              "            '<a target=\"_blank\" href=https://colab.research.google.com/notebooks/data_table.ipynb>data table notebook</a>'\n",
              "            + ' to learn more about interactive tables.';\n",
              "          element.innerHTML = '';\n",
              "          dataTable['output_type'] = 'display_data';\n",
              "          await google.colab.output.renderOutput(dataTable, element);\n",
              "          const docLink = document.createElement('div');\n",
              "          docLink.innerHTML = docLinkHtml;\n",
              "          element.appendChild(docLink);\n",
              "        }\n",
              "      </script>\n",
              "    </div>\n",
              "  </div>\n",
              "  "
            ]
          },
          "metadata": {},
          "execution_count": 261
        }
      ],
      "source": [
        "# predict review with lr model\n",
        "token_text = text_df['tokens_titletext']\n",
        "tf_token = tf.transform(token_text)\n",
        "lr_predictions = model_lr_tf.predict(tf_token)\n",
        "label_map = {1: \"pos\", 0: \"neg\"}\n",
        "lr_predicted_labels = [label_map[prediction] for prediction in lr_predictions]\n",
        "text_df['lr_pred'] = lr_predicted_labels\n",
        "\n",
        "text_df"
      ]
    },
    {
      "cell_type": "code",
      "source": [
        "text_df['lr_pred'].value_counts()"
      ],
      "metadata": {
        "colab": {
          "base_uri": "https://localhost:8080/"
        },
        "id": "8VKROFISBbUL",
        "outputId": "245f2cdd-07da-46cc-8432-fd549e7a0c41"
      },
      "execution_count": null,
      "outputs": [
        {
          "output_type": "execute_result",
          "data": {
            "text/plain": [
              "pos    6700\n",
              "neg     836\n",
              "Name: lr_pred, dtype: int64"
            ]
          },
          "metadata": {},
          "execution_count": 262
        }
      ]
    },
    {
      "cell_type": "code",
      "execution_count": null,
      "metadata": {
        "id": "JnIdzb2oDtJu",
        "colab": {
          "base_uri": "https://localhost:8080/",
          "height": 453
        },
        "outputId": "2471ff96-6da7-43a9-849c-f5438d0d635f"
      },
      "outputs": [
        {
          "output_type": "display_data",
          "data": {
            "text/plain": [
              "<Figure size 640x480 with 1 Axes>"
            ],
            "image/png": "[encoded data removed]"
          },
          "metadata": {}
        }
      ],
      "source": [
        "# plot prediction result\n",
        "text_df_sorted = text_df.sort_values('lr_pred', ascending=False)\n",
        "ax = sns.countplot(x ='lr_pred', data = text_df_sorted)\n",
        "ax.set(ylabel='Sentiment count', xlabel='Sentiments')\n",
        "plt.show()"
      ]
    },
    {
      "cell_type": "code",
      "execution_count": null,
      "metadata": {
        "id": "Qe1tXrqHDySO",
        "colab": {
          "base_uri": "https://localhost:8080/",
          "height": 445
        },
        "outputId": "e6bad6bf-ff85-4110-a06c-64e7bc073508"
      },
      "outputs": [
        {
          "output_type": "execute_result",
          "data": {
            "text/plain": [
              "Text(0.5, 1.0, 'Sentiment distribution LR Pie Chart')"
            ]
          },
          "metadata": {},
          "execution_count": 264
        },
        {
          "output_type": "display_data",
          "data": {
            "text/plain": [
              "<Figure size 640x480 with 1 Axes>"
            ],
            "image/png": "[encoded data removed]"
          },
          "metadata": {}
        }
      ],
      "source": [
        "text_df_sorted['lr_pred'].value_counts().plot.pie(autopct='%1.0f%%')\n",
        "plt.title(\"Sentiment distribution LR Pie Chart\")"
      ]
    },
    {
      "cell_type": "code",
      "execution_count": null,
      "metadata": {
        "id": "OdN-qx-WD1Sl",
        "colab": {
          "base_uri": "https://localhost:8080/",
          "height": 467
        },
        "outputId": "20213b7b-6605-40a3-a29b-3cd4e783b50b"
      },
      "outputs": [
        {
          "output_type": "execute_result",
          "data": {
            "text/plain": [
              "[Text(0, 0.5, 'Sentiment count'), Text(0.5, 0, 'Ice cream brand')]"
            ]
          },
          "metadata": {},
          "execution_count": 265
        },
        {
          "output_type": "display_data",
          "data": {
            "text/plain": [
              "<Figure size 640x480 with 1 Axes>"
            ],
            "image/png": "[encoded data removed]"
          },
          "metadata": {}
        }
      ],
      "source": [
        "# Top 10 ice cream brand sort by number of reviews\n",
        "df_prod_reviewcount = text_df_sorted['key'].value_counts().head(5).reset_index()\n",
        "df_prod_isin = text_df_sorted.loc[text_df_sorted['key'].isin(df_prod_reviewcount['index'])]\n",
        "ax1 = sns.countplot(x ='key', hue='lr_pred', data = df_prod_isin, order = df_prod_isin['key'].value_counts().index)\n",
        "ax1.set(ylabel='Sentiment count', xlabel='Ice cream brand')"
      ]
    },
    {
      "cell_type": "code",
      "execution_count": null,
      "metadata": {
        "id": "foTym737D4tq",
        "colab": {
          "base_uri": "https://localhost:8080/",
          "height": 467
        },
        "outputId": "8e8169e7-4f21-4101-eb6f-cea0d9900fb2"
      },
      "outputs": [
        {
          "output_type": "execute_result",
          "data": {
            "text/plain": [
              "[Text(0, 0.5, 'Sentiment count'), Text(0.5, 0, 'Ice cream brand')]"
            ]
          },
          "metadata": {},
          "execution_count": 266
        },
        {
          "output_type": "display_data",
          "data": {
            "text/plain": [
              "<Figure size 640x480 with 1 Axes>"
            ],
            "image/png": "[encoded data removed]"
          },
          "metadata": {}
        }
      ],
      "source": [
        "# Top 5 ice cream brand sort by positive review\n",
        "df_posreview = text_df_sorted.loc[text_df_sorted['lr_pred'] == 'pos']\n",
        "df_prod_positivecount = df_posreview['key'].value_counts().head(5).reset_index()\n",
        "ax2 = sns.barplot(x ='index', y= 'key', data = df_prod_positivecount)\n",
        "ax2.set(ylabel='Sentiment count', xlabel='Ice cream brand')"
      ]
    },
    {
      "cell_type": "code",
      "execution_count": null,
      "metadata": {
        "id": "t_SWvVnzD7c5",
        "colab": {
          "base_uri": "https://localhost:8080/",
          "height": 467
        },
        "outputId": "b908cdef-5691-405b-85ce-7187c81b61e3"
      },
      "outputs": [
        {
          "output_type": "execute_result",
          "data": {
            "text/plain": [
              "[Text(0, 0.5, 'Sentiment count'), Text(0.5, 0, 'Ice cream brand')]"
            ]
          },
          "metadata": {},
          "execution_count": 267
        },
        {
          "output_type": "display_data",
          "data": {
            "text/plain": [
              "<Figure size 640x480 with 1 Axes>"
            ],
            "image/png": "[encoded data removed]"
          },
          "metadata": {}
        }
      ],
      "source": [
        "# Top 5 ice cream brand sort by negative review\n",
        "dfnegreview = text_df_sorted.loc[text_df_sorted['lr_pred'] == 'neg']\n",
        "df_prod_negcount = dfnegreview['key'].value_counts().head(5).reset_index()\n",
        "ax2 = sns.barplot(x ='index', y= 'key', data = df_prod_negcount)\n",
        "ax2.set(ylabel='Sentiment count', xlabel='Ice cream brand')"
      ]
    },
    {
      "cell_type": "markdown",
      "metadata": {
        "id": "dLBYAzoF_4yW"
      },
      "source": [
        "## BALANCING DATA"
      ]
    },
    {
      "cell_type": "code",
      "execution_count": null,
      "metadata": {
        "id": "aTd5Wd3m_C2f",
        "colab": {
          "base_uri": "https://localhost:8080/"
        },
        "outputId": "8585b75b-9daa-43af-938f-9af80ab4b70c"
      },
      "outputs": [
        {
          "output_type": "stream",
          "name": "stdout",
          "text": [
            "Jumlah sampel sebelum balancing:\n",
            "1.0    6401\n",
            "0.0    1135\n",
            "Name: b_star, dtype: int64\n",
            "Jumlah sampel setelah balancing:\n",
            "1.0    6401\n",
            "0.0    6401\n",
            "Name: b_star, dtype: int64\n"
          ]
        }
      ],
      "source": [
        "# Menampilkan informasi jumlah sampel sebelum dilakukan balancing\n",
        "print(\"Jumlah sampel sebelum balancing:\")\n",
        "print(text_df['b_star'].value_counts())\n",
        "\n",
        "# Melakukan balancing dataset\n",
        "n_samples = text_df['b_star'].value_counts().max()\n",
        "balanced_reviews = pd.concat([text_df[text_df['b_star'] == 1].sample(n=n_samples, replace=True, random_state=42),\n",
        "                              text_df[text_df['b_star'] == 0].sample(n=n_samples, replace=True, random_state=42)])\n",
        "\n",
        "# Menampilkan informasi jumlah sampel setelah dilakukan balancing\n",
        "print(\"Jumlah sampel setelah balancing:\")\n",
        "print(balanced_reviews['b_star'].value_counts())"
      ]
    },
    {
      "cell_type": "code",
      "execution_count": null,
      "metadata": {
        "id": "YEBCfArh_6l5",
        "colab": {
          "base_uri": "https://localhost:8080/",
          "height": 424
        },
        "outputId": "25f7e4f2-85a1-4b43-d0e7-d92013d286d8"
      },
      "outputs": [
        {
          "output_type": "execute_result",
          "data": {
            "text/plain": [
              "        key                      product_name  stars  \\\n",
              "1105  10_bj                  Americone Dream®      5   \n",
              "6576  44_bj                The Tonight Dough®      5   \n",
              "6400  44_bj                The Tonight Dough®      5   \n",
              "6351  44_bj                The Tonight Dough®      5   \n",
              "4727  28_bj                       Half Baked®      5   \n",
              "...     ...                               ...    ...   \n",
              "7782  54_bj   Cookies & Cream Cheesecake Core      2   \n",
              "1715  15_bj               Chillin' the Roast™      2   \n",
              "7309  50_bj  Chocolate Chip Cookie Dough Core      2   \n",
              "3678  24_bj          Coffee Toffee Bar Crunch      1   \n",
              "3866  24_bj          Coffee Toffee Bar Crunch      1   \n",
              "\n",
              "                                          com_titletext  b_star  b_score  \\\n",
              "1105   This flavors has become one my of new favorit...     1.0   0.8957   \n",
              "6576  Best flavor I've ever had This is just amazing...     1.0   0.9627   \n",
              "6400  Literally the best flavor of ice cream Ever Pl...     1.0   0.9849   \n",
              "6351  Best Flavor Ever! It's like heaven in my mouth...     1.0   0.8832   \n",
              "4727   ben and jerrys has always been a go to ice cr...     1.0   0.6239   \n",
              "...                                                 ...     ...      ...   \n",
              "7782  I liked the chocolate and cookie part... I was...     0.0   0.7011   \n",
              "1715  It made my mouth sad I bought this ice cream f...     0.0   0.9435   \n",
              "7309  soo disappointed i am so upset that this didnt...     0.0  -0.7221   \n",
              "3678  Wish you brought back the original! The old co...     0.0  -0.6000   \n",
              "3866  Bring back the heath bar! I am so sad that you...     0.0  -0.7606   \n",
              "\n",
              "                                       tokens_titletext nb_pred lr_pred  \n",
              "1105  [flavor, becom, one, new, favorit, flavor, cho...     pos     pos  \n",
              "6576  [best, flavor, ever, amaz, incorpor, favorit, ...     pos     pos  \n",
              "6400  [liter, best, flavor, ice, cream, ever, pleas,...     pos     pos  \n",
              "6351  [best, flavor, ever, like, heaven, mouth, firs...     pos     pos  \n",
              "4727  [ben, jerri, alway, go, ice, cream, brand, fla...     pos     pos  \n",
              "...                                                 ...     ...     ...  \n",
              "7782  [like, chocol, cooki, part, excit, find, flavo...     pos     neg  \n",
              "1715  [made, mouth, sad, bought, ice, cream, flavor,...     pos     pos  \n",
              "7309  [soo, disappoint, upset, not, meet, expect, co...     pos     neg  \n",
              "3678  [wish, brought, back, origin, old, coffe, heat...     pos     neg  \n",
              "3866  [bring, back, heath, bar, sad, chang, heath, b...     neg     neg  \n",
              "\n",
              "[12802 rows x 9 columns]"
            ],
            "text/html": [
              "\n",
              "  <div id=\"df-95bf74ce-9f09-40ec-8fa3-0a2e25db38a3\">\n",
              "    <div class=\"colab-df-container\">\n",
              "      <div>\n",
              "<style scoped>\n",
              "    .dataframe tbody tr th:only-of-type {\n",
              "        vertical-align: middle;\n",
              "    }\n",
              "\n",
              "    .dataframe tbody tr th {\n",
              "        vertical-align: top;\n",
              "    }\n",
              "\n",
              "    .dataframe thead th {\n",
              "        text-align: right;\n",
              "    }\n",
              "</style>\n",
              "<table border=\"1\" class=\"dataframe\">\n",
              "  <thead>\n",
              "    <tr style=\"text-align: right;\">\n",
              "      <th></th>\n",
              "      <th>key</th>\n",
              "      <th>product_name</th>\n",
              "      <th>stars</th>\n",
              "      <th>com_titletext</th>\n",
              "      <th>b_star</th>\n",
              "      <th>b_score</th>\n",
              "      <th>tokens_titletext</th>\n",
              "      <th>nb_pred</th>\n",
              "      <th>lr_pred</th>\n",
              "    </tr>\n",
              "  </thead>\n",
              "  <tbody>\n",
              "    <tr>\n",
              "      <th>1105</th>\n",
              "      <td>10_bj</td>\n",
              "      <td>Americone Dream®</td>\n",
              "      <td>5</td>\n",
              "      <td>This flavors has become one my of new favorit...</td>\n",
              "      <td>1.0</td>\n",
              "      <td>0.8957</td>\n",
              "      <td>[flavor, becom, one, new, favorit, flavor, cho...</td>\n",
              "      <td>pos</td>\n",
              "      <td>pos</td>\n",
              "    </tr>\n",
              "    <tr>\n",
              "      <th>6576</th>\n",
              "      <td>44_bj</td>\n",
              "      <td>The Tonight Dough®</td>\n",
              "      <td>5</td>\n",
              "      <td>Best flavor I've ever had This is just amazing...</td>\n",
              "      <td>1.0</td>\n",
              "      <td>0.9627</td>\n",
              "      <td>[best, flavor, ever, amaz, incorpor, favorit, ...</td>\n",
              "      <td>pos</td>\n",
              "      <td>pos</td>\n",
              "    </tr>\n",
              "    <tr>\n",
              "      <th>6400</th>\n",
              "      <td>44_bj</td>\n",
              "      <td>The Tonight Dough®</td>\n",
              "      <td>5</td>\n",
              "      <td>Literally the best flavor of ice cream Ever Pl...</td>\n",
              "      <td>1.0</td>\n",
              "      <td>0.9849</td>\n",
              "      <td>[liter, best, flavor, ice, cream, ever, pleas,...</td>\n",
              "      <td>pos</td>\n",
              "      <td>pos</td>\n",
              "    </tr>\n",
              "    <tr>\n",
              "      <th>6351</th>\n",
              "      <td>44_bj</td>\n",
              "      <td>The Tonight Dough®</td>\n",
              "      <td>5</td>\n",
              "      <td>Best Flavor Ever! It's like heaven in my mouth...</td>\n",
              "      <td>1.0</td>\n",
              "      <td>0.8832</td>\n",
              "      <td>[best, flavor, ever, like, heaven, mouth, firs...</td>\n",
              "      <td>pos</td>\n",
              "      <td>pos</td>\n",
              "    </tr>\n",
              "    <tr>\n",
              "      <th>4727</th>\n",
              "      <td>28_bj</td>\n",
              "      <td>Half Baked®</td>\n",
              "      <td>5</td>\n",
              "      <td>ben and jerrys has always been a go to ice cr...</td>\n",
              "      <td>1.0</td>\n",
              "      <td>0.6239</td>\n",
              "      <td>[ben, jerri, alway, go, ice, cream, brand, fla...</td>\n",
              "      <td>pos</td>\n",
              "      <td>pos</td>\n",
              "    </tr>\n",
              "    <tr>\n",
              "      <th>...</th>\n",
              "      <td>...</td>\n",
              "      <td>...</td>\n",
              "      <td>...</td>\n",
              "      <td>...</td>\n",
              "      <td>...</td>\n",
              "      <td>...</td>\n",
              "      <td>...</td>\n",
              "      <td>...</td>\n",
              "      <td>...</td>\n",
              "    </tr>\n",
              "    <tr>\n",
              "      <th>7782</th>\n",
              "      <td>54_bj</td>\n",
              "      <td>Cookies &amp; Cream Cheesecake Core</td>\n",
              "      <td>2</td>\n",
              "      <td>I liked the chocolate and cookie part... I was...</td>\n",
              "      <td>0.0</td>\n",
              "      <td>0.7011</td>\n",
              "      <td>[like, chocol, cooki, part, excit, find, flavo...</td>\n",
              "      <td>pos</td>\n",
              "      <td>neg</td>\n",
              "    </tr>\n",
              "    <tr>\n",
              "      <th>1715</th>\n",
              "      <td>15_bj</td>\n",
              "      <td>Chillin' the Roast™</td>\n",
              "      <td>2</td>\n",
              "      <td>It made my mouth sad I bought this ice cream f...</td>\n",
              "      <td>0.0</td>\n",
              "      <td>0.9435</td>\n",
              "      <td>[made, mouth, sad, bought, ice, cream, flavor,...</td>\n",
              "      <td>pos</td>\n",
              "      <td>pos</td>\n",
              "    </tr>\n",
              "    <tr>\n",
              "      <th>7309</th>\n",
              "      <td>50_bj</td>\n",
              "      <td>Chocolate Chip Cookie Dough Core</td>\n",
              "      <td>2</td>\n",
              "      <td>soo disappointed i am so upset that this didnt...</td>\n",
              "      <td>0.0</td>\n",
              "      <td>-0.7221</td>\n",
              "      <td>[soo, disappoint, upset, not, meet, expect, co...</td>\n",
              "      <td>pos</td>\n",
              "      <td>neg</td>\n",
              "    </tr>\n",
              "    <tr>\n",
              "      <th>3678</th>\n",
              "      <td>24_bj</td>\n",
              "      <td>Coffee Toffee Bar Crunch</td>\n",
              "      <td>1</td>\n",
              "      <td>Wish you brought back the original! The old co...</td>\n",
              "      <td>0.0</td>\n",
              "      <td>-0.6000</td>\n",
              "      <td>[wish, brought, back, origin, old, coffe, heat...</td>\n",
              "      <td>pos</td>\n",
              "      <td>neg</td>\n",
              "    </tr>\n",
              "    <tr>\n",
              "      <th>3866</th>\n",
              "      <td>24_bj</td>\n",
              "      <td>Coffee Toffee Bar Crunch</td>\n",
              "      <td>1</td>\n",
              "      <td>Bring back the heath bar! I am so sad that you...</td>\n",
              "      <td>0.0</td>\n",
              "      <td>-0.7606</td>\n",
              "      <td>[bring, back, heath, bar, sad, chang, heath, b...</td>\n",
              "      <td>neg</td>\n",
              "      <td>neg</td>\n",
              "    </tr>\n",
              "  </tbody>\n",
              "</table>\n",
              "<p>12802 rows × 9 columns</p>\n",
              "</div>\n",
              "      <button class=\"colab-df-convert\" onclick=\"convertToInteractive('df-95bf74ce-9f09-40ec-8fa3-0a2e25db38a3')\"\n",
              "              title=\"Convert this dataframe to an interactive table.\"\n",
              "              style=\"display:none;\">\n",
              "        \n",
              "  <svg xmlns=\"http://www.w3.org/2000/svg\" height=\"24px\"viewBox=\"0 0 24 24\"\n",
              "       width=\"24px\">\n",
              "    <path d=\"M0 0h24v24H0V0z\" fill=\"none\"/>\n",
              "    <path d=\"M18.56 5.44l.94 2.06.94-2.06 2.06-.94-2.06-.94-.94-2.06-.94 2.06-2.06.94zm-11 1L8.5 8.5l.94-2.06 2.06-.94-2.06-.94L8.5 2.5l-.94 2.06-2.06.94zm10 10l.94 2.06.94-2.06 2.06-.94-2.06-.94-.94-2.06-.94 2.06-2.06.94z\"/><path d=\"M17.41 7.96l-1.37-1.37c-.4-.4-.92-.59-1.43-.59-.52 0-1.04.2-1.43.59L10.3 9.45l-7.72 7.72c-.78.78-.78 2.05 0 2.83L4 21.41c.39.39.9.59 1.41.59.51 0 1.02-.2 1.41-.59l7.78-7.78 2.81-2.81c.8-.78.8-2.07 0-2.86zM5.41 20L4 18.59l7.72-7.72 1.47 1.35L5.41 20z\"/>\n",
              "  </svg>\n",
              "      </button>\n",
              "      \n",
              "  <style>\n",
              "    .colab-df-container {\n",
              "      display:flex;\n",
              "      flex-wrap:wrap;\n",
              "      gap: 12px;\n",
              "    }\n",
              "\n",
              "    .colab-df-convert {\n",
              "      background-color: #E8F0FE;\n",
              "      border: none;\n",
              "      border-radius: 50%;\n",
              "      cursor: pointer;\n",
              "      display: none;\n",
              "      fill: #1967D2;\n",
              "      height: 32px;\n",
              "      padding: 0 0 0 0;\n",
              "      width: 32px;\n",
              "    }\n",
              "\n",
              "    .colab-df-convert:hover {\n",
              "      background-color: #E2EBFA;\n",
              "      box-shadow: 0px 1px 2px rgba(60, 64, 67, 0.3), 0px 1px 3px 1px rgba(60, 64, 67, 0.15);\n",
              "      fill: #174EA6;\n",
              "    }\n",
              "\n",
              "    [theme=dark] .colab-df-convert {\n",
              "      background-color: #3B4455;\n",
              "      fill: #D2E3FC;\n",
              "    }\n",
              "\n",
              "    [theme=dark] .colab-df-convert:hover {\n",
              "      background-color: #434B5C;\n",
              "      box-shadow: 0px 1px 3px 1px rgba(0, 0, 0, 0.15);\n",
              "      filter: drop-shadow(0px 1px 2px rgba(0, 0, 0, 0.3));\n",
              "      fill: #FFFFFF;\n",
              "    }\n",
              "  </style>\n",
              "\n",
              "      <script>\n",
              "        const buttonEl =\n",
              "          document.querySelector('#df-95bf74ce-9f09-40ec-8fa3-0a2e25db38a3 button.colab-df-convert');\n",
              "        buttonEl.style.display =\n",
              "          google.colab.kernel.accessAllowed ? 'block' : 'none';\n",
              "\n",
              "        async function convertToInteractive(key) {\n",
              "          const element = document.querySelector('#df-95bf74ce-9f09-40ec-8fa3-0a2e25db38a3');\n",
              "          const dataTable =\n",
              "            await google.colab.kernel.invokeFunction('convertToInteractive',\n",
              "                                                     [key], {});\n",
              "          if (!dataTable) return;\n",
              "\n",
              "          const docLinkHtml = 'Like what you see? Visit the ' +\n",
              "            '<a target=\"_blank\" href=https://colab.research.google.com/notebooks/data_table.ipynb>data table notebook</a>'\n",
              "            + ' to learn more about interactive tables.';\n",
              "          element.innerHTML = '';\n",
              "          dataTable['output_type'] = 'display_data';\n",
              "          await google.colab.output.renderOutput(dataTable, element);\n",
              "          const docLink = document.createElement('div');\n",
              "          docLink.innerHTML = docLinkHtml;\n",
              "          element.appendChild(docLink);\n",
              "        }\n",
              "      </script>\n",
              "    </div>\n",
              "  </div>\n",
              "  "
            ]
          },
          "metadata": {},
          "execution_count": 269
        }
      ],
      "source": [
        "balanced_reviews"
      ]
    },
    {
      "cell_type": "markdown",
      "metadata": {
        "id": "CQH03_x6arWB"
      },
      "source": [
        "## 02 AFTER BALANCING"
      ]
    },
    {
      "cell_type": "markdown",
      "metadata": {
        "id": "5XlKNKVsAe5Q"
      },
      "source": [
        "## Split Data"
      ]
    },
    {
      "cell_type": "code",
      "execution_count": null,
      "metadata": {
        "id": "KqAiMF_hAh5e"
      },
      "outputs": [],
      "source": [
        "X = balanced_reviews[\"tokens_titletext\"].tolist()\n",
        "y = balanced_reviews[\"b_star\"].tolist()"
      ]
    },
    {
      "cell_type": "code",
      "execution_count": null,
      "metadata": {
        "id": "krdlVNK9AueX"
      },
      "outputs": [],
      "source": [
        "from sklearn.model_selection import train_test_split\n",
        "\n",
        "X_train, X_test, y_train, y_test = train_test_split(X, y, random_state=0, train_size=0.80)"
      ]
    },
    {
      "cell_type": "markdown",
      "metadata": {
        "id": "BIwbOykHA6mc"
      },
      "source": [
        "## TF-IDF"
      ]
    },
    {
      "cell_type": "code",
      "execution_count": null,
      "metadata": {
        "id": "kSMe7-3tA7X_"
      },
      "outputs": [],
      "source": [
        "from sklearn.feature_extraction.text import TfidfVectorizer"
      ]
    },
    {
      "cell_type": "code",
      "execution_count": null,
      "metadata": {
        "id": "3fTdeZweA8qM",
        "colab": {
          "base_uri": "https://localhost:8080/"
        },
        "outputId": "cfbe2115-540a-4c64-b4cf-bb93ee3450f8"
      },
      "outputs": [
        {
          "output_type": "stream",
          "name": "stderr",
          "text": [
            "/usr/local/lib/python3.10/dist-packages/sklearn/feature_extraction/text.py:528: UserWarning: The parameter 'token_pattern' will not be used since 'tokenizer' is not None'\n",
            "  warnings.warn(\n"
          ]
        }
      ],
      "source": [
        "tf = fit_tfidf(X_train)\n",
        "X_train_tf = tf.transform(X_train)\n",
        "X_test_tf = tf.transform(X_test)"
      ]
    },
    {
      "cell_type": "markdown",
      "metadata": {
        "id": "ORCXhc1MBR2N"
      },
      "source": [
        "## 2.1 Naive Bayes"
      ]
    },
    {
      "cell_type": "code",
      "execution_count": null,
      "metadata": {
        "id": "cF3jMJ5tA8z2",
        "colab": {
          "base_uri": "https://localhost:8080/"
        },
        "outputId": "ac2859d1-e81e-4b73-c9e3-c0972eba6ebc"
      },
      "outputs": [
        {
          "output_type": "stream",
          "name": "stdout",
          "text": [
            "NB Model Accuracy: 95.90%\n",
            "              precision    recall  f1-score   support\n",
            "\n",
            "         0.0      0.951     0.971     0.961      1332\n",
            "         1.0      0.968     0.945     0.957      1229\n",
            "\n",
            "    accuracy                          0.959      2561\n",
            "   macro avg      0.960     0.958     0.959      2561\n",
            "weighted avg      0.959     0.959     0.959      2561\n",
            "\n"
          ]
        }
      ],
      "source": [
        "# Membuat dan melatih model Naive Bayes\n",
        "nbcl= nbmodel.fit(X_train_tf.toarray(), y_train)\n",
        "\n",
        "# Melakukan prediksi pada data uji\n",
        "nb_pred= nbcl.predict(X_test_tf.toarray())\n",
        "\n",
        "# Menghitung dan mencetak akurasi model\n",
        "print(\"NB Model Accuracy: {:.2%}\".format(accuracy_score(y_test, nb_pred)))\n",
        "\n",
        "# Mencetak laporan klasifikasi\n",
        "print(metrics.classification_report(y_test, nb_pred, digits=3))"
      ]
    },
    {
      "cell_type": "code",
      "execution_count": null,
      "metadata": {
        "id": "pXTds0hpUR82"
      },
      "outputs": [],
      "source": [
        "def plot_confusion(cm):\n",
        "  plt.figure(figsize = (5,5))\n",
        "  x_axis_labels = ['neg','pos'] # labels for x-axis\n",
        "  y_axis_labels = ['neg','pos'] # labels for y-axis\n",
        "  sn.heatmap(cm, annot=True, cmap=\"Blues\", fmt='.0f', xticklabels=x_axis_labels, yticklabels=y_axis_labels)\n",
        "  plt.xlabel(\"Prediction\")\n",
        "  plt.ylabel(\"True value\")\n",
        "  plt.title(\"Confusion Matrix\")\n",
        "  return sn"
      ]
    },
    {
      "cell_type": "code",
      "execution_count": null,
      "metadata": {
        "id": "DA03J7bvUWzG",
        "colab": {
          "base_uri": "https://localhost:8080/",
          "height": 504
        },
        "outputId": "c6a85239-875e-483e-c2a0-3feee52630d3"
      },
      "outputs": [
        {
          "output_type": "execute_result",
          "data": {
            "text/plain": [
              "<module 'seaborn' from '/usr/local/lib/python3.10/dist-packages/seaborn/__init__.py'>"
            ]
          },
          "metadata": {},
          "execution_count": 403
        },
        {
          "output_type": "display_data",
          "data": {
            "text/plain": [
              "<Figure size 500x500 with 2 Axes>"
            ],
            "image/png": "[encoded data removed]"
          },
          "metadata": {}
        }
      ],
      "source": [
        "plot_confusion(confusion_matrix(y_test, nb_pred))"
      ]
    },
    {
      "cell_type": "code",
      "execution_count": null,
      "metadata": {
        "id": "xPq84El4UXF0",
        "colab": {
          "base_uri": "https://localhost:8080/",
          "height": 502
        },
        "outputId": "5fb79b1c-8329-49c9-c1a6-d9eb8517744a"
      },
      "outputs": [
        {
          "output_type": "execute_result",
          "data": {
            "text/plain": [
              "        key                      product_name  stars  \\\n",
              "1105  10_bj                  Americone Dream®      5   \n",
              "6576  44_bj                The Tonight Dough®      5   \n",
              "6400  44_bj                The Tonight Dough®      5   \n",
              "6351  44_bj                The Tonight Dough®      5   \n",
              "4727  28_bj                       Half Baked®      5   \n",
              "...     ...                               ...    ...   \n",
              "7782  54_bj   Cookies & Cream Cheesecake Core      2   \n",
              "1715  15_bj               Chillin' the Roast™      2   \n",
              "7309  50_bj  Chocolate Chip Cookie Dough Core      2   \n",
              "3678  24_bj          Coffee Toffee Bar Crunch      1   \n",
              "3866  24_bj          Coffee Toffee Bar Crunch      1   \n",
              "\n",
              "                                          com_titletext  b_star  b_score  \\\n",
              "1105   This flavors has become one my of new favorit...     1.0   0.8957   \n",
              "6576  Best flavor I've ever had This is just amazing...     1.0   0.9627   \n",
              "6400  Literally the best flavor of ice cream Ever Pl...     1.0   0.9849   \n",
              "6351  Best Flavor Ever! It's like heaven in my mouth...     1.0   0.8832   \n",
              "4727   ben and jerrys has always been a go to ice cr...     1.0   0.6239   \n",
              "...                                                 ...     ...      ...   \n",
              "7782  I liked the chocolate and cookie part... I was...     0.0   0.7011   \n",
              "1715  It made my mouth sad I bought this ice cream f...     0.0   0.9435   \n",
              "7309  soo disappointed i am so upset that this didnt...     0.0  -0.7221   \n",
              "3678  Wish you brought back the original! The old co...     0.0  -0.6000   \n",
              "3866  Bring back the heath bar! I am so sad that you...     0.0  -0.7606   \n",
              "\n",
              "                                       tokens_titletext nb_pred lr_pred  \\\n",
              "1105  [flavor, becom, one, new, favorit, flavor, cho...     pos     pos   \n",
              "6576  [best, flavor, ever, amaz, incorpor, favorit, ...     pos     pos   \n",
              "6400  [liter, best, flavor, ice, cream, ever, pleas,...     pos     pos   \n",
              "6351  [best, flavor, ever, like, heaven, mouth, firs...     pos     pos   \n",
              "4727  [ben, jerri, alway, go, ice, cream, brand, fla...     pos     pos   \n",
              "...                                                 ...     ...     ...   \n",
              "7782  [like, chocol, cooki, part, excit, find, flavo...     pos     neg   \n",
              "1715  [made, mouth, sad, bought, ice, cream, flavor,...     pos     pos   \n",
              "7309  [soo, disappoint, upset, not, meet, expect, co...     pos     neg   \n",
              "3678  [wish, brought, back, origin, old, coffe, heat...     pos     neg   \n",
              "3866  [bring, back, heath, bar, sad, chang, heath, b...     neg     neg   \n",
              "\n",
              "     nb_pred_b lr_pred_b  \n",
              "1105       pos       pos  \n",
              "6576       pos       pos  \n",
              "6400       pos       pos  \n",
              "6351       pos       pos  \n",
              "4727       pos       pos  \n",
              "...        ...       ...  \n",
              "7782       neg       neg  \n",
              "1715       neg       neg  \n",
              "7309       neg       neg  \n",
              "3678       neg       neg  \n",
              "3866       neg       neg  \n",
              "\n",
              "[12802 rows x 11 columns]"
            ],
            "text/html": [
              "\n",
              "  <div id=\"df-d4c1e17a-54f7-47f0-9ecb-3aa471a49922\">\n",
              "    <div class=\"colab-df-container\">\n",
              "      <div>\n",
              "<style scoped>\n",
              "    .dataframe tbody tr th:only-of-type {\n",
              "        vertical-align: middle;\n",
              "    }\n",
              "\n",
              "    .dataframe tbody tr th {\n",
              "        vertical-align: top;\n",
              "    }\n",
              "\n",
              "    .dataframe thead th {\n",
              "        text-align: right;\n",
              "    }\n",
              "</style>\n",
              "<table border=\"1\" class=\"dataframe\">\n",
              "  <thead>\n",
              "    <tr style=\"text-align: right;\">\n",
              "      <th></th>\n",
              "      <th>key</th>\n",
              "      <th>product_name</th>\n",
              "      <th>stars</th>\n",
              "      <th>com_titletext</th>\n",
              "      <th>b_star</th>\n",
              "      <th>b_score</th>\n",
              "      <th>tokens_titletext</th>\n",
              "      <th>nb_pred</th>\n",
              "      <th>lr_pred</th>\n",
              "      <th>nb_pred_b</th>\n",
              "      <th>lr_pred_b</th>\n",
              "    </tr>\n",
              "  </thead>\n",
              "  <tbody>\n",
              "    <tr>\n",
              "      <th>1105</th>\n",
              "      <td>10_bj</td>\n",
              "      <td>Americone Dream®</td>\n",
              "      <td>5</td>\n",
              "      <td>This flavors has become one my of new favorit...</td>\n",
              "      <td>1.0</td>\n",
              "      <td>0.8957</td>\n",
              "      <td>[flavor, becom, one, new, favorit, flavor, cho...</td>\n",
              "      <td>pos</td>\n",
              "      <td>pos</td>\n",
              "      <td>pos</td>\n",
              "      <td>pos</td>\n",
              "    </tr>\n",
              "    <tr>\n",
              "      <th>6576</th>\n",
              "      <td>44_bj</td>\n",
              "      <td>The Tonight Dough®</td>\n",
              "      <td>5</td>\n",
              "      <td>Best flavor I've ever had This is just amazing...</td>\n",
              "      <td>1.0</td>\n",
              "      <td>0.9627</td>\n",
              "      <td>[best, flavor, ever, amaz, incorpor, favorit, ...</td>\n",
              "      <td>pos</td>\n",
              "      <td>pos</td>\n",
              "      <td>pos</td>\n",
              "      <td>pos</td>\n",
              "    </tr>\n",
              "    <tr>\n",
              "      <th>6400</th>\n",
              "      <td>44_bj</td>\n",
              "      <td>The Tonight Dough®</td>\n",
              "      <td>5</td>\n",
              "      <td>Literally the best flavor of ice cream Ever Pl...</td>\n",
              "      <td>1.0</td>\n",
              "      <td>0.9849</td>\n",
              "      <td>[liter, best, flavor, ice, cream, ever, pleas,...</td>\n",
              "      <td>pos</td>\n",
              "      <td>pos</td>\n",
              "      <td>pos</td>\n",
              "      <td>pos</td>\n",
              "    </tr>\n",
              "    <tr>\n",
              "      <th>6351</th>\n",
              "      <td>44_bj</td>\n",
              "      <td>The Tonight Dough®</td>\n",
              "      <td>5</td>\n",
              "      <td>Best Flavor Ever! It's like heaven in my mouth...</td>\n",
              "      <td>1.0</td>\n",
              "      <td>0.8832</td>\n",
              "      <td>[best, flavor, ever, like, heaven, mouth, firs...</td>\n",
              "      <td>pos</td>\n",
              "      <td>pos</td>\n",
              "      <td>pos</td>\n",
              "      <td>pos</td>\n",
              "    </tr>\n",
              "    <tr>\n",
              "      <th>4727</th>\n",
              "      <td>28_bj</td>\n",
              "      <td>Half Baked®</td>\n",
              "      <td>5</td>\n",
              "      <td>ben and jerrys has always been a go to ice cr...</td>\n",
              "      <td>1.0</td>\n",
              "      <td>0.6239</td>\n",
              "      <td>[ben, jerri, alway, go, ice, cream, brand, fla...</td>\n",
              "      <td>pos</td>\n",
              "      <td>pos</td>\n",
              "      <td>pos</td>\n",
              "      <td>pos</td>\n",
              "    </tr>\n",
              "    <tr>\n",
              "      <th>...</th>\n",
              "      <td>...</td>\n",
              "      <td>...</td>\n",
              "      <td>...</td>\n",
              "      <td>...</td>\n",
              "      <td>...</td>\n",
              "      <td>...</td>\n",
              "      <td>...</td>\n",
              "      <td>...</td>\n",
              "      <td>...</td>\n",
              "      <td>...</td>\n",
              "      <td>...</td>\n",
              "    </tr>\n",
              "    <tr>\n",
              "      <th>7782</th>\n",
              "      <td>54_bj</td>\n",
              "      <td>Cookies &amp; Cream Cheesecake Core</td>\n",
              "      <td>2</td>\n",
              "      <td>I liked the chocolate and cookie part... I was...</td>\n",
              "      <td>0.0</td>\n",
              "      <td>0.7011</td>\n",
              "      <td>[like, chocol, cooki, part, excit, find, flavo...</td>\n",
              "      <td>pos</td>\n",
              "      <td>neg</td>\n",
              "      <td>neg</td>\n",
              "      <td>neg</td>\n",
              "    </tr>\n",
              "    <tr>\n",
              "      <th>1715</th>\n",
              "      <td>15_bj</td>\n",
              "      <td>Chillin' the Roast™</td>\n",
              "      <td>2</td>\n",
              "      <td>It made my mouth sad I bought this ice cream f...</td>\n",
              "      <td>0.0</td>\n",
              "      <td>0.9435</td>\n",
              "      <td>[made, mouth, sad, bought, ice, cream, flavor,...</td>\n",
              "      <td>pos</td>\n",
              "      <td>pos</td>\n",
              "      <td>neg</td>\n",
              "      <td>neg</td>\n",
              "    </tr>\n",
              "    <tr>\n",
              "      <th>7309</th>\n",
              "      <td>50_bj</td>\n",
              "      <td>Chocolate Chip Cookie Dough Core</td>\n",
              "      <td>2</td>\n",
              "      <td>soo disappointed i am so upset that this didnt...</td>\n",
              "      <td>0.0</td>\n",
              "      <td>-0.7221</td>\n",
              "      <td>[soo, disappoint, upset, not, meet, expect, co...</td>\n",
              "      <td>pos</td>\n",
              "      <td>neg</td>\n",
              "      <td>neg</td>\n",
              "      <td>neg</td>\n",
              "    </tr>\n",
              "    <tr>\n",
              "      <th>3678</th>\n",
              "      <td>24_bj</td>\n",
              "      <td>Coffee Toffee Bar Crunch</td>\n",
              "      <td>1</td>\n",
              "      <td>Wish you brought back the original! The old co...</td>\n",
              "      <td>0.0</td>\n",
              "      <td>-0.6000</td>\n",
              "      <td>[wish, brought, back, origin, old, coffe, heat...</td>\n",
              "      <td>pos</td>\n",
              "      <td>neg</td>\n",
              "      <td>neg</td>\n",
              "      <td>neg</td>\n",
              "    </tr>\n",
              "    <tr>\n",
              "      <th>3866</th>\n",
              "      <td>24_bj</td>\n",
              "      <td>Coffee Toffee Bar Crunch</td>\n",
              "      <td>1</td>\n",
              "      <td>Bring back the heath bar! I am so sad that you...</td>\n",
              "      <td>0.0</td>\n",
              "      <td>-0.7606</td>\n",
              "      <td>[bring, back, heath, bar, sad, chang, heath, b...</td>\n",
              "      <td>neg</td>\n",
              "      <td>neg</td>\n",
              "      <td>neg</td>\n",
              "      <td>neg</td>\n",
              "    </tr>\n",
              "  </tbody>\n",
              "</table>\n",
              "<p>12802 rows × 11 columns</p>\n",
              "</div>\n",
              "      <button class=\"colab-df-convert\" onclick=\"convertToInteractive('df-d4c1e17a-54f7-47f0-9ecb-3aa471a49922')\"\n",
              "              title=\"Convert this dataframe to an interactive table.\"\n",
              "              style=\"display:none;\">\n",
              "        \n",
              "  <svg xmlns=\"http://www.w3.org/2000/svg\" height=\"24px\"viewBox=\"0 0 24 24\"\n",
              "       width=\"24px\">\n",
              "    <path d=\"M0 0h24v24H0V0z\" fill=\"none\"/>\n",
              "    <path d=\"M18.56 5.44l.94 2.06.94-2.06 2.06-.94-2.06-.94-.94-2.06-.94 2.06-2.06.94zm-11 1L8.5 8.5l.94-2.06 2.06-.94-2.06-.94L8.5 2.5l-.94 2.06-2.06.94zm10 10l.94 2.06.94-2.06 2.06-.94-2.06-.94-.94-2.06-.94 2.06-2.06.94z\"/><path d=\"M17.41 7.96l-1.37-1.37c-.4-.4-.92-.59-1.43-.59-.52 0-1.04.2-1.43.59L10.3 9.45l-7.72 7.72c-.78.78-.78 2.05 0 2.83L4 21.41c.39.39.9.59 1.41.59.51 0 1.02-.2 1.41-.59l7.78-7.78 2.81-2.81c.8-.78.8-2.07 0-2.86zM5.41 20L4 18.59l7.72-7.72 1.47 1.35L5.41 20z\"/>\n",
              "  </svg>\n",
              "      </button>\n",
              "      \n",
              "  <style>\n",
              "    .colab-df-container {\n",
              "      display:flex;\n",
              "      flex-wrap:wrap;\n",
              "      gap: 12px;\n",
              "    }\n",
              "\n",
              "    .colab-df-convert {\n",
              "      background-color: #E8F0FE;\n",
              "      border: none;\n",
              "      border-radius: 50%;\n",
              "      cursor: pointer;\n",
              "      display: none;\n",
              "      fill: #1967D2;\n",
              "      height: 32px;\n",
              "      padding: 0 0 0 0;\n",
              "      width: 32px;\n",
              "    }\n",
              "\n",
              "    .colab-df-convert:hover {\n",
              "      background-color: #E2EBFA;\n",
              "      box-shadow: 0px 1px 2px rgba(60, 64, 67, 0.3), 0px 1px 3px 1px rgba(60, 64, 67, 0.15);\n",
              "      fill: #174EA6;\n",
              "    }\n",
              "\n",
              "    [theme=dark] .colab-df-convert {\n",
              "      background-color: #3B4455;\n",
              "      fill: #D2E3FC;\n",
              "    }\n",
              "\n",
              "    [theme=dark] .colab-df-convert:hover {\n",
              "      background-color: #434B5C;\n",
              "      box-shadow: 0px 1px 3px 1px rgba(0, 0, 0, 0.15);\n",
              "      filter: drop-shadow(0px 1px 2px rgba(0, 0, 0, 0.3));\n",
              "      fill: #FFFFFF;\n",
              "    }\n",
              "  </style>\n",
              "\n",
              "      <script>\n",
              "        const buttonEl =\n",
              "          document.querySelector('#df-d4c1e17a-54f7-47f0-9ecb-3aa471a49922 button.colab-df-convert');\n",
              "        buttonEl.style.display =\n",
              "          google.colab.kernel.accessAllowed ? 'block' : 'none';\n",
              "\n",
              "        async function convertToInteractive(key) {\n",
              "          const element = document.querySelector('#df-d4c1e17a-54f7-47f0-9ecb-3aa471a49922');\n",
              "          const dataTable =\n",
              "            await google.colab.kernel.invokeFunction('convertToInteractive',\n",
              "                                                     [key], {});\n",
              "          if (!dataTable) return;\n",
              "\n",
              "          const docLinkHtml = 'Like what you see? Visit the ' +\n",
              "            '<a target=\"_blank\" href=https://colab.research.google.com/notebooks/data_table.ipynb>data table notebook</a>'\n",
              "            + ' to learn more about interactive tables.';\n",
              "          element.innerHTML = '';\n",
              "          dataTable['output_type'] = 'display_data';\n",
              "          await google.colab.output.renderOutput(dataTable, element);\n",
              "          const docLink = document.createElement('div');\n",
              "          docLink.innerHTML = docLinkHtml;\n",
              "          element.appendChild(docLink);\n",
              "        }\n",
              "      </script>\n",
              "    </div>\n",
              "  </div>\n",
              "  "
            ]
          },
          "metadata": {},
          "execution_count": 404
        }
      ],
      "source": [
        "token_text = balanced_reviews['tokens_titletext']\n",
        "tf_token = tf.transform(token_text)\n",
        "nb_predictions = nbmodel.predict(tf_token)\n",
        "\n",
        "# Mapping label prediksi ke label kelas (\"pos\" dan \"neg\")\n",
        "label_map = {1: \"pos\", 0: \"neg\"}\n",
        "nb_predicted_labels = [label_map[prediction] for prediction in nb_predictions]\n",
        "\n",
        "# Menambahkan kolom prediksi ke dalam DataFrame\n",
        "balanced_reviews['nb_pred_b'] = nb_predicted_labels\n",
        "\n",
        "# Menampilkan DataFrame dengan kolom prediksi\n",
        "balanced_reviews"
      ]
    },
    {
      "cell_type": "code",
      "source": [
        "balanced_reviews['nb_pred_b'].value_counts()"
      ],
      "metadata": {
        "colab": {
          "base_uri": "https://localhost:8080/"
        },
        "id": "24cBDE-MBfE1",
        "outputId": "276559f6-7975-40ac-864c-a37a4f1af1f0"
      },
      "execution_count": null,
      "outputs": [
        {
          "output_type": "execute_result",
          "data": {
            "text/plain": [
              "neg    6527\n",
              "pos    6275\n",
              "Name: nb_pred_b, dtype: int64"
            ]
          },
          "metadata": {},
          "execution_count": 405
        }
      ]
    },
    {
      "cell_type": "code",
      "execution_count": null,
      "metadata": {
        "id": "kM5HwHWrUXRT",
        "colab": {
          "base_uri": "https://localhost:8080/",
          "height": 449
        },
        "outputId": "414c2357-2dd4-4dd7-f732-42a863a2b924"
      },
      "outputs": [
        {
          "output_type": "display_data",
          "data": {
            "text/plain": [
              "<Figure size 640x480 with 1 Axes>"
            ],
            "image/png": "[encoded data removed]"
          },
          "metadata": {}
        }
      ],
      "source": [
        "balanced_reviews_sorted = balanced_reviews.sort_values('nb_pred_b', ascending=False)\n",
        "ax = sns.countplot(x ='nb_pred_b', data = balanced_reviews_sorted)\n",
        "ax.set(ylabel='Sentiment count', xlabel='Sentiments')\n",
        "plt.show()"
      ]
    },
    {
      "cell_type": "code",
      "execution_count": null,
      "metadata": {
        "id": "DHpS7-rHDK_3",
        "colab": {
          "base_uri": "https://localhost:8080/",
          "height": 445
        },
        "outputId": "aa5a82e9-7bfc-4ed7-8037-3c6f9c96247d"
      },
      "outputs": [
        {
          "output_type": "execute_result",
          "data": {
            "text/plain": [
              "Text(0.5, 1.0, 'Sentiment distribution Naive Bayes Pie Chart')"
            ]
          },
          "metadata": {},
          "execution_count": 407
        },
        {
          "output_type": "display_data",
          "data": {
            "text/plain": [
              "<Figure size 640x480 with 1 Axes>"
            ],
            "image/png": "[encoded data removed]"
          },
          "metadata": {}
        }
      ],
      "source": [
        "balanced_reviews_sorted['nb_pred_b'].value_counts().plot.pie(autopct='%1.0f%%')\n",
        "plt.title(\"Sentiment distribution Naive Bayes Pie Chart\")"
      ]
    },
    {
      "cell_type": "code",
      "execution_count": null,
      "metadata": {
        "id": "dxC39ILmyA_x",
        "colab": {
          "base_uri": "https://localhost:8080/",
          "height": 467
        },
        "outputId": "e796925c-099a-4fb2-85db-e19f8d1e507f"
      },
      "outputs": [
        {
          "output_type": "execute_result",
          "data": {
            "text/plain": [
              "[Text(0, 0.5, 'Sentiment count'), Text(0.5, 0, 'Ice cream brand')]"
            ]
          },
          "metadata": {},
          "execution_count": 408
        },
        {
          "output_type": "display_data",
          "data": {
            "text/plain": [
              "<Figure size 640x480 with 1 Axes>"
            ],
            "image/png": "[encoded data removed]"
          },
          "metadata": {}
        }
      ],
      "source": [
        "# Top 10 ice cream brand sort by number of reviews\n",
        "df_prod_reviewcount = balanced_reviews_sorted['key'].value_counts().head(5).reset_index()\n",
        "df_prod_isin = balanced_reviews_sorted.loc[balanced_reviews_sorted['key'].isin(df_prod_reviewcount['index'])]\n",
        "ax1 = sns.countplot(x ='key', hue='nb_pred_b', data = df_prod_isin, order = df_prod_isin['key'].value_counts().index)\n",
        "ax1.set(ylabel='Sentiment count', xlabel='Ice cream brand')"
      ]
    },
    {
      "cell_type": "code",
      "source": [],
      "metadata": {
        "id": "eWrTU1womY2O"
      },
      "execution_count": null,
      "outputs": []
    },
    {
      "cell_type": "code",
      "execution_count": null,
      "metadata": {
        "id": "TfmNfERoyuCq",
        "colab": {
          "base_uri": "https://localhost:8080/",
          "height": 467
        },
        "outputId": "f0a0f8d5-bed7-4c02-cb68-29c39a874ac4"
      },
      "outputs": [
        {
          "output_type": "execute_result",
          "data": {
            "text/plain": [
              "[Text(0, 0.5, 'Sentiment count'), Text(0.5, 0, 'Ice Cream brand')]"
            ]
          },
          "metadata": {},
          "execution_count": 409
        },
        {
          "output_type": "display_data",
          "data": {
            "text/plain": [
              "<Figure size 640x480 with 1 Axes>"
            ],
            "image/png": "[encoded data removed]"
          },
          "metadata": {}
        }
      ],
      "source": [
        "# Top 5 ice cream brand sort by positive review\n",
        "df_posreview = balanced_reviews_sorted.loc[balanced_reviews_sorted['nb_pred_b'] == 'pos']\n",
        "df_prod_positivecount = df_posreview['key'].value_counts().head(5).reset_index()\n",
        "ax2 = sns.barplot(x ='index', y= 'key', data = df_prod_positivecount)\n",
        "ax2.set(ylabel='Sentiment count', xlabel='Ice Cream brand')"
      ]
    },
    {
      "cell_type": "code",
      "source": [
        "df_prod_positivecount"
      ],
      "metadata": {
        "colab": {
          "base_uri": "https://localhost:8080/",
          "height": 206
        },
        "id": "7n1Iwx5CmZux",
        "outputId": "f8fb2fbf-718b-436f-fe30-7bca2ca56280"
      },
      "execution_count": null,
      "outputs": [
        {
          "output_type": "execute_result",
          "data": {
            "text/plain": [
              "   index  key\n",
              "0  28_bj  882\n",
              "1  16_bj  881\n",
              "2  44_bj  578\n",
              "3  10_bj  370\n",
              "4  43_bj  207"
            ],
            "text/html": [
              "\n",
              "  <div id=\"df-d2173e7a-ef47-4574-b0c6-0e9d6abda9dd\">\n",
              "    <div class=\"colab-df-container\">\n",
              "      <div>\n",
              "<style scoped>\n",
              "    .dataframe tbody tr th:only-of-type {\n",
              "        vertical-align: middle;\n",
              "    }\n",
              "\n",
              "    .dataframe tbody tr th {\n",
              "        vertical-align: top;\n",
              "    }\n",
              "\n",
              "    .dataframe thead th {\n",
              "        text-align: right;\n",
              "    }\n",
              "</style>\n",
              "<table border=\"1\" class=\"dataframe\">\n",
              "  <thead>\n",
              "    <tr style=\"text-align: right;\">\n",
              "      <th></th>\n",
              "      <th>index</th>\n",
              "      <th>key</th>\n",
              "    </tr>\n",
              "  </thead>\n",
              "  <tbody>\n",
              "    <tr>\n",
              "      <th>0</th>\n",
              "      <td>28_bj</td>\n",
              "      <td>882</td>\n",
              "    </tr>\n",
              "    <tr>\n",
              "      <th>1</th>\n",
              "      <td>16_bj</td>\n",
              "      <td>881</td>\n",
              "    </tr>\n",
              "    <tr>\n",
              "      <th>2</th>\n",
              "      <td>44_bj</td>\n",
              "      <td>578</td>\n",
              "    </tr>\n",
              "    <tr>\n",
              "      <th>3</th>\n",
              "      <td>10_bj</td>\n",
              "      <td>370</td>\n",
              "    </tr>\n",
              "    <tr>\n",
              "      <th>4</th>\n",
              "      <td>43_bj</td>\n",
              "      <td>207</td>\n",
              "    </tr>\n",
              "  </tbody>\n",
              "</table>\n",
              "</div>\n",
              "      <button class=\"colab-df-convert\" onclick=\"convertToInteractive('df-d2173e7a-ef47-4574-b0c6-0e9d6abda9dd')\"\n",
              "              title=\"Convert this dataframe to an interactive table.\"\n",
              "              style=\"display:none;\">\n",
              "        \n",
              "  <svg xmlns=\"http://www.w3.org/2000/svg\" height=\"24px\"viewBox=\"0 0 24 24\"\n",
              "       width=\"24px\">\n",
              "    <path d=\"M0 0h24v24H0V0z\" fill=\"none\"/>\n",
              "    <path d=\"M18.56 5.44l.94 2.06.94-2.06 2.06-.94-2.06-.94-.94-2.06-.94 2.06-2.06.94zm-11 1L8.5 8.5l.94-2.06 2.06-.94-2.06-.94L8.5 2.5l-.94 2.06-2.06.94zm10 10l.94 2.06.94-2.06 2.06-.94-2.06-.94-.94-2.06-.94 2.06-2.06.94z\"/><path d=\"M17.41 7.96l-1.37-1.37c-.4-.4-.92-.59-1.43-.59-.52 0-1.04.2-1.43.59L10.3 9.45l-7.72 7.72c-.78.78-.78 2.05 0 2.83L4 21.41c.39.39.9.59 1.41.59.51 0 1.02-.2 1.41-.59l7.78-7.78 2.81-2.81c.8-.78.8-2.07 0-2.86zM5.41 20L4 18.59l7.72-7.72 1.47 1.35L5.41 20z\"/>\n",
              "  </svg>\n",
              "      </button>\n",
              "      \n",
              "  <style>\n",
              "    .colab-df-container {\n",
              "      display:flex;\n",
              "      flex-wrap:wrap;\n",
              "      gap: 12px;\n",
              "    }\n",
              "\n",
              "    .colab-df-convert {\n",
              "      background-color: #E8F0FE;\n",
              "      border: none;\n",
              "      border-radius: 50%;\n",
              "      cursor: pointer;\n",
              "      display: none;\n",
              "      fill: #1967D2;\n",
              "      height: 32px;\n",
              "      padding: 0 0 0 0;\n",
              "      width: 32px;\n",
              "    }\n",
              "\n",
              "    .colab-df-convert:hover {\n",
              "      background-color: #E2EBFA;\n",
              "      box-shadow: 0px 1px 2px rgba(60, 64, 67, 0.3), 0px 1px 3px 1px rgba(60, 64, 67, 0.15);\n",
              "      fill: #174EA6;\n",
              "    }\n",
              "\n",
              "    [theme=dark] .colab-df-convert {\n",
              "      background-color: #3B4455;\n",
              "      fill: #D2E3FC;\n",
              "    }\n",
              "\n",
              "    [theme=dark] .colab-df-convert:hover {\n",
              "      background-color: #434B5C;\n",
              "      box-shadow: 0px 1px 3px 1px rgba(0, 0, 0, 0.15);\n",
              "      filter: drop-shadow(0px 1px 2px rgba(0, 0, 0, 0.3));\n",
              "      fill: #FFFFFF;\n",
              "    }\n",
              "  </style>\n",
              "\n",
              "      <script>\n",
              "        const buttonEl =\n",
              "          document.querySelector('#df-d2173e7a-ef47-4574-b0c6-0e9d6abda9dd button.colab-df-convert');\n",
              "        buttonEl.style.display =\n",
              "          google.colab.kernel.accessAllowed ? 'block' : 'none';\n",
              "\n",
              "        async function convertToInteractive(key) {\n",
              "          const element = document.querySelector('#df-d2173e7a-ef47-4574-b0c6-0e9d6abda9dd');\n",
              "          const dataTable =\n",
              "            await google.colab.kernel.invokeFunction('convertToInteractive',\n",
              "                                                     [key], {});\n",
              "          if (!dataTable) return;\n",
              "\n",
              "          const docLinkHtml = 'Like what you see? Visit the ' +\n",
              "            '<a target=\"_blank\" href=https://colab.research.google.com/notebooks/data_table.ipynb>data table notebook</a>'\n",
              "            + ' to learn more about interactive tables.';\n",
              "          element.innerHTML = '';\n",
              "          dataTable['output_type'] = 'display_data';\n",
              "          await google.colab.output.renderOutput(dataTable, element);\n",
              "          const docLink = document.createElement('div');\n",
              "          docLink.innerHTML = docLinkHtml;\n",
              "          element.appendChild(docLink);\n",
              "        }\n",
              "      </script>\n",
              "    </div>\n",
              "  </div>\n",
              "  "
            ]
          },
          "metadata": {},
          "execution_count": 410
        }
      ]
    },
    {
      "cell_type": "code",
      "execution_count": null,
      "metadata": {
        "id": "a1V6PIxCy1vo",
        "colab": {
          "base_uri": "https://localhost:8080/",
          "height": 467
        },
        "outputId": "e07231a7-c41c-49a2-da33-5a802b095ef7"
      },
      "outputs": [
        {
          "output_type": "execute_result",
          "data": {
            "text/plain": [
              "[Text(0, 0.5, 'Sentiment count'), Text(0.5, 0, 'Ice Cream brand')]"
            ]
          },
          "metadata": {},
          "execution_count": 411
        },
        {
          "output_type": "display_data",
          "data": {
            "text/plain": [
              "<Figure size 640x480 with 1 Axes>"
            ],
            "image/png": "[encoded data removed]"
          },
          "metadata": {}
        }
      ],
      "source": [
        "# Top 5 ice cream brand sort by negative review\n",
        "dfnegreview = balanced_reviews_sorted.loc[balanced_reviews_sorted['nb_pred_b'] == 'neg']\n",
        "df_prod_negcount = dfnegreview['key'].value_counts().head(5).reset_index()\n",
        "ax2 = sns.barplot(x ='index', y= 'key', data = df_prod_negcount)\n",
        "ax2.set(ylabel='Sentiment count', xlabel='Ice Cream brand')"
      ]
    },
    {
      "cell_type": "code",
      "source": [
        "df_prod_negcount"
      ],
      "metadata": {
        "colab": {
          "base_uri": "https://localhost:8080/",
          "height": 206
        },
        "id": "RzkqsyIUmc3M",
        "outputId": "d91bfd93-cb7a-4465-a741-95da7f514df4"
      },
      "execution_count": null,
      "outputs": [
        {
          "output_type": "execute_result",
          "data": {
            "text/plain": [
              "   index  key\n",
              "0  24_bj  949\n",
              "1  50_bj  747\n",
              "2  17_bj  436\n",
              "3  15_bj  387\n",
              "4   0_bj  346"
            ],
            "text/html": [
              "\n",
              "  <div id=\"df-29328905-01c3-47b7-99ae-9df26548f81f\">\n",
              "    <div class=\"colab-df-container\">\n",
              "      <div>\n",
              "<style scoped>\n",
              "    .dataframe tbody tr th:only-of-type {\n",
              "        vertical-align: middle;\n",
              "    }\n",
              "\n",
              "    .dataframe tbody tr th {\n",
              "        vertical-align: top;\n",
              "    }\n",
              "\n",
              "    .dataframe thead th {\n",
              "        text-align: right;\n",
              "    }\n",
              "</style>\n",
              "<table border=\"1\" class=\"dataframe\">\n",
              "  <thead>\n",
              "    <tr style=\"text-align: right;\">\n",
              "      <th></th>\n",
              "      <th>index</th>\n",
              "      <th>key</th>\n",
              "    </tr>\n",
              "  </thead>\n",
              "  <tbody>\n",
              "    <tr>\n",
              "      <th>0</th>\n",
              "      <td>24_bj</td>\n",
              "      <td>949</td>\n",
              "    </tr>\n",
              "    <tr>\n",
              "      <th>1</th>\n",
              "      <td>50_bj</td>\n",
              "      <td>747</td>\n",
              "    </tr>\n",
              "    <tr>\n",
              "      <th>2</th>\n",
              "      <td>17_bj</td>\n",
              "      <td>436</td>\n",
              "    </tr>\n",
              "    <tr>\n",
              "      <th>3</th>\n",
              "      <td>15_bj</td>\n",
              "      <td>387</td>\n",
              "    </tr>\n",
              "    <tr>\n",
              "      <th>4</th>\n",
              "      <td>0_bj</td>\n",
              "      <td>346</td>\n",
              "    </tr>\n",
              "  </tbody>\n",
              "</table>\n",
              "</div>\n",
              "      <button class=\"colab-df-convert\" onclick=\"convertToInteractive('df-29328905-01c3-47b7-99ae-9df26548f81f')\"\n",
              "              title=\"Convert this dataframe to an interactive table.\"\n",
              "              style=\"display:none;\">\n",
              "        \n",
              "  <svg xmlns=\"http://www.w3.org/2000/svg\" height=\"24px\"viewBox=\"0 0 24 24\"\n",
              "       width=\"24px\">\n",
              "    <path d=\"M0 0h24v24H0V0z\" fill=\"none\"/>\n",
              "    <path d=\"M18.56 5.44l.94 2.06.94-2.06 2.06-.94-2.06-.94-.94-2.06-.94 2.06-2.06.94zm-11 1L8.5 8.5l.94-2.06 2.06-.94-2.06-.94L8.5 2.5l-.94 2.06-2.06.94zm10 10l.94 2.06.94-2.06 2.06-.94-2.06-.94-.94-2.06-.94 2.06-2.06.94z\"/><path d=\"M17.41 7.96l-1.37-1.37c-.4-.4-.92-.59-1.43-.59-.52 0-1.04.2-1.43.59L10.3 9.45l-7.72 7.72c-.78.78-.78 2.05 0 2.83L4 21.41c.39.39.9.59 1.41.59.51 0 1.02-.2 1.41-.59l7.78-7.78 2.81-2.81c.8-.78.8-2.07 0-2.86zM5.41 20L4 18.59l7.72-7.72 1.47 1.35L5.41 20z\"/>\n",
              "  </svg>\n",
              "      </button>\n",
              "      \n",
              "  <style>\n",
              "    .colab-df-container {\n",
              "      display:flex;\n",
              "      flex-wrap:wrap;\n",
              "      gap: 12px;\n",
              "    }\n",
              "\n",
              "    .colab-df-convert {\n",
              "      background-color: #E8F0FE;\n",
              "      border: none;\n",
              "      border-radius: 50%;\n",
              "      cursor: pointer;\n",
              "      display: none;\n",
              "      fill: #1967D2;\n",
              "      height: 32px;\n",
              "      padding: 0 0 0 0;\n",
              "      width: 32px;\n",
              "    }\n",
              "\n",
              "    .colab-df-convert:hover {\n",
              "      background-color: #E2EBFA;\n",
              "      box-shadow: 0px 1px 2px rgba(60, 64, 67, 0.3), 0px 1px 3px 1px rgba(60, 64, 67, 0.15);\n",
              "      fill: #174EA6;\n",
              "    }\n",
              "\n",
              "    [theme=dark] .colab-df-convert {\n",
              "      background-color: #3B4455;\n",
              "      fill: #D2E3FC;\n",
              "    }\n",
              "\n",
              "    [theme=dark] .colab-df-convert:hover {\n",
              "      background-color: #434B5C;\n",
              "      box-shadow: 0px 1px 3px 1px rgba(0, 0, 0, 0.15);\n",
              "      filter: drop-shadow(0px 1px 2px rgba(0, 0, 0, 0.3));\n",
              "      fill: #FFFFFF;\n",
              "    }\n",
              "  </style>\n",
              "\n",
              "      <script>\n",
              "        const buttonEl =\n",
              "          document.querySelector('#df-29328905-01c3-47b7-99ae-9df26548f81f button.colab-df-convert');\n",
              "        buttonEl.style.display =\n",
              "          google.colab.kernel.accessAllowed ? 'block' : 'none';\n",
              "\n",
              "        async function convertToInteractive(key) {\n",
              "          const element = document.querySelector('#df-29328905-01c3-47b7-99ae-9df26548f81f');\n",
              "          const dataTable =\n",
              "            await google.colab.kernel.invokeFunction('convertToInteractive',\n",
              "                                                     [key], {});\n",
              "          if (!dataTable) return;\n",
              "\n",
              "          const docLinkHtml = 'Like what you see? Visit the ' +\n",
              "            '<a target=\"_blank\" href=https://colab.research.google.com/notebooks/data_table.ipynb>data table notebook</a>'\n",
              "            + ' to learn more about interactive tables.';\n",
              "          element.innerHTML = '';\n",
              "          dataTable['output_type'] = 'display_data';\n",
              "          await google.colab.output.renderOutput(dataTable, element);\n",
              "          const docLink = document.createElement('div');\n",
              "          docLink.innerHTML = docLinkHtml;\n",
              "          element.appendChild(docLink);\n",
              "        }\n",
              "      </script>\n",
              "    </div>\n",
              "  </div>\n",
              "  "
            ]
          },
          "metadata": {},
          "execution_count": 412
        }
      ]
    },
    {
      "cell_type": "markdown",
      "metadata": {
        "id": "JoWpvbC1DLQB"
      },
      "source": [
        "## 2.2 Logistic Regression"
      ]
    },
    {
      "cell_type": "code",
      "execution_count": null,
      "metadata": {
        "id": "XzVHVtHvDOtX"
      },
      "outputs": [],
      "source": [
        "# funtion to plot confusion matrix\n",
        "def plot_confusion(cm):\n",
        "  plt.figure(figsize = (5,5))\n",
        "  x_axis_labels = ['neg','pos'] # labels for x-axis\n",
        "  y_axis_labels = ['neg','pos'] # labels for y-axis\n",
        "  sn.heatmap(cm, annot=True, cmap=\"Blues\", fmt='.0f', xticklabels=x_axis_labels, yticklabels=y_axis_labels)\n",
        "  plt.xlabel(\"Prediction\")\n",
        "  plt.ylabel(\"True value\")\n",
        "  plt.title(\"Confusion Matrix\")\n",
        "  return sn"
      ]
    },
    {
      "cell_type": "code",
      "execution_count": null,
      "metadata": {
        "id": "HptY3zBDEaXc"
      },
      "outputs": [],
      "source": [
        "# create lr model\n",
        "modelLr = LogisticRegression()\n",
        "model_lr_tf = modelLr.fit(X_train_tf, y_train)\n",
        "y_pred = model_lr_tf.predict(X_test_tf)"
      ]
    },
    {
      "cell_type": "code",
      "execution_count": null,
      "metadata": {
        "id": "HxVcjZWrEfLK",
        "colab": {
          "base_uri": "https://localhost:8080/"
        },
        "outputId": "1b3a62ad-ee6f-4509-9ab6-8e16006e946d"
      },
      "outputs": [
        {
          "output_type": "stream",
          "name": "stdout",
          "text": [
            "LR Model Accuracy: 96.99%\n",
            "              precision    recall  f1-score   support\n",
            "\n",
            "         0.0      0.959     0.984     0.971      1332\n",
            "         1.0      0.982     0.954     0.968      1229\n",
            "\n",
            "    accuracy                          0.970      2561\n",
            "   macro avg      0.971     0.969     0.970      2561\n",
            "weighted avg      0.970     0.970     0.970      2561\n",
            "\n"
          ]
        }
      ],
      "source": [
        "# print lr model accuracy & report\n",
        "print(\"LR Model Accuracy: {:.2%}\".format(accuracy_score(y_test, y_pred)))\n",
        "print(metrics.classification_report(y_test, y_pred, digits=3))"
      ]
    },
    {
      "cell_type": "code",
      "execution_count": null,
      "metadata": {
        "id": "sahMZ5GkEl_T",
        "colab": {
          "base_uri": "https://localhost:8080/",
          "height": 504
        },
        "outputId": "e765c3e0-fb37-44c3-f3eb-079125076740"
      },
      "outputs": [
        {
          "output_type": "execute_result",
          "data": {
            "text/plain": [
              "<module 'seaborn' from '/usr/local/lib/python3.10/dist-packages/seaborn/__init__.py'>"
            ]
          },
          "metadata": {},
          "execution_count": 416
        },
        {
          "output_type": "display_data",
          "data": {
            "text/plain": [
              "<Figure size 500x500 with 2 Axes>"
            ],
            "image/png": "[encoded data removed]"
          },
          "metadata": {}
        }
      ],
      "source": [
        "# plot confusion\n",
        "plot_confusion(confusion_matrix(y_test, y_pred))"
      ]
    },
    {
      "cell_type": "code",
      "execution_count": null,
      "metadata": {
        "id": "sQV9FmCIEs6k",
        "colab": {
          "base_uri": "https://localhost:8080/",
          "height": 502
        },
        "outputId": "dd4ee1af-5fe7-437a-936b-dd1522f22579"
      },
      "outputs": [
        {
          "output_type": "execute_result",
          "data": {
            "text/plain": [
              "        key                      product_name  stars  \\\n",
              "1105  10_bj                  Americone Dream®      5   \n",
              "6576  44_bj                The Tonight Dough®      5   \n",
              "6400  44_bj                The Tonight Dough®      5   \n",
              "6351  44_bj                The Tonight Dough®      5   \n",
              "4727  28_bj                       Half Baked®      5   \n",
              "...     ...                               ...    ...   \n",
              "7782  54_bj   Cookies & Cream Cheesecake Core      2   \n",
              "1715  15_bj               Chillin' the Roast™      2   \n",
              "7309  50_bj  Chocolate Chip Cookie Dough Core      2   \n",
              "3678  24_bj          Coffee Toffee Bar Crunch      1   \n",
              "3866  24_bj          Coffee Toffee Bar Crunch      1   \n",
              "\n",
              "                                          com_titletext  b_star  b_score  \\\n",
              "1105   This flavors has become one my of new favorit...     1.0   0.8957   \n",
              "6576  Best flavor I've ever had This is just amazing...     1.0   0.9627   \n",
              "6400  Literally the best flavor of ice cream Ever Pl...     1.0   0.9849   \n",
              "6351  Best Flavor Ever! It's like heaven in my mouth...     1.0   0.8832   \n",
              "4727   ben and jerrys has always been a go to ice cr...     1.0   0.6239   \n",
              "...                                                 ...     ...      ...   \n",
              "7782  I liked the chocolate and cookie part... I was...     0.0   0.7011   \n",
              "1715  It made my mouth sad I bought this ice cream f...     0.0   0.9435   \n",
              "7309  soo disappointed i am so upset that this didnt...     0.0  -0.7221   \n",
              "3678  Wish you brought back the original! The old co...     0.0  -0.6000   \n",
              "3866  Bring back the heath bar! I am so sad that you...     0.0  -0.7606   \n",
              "\n",
              "                                       tokens_titletext nb_pred lr_pred  \\\n",
              "1105  [flavor, becom, one, new, favorit, flavor, cho...     pos     pos   \n",
              "6576  [best, flavor, ever, amaz, incorpor, favorit, ...     pos     pos   \n",
              "6400  [liter, best, flavor, ice, cream, ever, pleas,...     pos     pos   \n",
              "6351  [best, flavor, ever, like, heaven, mouth, firs...     pos     pos   \n",
              "4727  [ben, jerri, alway, go, ice, cream, brand, fla...     pos     pos   \n",
              "...                                                 ...     ...     ...   \n",
              "7782  [like, chocol, cooki, part, excit, find, flavo...     pos     neg   \n",
              "1715  [made, mouth, sad, bought, ice, cream, flavor,...     pos     pos   \n",
              "7309  [soo, disappoint, upset, not, meet, expect, co...     pos     neg   \n",
              "3678  [wish, brought, back, origin, old, coffe, heat...     pos     neg   \n",
              "3866  [bring, back, heath, bar, sad, chang, heath, b...     neg     neg   \n",
              "\n",
              "     nb_pred_b lr_pred_b  \n",
              "1105       pos       pos  \n",
              "6576       pos       pos  \n",
              "6400       pos       pos  \n",
              "6351       pos       pos  \n",
              "4727       pos       pos  \n",
              "...        ...       ...  \n",
              "7782       neg       neg  \n",
              "1715       neg       neg  \n",
              "7309       neg       neg  \n",
              "3678       neg       neg  \n",
              "3866       neg       neg  \n",
              "\n",
              "[12802 rows x 11 columns]"
            ],
            "text/html": [
              "\n",
              "  <div id=\"df-5ae4d530-9111-449d-a23e-25f81442d1ab\">\n",
              "    <div class=\"colab-df-container\">\n",
              "      <div>\n",
              "<style scoped>\n",
              "    .dataframe tbody tr th:only-of-type {\n",
              "        vertical-align: middle;\n",
              "    }\n",
              "\n",
              "    .dataframe tbody tr th {\n",
              "        vertical-align: top;\n",
              "    }\n",
              "\n",
              "    .dataframe thead th {\n",
              "        text-align: right;\n",
              "    }\n",
              "</style>\n",
              "<table border=\"1\" class=\"dataframe\">\n",
              "  <thead>\n",
              "    <tr style=\"text-align: right;\">\n",
              "      <th></th>\n",
              "      <th>key</th>\n",
              "      <th>product_name</th>\n",
              "      <th>stars</th>\n",
              "      <th>com_titletext</th>\n",
              "      <th>b_star</th>\n",
              "      <th>b_score</th>\n",
              "      <th>tokens_titletext</th>\n",
              "      <th>nb_pred</th>\n",
              "      <th>lr_pred</th>\n",
              "      <th>nb_pred_b</th>\n",
              "      <th>lr_pred_b</th>\n",
              "    </tr>\n",
              "  </thead>\n",
              "  <tbody>\n",
              "    <tr>\n",
              "      <th>1105</th>\n",
              "      <td>10_bj</td>\n",
              "      <td>Americone Dream®</td>\n",
              "      <td>5</td>\n",
              "      <td>This flavors has become one my of new favorit...</td>\n",
              "      <td>1.0</td>\n",
              "      <td>0.8957</td>\n",
              "      <td>[flavor, becom, one, new, favorit, flavor, cho...</td>\n",
              "      <td>pos</td>\n",
              "      <td>pos</td>\n",
              "      <td>pos</td>\n",
              "      <td>pos</td>\n",
              "    </tr>\n",
              "    <tr>\n",
              "      <th>6576</th>\n",
              "      <td>44_bj</td>\n",
              "      <td>The Tonight Dough®</td>\n",
              "      <td>5</td>\n",
              "      <td>Best flavor I've ever had This is just amazing...</td>\n",
              "      <td>1.0</td>\n",
              "      <td>0.9627</td>\n",
              "      <td>[best, flavor, ever, amaz, incorpor, favorit, ...</td>\n",
              "      <td>pos</td>\n",
              "      <td>pos</td>\n",
              "      <td>pos</td>\n",
              "      <td>pos</td>\n",
              "    </tr>\n",
              "    <tr>\n",
              "      <th>6400</th>\n",
              "      <td>44_bj</td>\n",
              "      <td>The Tonight Dough®</td>\n",
              "      <td>5</td>\n",
              "      <td>Literally the best flavor of ice cream Ever Pl...</td>\n",
              "      <td>1.0</td>\n",
              "      <td>0.9849</td>\n",
              "      <td>[liter, best, flavor, ice, cream, ever, pleas,...</td>\n",
              "      <td>pos</td>\n",
              "      <td>pos</td>\n",
              "      <td>pos</td>\n",
              "      <td>pos</td>\n",
              "    </tr>\n",
              "    <tr>\n",
              "      <th>6351</th>\n",
              "      <td>44_bj</td>\n",
              "      <td>The Tonight Dough®</td>\n",
              "      <td>5</td>\n",
              "      <td>Best Flavor Ever! It's like heaven in my mouth...</td>\n",
              "      <td>1.0</td>\n",
              "      <td>0.8832</td>\n",
              "      <td>[best, flavor, ever, like, heaven, mouth, firs...</td>\n",
              "      <td>pos</td>\n",
              "      <td>pos</td>\n",
              "      <td>pos</td>\n",
              "      <td>pos</td>\n",
              "    </tr>\n",
              "    <tr>\n",
              "      <th>4727</th>\n",
              "      <td>28_bj</td>\n",
              "      <td>Half Baked®</td>\n",
              "      <td>5</td>\n",
              "      <td>ben and jerrys has always been a go to ice cr...</td>\n",
              "      <td>1.0</td>\n",
              "      <td>0.6239</td>\n",
              "      <td>[ben, jerri, alway, go, ice, cream, brand, fla...</td>\n",
              "      <td>pos</td>\n",
              "      <td>pos</td>\n",
              "      <td>pos</td>\n",
              "      <td>pos</td>\n",
              "    </tr>\n",
              "    <tr>\n",
              "      <th>...</th>\n",
              "      <td>...</td>\n",
              "      <td>...</td>\n",
              "      <td>...</td>\n",
              "      <td>...</td>\n",
              "      <td>...</td>\n",
              "      <td>...</td>\n",
              "      <td>...</td>\n",
              "      <td>...</td>\n",
              "      <td>...</td>\n",
              "      <td>...</td>\n",
              "      <td>...</td>\n",
              "    </tr>\n",
              "    <tr>\n",
              "      <th>7782</th>\n",
              "      <td>54_bj</td>\n",
              "      <td>Cookies &amp; Cream Cheesecake Core</td>\n",
              "      <td>2</td>\n",
              "      <td>I liked the chocolate and cookie part... I was...</td>\n",
              "      <td>0.0</td>\n",
              "      <td>0.7011</td>\n",
              "      <td>[like, chocol, cooki, part, excit, find, flavo...</td>\n",
              "      <td>pos</td>\n",
              "      <td>neg</td>\n",
              "      <td>neg</td>\n",
              "      <td>neg</td>\n",
              "    </tr>\n",
              "    <tr>\n",
              "      <th>1715</th>\n",
              "      <td>15_bj</td>\n",
              "      <td>Chillin' the Roast™</td>\n",
              "      <td>2</td>\n",
              "      <td>It made my mouth sad I bought this ice cream f...</td>\n",
              "      <td>0.0</td>\n",
              "      <td>0.9435</td>\n",
              "      <td>[made, mouth, sad, bought, ice, cream, flavor,...</td>\n",
              "      <td>pos</td>\n",
              "      <td>pos</td>\n",
              "      <td>neg</td>\n",
              "      <td>neg</td>\n",
              "    </tr>\n",
              "    <tr>\n",
              "      <th>7309</th>\n",
              "      <td>50_bj</td>\n",
              "      <td>Chocolate Chip Cookie Dough Core</td>\n",
              "      <td>2</td>\n",
              "      <td>soo disappointed i am so upset that this didnt...</td>\n",
              "      <td>0.0</td>\n",
              "      <td>-0.7221</td>\n",
              "      <td>[soo, disappoint, upset, not, meet, expect, co...</td>\n",
              "      <td>pos</td>\n",
              "      <td>neg</td>\n",
              "      <td>neg</td>\n",
              "      <td>neg</td>\n",
              "    </tr>\n",
              "    <tr>\n",
              "      <th>3678</th>\n",
              "      <td>24_bj</td>\n",
              "      <td>Coffee Toffee Bar Crunch</td>\n",
              "      <td>1</td>\n",
              "      <td>Wish you brought back the original! The old co...</td>\n",
              "      <td>0.0</td>\n",
              "      <td>-0.6000</td>\n",
              "      <td>[wish, brought, back, origin, old, coffe, heat...</td>\n",
              "      <td>pos</td>\n",
              "      <td>neg</td>\n",
              "      <td>neg</td>\n",
              "      <td>neg</td>\n",
              "    </tr>\n",
              "    <tr>\n",
              "      <th>3866</th>\n",
              "      <td>24_bj</td>\n",
              "      <td>Coffee Toffee Bar Crunch</td>\n",
              "      <td>1</td>\n",
              "      <td>Bring back the heath bar! I am so sad that you...</td>\n",
              "      <td>0.0</td>\n",
              "      <td>-0.7606</td>\n",
              "      <td>[bring, back, heath, bar, sad, chang, heath, b...</td>\n",
              "      <td>neg</td>\n",
              "      <td>neg</td>\n",
              "      <td>neg</td>\n",
              "      <td>neg</td>\n",
              "    </tr>\n",
              "  </tbody>\n",
              "</table>\n",
              "<p>12802 rows × 11 columns</p>\n",
              "</div>\n",
              "      <button class=\"colab-df-convert\" onclick=\"convertToInteractive('df-5ae4d530-9111-449d-a23e-25f81442d1ab')\"\n",
              "              title=\"Convert this dataframe to an interactive table.\"\n",
              "              style=\"display:none;\">\n",
              "        \n",
              "  <svg xmlns=\"http://www.w3.org/2000/svg\" height=\"24px\"viewBox=\"0 0 24 24\"\n",
              "       width=\"24px\">\n",
              "    <path d=\"M0 0h24v24H0V0z\" fill=\"none\"/>\n",
              "    <path d=\"M18.56 5.44l.94 2.06.94-2.06 2.06-.94-2.06-.94-.94-2.06-.94 2.06-2.06.94zm-11 1L8.5 8.5l.94-2.06 2.06-.94-2.06-.94L8.5 2.5l-.94 2.06-2.06.94zm10 10l.94 2.06.94-2.06 2.06-.94-2.06-.94-.94-2.06-.94 2.06-2.06.94z\"/><path d=\"M17.41 7.96l-1.37-1.37c-.4-.4-.92-.59-1.43-.59-.52 0-1.04.2-1.43.59L10.3 9.45l-7.72 7.72c-.78.78-.78 2.05 0 2.83L4 21.41c.39.39.9.59 1.41.59.51 0 1.02-.2 1.41-.59l7.78-7.78 2.81-2.81c.8-.78.8-2.07 0-2.86zM5.41 20L4 18.59l7.72-7.72 1.47 1.35L5.41 20z\"/>\n",
              "  </svg>\n",
              "      </button>\n",
              "      \n",
              "  <style>\n",
              "    .colab-df-container {\n",
              "      display:flex;\n",
              "      flex-wrap:wrap;\n",
              "      gap: 12px;\n",
              "    }\n",
              "\n",
              "    .colab-df-convert {\n",
              "      background-color: #E8F0FE;\n",
              "      border: none;\n",
              "      border-radius: 50%;\n",
              "      cursor: pointer;\n",
              "      display: none;\n",
              "      fill: #1967D2;\n",
              "      height: 32px;\n",
              "      padding: 0 0 0 0;\n",
              "      width: 32px;\n",
              "    }\n",
              "\n",
              "    .colab-df-convert:hover {\n",
              "      background-color: #E2EBFA;\n",
              "      box-shadow: 0px 1px 2px rgba(60, 64, 67, 0.3), 0px 1px 3px 1px rgba(60, 64, 67, 0.15);\n",
              "      fill: #174EA6;\n",
              "    }\n",
              "\n",
              "    [theme=dark] .colab-df-convert {\n",
              "      background-color: #3B4455;\n",
              "      fill: #D2E3FC;\n",
              "    }\n",
              "\n",
              "    [theme=dark] .colab-df-convert:hover {\n",
              "      background-color: #434B5C;\n",
              "      box-shadow: 0px 1px 3px 1px rgba(0, 0, 0, 0.15);\n",
              "      filter: drop-shadow(0px 1px 2px rgba(0, 0, 0, 0.3));\n",
              "      fill: #FFFFFF;\n",
              "    }\n",
              "  </style>\n",
              "\n",
              "      <script>\n",
              "        const buttonEl =\n",
              "          document.querySelector('#df-5ae4d530-9111-449d-a23e-25f81442d1ab button.colab-df-convert');\n",
              "        buttonEl.style.display =\n",
              "          google.colab.kernel.accessAllowed ? 'block' : 'none';\n",
              "\n",
              "        async function convertToInteractive(key) {\n",
              "          const element = document.querySelector('#df-5ae4d530-9111-449d-a23e-25f81442d1ab');\n",
              "          const dataTable =\n",
              "            await google.colab.kernel.invokeFunction('convertToInteractive',\n",
              "                                                     [key], {});\n",
              "          if (!dataTable) return;\n",
              "\n",
              "          const docLinkHtml = 'Like what you see? Visit the ' +\n",
              "            '<a target=\"_blank\" href=https://colab.research.google.com/notebooks/data_table.ipynb>data table notebook</a>'\n",
              "            + ' to learn more about interactive tables.';\n",
              "          element.innerHTML = '';\n",
              "          dataTable['output_type'] = 'display_data';\n",
              "          await google.colab.output.renderOutput(dataTable, element);\n",
              "          const docLink = document.createElement('div');\n",
              "          docLink.innerHTML = docLinkHtml;\n",
              "          element.appendChild(docLink);\n",
              "        }\n",
              "      </script>\n",
              "    </div>\n",
              "  </div>\n",
              "  "
            ]
          },
          "metadata": {},
          "execution_count": 417
        }
      ],
      "source": [
        "# predict review with lr model\n",
        "token_text = balanced_reviews['tokens_titletext']\n",
        "tf_token = tf.transform(token_text)\n",
        "lr_predictions = model_lr_tf.predict(tf_token)\n",
        "label_map = {1: \"pos\", 0: \"neg\"}\n",
        "lr_predicted_labels = [label_map[prediction] for prediction in lr_predictions]\n",
        "balanced_reviews['lr_pred_b'] = lr_predicted_labels\n",
        "\n",
        "balanced_reviews"
      ]
    },
    {
      "cell_type": "code",
      "source": [
        "balanced_reviews['lr_pred_b'].value_counts()"
      ],
      "metadata": {
        "colab": {
          "base_uri": "https://localhost:8080/"
        },
        "id": "nwTyIDXIBski",
        "outputId": "3aa6adb8-90f5-496a-fef0-b090f5d24026"
      },
      "execution_count": null,
      "outputs": [
        {
          "output_type": "execute_result",
          "data": {
            "text/plain": [
              "neg    6543\n",
              "pos    6259\n",
              "Name: lr_pred_b, dtype: int64"
            ]
          },
          "metadata": {},
          "execution_count": 418
        }
      ]
    },
    {
      "cell_type": "code",
      "execution_count": null,
      "metadata": {
        "id": "I7aM032_xgNf",
        "colab": {
          "base_uri": "https://localhost:8080/",
          "height": 449
        },
        "outputId": "7539b76c-8221-425d-ca92-d40679eed30b"
      },
      "outputs": [
        {
          "output_type": "display_data",
          "data": {
            "text/plain": [
              "<Figure size 640x480 with 1 Axes>"
            ],
            "image/png": "[encoded data removed]"
          },
          "metadata": {}
        }
      ],
      "source": [
        "# plot prediction result\n",
        "balanced_reviews_sorted = balanced_reviews.sort_values('lr_pred_b', ascending=False)\n",
        "ax = sns.countplot(x ='lr_pred_b', data = balanced_reviews_sorted)\n",
        "ax.set(ylabel='Sentiment count', xlabel='Sentiments')\n",
        "plt.show()"
      ]
    },
    {
      "cell_type": "code",
      "execution_count": null,
      "metadata": {
        "id": "H6JSx3SAxgas",
        "colab": {
          "base_uri": "https://localhost:8080/",
          "height": 445
        },
        "outputId": "51977bcd-6bd6-465a-c072-8dc5e053fd79"
      },
      "outputs": [
        {
          "output_type": "execute_result",
          "data": {
            "text/plain": [
              "Text(0.5, 1.0, 'Sentiment distribution LR Pie Chart')"
            ]
          },
          "metadata": {},
          "execution_count": 420
        },
        {
          "output_type": "display_data",
          "data": {
            "text/plain": [
              "<Figure size 640x480 with 1 Axes>"
            ],
            "image/png": "[encoded data removed]"
          },
          "metadata": {}
        }
      ],
      "source": [
        "balanced_reviews_sorted['lr_pred_b'].value_counts().plot.pie(autopct='%1.0f%%')\n",
        "plt.title(\"Sentiment distribution LR Pie Chart\")"
      ]
    },
    {
      "cell_type": "code",
      "execution_count": null,
      "metadata": {
        "id": "v5UnFtc8xg6p",
        "colab": {
          "base_uri": "https://localhost:8080/",
          "height": 467
        },
        "outputId": "3fca683d-9714-44e0-b131-a520cebe667e"
      },
      "outputs": [
        {
          "output_type": "execute_result",
          "data": {
            "text/plain": [
              "[Text(0, 0.5, 'Sentiment count'), Text(0.5, 0, 'Ice cream brand')]"
            ]
          },
          "metadata": {},
          "execution_count": 421
        },
        {
          "output_type": "display_data",
          "data": {
            "text/plain": [
              "<Figure size 640x480 with 1 Axes>"
            ],
            "image/png": "[encoded data removed]"
          },
          "metadata": {}
        }
      ],
      "source": [
        "# Top 10 ice cream brand sort by number of reviews\n",
        "df_prod_reviewcount = balanced_reviews_sorted['key'].value_counts().head(5).reset_index()\n",
        "df_prod_isin = balanced_reviews_sorted.loc[balanced_reviews_sorted['key'].isin(df_prod_reviewcount['index'])]\n",
        "ax1 = sns.countplot(x ='key', hue='lr_pred_b', data = df_prod_isin, order = df_prod_isin['key'].value_counts().index)\n",
        "ax1.set(ylabel='Sentiment count', xlabel='Ice cream brand')"
      ]
    },
    {
      "cell_type": "code",
      "source": [
        "df_prod_reviewcount"
      ],
      "metadata": {
        "colab": {
          "base_uri": "https://localhost:8080/",
          "height": 206
        },
        "id": "OxnzvNX0jBBY",
        "outputId": "0a29ec40-8bc5-4d29-ad88-83f031f3ab72"
      },
      "execution_count": null,
      "outputs": [
        {
          "output_type": "execute_result",
          "data": {
            "text/plain": [
              "   index   key\n",
              "0  16_bj  1153\n",
              "1  28_bj  1080\n",
              "2  24_bj  1063\n",
              "3  50_bj   769\n",
              "4  44_bj   708"
            ],
            "text/html": [
              "\n",
              "  <div id=\"df-e9aa0c4b-2854-4b0a-b153-7724ee7b2fcb\">\n",
              "    <div class=\"colab-df-container\">\n",
              "      <div>\n",
              "<style scoped>\n",
              "    .dataframe tbody tr th:only-of-type {\n",
              "        vertical-align: middle;\n",
              "    }\n",
              "\n",
              "    .dataframe tbody tr th {\n",
              "        vertical-align: top;\n",
              "    }\n",
              "\n",
              "    .dataframe thead th {\n",
              "        text-align: right;\n",
              "    }\n",
              "</style>\n",
              "<table border=\"1\" class=\"dataframe\">\n",
              "  <thead>\n",
              "    <tr style=\"text-align: right;\">\n",
              "      <th></th>\n",
              "      <th>index</th>\n",
              "      <th>key</th>\n",
              "    </tr>\n",
              "  </thead>\n",
              "  <tbody>\n",
              "    <tr>\n",
              "      <th>0</th>\n",
              "      <td>16_bj</td>\n",
              "      <td>1153</td>\n",
              "    </tr>\n",
              "    <tr>\n",
              "      <th>1</th>\n",
              "      <td>28_bj</td>\n",
              "      <td>1080</td>\n",
              "    </tr>\n",
              "    <tr>\n",
              "      <th>2</th>\n",
              "      <td>24_bj</td>\n",
              "      <td>1063</td>\n",
              "    </tr>\n",
              "    <tr>\n",
              "      <th>3</th>\n",
              "      <td>50_bj</td>\n",
              "      <td>769</td>\n",
              "    </tr>\n",
              "    <tr>\n",
              "      <th>4</th>\n",
              "      <td>44_bj</td>\n",
              "      <td>708</td>\n",
              "    </tr>\n",
              "  </tbody>\n",
              "</table>\n",
              "</div>\n",
              "      <button class=\"colab-df-convert\" onclick=\"convertToInteractive('df-e9aa0c4b-2854-4b0a-b153-7724ee7b2fcb')\"\n",
              "              title=\"Convert this dataframe to an interactive table.\"\n",
              "              style=\"display:none;\">\n",
              "        \n",
              "  <svg xmlns=\"http://www.w3.org/2000/svg\" height=\"24px\"viewBox=\"0 0 24 24\"\n",
              "       width=\"24px\">\n",
              "    <path d=\"M0 0h24v24H0V0z\" fill=\"none\"/>\n",
              "    <path d=\"M18.56 5.44l.94 2.06.94-2.06 2.06-.94-2.06-.94-.94-2.06-.94 2.06-2.06.94zm-11 1L8.5 8.5l.94-2.06 2.06-.94-2.06-.94L8.5 2.5l-.94 2.06-2.06.94zm10 10l.94 2.06.94-2.06 2.06-.94-2.06-.94-.94-2.06-.94 2.06-2.06.94z\"/><path d=\"M17.41 7.96l-1.37-1.37c-.4-.4-.92-.59-1.43-.59-.52 0-1.04.2-1.43.59L10.3 9.45l-7.72 7.72c-.78.78-.78 2.05 0 2.83L4 21.41c.39.39.9.59 1.41.59.51 0 1.02-.2 1.41-.59l7.78-7.78 2.81-2.81c.8-.78.8-2.07 0-2.86zM5.41 20L4 18.59l7.72-7.72 1.47 1.35L5.41 20z\"/>\n",
              "  </svg>\n",
              "      </button>\n",
              "      \n",
              "  <style>\n",
              "    .colab-df-container {\n",
              "      display:flex;\n",
              "      flex-wrap:wrap;\n",
              "      gap: 12px;\n",
              "    }\n",
              "\n",
              "    .colab-df-convert {\n",
              "      background-color: #E8F0FE;\n",
              "      border: none;\n",
              "      border-radius: 50%;\n",
              "      cursor: pointer;\n",
              "      display: none;\n",
              "      fill: #1967D2;\n",
              "      height: 32px;\n",
              "      padding: 0 0 0 0;\n",
              "      width: 32px;\n",
              "    }\n",
              "\n",
              "    .colab-df-convert:hover {\n",
              "      background-color: #E2EBFA;\n",
              "      box-shadow: 0px 1px 2px rgba(60, 64, 67, 0.3), 0px 1px 3px 1px rgba(60, 64, 67, 0.15);\n",
              "      fill: #174EA6;\n",
              "    }\n",
              "\n",
              "    [theme=dark] .colab-df-convert {\n",
              "      background-color: #3B4455;\n",
              "      fill: #D2E3FC;\n",
              "    }\n",
              "\n",
              "    [theme=dark] .colab-df-convert:hover {\n",
              "      background-color: #434B5C;\n",
              "      box-shadow: 0px 1px 3px 1px rgba(0, 0, 0, 0.15);\n",
              "      filter: drop-shadow(0px 1px 2px rgba(0, 0, 0, 0.3));\n",
              "      fill: #FFFFFF;\n",
              "    }\n",
              "  </style>\n",
              "\n",
              "      <script>\n",
              "        const buttonEl =\n",
              "          document.querySelector('#df-e9aa0c4b-2854-4b0a-b153-7724ee7b2fcb button.colab-df-convert');\n",
              "        buttonEl.style.display =\n",
              "          google.colab.kernel.accessAllowed ? 'block' : 'none';\n",
              "\n",
              "        async function convertToInteractive(key) {\n",
              "          const element = document.querySelector('#df-e9aa0c4b-2854-4b0a-b153-7724ee7b2fcb');\n",
              "          const dataTable =\n",
              "            await google.colab.kernel.invokeFunction('convertToInteractive',\n",
              "                                                     [key], {});\n",
              "          if (!dataTable) return;\n",
              "\n",
              "          const docLinkHtml = 'Like what you see? Visit the ' +\n",
              "            '<a target=\"_blank\" href=https://colab.research.google.com/notebooks/data_table.ipynb>data table notebook</a>'\n",
              "            + ' to learn more about interactive tables.';\n",
              "          element.innerHTML = '';\n",
              "          dataTable['output_type'] = 'display_data';\n",
              "          await google.colab.output.renderOutput(dataTable, element);\n",
              "          const docLink = document.createElement('div');\n",
              "          docLink.innerHTML = docLinkHtml;\n",
              "          element.appendChild(docLink);\n",
              "        }\n",
              "      </script>\n",
              "    </div>\n",
              "  </div>\n",
              "  "
            ]
          },
          "metadata": {},
          "execution_count": 422
        }
      ]
    },
    {
      "cell_type": "code",
      "execution_count": null,
      "metadata": {
        "id": "CRZ-fuoIASpM",
        "colab": {
          "base_uri": "https://localhost:8080/",
          "height": 467
        },
        "outputId": "5a5bbb07-6fd0-4526-bc6e-5f4a04b69617"
      },
      "outputs": [
        {
          "output_type": "execute_result",
          "data": {
            "text/plain": [
              "[Text(0, 0.5, 'Sentiment count'), Text(0.5, 0, 'Ice cream brand')]"
            ]
          },
          "metadata": {},
          "execution_count": 423
        },
        {
          "output_type": "display_data",
          "data": {
            "text/plain": [
              "<Figure size 640x480 with 1 Axes>"
            ],
            "image/png": "[encoded data removed]"
          },
          "metadata": {}
        }
      ],
      "source": [
        "# Top 5 ice cream brand sort by positive review\n",
        "df_posreview = balanced_reviews_sorted.loc[balanced_reviews_sorted['lr_pred_b'] == 'pos']\n",
        "df_prod_positivecount = df_posreview['key'].value_counts().head(5).reset_index()\n",
        "ax2 = sns.barplot(x ='index', y= 'key', data = df_prod_positivecount)\n",
        "ax2.set(ylabel='Sentiment count', xlabel='Ice cream brand')"
      ]
    },
    {
      "cell_type": "code",
      "source": [
        "df_prod_positivecount"
      ],
      "metadata": {
        "colab": {
          "base_uri": "https://localhost:8080/",
          "height": 206
        },
        "id": "mI0aj2vMmTYa",
        "outputId": "6ea235a5-29d3-4b45-a5bd-1db9530e2bdf"
      },
      "execution_count": null,
      "outputs": [
        {
          "output_type": "execute_result",
          "data": {
            "text/plain": [
              "   index  key\n",
              "0  28_bj  860\n",
              "1  16_bj  850\n",
              "2  44_bj  581\n",
              "3  10_bj  370\n",
              "4   4_bj  211"
            ],
            "text/html": [
              "\n",
              "  <div id=\"df-626e2113-68cc-4245-9297-ed3dadd849a8\">\n",
              "    <div class=\"colab-df-container\">\n",
              "      <div>\n",
              "<style scoped>\n",
              "    .dataframe tbody tr th:only-of-type {\n",
              "        vertical-align: middle;\n",
              "    }\n",
              "\n",
              "    .dataframe tbody tr th {\n",
              "        vertical-align: top;\n",
              "    }\n",
              "\n",
              "    .dataframe thead th {\n",
              "        text-align: right;\n",
              "    }\n",
              "</style>\n",
              "<table border=\"1\" class=\"dataframe\">\n",
              "  <thead>\n",
              "    <tr style=\"text-align: right;\">\n",
              "      <th></th>\n",
              "      <th>index</th>\n",
              "      <th>key</th>\n",
              "    </tr>\n",
              "  </thead>\n",
              "  <tbody>\n",
              "    <tr>\n",
              "      <th>0</th>\n",
              "      <td>28_bj</td>\n",
              "      <td>860</td>\n",
              "    </tr>\n",
              "    <tr>\n",
              "      <th>1</th>\n",
              "      <td>16_bj</td>\n",
              "      <td>850</td>\n",
              "    </tr>\n",
              "    <tr>\n",
              "      <th>2</th>\n",
              "      <td>44_bj</td>\n",
              "      <td>581</td>\n",
              "    </tr>\n",
              "    <tr>\n",
              "      <th>3</th>\n",
              "      <td>10_bj</td>\n",
              "      <td>370</td>\n",
              "    </tr>\n",
              "    <tr>\n",
              "      <th>4</th>\n",
              "      <td>4_bj</td>\n",
              "      <td>211</td>\n",
              "    </tr>\n",
              "  </tbody>\n",
              "</table>\n",
              "</div>\n",
              "      <button class=\"colab-df-convert\" onclick=\"convertToInteractive('df-626e2113-68cc-4245-9297-ed3dadd849a8')\"\n",
              "              title=\"Convert this dataframe to an interactive table.\"\n",
              "              style=\"display:none;\">\n",
              "        \n",
              "  <svg xmlns=\"http://www.w3.org/2000/svg\" height=\"24px\"viewBox=\"0 0 24 24\"\n",
              "       width=\"24px\">\n",
              "    <path d=\"M0 0h24v24H0V0z\" fill=\"none\"/>\n",
              "    <path d=\"M18.56 5.44l.94 2.06.94-2.06 2.06-.94-2.06-.94-.94-2.06-.94 2.06-2.06.94zm-11 1L8.5 8.5l.94-2.06 2.06-.94-2.06-.94L8.5 2.5l-.94 2.06-2.06.94zm10 10l.94 2.06.94-2.06 2.06-.94-2.06-.94-.94-2.06-.94 2.06-2.06.94z\"/><path d=\"M17.41 7.96l-1.37-1.37c-.4-.4-.92-.59-1.43-.59-.52 0-1.04.2-1.43.59L10.3 9.45l-7.72 7.72c-.78.78-.78 2.05 0 2.83L4 21.41c.39.39.9.59 1.41.59.51 0 1.02-.2 1.41-.59l7.78-7.78 2.81-2.81c.8-.78.8-2.07 0-2.86zM5.41 20L4 18.59l7.72-7.72 1.47 1.35L5.41 20z\"/>\n",
              "  </svg>\n",
              "      </button>\n",
              "      \n",
              "  <style>\n",
              "    .colab-df-container {\n",
              "      display:flex;\n",
              "      flex-wrap:wrap;\n",
              "      gap: 12px;\n",
              "    }\n",
              "\n",
              "    .colab-df-convert {\n",
              "      background-color: #E8F0FE;\n",
              "      border: none;\n",
              "      border-radius: 50%;\n",
              "      cursor: pointer;\n",
              "      display: none;\n",
              "      fill: #1967D2;\n",
              "      height: 32px;\n",
              "      padding: 0 0 0 0;\n",
              "      width: 32px;\n",
              "    }\n",
              "\n",
              "    .colab-df-convert:hover {\n",
              "      background-color: #E2EBFA;\n",
              "      box-shadow: 0px 1px 2px rgba(60, 64, 67, 0.3), 0px 1px 3px 1px rgba(60, 64, 67, 0.15);\n",
              "      fill: #174EA6;\n",
              "    }\n",
              "\n",
              "    [theme=dark] .colab-df-convert {\n",
              "      background-color: #3B4455;\n",
              "      fill: #D2E3FC;\n",
              "    }\n",
              "\n",
              "    [theme=dark] .colab-df-convert:hover {\n",
              "      background-color: #434B5C;\n",
              "      box-shadow: 0px 1px 3px 1px rgba(0, 0, 0, 0.15);\n",
              "      filter: drop-shadow(0px 1px 2px rgba(0, 0, 0, 0.3));\n",
              "      fill: #FFFFFF;\n",
              "    }\n",
              "  </style>\n",
              "\n",
              "      <script>\n",
              "        const buttonEl =\n",
              "          document.querySelector('#df-626e2113-68cc-4245-9297-ed3dadd849a8 button.colab-df-convert');\n",
              "        buttonEl.style.display =\n",
              "          google.colab.kernel.accessAllowed ? 'block' : 'none';\n",
              "\n",
              "        async function convertToInteractive(key) {\n",
              "          const element = document.querySelector('#df-626e2113-68cc-4245-9297-ed3dadd849a8');\n",
              "          const dataTable =\n",
              "            await google.colab.kernel.invokeFunction('convertToInteractive',\n",
              "                                                     [key], {});\n",
              "          if (!dataTable) return;\n",
              "\n",
              "          const docLinkHtml = 'Like what you see? Visit the ' +\n",
              "            '<a target=\"_blank\" href=https://colab.research.google.com/notebooks/data_table.ipynb>data table notebook</a>'\n",
              "            + ' to learn more about interactive tables.';\n",
              "          element.innerHTML = '';\n",
              "          dataTable['output_type'] = 'display_data';\n",
              "          await google.colab.output.renderOutput(dataTable, element);\n",
              "          const docLink = document.createElement('div');\n",
              "          docLink.innerHTML = docLinkHtml;\n",
              "          element.appendChild(docLink);\n",
              "        }\n",
              "      </script>\n",
              "    </div>\n",
              "  </div>\n",
              "  "
            ]
          },
          "metadata": {},
          "execution_count": 424
        }
      ]
    },
    {
      "cell_type": "code",
      "execution_count": null,
      "metadata": {
        "id": "g5we_9P1AYn2",
        "colab": {
          "base_uri": "https://localhost:8080/",
          "height": 467
        },
        "outputId": "08275069-1c0e-43c7-ca69-5ca429cd4647"
      },
      "outputs": [
        {
          "output_type": "execute_result",
          "data": {
            "text/plain": [
              "[Text(0, 0.5, 'Sentiment count'), Text(0.5, 0, 'Ice cream brand')]"
            ]
          },
          "metadata": {},
          "execution_count": 425
        },
        {
          "output_type": "display_data",
          "data": {
            "text/plain": [
              "<Figure size 640x480 with 1 Axes>"
            ],
            "image/png": "[encoded data removed]"
          },
          "metadata": {}
        }
      ],
      "source": [
        "# Top 5 ice cream brand sort by negative review\n",
        "dfnegreview = balanced_reviews_sorted.loc[balanced_reviews_sorted['lr_pred_b'] == 'neg']\n",
        "df_prod_negcount = dfnegreview['key'].value_counts().head(5).reset_index()\n",
        "ax2 = sns.barplot(x ='index', y= 'key', data = df_prod_negcount)\n",
        "ax2.set(ylabel='Sentiment count', xlabel='Ice cream brand')"
      ]
    },
    {
      "cell_type": "code",
      "source": [
        "df_prod_negcount"
      ],
      "metadata": {
        "colab": {
          "base_uri": "https://localhost:8080/",
          "height": 206
        },
        "id": "-fndYTmTmQV3",
        "outputId": "eb7c3ee7-24a2-4c2a-b71d-8fbb1070b0e3"
      },
      "execution_count": null,
      "outputs": [
        {
          "output_type": "execute_result",
          "data": {
            "text/plain": [
              "   index  key\n",
              "0  24_bj  928\n",
              "1  50_bj  736\n",
              "2  17_bj  446\n",
              "3  15_bj  372\n",
              "4   0_bj  343"
            ],
            "text/html": [
              "\n",
              "  <div id=\"df-a6ef478b-1757-4d91-b540-32a517d4b20e\">\n",
              "    <div class=\"colab-df-container\">\n",
              "      <div>\n",
              "<style scoped>\n",
              "    .dataframe tbody tr th:only-of-type {\n",
              "        vertical-align: middle;\n",
              "    }\n",
              "\n",
              "    .dataframe tbody tr th {\n",
              "        vertical-align: top;\n",
              "    }\n",
              "\n",
              "    .dataframe thead th {\n",
              "        text-align: right;\n",
              "    }\n",
              "</style>\n",
              "<table border=\"1\" class=\"dataframe\">\n",
              "  <thead>\n",
              "    <tr style=\"text-align: right;\">\n",
              "      <th></th>\n",
              "      <th>index</th>\n",
              "      <th>key</th>\n",
              "    </tr>\n",
              "  </thead>\n",
              "  <tbody>\n",
              "    <tr>\n",
              "      <th>0</th>\n",
              "      <td>24_bj</td>\n",
              "      <td>928</td>\n",
              "    </tr>\n",
              "    <tr>\n",
              "      <th>1</th>\n",
              "      <td>50_bj</td>\n",
              "      <td>736</td>\n",
              "    </tr>\n",
              "    <tr>\n",
              "      <th>2</th>\n",
              "      <td>17_bj</td>\n",
              "      <td>446</td>\n",
              "    </tr>\n",
              "    <tr>\n",
              "      <th>3</th>\n",
              "      <td>15_bj</td>\n",
              "      <td>372</td>\n",
              "    </tr>\n",
              "    <tr>\n",
              "      <th>4</th>\n",
              "      <td>0_bj</td>\n",
              "      <td>343</td>\n",
              "    </tr>\n",
              "  </tbody>\n",
              "</table>\n",
              "</div>\n",
              "      <button class=\"colab-df-convert\" onclick=\"convertToInteractive('df-a6ef478b-1757-4d91-b540-32a517d4b20e')\"\n",
              "              title=\"Convert this dataframe to an interactive table.\"\n",
              "              style=\"display:none;\">\n",
              "        \n",
              "  <svg xmlns=\"http://www.w3.org/2000/svg\" height=\"24px\"viewBox=\"0 0 24 24\"\n",
              "       width=\"24px\">\n",
              "    <path d=\"M0 0h24v24H0V0z\" fill=\"none\"/>\n",
              "    <path d=\"M18.56 5.44l.94 2.06.94-2.06 2.06-.94-2.06-.94-.94-2.06-.94 2.06-2.06.94zm-11 1L8.5 8.5l.94-2.06 2.06-.94-2.06-.94L8.5 2.5l-.94 2.06-2.06.94zm10 10l.94 2.06.94-2.06 2.06-.94-2.06-.94-.94-2.06-.94 2.06-2.06.94z\"/><path d=\"M17.41 7.96l-1.37-1.37c-.4-.4-.92-.59-1.43-.59-.52 0-1.04.2-1.43.59L10.3 9.45l-7.72 7.72c-.78.78-.78 2.05 0 2.83L4 21.41c.39.39.9.59 1.41.59.51 0 1.02-.2 1.41-.59l7.78-7.78 2.81-2.81c.8-.78.8-2.07 0-2.86zM5.41 20L4 18.59l7.72-7.72 1.47 1.35L5.41 20z\"/>\n",
              "  </svg>\n",
              "      </button>\n",
              "      \n",
              "  <style>\n",
              "    .colab-df-container {\n",
              "      display:flex;\n",
              "      flex-wrap:wrap;\n",
              "      gap: 12px;\n",
              "    }\n",
              "\n",
              "    .colab-df-convert {\n",
              "      background-color: #E8F0FE;\n",
              "      border: none;\n",
              "      border-radius: 50%;\n",
              "      cursor: pointer;\n",
              "      display: none;\n",
              "      fill: #1967D2;\n",
              "      height: 32px;\n",
              "      padding: 0 0 0 0;\n",
              "      width: 32px;\n",
              "    }\n",
              "\n",
              "    .colab-df-convert:hover {\n",
              "      background-color: #E2EBFA;\n",
              "      box-shadow: 0px 1px 2px rgba(60, 64, 67, 0.3), 0px 1px 3px 1px rgba(60, 64, 67, 0.15);\n",
              "      fill: #174EA6;\n",
              "    }\n",
              "\n",
              "    [theme=dark] .colab-df-convert {\n",
              "      background-color: #3B4455;\n",
              "      fill: #D2E3FC;\n",
              "    }\n",
              "\n",
              "    [theme=dark] .colab-df-convert:hover {\n",
              "      background-color: #434B5C;\n",
              "      box-shadow: 0px 1px 3px 1px rgba(0, 0, 0, 0.15);\n",
              "      filter: drop-shadow(0px 1px 2px rgba(0, 0, 0, 0.3));\n",
              "      fill: #FFFFFF;\n",
              "    }\n",
              "  </style>\n",
              "\n",
              "      <script>\n",
              "        const buttonEl =\n",
              "          document.querySelector('#df-a6ef478b-1757-4d91-b540-32a517d4b20e button.colab-df-convert');\n",
              "        buttonEl.style.display =\n",
              "          google.colab.kernel.accessAllowed ? 'block' : 'none';\n",
              "\n",
              "        async function convertToInteractive(key) {\n",
              "          const element = document.querySelector('#df-a6ef478b-1757-4d91-b540-32a517d4b20e');\n",
              "          const dataTable =\n",
              "            await google.colab.kernel.invokeFunction('convertToInteractive',\n",
              "                                                     [key], {});\n",
              "          if (!dataTable) return;\n",
              "\n",
              "          const docLinkHtml = 'Like what you see? Visit the ' +\n",
              "            '<a target=\"_blank\" href=https://colab.research.google.com/notebooks/data_table.ipynb>data table notebook</a>'\n",
              "            + ' to learn more about interactive tables.';\n",
              "          element.innerHTML = '';\n",
              "          dataTable['output_type'] = 'display_data';\n",
              "          await google.colab.output.renderOutput(dataTable, element);\n",
              "          const docLink = document.createElement('div');\n",
              "          docLink.innerHTML = docLinkHtml;\n",
              "          element.appendChild(docLink);\n",
              "        }\n",
              "      </script>\n",
              "    </div>\n",
              "  </div>\n",
              "  "
            ]
          },
          "metadata": {},
          "execution_count": 426
        }
      ]
    },
    {
      "cell_type": "code",
      "source": [
        "# Reshape the data for plotting\n",
        "balanced_melted = pd.melt(balanced_reviews_sorted, value_vars=['lr_pred_b', 'nb_pred_b'],\n",
        "                          var_name='Classifier', value_name='Sentiment')\n",
        "unbalanced_melted = pd.melt(text_df_sorted, value_vars=['lr_pred', 'nb_pred'],\n",
        "                            var_name='Classifier', value_name='Sentiment')\n",
        "\n",
        "# Rename the classifier labels\n",
        "balanced_melted['Classifier'] = balanced_melted['Classifier'].map({\n",
        "    'lr_pred_b': 'Logistic Regression',\n",
        "    'nb_pred_b': 'Naive Bayes'\n",
        "})\n",
        "unbalanced_melted['Classifier'] = unbalanced_melted['Classifier'].map({\n",
        "    'lr_pred': 'Logistic Regression',\n",
        "    'nb_pred': 'Naive Bayes'\n",
        "})\n",
        "\n",
        "# Plotting\n",
        "plt.figure(figsize=(12, 6))\n",
        "ax1 = plt.subplot(1, 2, 1)\n",
        "sns.countplot(x='Sentiment', hue='Classifier', data=balanced_melted, ax=ax1)\n",
        "ax1.set_ylabel('Sentiment count')\n",
        "ax1.set_xlabel('Sentiment Prediction')\n",
        "ax1.set_title('Balanced Dataset')\n",
        "\n",
        "ax2 = plt.subplot(1, 2, 2)\n",
        "sns.countplot(x='Sentiment', hue='Classifier', data=unbalanced_melted, ax=ax2)\n",
        "ax2.set_ylabel('Sentiment count')\n",
        "ax2.set_xlabel('Sentiment Prediction')\n",
        "ax2.set_title('Unbalanced Dataset')\n",
        "\n",
        "plt.tight_layout()\n",
        "plt.show()"
      ],
      "metadata": {
        "colab": {
          "base_uri": "https://localhost:8080/",
          "height": 607
        },
        "id": "QtMQq915y0hL",
        "outputId": "f8608f1c-e64d-49f1-8dd5-29959392f5fa"
      },
      "execution_count": null,
      "outputs": [
        {
          "output_type": "display_data",
          "data": {
            "text/plain": [
              "<Figure size 1200x600 with 2 Axes>"
            ],
            "image/png": "[encoded data removed]"
          },
          "metadata": {}
        }
      ]
    },
    {
      "cell_type": "code",
      "source": [
        "balanced_melted['Classifier'].value_counts()"
      ],
      "metadata": {
        "colab": {
          "base_uri": "https://localhost:8080/"
        },
        "id": "GUXJfAe0CIhD",
        "outputId": "25642b9d-37d0-4aa8-ee6b-fa421c672fac"
      },
      "execution_count": null,
      "outputs": [
        {
          "output_type": "execute_result",
          "data": {
            "text/plain": [
              "Logistic Regression    12802\n",
              "Naive Bayes            12802\n",
              "Name: Classifier, dtype: int64"
            ]
          },
          "metadata": {},
          "execution_count": 428
        }
      ]
    },
    {
      "cell_type": "code",
      "source": [
        "unbalanced_melted['Classifier'].value_counts()"
      ],
      "metadata": {
        "colab": {
          "base_uri": "https://localhost:8080/"
        },
        "id": "6YiAqL-4CoNR",
        "outputId": "4126eaf1-0bbe-46f3-d710-1db6c5cc3fff"
      },
      "execution_count": null,
      "outputs": [
        {
          "output_type": "execute_result",
          "data": {
            "text/plain": [
              "Logistic Regression    7536\n",
              "Naive Bayes            7536\n",
              "Name: Classifier, dtype: int64"
            ]
          },
          "metadata": {},
          "execution_count": 429
        }
      ]
    }
  ],
  "metadata": {
    "colab": {
      "toc_visible": true,
      "provenance": []
    },
    "kernelspec": {
      "display_name": "Python 3",
      "name": "python3"
    },
    "language_info": {
      "name": "python"
    }
  },
  "nbformat": 4,
  "nbformat_minor": 0
}